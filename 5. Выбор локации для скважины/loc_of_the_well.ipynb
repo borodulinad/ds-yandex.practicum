{
 "cells": [
  {
   "cell_type": "markdown",
   "metadata": {},
   "source": [
    "# Выбор локации для скважины"
   ]
  },
  {
   "cell_type": "markdown",
   "metadata": {},
   "source": [
    "Задача: найти оптимальное место для бурения новой скважины. \n",
    "\n",
    "Методы: построим модель машинного обучения, которая поможет определить регион, где добыча принесёт наибольшую прибыль. Проанализируем возможную прибыль и риски техникой *Bootstrap.*\n",
    "\n",
    "Дано: пробы нефти в трёх регионах, в каждом 100000 месторождений, где измерили качество нефти и объём её запасов. \n",
    "\n",
    "Как будем выбирать?:\n",
    "\n",
    "- В избранном регионе ищем месторождения, для каждого определяем значения признаков;\n",
    "- Строим модель и оцениваем объём запасов;\n",
    "- Выбираем месторождения с самым высокими оценками значений. Количество месторождений зависит от бюджета компании и стоимости разработки одной скважины;\n",
    "- Прибыль равна суммарной прибыли отобранных месторождений."
   ]
  },
  {
   "cell_type": "markdown",
   "metadata": {},
   "source": [
    "Условия задачи:\n",
    "- Для обучения модели подходит только линейная регрессия (остальные — недостаточно предсказуемые).\n",
    "- При разведке региона исследуют 500 точек, из которых с помощью машинного обучения выбирают 200 лучших для разработки.\n",
    "- Бюджет на разработку скважин в регионе — 10 млрд рублей.\n",
    "- При нынешних ценах один баррель сырья приносит 450 рублей дохода. Доход с каждой единицы продукта составляет 450 тыс. рублей, поскольку объём указан в тысячах баррелей.\n",
    "- После оценки рисков нужно оставить лишь те регионы, в которых вероятность убытков меньше 2.5%. Среди них выбирают регион с наибольшей средней прибылью."
   ]
  },
  {
   "cell_type": "markdown",
   "metadata": {},
   "source": [
    "## Загрузка и подготовка данных"
   ]
  },
  {
   "cell_type": "code",
   "execution_count": 1,
   "metadata": {},
   "outputs": [],
   "source": [
    "import pandas as pd\n",
    "import numpy as np\n",
    "import matplotlib.pyplot as plt\n",
    "import seaborn as sns\n",
    "from sklearn.linear_model import LinearRegression\n",
    "from sklearn.model_selection import train_test_split\n",
    "from sklearn.metrics import mean_squared_error"
   ]
  },
  {
   "cell_type": "code",
   "execution_count": 2,
   "metadata": {},
   "outputs": [],
   "source": [
    "RESEARCH_POINTS = 500 #при разведке региона исследуют 500 точек\n",
    "GOOD_POINTS = 200 #выбирают 200 лучших для разработки\n",
    "BUDGET = 10**10 #бюджет на разработку скважин в регионе\n",
    "PRICE_BARREL = 450 #цена одного барреля\n",
    "PRICE_PRODUCT = 450*10**3 #доход с каждой единицы продукта"
   ]
  },
  {
   "cell_type": "markdown",
   "metadata": {},
   "source": [
    ">Импортируем датасеты и посмотрим на первые 5 строк."
   ]
  },
  {
   "cell_type": "code",
   "execution_count": 3,
   "metadata": {},
   "outputs": [],
   "source": [
    "try:\n",
    "    data_1 = pd.read_csv('C:/Users/borod/OneDrive/Рабочий стол/DS/project7_oilwell/geo_data_0.csv')\n",
    "    data_2 = pd.read_csv('C:/Users/borod/OneDrive/Рабочий стол/DS/project7_oilwell/geo_data_1.csv')\n",
    "    data_3 = pd.read_csv('C:/Users/borod/OneDrive/Рабочий стол/DS/project7_oilwell/geo_data_2.csv')\n",
    "except:\n",
    "    data_1 = pd.read_csv('/datasets/geo_data_0.csv')\n",
    "    data_2 = pd.read_csv('/datasets/geo_data_1.csv')\n",
    "    data_3 = pd.read_csv('/datasets/geo_data_2.csv')"
   ]
  },
  {
   "cell_type": "code",
   "execution_count": 4,
   "metadata": {},
   "outputs": [
    {
     "data": {
      "text/html": [
       "<div>\n",
       "<style scoped>\n",
       "    .dataframe tbody tr th:only-of-type {\n",
       "        vertical-align: middle;\n",
       "    }\n",
       "\n",
       "    .dataframe tbody tr th {\n",
       "        vertical-align: top;\n",
       "    }\n",
       "\n",
       "    .dataframe thead th {\n",
       "        text-align: right;\n",
       "    }\n",
       "</style>\n",
       "<table border=\"1\" class=\"dataframe\">\n",
       "  <thead>\n",
       "    <tr style=\"text-align: right;\">\n",
       "      <th></th>\n",
       "      <th>id</th>\n",
       "      <th>f0</th>\n",
       "      <th>f1</th>\n",
       "      <th>f2</th>\n",
       "      <th>product</th>\n",
       "    </tr>\n",
       "  </thead>\n",
       "  <tbody>\n",
       "    <tr>\n",
       "      <th>0</th>\n",
       "      <td>txEyH</td>\n",
       "      <td>0.705745</td>\n",
       "      <td>-0.497823</td>\n",
       "      <td>1.221170</td>\n",
       "      <td>105.280062</td>\n",
       "    </tr>\n",
       "    <tr>\n",
       "      <th>1</th>\n",
       "      <td>2acmU</td>\n",
       "      <td>1.334711</td>\n",
       "      <td>-0.340164</td>\n",
       "      <td>4.365080</td>\n",
       "      <td>73.037750</td>\n",
       "    </tr>\n",
       "    <tr>\n",
       "      <th>2</th>\n",
       "      <td>409Wp</td>\n",
       "      <td>1.022732</td>\n",
       "      <td>0.151990</td>\n",
       "      <td>1.419926</td>\n",
       "      <td>85.265647</td>\n",
       "    </tr>\n",
       "    <tr>\n",
       "      <th>3</th>\n",
       "      <td>iJLyR</td>\n",
       "      <td>-0.032172</td>\n",
       "      <td>0.139033</td>\n",
       "      <td>2.978566</td>\n",
       "      <td>168.620776</td>\n",
       "    </tr>\n",
       "    <tr>\n",
       "      <th>4</th>\n",
       "      <td>Xdl7t</td>\n",
       "      <td>1.988431</td>\n",
       "      <td>0.155413</td>\n",
       "      <td>4.751769</td>\n",
       "      <td>154.036647</td>\n",
       "    </tr>\n",
       "  </tbody>\n",
       "</table>\n",
       "</div>"
      ],
      "text/plain": [
       "      id        f0        f1        f2     product\n",
       "0  txEyH  0.705745 -0.497823  1.221170  105.280062\n",
       "1  2acmU  1.334711 -0.340164  4.365080   73.037750\n",
       "2  409Wp  1.022732  0.151990  1.419926   85.265647\n",
       "3  iJLyR -0.032172  0.139033  2.978566  168.620776\n",
       "4  Xdl7t  1.988431  0.155413  4.751769  154.036647"
      ]
     },
     "metadata": {},
     "output_type": "display_data"
    },
    {
     "data": {
      "text/html": [
       "<div>\n",
       "<style scoped>\n",
       "    .dataframe tbody tr th:only-of-type {\n",
       "        vertical-align: middle;\n",
       "    }\n",
       "\n",
       "    .dataframe tbody tr th {\n",
       "        vertical-align: top;\n",
       "    }\n",
       "\n",
       "    .dataframe thead th {\n",
       "        text-align: right;\n",
       "    }\n",
       "</style>\n",
       "<table border=\"1\" class=\"dataframe\">\n",
       "  <thead>\n",
       "    <tr style=\"text-align: right;\">\n",
       "      <th></th>\n",
       "      <th>id</th>\n",
       "      <th>f0</th>\n",
       "      <th>f1</th>\n",
       "      <th>f2</th>\n",
       "      <th>product</th>\n",
       "    </tr>\n",
       "  </thead>\n",
       "  <tbody>\n",
       "    <tr>\n",
       "      <th>0</th>\n",
       "      <td>kBEdx</td>\n",
       "      <td>-15.001348</td>\n",
       "      <td>-8.276000</td>\n",
       "      <td>-0.005876</td>\n",
       "      <td>3.179103</td>\n",
       "    </tr>\n",
       "    <tr>\n",
       "      <th>1</th>\n",
       "      <td>62mP7</td>\n",
       "      <td>14.272088</td>\n",
       "      <td>-3.475083</td>\n",
       "      <td>0.999183</td>\n",
       "      <td>26.953261</td>\n",
       "    </tr>\n",
       "    <tr>\n",
       "      <th>2</th>\n",
       "      <td>vyE1P</td>\n",
       "      <td>6.263187</td>\n",
       "      <td>-5.948386</td>\n",
       "      <td>5.001160</td>\n",
       "      <td>134.766305</td>\n",
       "    </tr>\n",
       "    <tr>\n",
       "      <th>3</th>\n",
       "      <td>KcrkZ</td>\n",
       "      <td>-13.081196</td>\n",
       "      <td>-11.506057</td>\n",
       "      <td>4.999415</td>\n",
       "      <td>137.945408</td>\n",
       "    </tr>\n",
       "    <tr>\n",
       "      <th>4</th>\n",
       "      <td>AHL4O</td>\n",
       "      <td>12.702195</td>\n",
       "      <td>-8.147433</td>\n",
       "      <td>5.004363</td>\n",
       "      <td>134.766305</td>\n",
       "    </tr>\n",
       "  </tbody>\n",
       "</table>\n",
       "</div>"
      ],
      "text/plain": [
       "      id         f0         f1        f2     product\n",
       "0  kBEdx -15.001348  -8.276000 -0.005876    3.179103\n",
       "1  62mP7  14.272088  -3.475083  0.999183   26.953261\n",
       "2  vyE1P   6.263187  -5.948386  5.001160  134.766305\n",
       "3  KcrkZ -13.081196 -11.506057  4.999415  137.945408\n",
       "4  AHL4O  12.702195  -8.147433  5.004363  134.766305"
      ]
     },
     "metadata": {},
     "output_type": "display_data"
    },
    {
     "data": {
      "text/html": [
       "<div>\n",
       "<style scoped>\n",
       "    .dataframe tbody tr th:only-of-type {\n",
       "        vertical-align: middle;\n",
       "    }\n",
       "\n",
       "    .dataframe tbody tr th {\n",
       "        vertical-align: top;\n",
       "    }\n",
       "\n",
       "    .dataframe thead th {\n",
       "        text-align: right;\n",
       "    }\n",
       "</style>\n",
       "<table border=\"1\" class=\"dataframe\">\n",
       "  <thead>\n",
       "    <tr style=\"text-align: right;\">\n",
       "      <th></th>\n",
       "      <th>id</th>\n",
       "      <th>f0</th>\n",
       "      <th>f1</th>\n",
       "      <th>f2</th>\n",
       "      <th>product</th>\n",
       "    </tr>\n",
       "  </thead>\n",
       "  <tbody>\n",
       "    <tr>\n",
       "      <th>0</th>\n",
       "      <td>fwXo0</td>\n",
       "      <td>-1.146987</td>\n",
       "      <td>0.963328</td>\n",
       "      <td>-0.828965</td>\n",
       "      <td>27.758673</td>\n",
       "    </tr>\n",
       "    <tr>\n",
       "      <th>1</th>\n",
       "      <td>WJtFt</td>\n",
       "      <td>0.262778</td>\n",
       "      <td>0.269839</td>\n",
       "      <td>-2.530187</td>\n",
       "      <td>56.069697</td>\n",
       "    </tr>\n",
       "    <tr>\n",
       "      <th>2</th>\n",
       "      <td>ovLUW</td>\n",
       "      <td>0.194587</td>\n",
       "      <td>0.289035</td>\n",
       "      <td>-5.586433</td>\n",
       "      <td>62.871910</td>\n",
       "    </tr>\n",
       "    <tr>\n",
       "      <th>3</th>\n",
       "      <td>q6cA6</td>\n",
       "      <td>2.236060</td>\n",
       "      <td>-0.553760</td>\n",
       "      <td>0.930038</td>\n",
       "      <td>114.572842</td>\n",
       "    </tr>\n",
       "    <tr>\n",
       "      <th>4</th>\n",
       "      <td>WPMUX</td>\n",
       "      <td>-0.515993</td>\n",
       "      <td>1.716266</td>\n",
       "      <td>5.899011</td>\n",
       "      <td>149.600746</td>\n",
       "    </tr>\n",
       "  </tbody>\n",
       "</table>\n",
       "</div>"
      ],
      "text/plain": [
       "      id        f0        f1        f2     product\n",
       "0  fwXo0 -1.146987  0.963328 -0.828965   27.758673\n",
       "1  WJtFt  0.262778  0.269839 -2.530187   56.069697\n",
       "2  ovLUW  0.194587  0.289035 -5.586433   62.871910\n",
       "3  q6cA6  2.236060 -0.553760  0.930038  114.572842\n",
       "4  WPMUX -0.515993  1.716266  5.899011  149.600746"
      ]
     },
     "metadata": {},
     "output_type": "display_data"
    }
   ],
   "source": [
    "display(data_1.head())\n",
    "display(data_2.head())\n",
    "display(data_3.head())"
   ]
  },
  {
   "cell_type": "markdown",
   "metadata": {},
   "source": [
    ">Из первых пяти строк датасетов можно отметить, что во втором в столбце *product* есть повторяющиеся значения. Позже посмотрим на уникальные значения в product,id.\n",
    "Как видим из информации ниже, пропусков в датасетах не имеется."
   ]
  },
  {
   "cell_type": "code",
   "execution_count": 5,
   "metadata": {},
   "outputs": [
    {
     "name": "stdout",
     "output_type": "stream",
     "text": [
      "<class 'pandas.core.frame.DataFrame'>\n",
      "RangeIndex: 100000 entries, 0 to 99999\n",
      "Data columns (total 5 columns):\n",
      " #   Column   Non-Null Count   Dtype  \n",
      "---  ------   --------------   -----  \n",
      " 0   id       100000 non-null  object \n",
      " 1   f0       100000 non-null  float64\n",
      " 2   f1       100000 non-null  float64\n",
      " 3   f2       100000 non-null  float64\n",
      " 4   product  100000 non-null  float64\n",
      "dtypes: float64(4), object(1)\n",
      "memory usage: 3.8+ MB\n"
     ]
    },
    {
     "data": {
      "text/plain": [
       "None"
      ]
     },
     "metadata": {},
     "output_type": "display_data"
    },
    {
     "name": "stdout",
     "output_type": "stream",
     "text": [
      "<class 'pandas.core.frame.DataFrame'>\n",
      "RangeIndex: 100000 entries, 0 to 99999\n",
      "Data columns (total 5 columns):\n",
      " #   Column   Non-Null Count   Dtype  \n",
      "---  ------   --------------   -----  \n",
      " 0   id       100000 non-null  object \n",
      " 1   f0       100000 non-null  float64\n",
      " 2   f1       100000 non-null  float64\n",
      " 3   f2       100000 non-null  float64\n",
      " 4   product  100000 non-null  float64\n",
      "dtypes: float64(4), object(1)\n",
      "memory usage: 3.8+ MB\n"
     ]
    },
    {
     "data": {
      "text/plain": [
       "None"
      ]
     },
     "metadata": {},
     "output_type": "display_data"
    },
    {
     "name": "stdout",
     "output_type": "stream",
     "text": [
      "<class 'pandas.core.frame.DataFrame'>\n",
      "RangeIndex: 100000 entries, 0 to 99999\n",
      "Data columns (total 5 columns):\n",
      " #   Column   Non-Null Count   Dtype  \n",
      "---  ------   --------------   -----  \n",
      " 0   id       100000 non-null  object \n",
      " 1   f0       100000 non-null  float64\n",
      " 2   f1       100000 non-null  float64\n",
      " 3   f2       100000 non-null  float64\n",
      " 4   product  100000 non-null  float64\n",
      "dtypes: float64(4), object(1)\n",
      "memory usage: 3.8+ MB\n"
     ]
    },
    {
     "data": {
      "text/plain": [
       "None"
      ]
     },
     "metadata": {},
     "output_type": "display_data"
    }
   ],
   "source": [
    "display(data_1.info())\n",
    "display(data_2.info())\n",
    "display(data_3.info())"
   ]
  },
  {
   "cell_type": "markdown",
   "metadata": {},
   "source": [
    "> Здесь:\n",
    ">- id — уникальный идентификатор скважины;\n",
    ">- f0, f1, f2 — три признака точек;\n",
    ">- product — объём запасов в скважине (тыс. баррелей)"
   ]
  },
  {
   "cell_type": "markdown",
   "metadata": {},
   "source": [
    "Проверим датасеты на явные дубликаты. Их не оказалось."
   ]
  },
  {
   "cell_type": "code",
   "execution_count": 6,
   "metadata": {},
   "outputs": [
    {
     "name": "stdout",
     "output_type": "stream",
     "text": [
      "0 0 0\n"
     ]
    }
   ],
   "source": [
    "print(data_1.duplicated().sum(),data_2.duplicated().sum(),data_3.duplicated().sum())"
   ]
  },
  {
   "cell_type": "markdown",
   "metadata": {},
   "source": [
    "Посмотрим на матрицу корреляций."
   ]
  },
  {
   "cell_type": "code",
   "execution_count": 7,
   "metadata": {},
   "outputs": [
    {
     "data": {
      "image/png": "[encoded data removed]",
      "text/plain": [
       "<Figure size 1080x360 with 6 Axes>"
      ]
     },
     "metadata": {
      "needs_background": "light"
     },
     "output_type": "display_data"
    }
   ],
   "source": [
    "fig,ax = plt.subplots(1,3,figsize = (15,5))\n",
    "for data in [[data_1,1],[data_2,2],[data_3,3]]:\n",
    "    plt.subplot(1, 3, data[1])\n",
    "    sns.heatmap(data[0].corr().round(2), annot = True,cmap=\"Blues\")\n",
    "    plt.title(data[1])"
   ]
  },
  {
   "cell_type": "markdown",
   "metadata": {},
   "source": [
    ">**ОГО!** Во втором датасете наблюдается сильная корреляция между признаком `f2` и `product`. В остальных датасетах корреляция меньше, но всё же имеется."
   ]
  },
  {
   "cell_type": "code",
   "execution_count": 8,
   "metadata": {},
   "outputs": [
    {
     "name": "stdout",
     "output_type": "stream",
     "text": [
      "Количество уникальных значений id\n",
      "в первом:  99990\n",
      "во втором:  99996\n",
      "в третьем:  99996\n"
     ]
    }
   ],
   "source": [
    "print('Количество уникальных значений id\\nв первом: ', data_1['id'].nunique())\n",
    "print('во втором: ', data_2['id'].nunique())\n",
    "print('в третьем: ', data_3['id'].nunique())"
   ]
  },
  {
   "cell_type": "code",
   "execution_count": 9,
   "metadata": {},
   "outputs": [
    {
     "name": "stdout",
     "output_type": "stream",
     "text": [
      "Количество уникальных значений id\n",
      "в первом:  100000\n",
      "во втором:  12\n",
      "в третьем:  100000\n"
     ]
    }
   ],
   "source": [
    "print('Количество уникальных значений id\\nв первом: ', data_1['product'].nunique())\n",
    "print('во втором: ', data_2['product'].nunique())\n",
    "print('в третьем: ', data_3['product'].nunique())"
   ]
  },
  {
   "cell_type": "markdown",
   "metadata": {},
   "source": [
    "> **Вывод:** итак, данные загружены, исследованы на  предмет пропусков, дубликатов и  других аномалий. В процессе подготовки не было выявлено ни пропусков, ни дубликатов, однако инетересным  мне показалась корреляция между `product`, `f2`. Тепловая карта показала среднюю/сильную зависимость этих двух столбцов, особенно во втором датасете. Также хочется отметить, что в столбце id не все уникальны, это значит, что проводилось несколько измерений на станциях. Что касается уникальных значений в product, то здесь всё интереснее: во втором датасете всего 12 уникальных значений, такое количество данных безусловно повлияет на все оценочные метрики и не даст правдоподобной картины. В целом данные готовы к дальнейшей работе и не требуют тщательной обработки."
   ]
  },
  {
   "cell_type": "code",
   "execution_count": 10,
   "metadata": {},
   "outputs": [
    {
     "name": "stdout",
     "output_type": "stream",
     "text": [
      "Первый регион\n"
     ]
    },
    {
     "data": {
      "text/plain": [
       "array([[<AxesSubplot:title={'center':'f0'}>,\n",
       "        <AxesSubplot:title={'center':'f1'}>],\n",
       "       [<AxesSubplot:title={'center':'f2'}>,\n",
       "        <AxesSubplot:title={'center':'product'}>]], dtype=object)"
      ]
     },
     "execution_count": 10,
     "metadata": {},
     "output_type": "execute_result"
    },
    {
     "data": {
      "image/png": "[encoded data removed]",
      "text/plain": [
       "<Figure size 432x288 with 4 Axes>"
      ]
     },
     "metadata": {
      "needs_background": "light"
     },
     "output_type": "display_data"
    }
   ],
   "source": [
    "print('Первый регион')\n",
    "data_1.hist(bins=10, density=True)"
   ]
  },
  {
   "cell_type": "code",
   "execution_count": 11,
   "metadata": {},
   "outputs": [
    {
     "name": "stdout",
     "output_type": "stream",
     "text": [
      "Второй регион\n"
     ]
    },
    {
     "data": {
      "text/plain": [
       "array([[<AxesSubplot:title={'center':'f0'}>,\n",
       "        <AxesSubplot:title={'center':'f1'}>],\n",
       "       [<AxesSubplot:title={'center':'f2'}>,\n",
       "        <AxesSubplot:title={'center':'product'}>]], dtype=object)"
      ]
     },
     "execution_count": 11,
     "metadata": {},
     "output_type": "execute_result"
    },
    {
     "data": {
      "image/png": "[encoded data removed]",
      "text/plain": [
       "<Figure size 432x288 with 4 Axes>"
      ]
     },
     "metadata": {
      "needs_background": "light"
     },
     "output_type": "display_data"
    }
   ],
   "source": [
    "print('Второй регион')\n",
    "data_2.hist(bins=30, density=True)"
   ]
  },
  {
   "cell_type": "code",
   "execution_count": 12,
   "metadata": {},
   "outputs": [
    {
     "name": "stdout",
     "output_type": "stream",
     "text": [
      "Третий регион\n"
     ]
    },
    {
     "data": {
      "text/plain": [
       "array([[<AxesSubplot:title={'center':'f0'}>,\n",
       "        <AxesSubplot:title={'center':'f1'}>],\n",
       "       [<AxesSubplot:title={'center':'f2'}>,\n",
       "        <AxesSubplot:title={'center':'product'}>]], dtype=object)"
      ]
     },
     "execution_count": 12,
     "metadata": {},
     "output_type": "execute_result"
    },
    {
     "data": {
      "image/png": "[encoded data removed]",
      "text/plain": [
       "<Figure size 432x288 with 4 Axes>"
      ]
     },
     "metadata": {
      "needs_background": "light"
     },
     "output_type": "display_data"
    }
   ],
   "source": [
    "print('Третий регион')\n",
    "data_3.hist(bins=10, density=True)"
   ]
  },
  {
   "cell_type": "markdown",
   "metadata": {},
   "source": [
    "## Обучение и проверка модели"
   ]
  },
  {
   "cell_type": "markdown",
   "metadata": {},
   "source": [
    "Обучим и проверим модель для каждого региона. Найдем средний запас предсказанного сырья и RMSE модели, еще интересно посмотреть на среднее сырья в target."
   ]
  },
  {
   "cell_type": "code",
   "execution_count": 13,
   "metadata": {},
   "outputs": [],
   "source": [
    "RANDOM_STATE = 12345\n",
    "mean_pred = []\n",
    "mean_target = []\n",
    "rmse_region = []\n",
    "model_score = []\n",
    "data_target = []\n",
    "data_pred  = []\n",
    "for data in [data_1,data_2,data_3]:\n",
    "    features = data.drop(['id','product'], axis = 1)\n",
    "    target = data['product']\n",
    "    features_train, features_valid, target_train, target_valid = train_test_split(features, target, \n",
    "                                                                                  test_size=0.25, random_state = RANDOM_STATE)\n",
    "    model = LinearRegression()\n",
    "    model.fit(features_train,target_train)\n",
    "    predictions = model.predict(features_valid)\n",
    "    \n",
    "    mean_pred.append(np.mean(predictions))#средний запас предсказанного сырья\n",
    "    rmse_region.append(np.sqrt(mean_squared_error(target_valid, predictions)))#rmse\n",
    "    mean_target.append(np.mean(data['product']))#среднее на всём product\n",
    "    model_score.append(model.score(features_train,target_train))#score \n",
    "    \n",
    "    data_target.append(target_valid)\n",
    "    data_pred.append(predictions)"
   ]
  },
  {
   "cell_type": "code",
   "execution_count": 14,
   "metadata": {},
   "outputs": [],
   "source": [
    "df_target = pd.DataFrame({'region_1':data_target[0],'region_2':data_target[1],'region_3':data_target[2]})\n",
    "df_pred = pd.DataFrame({'region_1':data_pred[0],'region_2':data_pred[1],'region_3':data_pred[2]})"
   ]
  },
  {
   "cell_type": "code",
   "execution_count": 15,
   "metadata": {},
   "outputs": [
    {
     "data": {
      "text/html": [
       "<div>\n",
       "<style scoped>\n",
       "    .dataframe tbody tr th:only-of-type {\n",
       "        vertical-align: middle;\n",
       "    }\n",
       "\n",
       "    .dataframe tbody tr th {\n",
       "        vertical-align: top;\n",
       "    }\n",
       "\n",
       "    .dataframe thead th {\n",
       "        text-align: right;\n",
       "    }\n",
       "</style>\n",
       "<table border=\"1\" class=\"dataframe\">\n",
       "  <thead>\n",
       "    <tr style=\"text-align: right;\">\n",
       "      <th></th>\n",
       "      <th>region_1</th>\n",
       "      <th>region_2</th>\n",
       "      <th>region_3</th>\n",
       "    </tr>\n",
       "  </thead>\n",
       "  <tbody>\n",
       "    <tr>\n",
       "      <th>rmse</th>\n",
       "      <td>37.579422</td>\n",
       "      <td>0.893099</td>\n",
       "      <td>40.029709</td>\n",
       "    </tr>\n",
       "    <tr>\n",
       "      <th>mean_pred</th>\n",
       "      <td>92.592568</td>\n",
       "      <td>68.728547</td>\n",
       "      <td>94.965046</td>\n",
       "    </tr>\n",
       "    <tr>\n",
       "      <th>mean_target</th>\n",
       "      <td>92.500000</td>\n",
       "      <td>68.825000</td>\n",
       "      <td>95.000000</td>\n",
       "    </tr>\n",
       "    <tr>\n",
       "      <th>score</th>\n",
       "      <td>0.274239</td>\n",
       "      <td>0.999625</td>\n",
       "      <td>0.196614</td>\n",
       "    </tr>\n",
       "  </tbody>\n",
       "</table>\n",
       "</div>"
      ],
      "text/plain": [
       "              region_1   region_2   region_3\n",
       "rmse         37.579422   0.893099  40.029709\n",
       "mean_pred    92.592568  68.728547  94.965046\n",
       "mean_target  92.500000  68.825000  95.000000\n",
       "score         0.274239   0.999625   0.196614"
      ]
     },
     "execution_count": 15,
     "metadata": {},
     "output_type": "execute_result"
    }
   ],
   "source": [
    "result_table = pd.DataFrame(data = [rmse_region,mean_pred,mean_target,model_score], index = ['rmse','mean_pred','mean_target','score'], columns = ['region_1','region_2','region_3'] )\n",
    "result_table"
   ]
  },
  {
   "cell_type": "markdown",
   "metadata": {},
   "source": [
    "> **Вывод:** как видим, у второй модели наименьшее *rmse*, а также наибольшая *score*, однако, как поняли раннее, в датасете второго региона всего 12 уникальных значений product, что безусловно влияет на результат. Плюс к этому у второго региона самый маленький средний объем сырья. Хочется также отметить, что среднее запас предсказанного сырья и средний запас сырья во всём датасете очень близки. Что же касается score для регионов 1,3, то здесь результаты очень низкие, что говорит о плохом качестве модели, обученной на этих данных. "
   ]
  },
  {
   "cell_type": "markdown",
   "metadata": {},
   "source": [
    "## Подготовка к расчёту прибыли"
   ]
  },
  {
   "cell_type": "markdown",
   "metadata": {},
   "source": [
    ">При разведке региона исследуют 500 точек, выбирают 200 лучших, общий бюджет 10 млрд. Значит, в среднем на одну станцию нужно выделить A = 10 млрд/200. Далее мы знаем, что доход с каждой единицы продукта составляет 450000, значит *достаточный объём сырья для безубыточной разработки новой скважины* B >= A/450000."
   ]
  },
  {
   "cell_type": "code",
   "execution_count": 17,
   "metadata": {},
   "outputs": [
    {
     "data": {
      "text/plain": [
       "111.11111111111111"
      ]
     },
     "execution_count": 17,
     "metadata": {},
     "output_type": "execute_result"
    }
   ],
   "source": [
    "volume_raw = BUDGET/(GOOD_POINTS*PRICE_PRODUCT)\n",
    "volume_raw"
   ]
  },
  {
   "cell_type": "code",
   "execution_count": 18,
   "metadata": {},
   "outputs": [
    {
     "data": {
      "text/html": [
       "<div>\n",
       "<style scoped>\n",
       "    .dataframe tbody tr th:only-of-type {\n",
       "        vertical-align: middle;\n",
       "    }\n",
       "\n",
       "    .dataframe tbody tr th {\n",
       "        vertical-align: top;\n",
       "    }\n",
       "\n",
       "    .dataframe thead th {\n",
       "        text-align: right;\n",
       "    }\n",
       "</style>\n",
       "<table border=\"1\" class=\"dataframe\">\n",
       "  <thead>\n",
       "    <tr style=\"text-align: right;\">\n",
       "      <th></th>\n",
       "      <th>region_1</th>\n",
       "      <th>region_2</th>\n",
       "      <th>region_3</th>\n",
       "    </tr>\n",
       "  </thead>\n",
       "  <tbody>\n",
       "    <tr>\n",
       "      <th>mean_pred</th>\n",
       "      <td>92.592568</td>\n",
       "      <td>68.728547</td>\n",
       "      <td>94.965046</td>\n",
       "    </tr>\n",
       "    <tr>\n",
       "      <th>mean_target</th>\n",
       "      <td>92.500000</td>\n",
       "      <td>68.825000</td>\n",
       "      <td>95.000000</td>\n",
       "    </tr>\n",
       "  </tbody>\n",
       "</table>\n",
       "</div>"
      ],
      "text/plain": [
       "              region_1   region_2   region_3\n",
       "mean_pred    92.592568  68.728547  94.965046\n",
       "mean_target  92.500000  68.825000  95.000000"
      ]
     },
     "execution_count": 18,
     "metadata": {},
     "output_type": "execute_result"
    }
   ],
   "source": [
    "result_table.loc[['mean_pred','mean_target'],:]"
   ]
  },
  {
   "cell_type": "markdown",
   "metadata": {},
   "source": [
    ">Таким образом, достаточный объем сырья для безубыточной разработки новой скважины составил 111,1 тысяч баррелей, однако если мы сравним этот объем со средним объемом в каждом регионе, то увидим, что ни один регион не превышает (равен) 111.1."
   ]
  },
  {
   "cell_type": "markdown",
   "metadata": {},
   "source": [
    "Напишем функцию для расчёта прибыли по выбранным скважинам и предсказаниям модели:\n",
    "\n",
    "1) Выберем скважины с максимальными значениями предсказаний. \n",
    "2) Просуммируем целевое значение объёма сырья, соответствующее этим предсказаниям.\n",
    "3) Рассчитаем прибыль для полученного объёма сырья.\n",
    " "
   ]
  },
  {
   "cell_type": "code",
   "execution_count": 19,
   "metadata": {},
   "outputs": [],
   "source": [
    "df_target = df_target.reset_index()\n",
    "df_pred = df_pred.reset_index()"
   ]
  },
  {
   "cell_type": "code",
   "execution_count": 20,
   "metadata": {},
   "outputs": [],
   "source": [
    "def profit(tar,pred):\n",
    "    sort_pred = pred.sort_values(ascending=False)#сортируем по возрастанию\n",
    "    select_points = tar[sort_pred.index][:GOOD_POINTS]#отбираем в таргете по индексам скважины с самым большим product\n",
    "    return (PRICE_PRODUCT * select_points.sum() - BUDGET)"
   ]
  },
  {
   "cell_type": "code",
   "execution_count": 21,
   "metadata": {},
   "outputs": [
    {
     "name": "stdout",
     "output_type": "stream",
     "text": [
      "Прибыль для полученного объема сырья \n",
      " \n",
      "в регионе 1: 3.32 млрд.руб.\n",
      "\n",
      "в регионе 2: 2.42 млрд.руб.\n",
      "\n",
      "в регионе 3: 2.71 млрд.руб.\n"
     ]
    }
   ],
   "source": [
    "print('Прибыль для полученного объема сырья \\n \\nв регионе 1:',\n",
    "      (profit(df_target['region_1'],df_pred['region_1'])/10**9).round(2), 'млрд.руб.')\n",
    "print('\\nв регионе 2:',(profit(df_target['region_2'],df_pred['region_2'])/10**9).round(2), 'млрд.руб.')\n",
    "print('\\nв регионе 3:',(profit(df_target['region_3'],df_pred['region_3'])/10**9).round(2), 'млрд.руб.')"
   ]
  },
  {
   "cell_type": "markdown",
   "metadata": {},
   "source": [
    "## Расчёт прибыли и рисков "
   ]
  },
  {
   "cell_type": "markdown",
   "metadata": {},
   "source": [
    "Для каждого региона расчитаем среднюю прибыль, 95% доверительный интервал, а также риск убытка. Будем пользоваться техникой Bootstrap. Зададим 1000 подвыборок по 500 элементов в каждой."
   ]
  },
  {
   "cell_type": "code",
   "execution_count": 22,
   "metadata": {},
   "outputs": [],
   "source": [
    "mean_profit = []\n",
    "interval = []\n",
    "risks = []\n",
    "state = np.random.RandomState(12345)\n",
    "for i in range(1,4):\n",
    "    profits = []\n",
    "    for j in range(1000):\n",
    "        target_subsample = df_target[f'region_{i}'].sample(n=500, replace=True, random_state=state)\n",
    "        probs_subsample = df_pred[f'region_{i}'][target_subsample.index]\n",
    "        profits.append(profit(target_subsample,probs_subsample))\n",
    "    \n",
    "    profits = pd.Series(profits)\n",
    "    mean = (profits.mean()/10**9).round(2)\n",
    "    lower = (profits.quantile(0.025)/10**9).round(2)\n",
    "    upper = (profits.quantile(0.975)/10**9).round(2)\n",
    "    inter = str((lower,upper))\n",
    "    risk = ((profits<0).mean()*100).round(2)\n",
    "    mean_profit.append(mean)\n",
    "    interval.append(inter)\n",
    "    risks.append(risk)\n",
    "    "
   ]
  },
  {
   "cell_type": "code",
   "execution_count": 23,
   "metadata": {},
   "outputs": [
    {
     "data": {
      "text/html": [
       "<div>\n",
       "<style scoped>\n",
       "    .dataframe tbody tr th:only-of-type {\n",
       "        vertical-align: middle;\n",
       "    }\n",
       "\n",
       "    .dataframe tbody tr th {\n",
       "        vertical-align: top;\n",
       "    }\n",
       "\n",
       "    .dataframe thead th {\n",
       "        text-align: right;\n",
       "    }\n",
       "</style>\n",
       "<table border=\"1\" class=\"dataframe\">\n",
       "  <thead>\n",
       "    <tr style=\"text-align: right;\">\n",
       "      <th></th>\n",
       "      <th>средняя прибыль, млрд.</th>\n",
       "      <th>95% - д.интервал, млрд.</th>\n",
       "      <th>риск, %</th>\n",
       "    </tr>\n",
       "  </thead>\n",
       "  <tbody>\n",
       "    <tr>\n",
       "      <th>регион 1</th>\n",
       "      <td>0.43</td>\n",
       "      <td>(-0.1, 0.95)</td>\n",
       "      <td>6.0</td>\n",
       "    </tr>\n",
       "    <tr>\n",
       "      <th>регион 2</th>\n",
       "      <td>0.52</td>\n",
       "      <td>(0.13, 0.95)</td>\n",
       "      <td>0.3</td>\n",
       "    </tr>\n",
       "    <tr>\n",
       "      <th>регион 3</th>\n",
       "      <td>0.42</td>\n",
       "      <td>(-0.12, 0.99)</td>\n",
       "      <td>6.2</td>\n",
       "    </tr>\n",
       "  </tbody>\n",
       "</table>\n",
       "</div>"
      ],
      "text/plain": [
       "           средняя прибыль, млрд. 95% - д.интервал, млрд.  риск, %\n",
       "регион 1                     0.43            (-0.1, 0.95)      6.0\n",
       " регион 2                    0.52            (0.13, 0.95)      0.3\n",
       "регион 3                     0.42           (-0.12, 0.99)      6.2"
      ]
     },
     "execution_count": 23,
     "metadata": {},
     "output_type": "execute_result"
    }
   ],
   "source": [
    "result = pd.DataFrame({'средняя прибыль, млрд.':mean_profit,'95% - д.интервал, млрд.': interval, 'риск, %':risks }, \n",
    "                      index = ['регион 1',' регион 2','регион 3'])\n",
    "result"
   ]
  },
  {
   "cell_type": "markdown",
   "metadata": {},
   "source": [
    ">**Вывод:** итак, рассчитав все необходимые показатели, можем навскидку сделать вывод, что второй регион наиболее прибыльный с наименьшим риском разорения. Однако!, как мы помним, во втором регионе слишком мало уникальных значений в product, а также неправдоподобно большая(гигантская) корреляция с признаком f2, поэтому считать регион 2 потенциальной территорией расположения скважины нельзя. Из оставшихся двух регионов лидириует первый, однако на текущий момент и его не следует выбирать, поскольку метрика score для него была очень низкой. Возможно, требуется больше данных по всем регионам, а также добавление других признаков, чтобы улучшить модель и проверить показатели региона 2 на правдоподобность."
   ]
  },
  {
   "cell_type": "markdown",
   "metadata": {},
   "source": [
    "## Общий вывод"
   ]
  },
  {
   "cell_type": "markdown",
   "metadata": {},
   "source": [
    "Рассмотрена задача поиска оптимального места для бурения новой скважины. На начальном этапе проведен анализ трех датасетов на предмет пропусков, дубликатов, корреляций. Обработки данные не требовали. Выделяющимся оказался регион 2, в нем обнаружилось всего 12 уникальных значений в `product`, а также корреляция = 1 между целевым признаком и признаком f2.\n",
    "\n",
    "Далее была построена модель машинного обучения с применением линейной регрессии и с целевым признаком `product`. По предсказанным данным рассчитан средний объем сырья в каждом регионе, оценена RMSE, а также метрика score. Результаты приведены ниже."
   ]
  },
  {
   "cell_type": "code",
   "execution_count": 24,
   "metadata": {},
   "outputs": [
    {
     "data": {
      "text/html": [
       "<div>\n",
       "<style scoped>\n",
       "    .dataframe tbody tr th:only-of-type {\n",
       "        vertical-align: middle;\n",
       "    }\n",
       "\n",
       "    .dataframe tbody tr th {\n",
       "        vertical-align: top;\n",
       "    }\n",
       "\n",
       "    .dataframe thead th {\n",
       "        text-align: right;\n",
       "    }\n",
       "</style>\n",
       "<table border=\"1\" class=\"dataframe\">\n",
       "  <thead>\n",
       "    <tr style=\"text-align: right;\">\n",
       "      <th></th>\n",
       "      <th>region_1</th>\n",
       "      <th>region_2</th>\n",
       "      <th>region_3</th>\n",
       "    </tr>\n",
       "  </thead>\n",
       "  <tbody>\n",
       "    <tr>\n",
       "      <th>rmse</th>\n",
       "      <td>37.579422</td>\n",
       "      <td>0.893099</td>\n",
       "      <td>40.029709</td>\n",
       "    </tr>\n",
       "    <tr>\n",
       "      <th>mean_pred</th>\n",
       "      <td>92.592568</td>\n",
       "      <td>68.728547</td>\n",
       "      <td>94.965046</td>\n",
       "    </tr>\n",
       "    <tr>\n",
       "      <th>mean_target</th>\n",
       "      <td>92.500000</td>\n",
       "      <td>68.825000</td>\n",
       "      <td>95.000000</td>\n",
       "    </tr>\n",
       "    <tr>\n",
       "      <th>score</th>\n",
       "      <td>0.274239</td>\n",
       "      <td>0.999625</td>\n",
       "      <td>0.196614</td>\n",
       "    </tr>\n",
       "  </tbody>\n",
       "</table>\n",
       "</div>"
      ],
      "text/plain": [
       "              region_1   region_2   region_3\n",
       "rmse         37.579422   0.893099  40.029709\n",
       "mean_pred    92.592568  68.728547  94.965046\n",
       "mean_target  92.500000  68.825000  95.000000\n",
       "score         0.274239   0.999625   0.196614"
      ]
     },
     "execution_count": 24,
     "metadata": {},
     "output_type": "execute_result"
    }
   ],
   "source": [
    "result_table"
   ]
  },
  {
   "cell_type": "markdown",
   "metadata": {},
   "source": [
    "Как видим, в метрике score лидирует регион 2, а вот у регионов 1,3 значения много меньше. Эта аномалия описывалась выше. \n",
    "\n",
    "Далее был рассчитан минимальный объем сырья для безубыточной разработки новой скважины, он составил 111.1 баррелей, однако ни один из регионов не достигает этого уровня.\n",
    "\n",
    "Также рассчитаны средняя прибыль и риски для каждого региона. По величине прибыли (0.52 млрд.) и малости риска (0.3%) лидирует регион 2, но как я отмечала выше, эти данные не стоит считать достоверными.\n",
    "\n",
    "Таким образом, исследование указало на недостаточный объем данных. В таких условиях уверенный выбор оптимального региона сделать не получается."
   ]
  }
 ],
 "metadata": {
  "ExecuteTimeLog": [
   {
    "duration": 2006,
    "start_time": "2023-02-18T08:10:21.868Z"
   },
   {
    "duration": 1614,
    "start_time": "2023-02-18T08:10:23.877Z"
   },
   {
    "duration": 41,
    "start_time": "2023-02-18T08:10:25.493Z"
   },
   {
    "duration": 128,
    "start_time": "2023-02-18T08:10:25.536Z"
   },
   {
    "duration": 1018,
    "start_time": "2023-02-18T08:10:25.666Z"
   },
   {
    "duration": 40,
    "start_time": "2023-02-18T08:10:26.685Z"
   },
   {
    "duration": 30,
    "start_time": "2023-02-18T08:10:26.726Z"
   },
   {
    "duration": 502,
    "start_time": "2023-02-18T08:10:26.758Z"
   },
   {
    "duration": 89,
    "start_time": "2023-02-18T08:10:27.261Z"
   },
   {
    "duration": 99,
    "start_time": "2023-02-18T08:10:27.353Z"
   },
   {
    "duration": 8,
    "start_time": "2023-02-18T08:10:27.453Z"
   },
   {
    "duration": 6,
    "start_time": "2023-02-18T08:10:27.463Z"
   },
   {
    "duration": 10,
    "start_time": "2023-02-18T08:10:27.471Z"
   },
   {
    "duration": 6,
    "start_time": "2023-02-18T08:10:27.482Z"
   },
   {
    "duration": 4,
    "start_time": "2023-02-18T08:10:27.490Z"
   },
   {
    "duration": 24,
    "start_time": "2023-02-18T08:10:27.496Z"
   },
   {
    "duration": 4166,
    "start_time": "2023-02-18T08:10:27.521Z"
   },
   {
    "duration": 10,
    "start_time": "2023-02-18T08:10:31.689Z"
   },
   {
    "duration": 17,
    "start_time": "2023-02-18T08:10:31.701Z"
   },
   {
    "duration": 11,
    "start_time": "2023-02-18T08:11:45.136Z"
   },
   {
    "duration": 11,
    "start_time": "2023-02-18T08:11:52.329Z"
   },
   {
    "duration": 1798,
    "start_time": "2023-02-18T08:24:54.894Z"
   },
   {
    "duration": 491,
    "start_time": "2023-02-18T08:24:56.694Z"
   },
   {
    "duration": 37,
    "start_time": "2023-02-18T08:24:57.187Z"
   },
   {
    "duration": 127,
    "start_time": "2023-02-18T08:24:57.226Z"
   },
   {
    "duration": 934,
    "start_time": "2023-02-18T08:24:57.355Z"
   },
   {
    "duration": 42,
    "start_time": "2023-02-18T08:24:58.291Z"
   },
   {
    "duration": 24,
    "start_time": "2023-02-18T08:24:58.335Z"
   },
   {
    "duration": 391,
    "start_time": "2023-02-18T08:24:58.361Z"
   },
   {
    "duration": 95,
    "start_time": "2023-02-18T08:24:58.754Z"
   },
   {
    "duration": 15,
    "start_time": "2023-02-18T08:24:58.852Z"
   },
   {
    "duration": 13,
    "start_time": "2023-02-18T08:24:58.868Z"
   },
   {
    "duration": 4,
    "start_time": "2023-02-18T08:24:58.951Z"
   },
   {
    "duration": 6,
    "start_time": "2023-02-18T08:24:58.957Z"
   },
   {
    "duration": 15,
    "start_time": "2023-02-18T08:24:58.965Z"
   },
   {
    "duration": 6,
    "start_time": "2023-02-18T08:24:58.982Z"
   },
   {
    "duration": 6,
    "start_time": "2023-02-18T08:24:58.990Z"
   },
   {
    "duration": 22,
    "start_time": "2023-02-18T08:24:58.997Z"
   },
   {
    "duration": 3924,
    "start_time": "2023-02-18T08:24:59.021Z"
   },
   {
    "duration": 9,
    "start_time": "2023-02-18T08:25:02.946Z"
   },
   {
    "duration": 9,
    "start_time": "2023-02-18T08:25:02.957Z"
   },
   {
    "duration": 1871,
    "start_time": "2023-02-18T08:35:56.866Z"
   },
   {
    "duration": 438,
    "start_time": "2023-02-18T08:35:58.739Z"
   },
   {
    "duration": 47,
    "start_time": "2023-02-18T08:35:59.179Z"
   },
   {
    "duration": 145,
    "start_time": "2023-02-18T08:35:59.249Z"
   },
   {
    "duration": 915,
    "start_time": "2023-02-18T08:35:59.397Z"
   },
   {
    "duration": 73,
    "start_time": "2023-02-18T08:36:00.315Z"
   },
   {
    "duration": 134,
    "start_time": "2023-02-18T08:36:00.391Z"
   },
   {
    "duration": 425,
    "start_time": "2023-02-18T08:36:00.527Z"
   },
   {
    "duration": 7,
    "start_time": "2023-02-18T08:36:00.954Z"
   },
   {
    "duration": 187,
    "start_time": "2023-02-18T08:36:00.971Z"
   },
   {
    "duration": 29,
    "start_time": "2023-02-18T08:36:01.160Z"
   },
   {
    "duration": 24,
    "start_time": "2023-02-18T08:36:01.191Z"
   },
   {
    "duration": 40,
    "start_time": "2023-02-18T08:36:01.218Z"
   },
   {
    "duration": 20,
    "start_time": "2023-02-18T08:36:01.260Z"
   },
   {
    "duration": 24,
    "start_time": "2023-02-18T08:36:01.283Z"
   },
   {
    "duration": 47,
    "start_time": "2023-02-18T08:36:01.310Z"
   },
   {
    "duration": 4322,
    "start_time": "2023-02-18T08:36:01.360Z"
   },
   {
    "duration": 10,
    "start_time": "2023-02-18T08:36:05.684Z"
   },
   {
    "duration": 18,
    "start_time": "2023-02-18T08:36:05.695Z"
   },
   {
    "duration": 1899,
    "start_time": "2023-02-18T13:40:47.081Z"
   },
   {
    "duration": 1125,
    "start_time": "2023-02-18T13:40:53.570Z"
   },
   {
    "duration": 27,
    "start_time": "2023-02-18T13:40:59.878Z"
   },
   {
    "duration": 29,
    "start_time": "2023-02-18T13:43:04.469Z"
   },
   {
    "duration": 86,
    "start_time": "2023-02-18T13:43:31.870Z"
   },
   {
    "duration": 26,
    "start_time": "2023-02-18T13:45:06.867Z"
   },
   {
    "duration": 555,
    "start_time": "2023-02-18T13:49:10.188Z"
   },
   {
    "duration": 609,
    "start_time": "2023-02-18T13:49:30.833Z"
   },
   {
    "duration": 512,
    "start_time": "2023-02-18T13:49:59.967Z"
   },
   {
    "duration": 382,
    "start_time": "2023-02-18T13:50:15.228Z"
   },
   {
    "duration": 406,
    "start_time": "2023-02-18T13:50:27.341Z"
   },
   {
    "duration": 410,
    "start_time": "2023-02-18T13:50:36.732Z"
   },
   {
    "duration": 557,
    "start_time": "2023-02-18T13:50:57.137Z"
   },
   {
    "duration": 632,
    "start_time": "2023-02-18T13:51:22.632Z"
   },
   {
    "duration": 472,
    "start_time": "2023-02-18T13:54:44.133Z"
   },
   {
    "duration": 1425,
    "start_time": "2023-02-18T14:04:24.846Z"
   },
   {
    "duration": 3,
    "start_time": "2023-02-18T14:04:26.273Z"
   },
   {
    "duration": 391,
    "start_time": "2023-02-18T14:04:26.277Z"
   },
   {
    "duration": 24,
    "start_time": "2023-02-18T14:04:26.670Z"
   },
   {
    "duration": 62,
    "start_time": "2023-02-18T14:04:26.696Z"
   },
   {
    "duration": 132,
    "start_time": "2023-02-18T14:04:26.759Z"
   },
   {
    "duration": 955,
    "start_time": "2023-02-18T14:04:26.892Z"
   },
   {
    "duration": 68,
    "start_time": "2023-02-18T14:04:27.848Z"
   },
   {
    "duration": 38,
    "start_time": "2023-02-18T14:04:27.918Z"
   },
   {
    "duration": 568,
    "start_time": "2023-02-18T14:04:27.959Z"
   },
   {
    "duration": 510,
    "start_time": "2023-02-18T14:04:28.529Z"
   },
   {
    "duration": 349,
    "start_time": "2023-02-18T14:04:29.041Z"
   },
   {
    "duration": 252,
    "start_time": "2023-02-18T14:04:29.392Z"
   },
   {
    "duration": 5,
    "start_time": "2023-02-18T14:04:29.646Z"
   },
   {
    "duration": 99,
    "start_time": "2023-02-18T14:04:29.653Z"
   },
   {
    "duration": 90,
    "start_time": "2023-02-18T14:04:29.757Z"
   },
   {
    "duration": 9,
    "start_time": "2023-02-18T14:04:29.849Z"
   },
   {
    "duration": 15,
    "start_time": "2023-02-18T14:04:29.860Z"
   },
   {
    "duration": 10,
    "start_time": "2023-02-18T14:04:29.877Z"
   },
   {
    "duration": 39,
    "start_time": "2023-02-18T14:04:29.889Z"
   },
   {
    "duration": 26,
    "start_time": "2023-02-18T14:04:29.930Z"
   },
   {
    "duration": 4023,
    "start_time": "2023-02-18T14:04:29.958Z"
   },
   {
    "duration": 11,
    "start_time": "2023-02-18T14:04:33.983Z"
   },
   {
    "duration": 25,
    "start_time": "2023-02-18T14:04:33.996Z"
   },
   {
    "duration": 1360,
    "start_time": "2023-02-18T14:07:09.768Z"
   },
   {
    "duration": 4,
    "start_time": "2023-02-18T14:07:11.130Z"
   },
   {
    "duration": 388,
    "start_time": "2023-02-18T14:07:11.136Z"
   },
   {
    "duration": 34,
    "start_time": "2023-02-18T14:07:11.535Z"
   },
   {
    "duration": 69,
    "start_time": "2023-02-18T14:07:11.571Z"
   },
   {
    "duration": 150,
    "start_time": "2023-02-18T14:07:11.642Z"
   },
   {
    "duration": 1026,
    "start_time": "2023-02-18T14:07:11.794Z"
   },
   {
    "duration": 88,
    "start_time": "2023-02-18T14:07:12.823Z"
   },
   {
    "duration": 25,
    "start_time": "2023-02-18T14:07:12.913Z"
   },
   {
    "duration": 465,
    "start_time": "2023-02-18T14:07:12.941Z"
   },
   {
    "duration": 473,
    "start_time": "2023-02-18T14:07:13.408Z"
   },
   {
    "duration": 424,
    "start_time": "2023-02-18T14:07:13.883Z"
   },
   {
    "duration": 730,
    "start_time": "2023-02-18T14:07:14.309Z"
   },
   {
    "duration": 11,
    "start_time": "2023-02-18T14:07:15.042Z"
   },
   {
    "duration": 95,
    "start_time": "2023-02-18T14:07:15.057Z"
   },
   {
    "duration": 5,
    "start_time": "2023-02-18T14:07:15.154Z"
   },
   {
    "duration": 8,
    "start_time": "2023-02-18T14:07:15.161Z"
   },
   {
    "duration": 10,
    "start_time": "2023-02-18T14:07:15.171Z"
   },
   {
    "duration": 7,
    "start_time": "2023-02-18T14:07:15.183Z"
   },
   {
    "duration": 9,
    "start_time": "2023-02-18T14:07:15.191Z"
   },
   {
    "duration": 51,
    "start_time": "2023-02-18T14:07:15.202Z"
   },
   {
    "duration": 4063,
    "start_time": "2023-02-18T14:07:15.255Z"
   },
   {
    "duration": 10,
    "start_time": "2023-02-18T14:07:19.319Z"
   },
   {
    "duration": 15,
    "start_time": "2023-02-18T14:07:19.331Z"
   }
  ],
  "kernelspec": {
   "display_name": "Python 3 (ipykernel)",
   "language": "python",
   "name": "python3"
  },
  "language_info": {
   "codemirror_mode": {
    "name": "ipython",
    "version": 3
   },
   "file_extension": ".py",
   "mimetype": "text/x-python",
   "name": "python",
   "nbconvert_exporter": "python",
   "pygments_lexer": "ipython3",
   "version": "3.9.13"
  },
  "toc": {
   "base_numbering": 1,
   "nav_menu": {},
   "number_sections": true,
   "sideBar": true,
   "skip_h1_title": true,
   "title_cell": "Table of Contents",
   "title_sidebar": "Contents",
   "toc_cell": false,
   "toc_position": {
    "height": "calc(100% - 180px)",
    "left": "10px",
    "top": "150px",
    "width": "165px"
   },
   "toc_section_display": true,
   "toc_window_display": true
  }
 },
 "nbformat": 4,
 "nbformat_minor": 2
}

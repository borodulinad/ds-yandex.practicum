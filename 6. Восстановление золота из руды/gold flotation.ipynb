{
 "cells": [
  {
   "cell_type": "markdown",
   "metadata": {
    "toc": true
   },
   "source": [
    "<h1>Содержание<span class=\"tocSkip\"></span></h1>\n",
    "<div class=\"toc\"><ul class=\"toc-item\"><li><span><a href=\"#Подготовка-данных\" data-toc-modified-id=\"Подготовка-данных-1\"><span class=\"toc-item-num\">1&nbsp;&nbsp;</span>Подготовка данных</a></span><ul class=\"toc-item\"><li><span><a href=\"#Проверка-правильности-расчета-эффективности-обогащения\" data-toc-modified-id=\"Проверка-правильности-расчета-эффективности-обогащения-1.1\"><span class=\"toc-item-num\">1.1&nbsp;&nbsp;</span>Проверка правильности расчета эффективности обогащения</a></span></li><li><span><a href=\"#Предобработка-данных\" data-toc-modified-id=\"Предобработка-данных-1.2\"><span class=\"toc-item-num\">1.2&nbsp;&nbsp;</span>Предобработка данных</a></span></li></ul></li><li><span><a href=\"#Анализ-данных\" data-toc-modified-id=\"Анализ-данных-2\"><span class=\"toc-item-num\">2&nbsp;&nbsp;</span>Анализ данных</a></span><ul class=\"toc-item\"><li><span><a href=\"#Как-меняется-концентрация-металлов-(Au,-Ag,-Pb)-на-различных-этапах-очистки\" data-toc-modified-id=\"Как-меняется-концентрация-металлов-(Au,-Ag,-Pb)-на-различных-этапах-очистки-2.1\"><span class=\"toc-item-num\">2.1&nbsp;&nbsp;</span>Как меняется концентрация металлов (Au, Ag, Pb) на различных этапах очистки</a></span></li><li><span><a href=\"#Распределения-размеров-гранул-сырья-на-обучающей-и-тестовой-выборках\" data-toc-modified-id=\"Распределения-размеров-гранул-сырья-на-обучающей-и-тестовой-выборках-2.2\"><span class=\"toc-item-num\">2.2&nbsp;&nbsp;</span>Распределения размеров гранул сырья на обучающей и тестовой выборках</a></span></li><li><span><a href=\"#Суммарная-концентрация-всех-веществ-на-разных-стадиях:-в-сырье,-в-черновом-и-финальном-концентратах\" data-toc-modified-id=\"Суммарная-концентрация-всех-веществ-на-разных-стадиях:-в-сырье,-в-черновом-и-финальном-концентратах-2.3\"><span class=\"toc-item-num\">2.3&nbsp;&nbsp;</span>Суммарная концентрация всех веществ на разных стадиях: в сырье, в черновом и финальном концентратах</a></span></li></ul></li><li><span><a href=\"#Модель\" data-toc-modified-id=\"Модель-3\"><span class=\"toc-item-num\">3&nbsp;&nbsp;</span>Модель</a></span><ul class=\"toc-item\"><li><span><a href=\"#sMAPE\" data-toc-modified-id=\"sMAPE-3.1\"><span class=\"toc-item-num\">3.1&nbsp;&nbsp;</span>sMAPE</a></span></li><li><span><a href=\"#Выбор-наилучшей-модели\" data-toc-modified-id=\"Выбор-наилучшей-модели-3.2\"><span class=\"toc-item-num\">3.2&nbsp;&nbsp;</span>Выбор наилучшей модели</a></span><ul class=\"toc-item\"><li><span><a href=\"#Линейная-регрессия\" data-toc-modified-id=\"Линейная-регрессия-3.2.1\"><span class=\"toc-item-num\">3.2.1&nbsp;&nbsp;</span>Линейная регрессия</a></span></li><li><span><a href=\"#Случайный-лес\" data-toc-modified-id=\"Случайный-лес-3.2.2\"><span class=\"toc-item-num\">3.2.2&nbsp;&nbsp;</span>Случайный лес</a></span></li><li><span><a href=\"#Ближайшие--соседи\" data-toc-modified-id=\"Ближайшие--соседи-3.2.3\"><span class=\"toc-item-num\">3.2.3&nbsp;&nbsp;</span>Ближайшие  соседи</a></span></li><li><span><a href=\"#Решающее-дерево\" data-toc-modified-id=\"Решающее-дерево-3.2.4\"><span class=\"toc-item-num\">3.2.4&nbsp;&nbsp;</span>Решающее дерево</a></span></li></ul></li><li><span><a href=\"#Проверка-на-тестовой-выборке\" data-toc-modified-id=\"Проверка-на-тестовой-выборке-3.3\"><span class=\"toc-item-num\">3.3&nbsp;&nbsp;</span>Проверка на тестовой выборке</a></span></li></ul></li><li><span><a href=\"#Общий-вывод\" data-toc-modified-id=\"Общий-вывод-4\"><span class=\"toc-item-num\">4&nbsp;&nbsp;</span>Общий вывод</a></span></li><li><span><a href=\"#Чек-лист-готовности-проекта\" data-toc-modified-id=\"Чек-лист-готовности-проекта-5\"><span class=\"toc-item-num\">5&nbsp;&nbsp;</span>Чек-лист готовности проекта</a></span></li></ul></div>"
   ]
  },
  {
   "cell_type": "markdown",
   "metadata": {},
   "source": [
    "# Восстановление золота из руды"
   ]
  },
  {
   "cell_type": "markdown",
   "metadata": {},
   "source": [
    "`Цель`: подготовить прототип модели машинного обучения для компания «Цифра», которая разрабатывает решения для эффективной работы промышленных предприятий. Модель поможет оптимизировать производство, чтобы не запускать предприятие с убыточными характеристиками.\n",
    "\n",
    "`Задачи`:\n",
    "\n",
    "1. Подготовить данные;\n",
    "2. Провести исследовательский анализ данных;\n",
    "3. Построить и обучить модель, предсказывающую коэффициент восстановления золота из золотосодержащей руды, с использованием данных с параметрами добычи и очистки. \n",
    "\n",
    "`Дано`:\n",
    "\n",
    "*Технологический процесс*\n",
    "- Rougher feed — исходное сырье\n",
    "- Rougher additions — флотационные реагенты:\n",
    " - Xanthate— ксантогенат (промотер, или активатор флотации);\n",
    " - Sulphate — сульфат (на данном производстве сульфид натрия);\n",
    " - Depressant — депрессант (силикат натрия).\n",
    "- Rougher process (англ. «грубый процесс») — флотация\n",
    "- Rougher tails — отвальные хвосты\n",
    "- Float banks — флотационная установка\n",
    "- Cleaner process — очистка\n",
    "- Rougher Au — черновой концентрат золота\n",
    "- Final Au — финальный концентрат золота\n",
    "\n",
    "*Параметры этапов*: \n",
    "- air amount — объём воздуха\n",
    "- fluid levels — уровень жидкости\n",
    "- feed size — размер гранул сырья\n",
    "- feed rate — скорость подачи"
   ]
  },
  {
   "cell_type": "markdown",
   "metadata": {},
   "source": [
    "Столбцы датасетов строятся по следующему принципу: **[этап].[тип_параметра].[название_параметра]**.\n",
    "\n",
    "Возможные значения для блока **[этап]**:\n",
    "- rougher — флотация\n",
    "- primary_cleaner — первичная очистка\n",
    "- secondary_cleaner — вторичная очистка\n",
    "- final — финальные характеристики\n",
    "\n",
    "Возможные значения для блока **[тип_параметра]**:\n",
    "- input — параметры сырья\n",
    "- output — параметры продукта\n",
    "- state — параметры, характеризующие текущее состояние этапа\n",
    "- calculation — расчётные характеристики"
   ]
  },
  {
   "cell_type": "markdown",
   "metadata": {},
   "source": [
    "## Подготовка данных"
   ]
  },
  {
   "cell_type": "code",
   "execution_count": 1,
   "metadata": {},
   "outputs": [],
   "source": [
    "import pandas as pd\n",
    "import numpy as np\n",
    "import matplotlib.pyplot as plt\n",
    "import seaborn as sns\n",
    "from sklearn.model_selection import GridSearchCV\n",
    "from sklearn.linear_model import LinearRegression\n",
    "from sklearn.ensemble import RandomForestRegressor\n",
    "from sklearn.neighbors import KNeighborsRegressor\n",
    "from sklearn.tree import DecisionTreeRegressor\n",
    "from sklearn.dummy import DummyRegressor\n",
    "from sklearn.metrics import make_scorer\n",
    "from sklearn.model_selection import cross_val_score\n",
    "from sklearn.metrics import mean_absolute_error"
   ]
  },
  {
   "cell_type": "code",
   "execution_count": 2,
   "metadata": {},
   "outputs": [],
   "source": [
    "try:\n",
    "    data_full = pd.read_csv('C:/Users/borod/OneDrive/Рабочий стол/DS/comb_project_2/gold_recovery_full_new.csv')\n",
    "    data_train = pd.read_csv('C:/Users/borod/OneDrive/Рабочий стол/DS/comb_project_2/gold_recovery_train_new.csv')\n",
    "    data_test = pd.read_csv('C:/Users/borod/OneDrive/Рабочий стол/DS/comb_project_2/gold_recovery_test_new.csv')\n",
    "except:\n",
    "    data_full = pd.read_csv('/datasets/gold_recovery_full_new.csv')\n",
    "    data_train = pd.read_csv('/datasets/gold_recovery_train_new.csv')\n",
    "    data_test = pd.read_csv('/datasets/gold_recovery_test_new.csv')"
   ]
  },
  {
   "cell_type": "markdown",
   "metadata": {},
   "source": [
    "Изучим данные. Нам даны три датасета: \n",
    "- gold_recovery_train_new.csv — обучающая выборка;\n",
    "- gold_recovery_test_new.csv — тестовая выборка;\n",
    "- gold_recovery_full_new.csv — исходные данные."
   ]
  },
  {
   "cell_type": "code",
   "execution_count": 3,
   "metadata": {
    "scrolled": true
   },
   "outputs": [
    {
     "data": {
      "text/html": [
       "<div>\n",
       "<style scoped>\n",
       "    .dataframe tbody tr th:only-of-type {\n",
       "        vertical-align: middle;\n",
       "    }\n",
       "\n",
       "    .dataframe tbody tr th {\n",
       "        vertical-align: top;\n",
       "    }\n",
       "\n",
       "    .dataframe thead th {\n",
       "        text-align: right;\n",
       "    }\n",
       "</style>\n",
       "<table border=\"1\" class=\"dataframe\">\n",
       "  <thead>\n",
       "    <tr style=\"text-align: right;\">\n",
       "      <th></th>\n",
       "      <th>date</th>\n",
       "      <th>final.output.concentrate_ag</th>\n",
       "      <th>final.output.concentrate_pb</th>\n",
       "      <th>final.output.concentrate_sol</th>\n",
       "      <th>final.output.concentrate_au</th>\n",
       "      <th>final.output.recovery</th>\n",
       "      <th>final.output.tail_ag</th>\n",
       "      <th>final.output.tail_pb</th>\n",
       "      <th>final.output.tail_sol</th>\n",
       "      <th>final.output.tail_au</th>\n",
       "      <th>...</th>\n",
       "      <th>secondary_cleaner.state.floatbank4_a_air</th>\n",
       "      <th>secondary_cleaner.state.floatbank4_a_level</th>\n",
       "      <th>secondary_cleaner.state.floatbank4_b_air</th>\n",
       "      <th>secondary_cleaner.state.floatbank4_b_level</th>\n",
       "      <th>secondary_cleaner.state.floatbank5_a_air</th>\n",
       "      <th>secondary_cleaner.state.floatbank5_a_level</th>\n",
       "      <th>secondary_cleaner.state.floatbank5_b_air</th>\n",
       "      <th>secondary_cleaner.state.floatbank5_b_level</th>\n",
       "      <th>secondary_cleaner.state.floatbank6_a_air</th>\n",
       "      <th>secondary_cleaner.state.floatbank6_a_level</th>\n",
       "    </tr>\n",
       "  </thead>\n",
       "  <tbody>\n",
       "    <tr>\n",
       "      <th>0</th>\n",
       "      <td>2016-01-15 00:00:00</td>\n",
       "      <td>6.055403</td>\n",
       "      <td>9.889648</td>\n",
       "      <td>5.507324</td>\n",
       "      <td>42.192020</td>\n",
       "      <td>70.541216</td>\n",
       "      <td>10.411962</td>\n",
       "      <td>0.895447</td>\n",
       "      <td>16.904297</td>\n",
       "      <td>2.143149</td>\n",
       "      <td>...</td>\n",
       "      <td>14.016835</td>\n",
       "      <td>-502.488007</td>\n",
       "      <td>12.099931</td>\n",
       "      <td>-504.715942</td>\n",
       "      <td>9.925633</td>\n",
       "      <td>-498.310211</td>\n",
       "      <td>8.079666</td>\n",
       "      <td>-500.470978</td>\n",
       "      <td>14.151341</td>\n",
       "      <td>-605.841980</td>\n",
       "    </tr>\n",
       "    <tr>\n",
       "      <th>1</th>\n",
       "      <td>2016-01-15 01:00:00</td>\n",
       "      <td>6.029369</td>\n",
       "      <td>9.968944</td>\n",
       "      <td>5.257781</td>\n",
       "      <td>42.701629</td>\n",
       "      <td>69.266198</td>\n",
       "      <td>10.462676</td>\n",
       "      <td>0.927452</td>\n",
       "      <td>16.634514</td>\n",
       "      <td>2.224930</td>\n",
       "      <td>...</td>\n",
       "      <td>13.992281</td>\n",
       "      <td>-505.503262</td>\n",
       "      <td>11.950531</td>\n",
       "      <td>-501.331529</td>\n",
       "      <td>10.039245</td>\n",
       "      <td>-500.169983</td>\n",
       "      <td>7.984757</td>\n",
       "      <td>-500.582168</td>\n",
       "      <td>13.998353</td>\n",
       "      <td>-599.787184</td>\n",
       "    </tr>\n",
       "    <tr>\n",
       "      <th>2</th>\n",
       "      <td>2016-01-15 02:00:00</td>\n",
       "      <td>6.055926</td>\n",
       "      <td>10.213995</td>\n",
       "      <td>5.383759</td>\n",
       "      <td>42.657501</td>\n",
       "      <td>68.116445</td>\n",
       "      <td>10.507046</td>\n",
       "      <td>0.953716</td>\n",
       "      <td>16.208849</td>\n",
       "      <td>2.257889</td>\n",
       "      <td>...</td>\n",
       "      <td>14.015015</td>\n",
       "      <td>-502.520901</td>\n",
       "      <td>11.912783</td>\n",
       "      <td>-501.133383</td>\n",
       "      <td>10.070913</td>\n",
       "      <td>-500.129135</td>\n",
       "      <td>8.013877</td>\n",
       "      <td>-500.517572</td>\n",
       "      <td>14.028663</td>\n",
       "      <td>-601.427363</td>\n",
       "    </tr>\n",
       "    <tr>\n",
       "      <th>3</th>\n",
       "      <td>2016-01-15 03:00:00</td>\n",
       "      <td>6.047977</td>\n",
       "      <td>9.977019</td>\n",
       "      <td>4.858634</td>\n",
       "      <td>42.689819</td>\n",
       "      <td>68.347543</td>\n",
       "      <td>10.422762</td>\n",
       "      <td>0.883763</td>\n",
       "      <td>16.532835</td>\n",
       "      <td>2.146849</td>\n",
       "      <td>...</td>\n",
       "      <td>14.036510</td>\n",
       "      <td>-500.857308</td>\n",
       "      <td>11.999550</td>\n",
       "      <td>-501.193686</td>\n",
       "      <td>9.970366</td>\n",
       "      <td>-499.201640</td>\n",
       "      <td>7.977324</td>\n",
       "      <td>-500.255908</td>\n",
       "      <td>14.005551</td>\n",
       "      <td>-599.996129</td>\n",
       "    </tr>\n",
       "    <tr>\n",
       "      <th>4</th>\n",
       "      <td>2016-01-15 04:00:00</td>\n",
       "      <td>6.148599</td>\n",
       "      <td>10.142511</td>\n",
       "      <td>4.939416</td>\n",
       "      <td>42.774141</td>\n",
       "      <td>66.927016</td>\n",
       "      <td>10.360302</td>\n",
       "      <td>0.792826</td>\n",
       "      <td>16.525686</td>\n",
       "      <td>2.055292</td>\n",
       "      <td>...</td>\n",
       "      <td>14.027298</td>\n",
       "      <td>-499.838632</td>\n",
       "      <td>11.953070</td>\n",
       "      <td>-501.053894</td>\n",
       "      <td>9.925709</td>\n",
       "      <td>-501.686727</td>\n",
       "      <td>7.894242</td>\n",
       "      <td>-500.356035</td>\n",
       "      <td>13.996647</td>\n",
       "      <td>-601.496691</td>\n",
       "    </tr>\n",
       "  </tbody>\n",
       "</table>\n",
       "<p>5 rows × 87 columns</p>\n",
       "</div>"
      ],
      "text/plain": [
       "                  date  final.output.concentrate_ag  \\\n",
       "0  2016-01-15 00:00:00                     6.055403   \n",
       "1  2016-01-15 01:00:00                     6.029369   \n",
       "2  2016-01-15 02:00:00                     6.055926   \n",
       "3  2016-01-15 03:00:00                     6.047977   \n",
       "4  2016-01-15 04:00:00                     6.148599   \n",
       "\n",
       "   final.output.concentrate_pb  final.output.concentrate_sol  \\\n",
       "0                     9.889648                      5.507324   \n",
       "1                     9.968944                      5.257781   \n",
       "2                    10.213995                      5.383759   \n",
       "3                     9.977019                      4.858634   \n",
       "4                    10.142511                      4.939416   \n",
       "\n",
       "   final.output.concentrate_au  final.output.recovery  final.output.tail_ag  \\\n",
       "0                    42.192020              70.541216             10.411962   \n",
       "1                    42.701629              69.266198             10.462676   \n",
       "2                    42.657501              68.116445             10.507046   \n",
       "3                    42.689819              68.347543             10.422762   \n",
       "4                    42.774141              66.927016             10.360302   \n",
       "\n",
       "   final.output.tail_pb  final.output.tail_sol  final.output.tail_au  ...  \\\n",
       "0              0.895447              16.904297              2.143149  ...   \n",
       "1              0.927452              16.634514              2.224930  ...   \n",
       "2              0.953716              16.208849              2.257889  ...   \n",
       "3              0.883763              16.532835              2.146849  ...   \n",
       "4              0.792826              16.525686              2.055292  ...   \n",
       "\n",
       "   secondary_cleaner.state.floatbank4_a_air  \\\n",
       "0                                 14.016835   \n",
       "1                                 13.992281   \n",
       "2                                 14.015015   \n",
       "3                                 14.036510   \n",
       "4                                 14.027298   \n",
       "\n",
       "   secondary_cleaner.state.floatbank4_a_level  \\\n",
       "0                                 -502.488007   \n",
       "1                                 -505.503262   \n",
       "2                                 -502.520901   \n",
       "3                                 -500.857308   \n",
       "4                                 -499.838632   \n",
       "\n",
       "   secondary_cleaner.state.floatbank4_b_air  \\\n",
       "0                                 12.099931   \n",
       "1                                 11.950531   \n",
       "2                                 11.912783   \n",
       "3                                 11.999550   \n",
       "4                                 11.953070   \n",
       "\n",
       "   secondary_cleaner.state.floatbank4_b_level  \\\n",
       "0                                 -504.715942   \n",
       "1                                 -501.331529   \n",
       "2                                 -501.133383   \n",
       "3                                 -501.193686   \n",
       "4                                 -501.053894   \n",
       "\n",
       "   secondary_cleaner.state.floatbank5_a_air  \\\n",
       "0                                  9.925633   \n",
       "1                                 10.039245   \n",
       "2                                 10.070913   \n",
       "3                                  9.970366   \n",
       "4                                  9.925709   \n",
       "\n",
       "   secondary_cleaner.state.floatbank5_a_level  \\\n",
       "0                                 -498.310211   \n",
       "1                                 -500.169983   \n",
       "2                                 -500.129135   \n",
       "3                                 -499.201640   \n",
       "4                                 -501.686727   \n",
       "\n",
       "   secondary_cleaner.state.floatbank5_b_air  \\\n",
       "0                                  8.079666   \n",
       "1                                  7.984757   \n",
       "2                                  8.013877   \n",
       "3                                  7.977324   \n",
       "4                                  7.894242   \n",
       "\n",
       "   secondary_cleaner.state.floatbank5_b_level  \\\n",
       "0                                 -500.470978   \n",
       "1                                 -500.582168   \n",
       "2                                 -500.517572   \n",
       "3                                 -500.255908   \n",
       "4                                 -500.356035   \n",
       "\n",
       "   secondary_cleaner.state.floatbank6_a_air  \\\n",
       "0                                 14.151341   \n",
       "1                                 13.998353   \n",
       "2                                 14.028663   \n",
       "3                                 14.005551   \n",
       "4                                 13.996647   \n",
       "\n",
       "   secondary_cleaner.state.floatbank6_a_level  \n",
       "0                                 -605.841980  \n",
       "1                                 -599.787184  \n",
       "2                                 -601.427363  \n",
       "3                                 -599.996129  \n",
       "4                                 -601.496691  \n",
       "\n",
       "[5 rows x 87 columns]"
      ]
     },
     "metadata": {},
     "output_type": "display_data"
    },
    {
     "data": {
      "text/html": [
       "<div>\n",
       "<style scoped>\n",
       "    .dataframe tbody tr th:only-of-type {\n",
       "        vertical-align: middle;\n",
       "    }\n",
       "\n",
       "    .dataframe tbody tr th {\n",
       "        vertical-align: top;\n",
       "    }\n",
       "\n",
       "    .dataframe thead th {\n",
       "        text-align: right;\n",
       "    }\n",
       "</style>\n",
       "<table border=\"1\" class=\"dataframe\">\n",
       "  <thead>\n",
       "    <tr style=\"text-align: right;\">\n",
       "      <th></th>\n",
       "      <th>date</th>\n",
       "      <th>final.output.concentrate_ag</th>\n",
       "      <th>final.output.concentrate_pb</th>\n",
       "      <th>final.output.concentrate_sol</th>\n",
       "      <th>final.output.concentrate_au</th>\n",
       "      <th>final.output.recovery</th>\n",
       "      <th>final.output.tail_ag</th>\n",
       "      <th>final.output.tail_pb</th>\n",
       "      <th>final.output.tail_sol</th>\n",
       "      <th>final.output.tail_au</th>\n",
       "      <th>...</th>\n",
       "      <th>secondary_cleaner.state.floatbank4_a_air</th>\n",
       "      <th>secondary_cleaner.state.floatbank4_a_level</th>\n",
       "      <th>secondary_cleaner.state.floatbank4_b_air</th>\n",
       "      <th>secondary_cleaner.state.floatbank4_b_level</th>\n",
       "      <th>secondary_cleaner.state.floatbank5_a_air</th>\n",
       "      <th>secondary_cleaner.state.floatbank5_a_level</th>\n",
       "      <th>secondary_cleaner.state.floatbank5_b_air</th>\n",
       "      <th>secondary_cleaner.state.floatbank5_b_level</th>\n",
       "      <th>secondary_cleaner.state.floatbank6_a_air</th>\n",
       "      <th>secondary_cleaner.state.floatbank6_a_level</th>\n",
       "    </tr>\n",
       "  </thead>\n",
       "  <tbody>\n",
       "    <tr>\n",
       "      <th>0</th>\n",
       "      <td>2016-01-15 00:00:00</td>\n",
       "      <td>6.055403</td>\n",
       "      <td>9.889648</td>\n",
       "      <td>5.507324</td>\n",
       "      <td>42.192020</td>\n",
       "      <td>70.541216</td>\n",
       "      <td>10.411962</td>\n",
       "      <td>0.895447</td>\n",
       "      <td>16.904297</td>\n",
       "      <td>2.143149</td>\n",
       "      <td>...</td>\n",
       "      <td>14.016835</td>\n",
       "      <td>-502.488007</td>\n",
       "      <td>12.099931</td>\n",
       "      <td>-504.715942</td>\n",
       "      <td>9.925633</td>\n",
       "      <td>-498.310211</td>\n",
       "      <td>8.079666</td>\n",
       "      <td>-500.470978</td>\n",
       "      <td>14.151341</td>\n",
       "      <td>-605.841980</td>\n",
       "    </tr>\n",
       "    <tr>\n",
       "      <th>1</th>\n",
       "      <td>2016-01-15 01:00:00</td>\n",
       "      <td>6.029369</td>\n",
       "      <td>9.968944</td>\n",
       "      <td>5.257781</td>\n",
       "      <td>42.701629</td>\n",
       "      <td>69.266198</td>\n",
       "      <td>10.462676</td>\n",
       "      <td>0.927452</td>\n",
       "      <td>16.634514</td>\n",
       "      <td>2.224930</td>\n",
       "      <td>...</td>\n",
       "      <td>13.992281</td>\n",
       "      <td>-505.503262</td>\n",
       "      <td>11.950531</td>\n",
       "      <td>-501.331529</td>\n",
       "      <td>10.039245</td>\n",
       "      <td>-500.169983</td>\n",
       "      <td>7.984757</td>\n",
       "      <td>-500.582168</td>\n",
       "      <td>13.998353</td>\n",
       "      <td>-599.787184</td>\n",
       "    </tr>\n",
       "    <tr>\n",
       "      <th>2</th>\n",
       "      <td>2016-01-15 02:00:00</td>\n",
       "      <td>6.055926</td>\n",
       "      <td>10.213995</td>\n",
       "      <td>5.383759</td>\n",
       "      <td>42.657501</td>\n",
       "      <td>68.116445</td>\n",
       "      <td>10.507046</td>\n",
       "      <td>0.953716</td>\n",
       "      <td>16.208849</td>\n",
       "      <td>2.257889</td>\n",
       "      <td>...</td>\n",
       "      <td>14.015015</td>\n",
       "      <td>-502.520901</td>\n",
       "      <td>11.912783</td>\n",
       "      <td>-501.133383</td>\n",
       "      <td>10.070913</td>\n",
       "      <td>-500.129135</td>\n",
       "      <td>8.013877</td>\n",
       "      <td>-500.517572</td>\n",
       "      <td>14.028663</td>\n",
       "      <td>-601.427363</td>\n",
       "    </tr>\n",
       "    <tr>\n",
       "      <th>3</th>\n",
       "      <td>2016-01-15 03:00:00</td>\n",
       "      <td>6.047977</td>\n",
       "      <td>9.977019</td>\n",
       "      <td>4.858634</td>\n",
       "      <td>42.689819</td>\n",
       "      <td>68.347543</td>\n",
       "      <td>10.422762</td>\n",
       "      <td>0.883763</td>\n",
       "      <td>16.532835</td>\n",
       "      <td>2.146849</td>\n",
       "      <td>...</td>\n",
       "      <td>14.036510</td>\n",
       "      <td>-500.857308</td>\n",
       "      <td>11.999550</td>\n",
       "      <td>-501.193686</td>\n",
       "      <td>9.970366</td>\n",
       "      <td>-499.201640</td>\n",
       "      <td>7.977324</td>\n",
       "      <td>-500.255908</td>\n",
       "      <td>14.005551</td>\n",
       "      <td>-599.996129</td>\n",
       "    </tr>\n",
       "    <tr>\n",
       "      <th>4</th>\n",
       "      <td>2016-01-15 04:00:00</td>\n",
       "      <td>6.148599</td>\n",
       "      <td>10.142511</td>\n",
       "      <td>4.939416</td>\n",
       "      <td>42.774141</td>\n",
       "      <td>66.927016</td>\n",
       "      <td>10.360302</td>\n",
       "      <td>0.792826</td>\n",
       "      <td>16.525686</td>\n",
       "      <td>2.055292</td>\n",
       "      <td>...</td>\n",
       "      <td>14.027298</td>\n",
       "      <td>-499.838632</td>\n",
       "      <td>11.953070</td>\n",
       "      <td>-501.053894</td>\n",
       "      <td>9.925709</td>\n",
       "      <td>-501.686727</td>\n",
       "      <td>7.894242</td>\n",
       "      <td>-500.356035</td>\n",
       "      <td>13.996647</td>\n",
       "      <td>-601.496691</td>\n",
       "    </tr>\n",
       "  </tbody>\n",
       "</table>\n",
       "<p>5 rows × 87 columns</p>\n",
       "</div>"
      ],
      "text/plain": [
       "                  date  final.output.concentrate_ag  \\\n",
       "0  2016-01-15 00:00:00                     6.055403   \n",
       "1  2016-01-15 01:00:00                     6.029369   \n",
       "2  2016-01-15 02:00:00                     6.055926   \n",
       "3  2016-01-15 03:00:00                     6.047977   \n",
       "4  2016-01-15 04:00:00                     6.148599   \n",
       "\n",
       "   final.output.concentrate_pb  final.output.concentrate_sol  \\\n",
       "0                     9.889648                      5.507324   \n",
       "1                     9.968944                      5.257781   \n",
       "2                    10.213995                      5.383759   \n",
       "3                     9.977019                      4.858634   \n",
       "4                    10.142511                      4.939416   \n",
       "\n",
       "   final.output.concentrate_au  final.output.recovery  final.output.tail_ag  \\\n",
       "0                    42.192020              70.541216             10.411962   \n",
       "1                    42.701629              69.266198             10.462676   \n",
       "2                    42.657501              68.116445             10.507046   \n",
       "3                    42.689819              68.347543             10.422762   \n",
       "4                    42.774141              66.927016             10.360302   \n",
       "\n",
       "   final.output.tail_pb  final.output.tail_sol  final.output.tail_au  ...  \\\n",
       "0              0.895447              16.904297              2.143149  ...   \n",
       "1              0.927452              16.634514              2.224930  ...   \n",
       "2              0.953716              16.208849              2.257889  ...   \n",
       "3              0.883763              16.532835              2.146849  ...   \n",
       "4              0.792826              16.525686              2.055292  ...   \n",
       "\n",
       "   secondary_cleaner.state.floatbank4_a_air  \\\n",
       "0                                 14.016835   \n",
       "1                                 13.992281   \n",
       "2                                 14.015015   \n",
       "3                                 14.036510   \n",
       "4                                 14.027298   \n",
       "\n",
       "   secondary_cleaner.state.floatbank4_a_level  \\\n",
       "0                                 -502.488007   \n",
       "1                                 -505.503262   \n",
       "2                                 -502.520901   \n",
       "3                                 -500.857308   \n",
       "4                                 -499.838632   \n",
       "\n",
       "   secondary_cleaner.state.floatbank4_b_air  \\\n",
       "0                                 12.099931   \n",
       "1                                 11.950531   \n",
       "2                                 11.912783   \n",
       "3                                 11.999550   \n",
       "4                                 11.953070   \n",
       "\n",
       "   secondary_cleaner.state.floatbank4_b_level  \\\n",
       "0                                 -504.715942   \n",
       "1                                 -501.331529   \n",
       "2                                 -501.133383   \n",
       "3                                 -501.193686   \n",
       "4                                 -501.053894   \n",
       "\n",
       "   secondary_cleaner.state.floatbank5_a_air  \\\n",
       "0                                  9.925633   \n",
       "1                                 10.039245   \n",
       "2                                 10.070913   \n",
       "3                                  9.970366   \n",
       "4                                  9.925709   \n",
       "\n",
       "   secondary_cleaner.state.floatbank5_a_level  \\\n",
       "0                                 -498.310211   \n",
       "1                                 -500.169983   \n",
       "2                                 -500.129135   \n",
       "3                                 -499.201640   \n",
       "4                                 -501.686727   \n",
       "\n",
       "   secondary_cleaner.state.floatbank5_b_air  \\\n",
       "0                                  8.079666   \n",
       "1                                  7.984757   \n",
       "2                                  8.013877   \n",
       "3                                  7.977324   \n",
       "4                                  7.894242   \n",
       "\n",
       "   secondary_cleaner.state.floatbank5_b_level  \\\n",
       "0                                 -500.470978   \n",
       "1                                 -500.582168   \n",
       "2                                 -500.517572   \n",
       "3                                 -500.255908   \n",
       "4                                 -500.356035   \n",
       "\n",
       "   secondary_cleaner.state.floatbank6_a_air  \\\n",
       "0                                 14.151341   \n",
       "1                                 13.998353   \n",
       "2                                 14.028663   \n",
       "3                                 14.005551   \n",
       "4                                 13.996647   \n",
       "\n",
       "   secondary_cleaner.state.floatbank6_a_level  \n",
       "0                                 -605.841980  \n",
       "1                                 -599.787184  \n",
       "2                                 -601.427363  \n",
       "3                                 -599.996129  \n",
       "4                                 -601.496691  \n",
       "\n",
       "[5 rows x 87 columns]"
      ]
     },
     "metadata": {},
     "output_type": "display_data"
    },
    {
     "data": {
      "text/html": [
       "<div>\n",
       "<style scoped>\n",
       "    .dataframe tbody tr th:only-of-type {\n",
       "        vertical-align: middle;\n",
       "    }\n",
       "\n",
       "    .dataframe tbody tr th {\n",
       "        vertical-align: top;\n",
       "    }\n",
       "\n",
       "    .dataframe thead th {\n",
       "        text-align: right;\n",
       "    }\n",
       "</style>\n",
       "<table border=\"1\" class=\"dataframe\">\n",
       "  <thead>\n",
       "    <tr style=\"text-align: right;\">\n",
       "      <th></th>\n",
       "      <th>date</th>\n",
       "      <th>primary_cleaner.input.sulfate</th>\n",
       "      <th>primary_cleaner.input.depressant</th>\n",
       "      <th>primary_cleaner.input.feed_size</th>\n",
       "      <th>primary_cleaner.input.xanthate</th>\n",
       "      <th>primary_cleaner.state.floatbank8_a_air</th>\n",
       "      <th>primary_cleaner.state.floatbank8_a_level</th>\n",
       "      <th>primary_cleaner.state.floatbank8_b_air</th>\n",
       "      <th>primary_cleaner.state.floatbank8_b_level</th>\n",
       "      <th>primary_cleaner.state.floatbank8_c_air</th>\n",
       "      <th>...</th>\n",
       "      <th>secondary_cleaner.state.floatbank4_a_air</th>\n",
       "      <th>secondary_cleaner.state.floatbank4_a_level</th>\n",
       "      <th>secondary_cleaner.state.floatbank4_b_air</th>\n",
       "      <th>secondary_cleaner.state.floatbank4_b_level</th>\n",
       "      <th>secondary_cleaner.state.floatbank5_a_air</th>\n",
       "      <th>secondary_cleaner.state.floatbank5_a_level</th>\n",
       "      <th>secondary_cleaner.state.floatbank5_b_air</th>\n",
       "      <th>secondary_cleaner.state.floatbank5_b_level</th>\n",
       "      <th>secondary_cleaner.state.floatbank6_a_air</th>\n",
       "      <th>secondary_cleaner.state.floatbank6_a_level</th>\n",
       "    </tr>\n",
       "  </thead>\n",
       "  <tbody>\n",
       "    <tr>\n",
       "      <th>0</th>\n",
       "      <td>2016-09-01 00:59:59</td>\n",
       "      <td>210.800909</td>\n",
       "      <td>14.993118</td>\n",
       "      <td>8.080000</td>\n",
       "      <td>1.005021</td>\n",
       "      <td>1398.981301</td>\n",
       "      <td>-500.225577</td>\n",
       "      <td>1399.144926</td>\n",
       "      <td>-499.919735</td>\n",
       "      <td>1400.102998</td>\n",
       "      <td>...</td>\n",
       "      <td>12.023554</td>\n",
       "      <td>-497.795834</td>\n",
       "      <td>8.016656</td>\n",
       "      <td>-501.289139</td>\n",
       "      <td>7.946562</td>\n",
       "      <td>-432.317850</td>\n",
       "      <td>4.872511</td>\n",
       "      <td>-500.037437</td>\n",
       "      <td>26.705889</td>\n",
       "      <td>-499.709414</td>\n",
       "    </tr>\n",
       "    <tr>\n",
       "      <th>1</th>\n",
       "      <td>2016-09-01 01:59:59</td>\n",
       "      <td>215.392455</td>\n",
       "      <td>14.987471</td>\n",
       "      <td>8.080000</td>\n",
       "      <td>0.990469</td>\n",
       "      <td>1398.777912</td>\n",
       "      <td>-500.057435</td>\n",
       "      <td>1398.055362</td>\n",
       "      <td>-499.778182</td>\n",
       "      <td>1396.151033</td>\n",
       "      <td>...</td>\n",
       "      <td>12.058140</td>\n",
       "      <td>-498.695773</td>\n",
       "      <td>8.130979</td>\n",
       "      <td>-499.634209</td>\n",
       "      <td>7.958270</td>\n",
       "      <td>-525.839648</td>\n",
       "      <td>4.878850</td>\n",
       "      <td>-500.162375</td>\n",
       "      <td>25.019940</td>\n",
       "      <td>-499.819438</td>\n",
       "    </tr>\n",
       "    <tr>\n",
       "      <th>2</th>\n",
       "      <td>2016-09-01 02:59:59</td>\n",
       "      <td>215.259946</td>\n",
       "      <td>12.884934</td>\n",
       "      <td>7.786667</td>\n",
       "      <td>0.996043</td>\n",
       "      <td>1398.493666</td>\n",
       "      <td>-500.868360</td>\n",
       "      <td>1398.860436</td>\n",
       "      <td>-499.764529</td>\n",
       "      <td>1398.075709</td>\n",
       "      <td>...</td>\n",
       "      <td>11.962366</td>\n",
       "      <td>-498.767484</td>\n",
       "      <td>8.096893</td>\n",
       "      <td>-500.827423</td>\n",
       "      <td>8.071056</td>\n",
       "      <td>-500.801673</td>\n",
       "      <td>4.905125</td>\n",
       "      <td>-499.828510</td>\n",
       "      <td>24.994862</td>\n",
       "      <td>-500.622559</td>\n",
       "    </tr>\n",
       "    <tr>\n",
       "      <th>3</th>\n",
       "      <td>2016-09-01 03:59:59</td>\n",
       "      <td>215.336236</td>\n",
       "      <td>12.006805</td>\n",
       "      <td>7.640000</td>\n",
       "      <td>0.863514</td>\n",
       "      <td>1399.618111</td>\n",
       "      <td>-498.863574</td>\n",
       "      <td>1397.440120</td>\n",
       "      <td>-499.211024</td>\n",
       "      <td>1400.129303</td>\n",
       "      <td>...</td>\n",
       "      <td>12.033091</td>\n",
       "      <td>-498.350935</td>\n",
       "      <td>8.074946</td>\n",
       "      <td>-499.474407</td>\n",
       "      <td>7.897085</td>\n",
       "      <td>-500.868509</td>\n",
       "      <td>4.931400</td>\n",
       "      <td>-499.963623</td>\n",
       "      <td>24.948919</td>\n",
       "      <td>-498.709987</td>\n",
       "    </tr>\n",
       "    <tr>\n",
       "      <th>4</th>\n",
       "      <td>2016-09-01 04:59:59</td>\n",
       "      <td>199.099327</td>\n",
       "      <td>10.682530</td>\n",
       "      <td>7.530000</td>\n",
       "      <td>0.805575</td>\n",
       "      <td>1401.268123</td>\n",
       "      <td>-500.808305</td>\n",
       "      <td>1398.128818</td>\n",
       "      <td>-499.504543</td>\n",
       "      <td>1402.172226</td>\n",
       "      <td>...</td>\n",
       "      <td>12.025367</td>\n",
       "      <td>-500.786497</td>\n",
       "      <td>8.054678</td>\n",
       "      <td>-500.397500</td>\n",
       "      <td>8.107890</td>\n",
       "      <td>-509.526725</td>\n",
       "      <td>4.957674</td>\n",
       "      <td>-500.360026</td>\n",
       "      <td>25.003331</td>\n",
       "      <td>-500.856333</td>\n",
       "    </tr>\n",
       "  </tbody>\n",
       "</table>\n",
       "<p>5 rows × 53 columns</p>\n",
       "</div>"
      ],
      "text/plain": [
       "                  date  primary_cleaner.input.sulfate  \\\n",
       "0  2016-09-01 00:59:59                     210.800909   \n",
       "1  2016-09-01 01:59:59                     215.392455   \n",
       "2  2016-09-01 02:59:59                     215.259946   \n",
       "3  2016-09-01 03:59:59                     215.336236   \n",
       "4  2016-09-01 04:59:59                     199.099327   \n",
       "\n",
       "   primary_cleaner.input.depressant  primary_cleaner.input.feed_size  \\\n",
       "0                         14.993118                         8.080000   \n",
       "1                         14.987471                         8.080000   \n",
       "2                         12.884934                         7.786667   \n",
       "3                         12.006805                         7.640000   \n",
       "4                         10.682530                         7.530000   \n",
       "\n",
       "   primary_cleaner.input.xanthate  primary_cleaner.state.floatbank8_a_air  \\\n",
       "0                        1.005021                             1398.981301   \n",
       "1                        0.990469                             1398.777912   \n",
       "2                        0.996043                             1398.493666   \n",
       "3                        0.863514                             1399.618111   \n",
       "4                        0.805575                             1401.268123   \n",
       "\n",
       "   primary_cleaner.state.floatbank8_a_level  \\\n",
       "0                               -500.225577   \n",
       "1                               -500.057435   \n",
       "2                               -500.868360   \n",
       "3                               -498.863574   \n",
       "4                               -500.808305   \n",
       "\n",
       "   primary_cleaner.state.floatbank8_b_air  \\\n",
       "0                             1399.144926   \n",
       "1                             1398.055362   \n",
       "2                             1398.860436   \n",
       "3                             1397.440120   \n",
       "4                             1398.128818   \n",
       "\n",
       "   primary_cleaner.state.floatbank8_b_level  \\\n",
       "0                               -499.919735   \n",
       "1                               -499.778182   \n",
       "2                               -499.764529   \n",
       "3                               -499.211024   \n",
       "4                               -499.504543   \n",
       "\n",
       "   primary_cleaner.state.floatbank8_c_air  ...  \\\n",
       "0                             1400.102998  ...   \n",
       "1                             1396.151033  ...   \n",
       "2                             1398.075709  ...   \n",
       "3                             1400.129303  ...   \n",
       "4                             1402.172226  ...   \n",
       "\n",
       "   secondary_cleaner.state.floatbank4_a_air  \\\n",
       "0                                 12.023554   \n",
       "1                                 12.058140   \n",
       "2                                 11.962366   \n",
       "3                                 12.033091   \n",
       "4                                 12.025367   \n",
       "\n",
       "   secondary_cleaner.state.floatbank4_a_level  \\\n",
       "0                                 -497.795834   \n",
       "1                                 -498.695773   \n",
       "2                                 -498.767484   \n",
       "3                                 -498.350935   \n",
       "4                                 -500.786497   \n",
       "\n",
       "   secondary_cleaner.state.floatbank4_b_air  \\\n",
       "0                                  8.016656   \n",
       "1                                  8.130979   \n",
       "2                                  8.096893   \n",
       "3                                  8.074946   \n",
       "4                                  8.054678   \n",
       "\n",
       "   secondary_cleaner.state.floatbank4_b_level  \\\n",
       "0                                 -501.289139   \n",
       "1                                 -499.634209   \n",
       "2                                 -500.827423   \n",
       "3                                 -499.474407   \n",
       "4                                 -500.397500   \n",
       "\n",
       "   secondary_cleaner.state.floatbank5_a_air  \\\n",
       "0                                  7.946562   \n",
       "1                                  7.958270   \n",
       "2                                  8.071056   \n",
       "3                                  7.897085   \n",
       "4                                  8.107890   \n",
       "\n",
       "   secondary_cleaner.state.floatbank5_a_level  \\\n",
       "0                                 -432.317850   \n",
       "1                                 -525.839648   \n",
       "2                                 -500.801673   \n",
       "3                                 -500.868509   \n",
       "4                                 -509.526725   \n",
       "\n",
       "   secondary_cleaner.state.floatbank5_b_air  \\\n",
       "0                                  4.872511   \n",
       "1                                  4.878850   \n",
       "2                                  4.905125   \n",
       "3                                  4.931400   \n",
       "4                                  4.957674   \n",
       "\n",
       "   secondary_cleaner.state.floatbank5_b_level  \\\n",
       "0                                 -500.037437   \n",
       "1                                 -500.162375   \n",
       "2                                 -499.828510   \n",
       "3                                 -499.963623   \n",
       "4                                 -500.360026   \n",
       "\n",
       "   secondary_cleaner.state.floatbank6_a_air  \\\n",
       "0                                 26.705889   \n",
       "1                                 25.019940   \n",
       "2                                 24.994862   \n",
       "3                                 24.948919   \n",
       "4                                 25.003331   \n",
       "\n",
       "   secondary_cleaner.state.floatbank6_a_level  \n",
       "0                                 -499.709414  \n",
       "1                                 -499.819438  \n",
       "2                                 -500.622559  \n",
       "3                                 -498.709987  \n",
       "4                                 -500.856333  \n",
       "\n",
       "[5 rows x 53 columns]"
      ]
     },
     "metadata": {},
     "output_type": "display_data"
    }
   ],
   "source": [
    "display(data_full.head())\n",
    "display(data_train.head())\n",
    "display(data_test.head())"
   ]
  },
  {
   "cell_type": "code",
   "execution_count": 4,
   "metadata": {
    "scrolled": true
   },
   "outputs": [
    {
     "name": "stdout",
     "output_type": "stream",
     "text": [
      "<class 'pandas.core.frame.DataFrame'>\n",
      "RangeIndex: 19439 entries, 0 to 19438\n",
      "Data columns (total 87 columns):\n",
      " #   Column                                              Non-Null Count  Dtype  \n",
      "---  ------                                              --------------  -----  \n",
      " 0   date                                                19439 non-null  object \n",
      " 1   final.output.concentrate_ag                         19438 non-null  float64\n",
      " 2   final.output.concentrate_pb                         19438 non-null  float64\n",
      " 3   final.output.concentrate_sol                        19228 non-null  float64\n",
      " 4   final.output.concentrate_au                         19439 non-null  float64\n",
      " 5   final.output.recovery                               19439 non-null  float64\n",
      " 6   final.output.tail_ag                                19438 non-null  float64\n",
      " 7   final.output.tail_pb                                19338 non-null  float64\n",
      " 8   final.output.tail_sol                               19433 non-null  float64\n",
      " 9   final.output.tail_au                                19439 non-null  float64\n",
      " 10  primary_cleaner.input.sulfate                       19415 non-null  float64\n",
      " 11  primary_cleaner.input.depressant                    19402 non-null  float64\n",
      " 12  primary_cleaner.input.feed_size                     19439 non-null  float64\n",
      " 13  primary_cleaner.input.xanthate                      19335 non-null  float64\n",
      " 14  primary_cleaner.output.concentrate_ag               19439 non-null  float64\n",
      " 15  primary_cleaner.output.concentrate_pb               19323 non-null  float64\n",
      " 16  primary_cleaner.output.concentrate_sol              19069 non-null  float64\n",
      " 17  primary_cleaner.output.concentrate_au               19439 non-null  float64\n",
      " 18  primary_cleaner.output.tail_ag                      19435 non-null  float64\n",
      " 19  primary_cleaner.output.tail_pb                      19418 non-null  float64\n",
      " 20  primary_cleaner.output.tail_sol                     19377 non-null  float64\n",
      " 21  primary_cleaner.output.tail_au                      19439 non-null  float64\n",
      " 22  primary_cleaner.state.floatbank8_a_air              19435 non-null  float64\n",
      " 23  primary_cleaner.state.floatbank8_a_level            19438 non-null  float64\n",
      " 24  primary_cleaner.state.floatbank8_b_air              19435 non-null  float64\n",
      " 25  primary_cleaner.state.floatbank8_b_level            19438 non-null  float64\n",
      " 26  primary_cleaner.state.floatbank8_c_air              19437 non-null  float64\n",
      " 27  primary_cleaner.state.floatbank8_c_level            19438 non-null  float64\n",
      " 28  primary_cleaner.state.floatbank8_d_air              19436 non-null  float64\n",
      " 29  primary_cleaner.state.floatbank8_d_level            19438 non-null  float64\n",
      " 30  rougher.calculation.sulfate_to_au_concentrate       19437 non-null  float64\n",
      " 31  rougher.calculation.floatbank10_sulfate_to_au_feed  19437 non-null  float64\n",
      " 32  rougher.calculation.floatbank11_sulfate_to_au_feed  19437 non-null  float64\n",
      " 33  rougher.calculation.au_pb_ratio                     19439 non-null  float64\n",
      " 34  rougher.input.feed_ag                               19439 non-null  float64\n",
      " 35  rougher.input.feed_pb                               19339 non-null  float64\n",
      " 36  rougher.input.feed_rate                             19428 non-null  float64\n",
      " 37  rougher.input.feed_size                             19294 non-null  float64\n",
      " 38  rougher.input.feed_sol                              19340 non-null  float64\n",
      " 39  rougher.input.feed_au                               19439 non-null  float64\n",
      " 40  rougher.input.floatbank10_sulfate                   19405 non-null  float64\n",
      " 41  rougher.input.floatbank10_xanthate                  19431 non-null  float64\n",
      " 42  rougher.input.floatbank11_sulfate                   19395 non-null  float64\n",
      " 43  rougher.input.floatbank11_xanthate                  18986 non-null  float64\n",
      " 44  rougher.output.concentrate_ag                       19439 non-null  float64\n",
      " 45  rougher.output.concentrate_pb                       19439 non-null  float64\n",
      " 46  rougher.output.concentrate_sol                      19416 non-null  float64\n",
      " 47  rougher.output.concentrate_au                       19439 non-null  float64\n",
      " 48  rougher.output.recovery                             19439 non-null  float64\n",
      " 49  rougher.output.tail_ag                              19438 non-null  float64\n",
      " 50  rougher.output.tail_pb                              19439 non-null  float64\n",
      " 51  rougher.output.tail_sol                             19439 non-null  float64\n",
      " 52  rougher.output.tail_au                              19439 non-null  float64\n",
      " 53  rougher.state.floatbank10_a_air                     19438 non-null  float64\n",
      " 54  rougher.state.floatbank10_a_level                   19438 non-null  float64\n",
      " 55  rougher.state.floatbank10_b_air                     19438 non-null  float64\n",
      " 56  rougher.state.floatbank10_b_level                   19438 non-null  float64\n",
      " 57  rougher.state.floatbank10_c_air                     19438 non-null  float64\n",
      " 58  rougher.state.floatbank10_c_level                   19438 non-null  float64\n",
      " 59  rougher.state.floatbank10_d_air                     19439 non-null  float64\n",
      " 60  rougher.state.floatbank10_d_level                   19439 non-null  float64\n",
      " 61  rougher.state.floatbank10_e_air                     19003 non-null  float64\n",
      " 62  rougher.state.floatbank10_e_level                   19439 non-null  float64\n",
      " 63  rougher.state.floatbank10_f_air                     19439 non-null  float64\n",
      " 64  rougher.state.floatbank10_f_level                   19439 non-null  float64\n",
      " 65  secondary_cleaner.output.tail_ag                    19437 non-null  float64\n",
      " 66  secondary_cleaner.output.tail_pb                    19427 non-null  float64\n",
      " 67  secondary_cleaner.output.tail_sol                   17691 non-null  float64\n",
      " 68  secondary_cleaner.output.tail_au                    19439 non-null  float64\n",
      " 69  secondary_cleaner.state.floatbank2_a_air            19219 non-null  float64\n",
      " 70  secondary_cleaner.state.floatbank2_a_level          19438 non-null  float64\n",
      " 71  secondary_cleaner.state.floatbank2_b_air            19416 non-null  float64\n",
      " 72  secondary_cleaner.state.floatbank2_b_level          19438 non-null  float64\n",
      " 73  secondary_cleaner.state.floatbank3_a_air            19426 non-null  float64\n",
      " 74  secondary_cleaner.state.floatbank3_a_level          19438 non-null  float64\n",
      " 75  secondary_cleaner.state.floatbank3_b_air            19438 non-null  float64\n",
      " 76  secondary_cleaner.state.floatbank3_b_level          19438 non-null  float64\n",
      " 77  secondary_cleaner.state.floatbank4_a_air            19433 non-null  float64\n",
      " 78  secondary_cleaner.state.floatbank4_a_level          19438 non-null  float64\n",
      " 79  secondary_cleaner.state.floatbank4_b_air            19438 non-null  float64\n",
      " 80  secondary_cleaner.state.floatbank4_b_level          19438 non-null  float64\n",
      " 81  secondary_cleaner.state.floatbank5_a_air            19438 non-null  float64\n",
      " 82  secondary_cleaner.state.floatbank5_a_level          19438 non-null  float64\n",
      " 83  secondary_cleaner.state.floatbank5_b_air            19438 non-null  float64\n",
      " 84  secondary_cleaner.state.floatbank5_b_level          19438 non-null  float64\n",
      " 85  secondary_cleaner.state.floatbank6_a_air            19437 non-null  float64\n",
      " 86  secondary_cleaner.state.floatbank6_a_level          19438 non-null  float64\n",
      "dtypes: float64(86), object(1)\n",
      "memory usage: 12.9+ MB\n"
     ]
    },
    {
     "data": {
      "text/plain": [
       "None"
      ]
     },
     "metadata": {},
     "output_type": "display_data"
    }
   ],
   "source": [
    "display(data_full.info())"
   ]
  },
  {
   "cell_type": "code",
   "execution_count": 5,
   "metadata": {
    "scrolled": true
   },
   "outputs": [
    {
     "name": "stdout",
     "output_type": "stream",
     "text": [
      "<class 'pandas.core.frame.DataFrame'>\n",
      "RangeIndex: 14149 entries, 0 to 14148\n",
      "Data columns (total 87 columns):\n",
      " #   Column                                              Non-Null Count  Dtype  \n",
      "---  ------                                              --------------  -----  \n",
      " 0   date                                                14149 non-null  object \n",
      " 1   final.output.concentrate_ag                         14148 non-null  float64\n",
      " 2   final.output.concentrate_pb                         14148 non-null  float64\n",
      " 3   final.output.concentrate_sol                        13938 non-null  float64\n",
      " 4   final.output.concentrate_au                         14149 non-null  float64\n",
      " 5   final.output.recovery                               14149 non-null  float64\n",
      " 6   final.output.tail_ag                                14149 non-null  float64\n",
      " 7   final.output.tail_pb                                14049 non-null  float64\n",
      " 8   final.output.tail_sol                               14144 non-null  float64\n",
      " 9   final.output.tail_au                                14149 non-null  float64\n",
      " 10  primary_cleaner.input.sulfate                       14129 non-null  float64\n",
      " 11  primary_cleaner.input.depressant                    14117 non-null  float64\n",
      " 12  primary_cleaner.input.feed_size                     14149 non-null  float64\n",
      " 13  primary_cleaner.input.xanthate                      14049 non-null  float64\n",
      " 14  primary_cleaner.output.concentrate_ag               14149 non-null  float64\n",
      " 15  primary_cleaner.output.concentrate_pb               14063 non-null  float64\n",
      " 16  primary_cleaner.output.concentrate_sol              13863 non-null  float64\n",
      " 17  primary_cleaner.output.concentrate_au               14149 non-null  float64\n",
      " 18  primary_cleaner.output.tail_ag                      14148 non-null  float64\n",
      " 19  primary_cleaner.output.tail_pb                      14134 non-null  float64\n",
      " 20  primary_cleaner.output.tail_sol                     14103 non-null  float64\n",
      " 21  primary_cleaner.output.tail_au                      14149 non-null  float64\n",
      " 22  primary_cleaner.state.floatbank8_a_air              14145 non-null  float64\n",
      " 23  primary_cleaner.state.floatbank8_a_level            14148 non-null  float64\n",
      " 24  primary_cleaner.state.floatbank8_b_air              14145 non-null  float64\n",
      " 25  primary_cleaner.state.floatbank8_b_level            14148 non-null  float64\n",
      " 26  primary_cleaner.state.floatbank8_c_air              14147 non-null  float64\n",
      " 27  primary_cleaner.state.floatbank8_c_level            14148 non-null  float64\n",
      " 28  primary_cleaner.state.floatbank8_d_air              14146 non-null  float64\n",
      " 29  primary_cleaner.state.floatbank8_d_level            14148 non-null  float64\n",
      " 30  rougher.calculation.sulfate_to_au_concentrate       14148 non-null  float64\n",
      " 31  rougher.calculation.floatbank10_sulfate_to_au_feed  14148 non-null  float64\n",
      " 32  rougher.calculation.floatbank11_sulfate_to_au_feed  14148 non-null  float64\n",
      " 33  rougher.calculation.au_pb_ratio                     14149 non-null  float64\n",
      " 34  rougher.input.feed_ag                               14149 non-null  float64\n",
      " 35  rougher.input.feed_pb                               14049 non-null  float64\n",
      " 36  rougher.input.feed_rate                             14141 non-null  float64\n",
      " 37  rougher.input.feed_size                             14005 non-null  float64\n",
      " 38  rougher.input.feed_sol                              14071 non-null  float64\n",
      " 39  rougher.input.feed_au                               14149 non-null  float64\n",
      " 40  rougher.input.floatbank10_sulfate                   14120 non-null  float64\n",
      " 41  rougher.input.floatbank10_xanthate                  14141 non-null  float64\n",
      " 42  rougher.input.floatbank11_sulfate                   14113 non-null  float64\n",
      " 43  rougher.input.floatbank11_xanthate                  13721 non-null  float64\n",
      " 44  rougher.output.concentrate_ag                       14149 non-null  float64\n",
      " 45  rougher.output.concentrate_pb                       14149 non-null  float64\n",
      " 46  rougher.output.concentrate_sol                      14127 non-null  float64\n",
      " 47  rougher.output.concentrate_au                       14149 non-null  float64\n",
      " 48  rougher.output.recovery                             14149 non-null  float64\n",
      " 49  rougher.output.tail_ag                              14148 non-null  float64\n",
      " 50  rougher.output.tail_pb                              14149 non-null  float64\n",
      " 51  rougher.output.tail_sol                             14149 non-null  float64\n",
      " 52  rougher.output.tail_au                              14149 non-null  float64\n",
      " 53  rougher.state.floatbank10_a_air                     14148 non-null  float64\n",
      " 54  rougher.state.floatbank10_a_level                   14148 non-null  float64\n",
      " 55  rougher.state.floatbank10_b_air                     14148 non-null  float64\n",
      " 56  rougher.state.floatbank10_b_level                   14148 non-null  float64\n",
      " 57  rougher.state.floatbank10_c_air                     14148 non-null  float64\n",
      " 58  rougher.state.floatbank10_c_level                   14148 non-null  float64\n",
      " 59  rougher.state.floatbank10_d_air                     14149 non-null  float64\n",
      " 60  rougher.state.floatbank10_d_level                   14149 non-null  float64\n",
      " 61  rougher.state.floatbank10_e_air                     13713 non-null  float64\n",
      " 62  rougher.state.floatbank10_e_level                   14149 non-null  float64\n",
      " 63  rougher.state.floatbank10_f_air                     14149 non-null  float64\n",
      " 64  rougher.state.floatbank10_f_level                   14149 non-null  float64\n",
      " 65  secondary_cleaner.output.tail_ag                    14147 non-null  float64\n",
      " 66  secondary_cleaner.output.tail_pb                    14139 non-null  float64\n",
      " 67  secondary_cleaner.output.tail_sol                   12544 non-null  float64\n",
      " 68  secondary_cleaner.output.tail_au                    14149 non-null  float64\n",
      " 69  secondary_cleaner.state.floatbank2_a_air            13932 non-null  float64\n",
      " 70  secondary_cleaner.state.floatbank2_a_level          14148 non-null  float64\n",
      " 71  secondary_cleaner.state.floatbank2_b_air            14128 non-null  float64\n",
      " 72  secondary_cleaner.state.floatbank2_b_level          14148 non-null  float64\n",
      " 73  secondary_cleaner.state.floatbank3_a_air            14145 non-null  float64\n",
      " 74  secondary_cleaner.state.floatbank3_a_level          14148 non-null  float64\n",
      " 75  secondary_cleaner.state.floatbank3_b_air            14148 non-null  float64\n",
      " 76  secondary_cleaner.state.floatbank3_b_level          14148 non-null  float64\n",
      " 77  secondary_cleaner.state.floatbank4_a_air            14143 non-null  float64\n",
      " 78  secondary_cleaner.state.floatbank4_a_level          14148 non-null  float64\n",
      " 79  secondary_cleaner.state.floatbank4_b_air            14148 non-null  float64\n",
      " 80  secondary_cleaner.state.floatbank4_b_level          14148 non-null  float64\n",
      " 81  secondary_cleaner.state.floatbank5_a_air            14148 non-null  float64\n",
      " 82  secondary_cleaner.state.floatbank5_a_level          14148 non-null  float64\n",
      " 83  secondary_cleaner.state.floatbank5_b_air            14148 non-null  float64\n",
      " 84  secondary_cleaner.state.floatbank5_b_level          14148 non-null  float64\n",
      " 85  secondary_cleaner.state.floatbank6_a_air            14147 non-null  float64\n",
      " 86  secondary_cleaner.state.floatbank6_a_level          14148 non-null  float64\n",
      "dtypes: float64(86), object(1)\n",
      "memory usage: 9.4+ MB\n"
     ]
    },
    {
     "data": {
      "text/plain": [
       "None"
      ]
     },
     "metadata": {},
     "output_type": "display_data"
    }
   ],
   "source": [
    "display(data_train.info())"
   ]
  },
  {
   "cell_type": "code",
   "execution_count": 6,
   "metadata": {
    "scrolled": true
   },
   "outputs": [
    {
     "name": "stdout",
     "output_type": "stream",
     "text": [
      "<class 'pandas.core.frame.DataFrame'>\n",
      "RangeIndex: 5290 entries, 0 to 5289\n",
      "Data columns (total 53 columns):\n",
      " #   Column                                      Non-Null Count  Dtype  \n",
      "---  ------                                      --------------  -----  \n",
      " 0   date                                        5290 non-null   object \n",
      " 1   primary_cleaner.input.sulfate               5286 non-null   float64\n",
      " 2   primary_cleaner.input.depressant            5285 non-null   float64\n",
      " 3   primary_cleaner.input.feed_size             5290 non-null   float64\n",
      " 4   primary_cleaner.input.xanthate              5286 non-null   float64\n",
      " 5   primary_cleaner.state.floatbank8_a_air      5290 non-null   float64\n",
      " 6   primary_cleaner.state.floatbank8_a_level    5290 non-null   float64\n",
      " 7   primary_cleaner.state.floatbank8_b_air      5290 non-null   float64\n",
      " 8   primary_cleaner.state.floatbank8_b_level    5290 non-null   float64\n",
      " 9   primary_cleaner.state.floatbank8_c_air      5290 non-null   float64\n",
      " 10  primary_cleaner.state.floatbank8_c_level    5290 non-null   float64\n",
      " 11  primary_cleaner.state.floatbank8_d_air      5290 non-null   float64\n",
      " 12  primary_cleaner.state.floatbank8_d_level    5290 non-null   float64\n",
      " 13  rougher.input.feed_ag                       5290 non-null   float64\n",
      " 14  rougher.input.feed_pb                       5290 non-null   float64\n",
      " 15  rougher.input.feed_rate                     5287 non-null   float64\n",
      " 16  rougher.input.feed_size                     5289 non-null   float64\n",
      " 17  rougher.input.feed_sol                      5269 non-null   float64\n",
      " 18  rougher.input.feed_au                       5290 non-null   float64\n",
      " 19  rougher.input.floatbank10_sulfate           5285 non-null   float64\n",
      " 20  rougher.input.floatbank10_xanthate          5290 non-null   float64\n",
      " 21  rougher.input.floatbank11_sulfate           5282 non-null   float64\n",
      " 22  rougher.input.floatbank11_xanthate          5265 non-null   float64\n",
      " 23  rougher.state.floatbank10_a_air             5290 non-null   float64\n",
      " 24  rougher.state.floatbank10_a_level           5290 non-null   float64\n",
      " 25  rougher.state.floatbank10_b_air             5290 non-null   float64\n",
      " 26  rougher.state.floatbank10_b_level           5290 non-null   float64\n",
      " 27  rougher.state.floatbank10_c_air             5290 non-null   float64\n",
      " 28  rougher.state.floatbank10_c_level           5290 non-null   float64\n",
      " 29  rougher.state.floatbank10_d_air             5290 non-null   float64\n",
      " 30  rougher.state.floatbank10_d_level           5290 non-null   float64\n",
      " 31  rougher.state.floatbank10_e_air             5290 non-null   float64\n",
      " 32  rougher.state.floatbank10_e_level           5290 non-null   float64\n",
      " 33  rougher.state.floatbank10_f_air             5290 non-null   float64\n",
      " 34  rougher.state.floatbank10_f_level           5290 non-null   float64\n",
      " 35  secondary_cleaner.state.floatbank2_a_air    5287 non-null   float64\n",
      " 36  secondary_cleaner.state.floatbank2_a_level  5290 non-null   float64\n",
      " 37  secondary_cleaner.state.floatbank2_b_air    5288 non-null   float64\n",
      " 38  secondary_cleaner.state.floatbank2_b_level  5290 non-null   float64\n",
      " 39  secondary_cleaner.state.floatbank3_a_air    5281 non-null   float64\n",
      " 40  secondary_cleaner.state.floatbank3_a_level  5290 non-null   float64\n",
      " 41  secondary_cleaner.state.floatbank3_b_air    5290 non-null   float64\n",
      " 42  secondary_cleaner.state.floatbank3_b_level  5290 non-null   float64\n",
      " 43  secondary_cleaner.state.floatbank4_a_air    5290 non-null   float64\n",
      " 44  secondary_cleaner.state.floatbank4_a_level  5290 non-null   float64\n",
      " 45  secondary_cleaner.state.floatbank4_b_air    5290 non-null   float64\n",
      " 46  secondary_cleaner.state.floatbank4_b_level  5290 non-null   float64\n",
      " 47  secondary_cleaner.state.floatbank5_a_air    5290 non-null   float64\n",
      " 48  secondary_cleaner.state.floatbank5_a_level  5290 non-null   float64\n",
      " 49  secondary_cleaner.state.floatbank5_b_air    5290 non-null   float64\n",
      " 50  secondary_cleaner.state.floatbank5_b_level  5290 non-null   float64\n",
      " 51  secondary_cleaner.state.floatbank6_a_air    5290 non-null   float64\n",
      " 52  secondary_cleaner.state.floatbank6_a_level  5290 non-null   float64\n",
      "dtypes: float64(52), object(1)\n",
      "memory usage: 2.1+ MB\n"
     ]
    },
    {
     "data": {
      "text/plain": [
       "None"
      ]
     },
     "metadata": {},
     "output_type": "display_data"
    }
   ],
   "source": [
    "display(data_test.info())"
   ]
  },
  {
   "cell_type": "markdown",
   "metadata": {},
   "source": [
    "Итак, перед нами три датасета - full, train, test. Все имеют пропуски в некоторых столбцах. В full 19439 строк и 87 столбцов, в train 14149 строк и 87 столбцов, однако в test 5290 строк и **53** столбца! Далее разберемся, каких именно столбцов нет в test и поймем, почему."
   ]
  },
  {
   "cell_type": "markdown",
   "metadata": {},
   "source": [
    "### Проверка правильности расчета эффективности обогащения"
   ]
  },
  {
   "cell_type": "markdown",
   "metadata": {},
   "source": [
    "Проверим, что эффективность обогащения рассчитана правильно. Для этого вычислим её на обучающей выборке для признака `rougher.output.recovery`. Найдём MAE между собственными расчётами и значением признака. Для этого напишем функцию `recovery`."
   ]
  },
  {
   "attachments": {
    "image.png": {
     "image/png": "[encoded data removed]"
    }
   },
   "cell_type": "markdown",
   "metadata": {},
   "source": [
    "![image.png](attachment:image.png)"
   ]
  },
  {
   "cell_type": "markdown",
   "metadata": {},
   "source": [
    "- C — доля золота в концентрате после флотации/очистки;\n",
    "- F — доля золота в сырье/концентрате до флотации/очистки;\n",
    "- T — доля золота в отвальных хвостах после флотации/очистки."
   ]
  },
  {
   "cell_type": "code",
   "execution_count": 7,
   "metadata": {},
   "outputs": [
    {
     "data": {
      "text/plain": [
       "1.1131451184435918e-14"
      ]
     },
     "execution_count": 7,
     "metadata": {},
     "output_type": "execute_result"
    }
   ],
   "source": [
    "def recovery(C,F,T):\n",
    "    return C*(F-T)*100/(F*(C-T))\n",
    "R = recovery(data_train['rougher.output.concentrate_au'],\n",
    "         data_train['rougher.input.feed_au'], data_train['rougher.output.tail_au'])\n",
    "mean_absolute_error(data_train['rougher.output.recovery'],R)"
   ]
  },
  {
   "cell_type": "markdown",
   "metadata": {},
   "source": [
    "Как видим, MAE около 0, значит эффективность обогащения рассчитана правильно."
   ]
  },
  {
   "cell_type": "markdown",
   "metadata": {},
   "source": [
    "Вернемся к признакам, которые отсутсвовали в тестовой выборке. "
   ]
  },
  {
   "cell_type": "code",
   "execution_count": 8,
   "metadata": {},
   "outputs": [
    {
     "name": "stdout",
     "output_type": "stream",
     "text": [
      "Следующих столбцов нет в тестовой выборке \n",
      " ['final.output.concentrate_ag', 'final.output.concentrate_pb', 'final.output.concentrate_sol', 'final.output.concentrate_au', 'final.output.recovery', 'final.output.tail_ag', 'final.output.tail_pb', 'final.output.tail_sol', 'final.output.tail_au', 'primary_cleaner.output.concentrate_ag', 'primary_cleaner.output.concentrate_pb', 'primary_cleaner.output.concentrate_sol', 'primary_cleaner.output.concentrate_au', 'primary_cleaner.output.tail_ag', 'primary_cleaner.output.tail_pb', 'primary_cleaner.output.tail_sol', 'primary_cleaner.output.tail_au', 'rougher.calculation.sulfate_to_au_concentrate', 'rougher.calculation.floatbank10_sulfate_to_au_feed', 'rougher.calculation.floatbank11_sulfate_to_au_feed', 'rougher.calculation.au_pb_ratio', 'rougher.output.concentrate_ag', 'rougher.output.concentrate_pb', 'rougher.output.concentrate_sol', 'rougher.output.concentrate_au', 'rougher.output.recovery', 'rougher.output.tail_ag', 'rougher.output.tail_pb', 'rougher.output.tail_sol', 'rougher.output.tail_au', 'secondary_cleaner.output.tail_ag', 'secondary_cleaner.output.tail_pb', 'secondary_cleaner.output.tail_sol', 'secondary_cleaner.output.tail_au']\n"
     ]
    }
   ],
   "source": [
    "test_columns = list(data_test.columns)\n",
    "train_columns = list(data_train.columns)\n",
    "for i in test_columns:\n",
    "    train_columns.remove(i)\n",
    "print('Следующих столбцов нет в тестовой выборке \\n', train_columns)"
   ]
  },
  {
   "cell_type": "markdown",
   "metadata": {},
   "source": [
    "Заметим, что в отсутствующих столбцах преобладают следующие имена: *final.output._*, *primary_cleaner.output._*, *rougher.calculation._*, *rougher.output._*, *secondary_cleaner.output._*. Посмотрим, соответствует ли количество отсутствующих столбцов с такими именами с количеством столбцов в трейне с такими именами, чтобы понять закономерность отсутствия оных.  "
   ]
  },
  {
   "cell_type": "code",
   "execution_count": 9,
   "metadata": {},
   "outputs": [
    {
     "name": "stdout",
     "output_type": "stream",
     "text": [
      "train: final.output 9\n",
      "missing: final.output 9\n",
      "train: primary_cleaner.output 8\n",
      "missing: primary_cleaner.output 8\n",
      "train: rougher.calculation 4\n",
      "missing: rougher.calculation 4\n",
      "train: rougher.output 9\n",
      "missing: rougher.output 9\n",
      "train: secondary_cleaner.output 4\n",
      "missing: secondary_cleaner.output 4\n"
     ]
    }
   ],
   "source": [
    "miss_col = ['final.output','primary_cleaner.output','rougher.calculation','rougher.output','secondary_cleaner.output']\n",
    "for col in miss_col:\n",
    "    S = 0\n",
    "    N = 0\n",
    "    for val in list(data_train.columns):\n",
    "        if col in val:\n",
    "            S+=1 \n",
    "    print('train:',col, S)\n",
    "    for thing in list(train_columns):\n",
    "        if col in thing:\n",
    "            N+=1\n",
    "    print('missing:',col, N)"
   ]
  },
  {
   "cell_type": "markdown",
   "metadata": {},
   "source": [
    "Как видим, во всех случаях количество столбцов с началом *final.output._*, *primary_cleaner.output._*, *rougher.calculation._*, *rougher.output._*, *secondary_cleaner.output_* совпадает с количеством столбцов в трейне. Это значит, что если столбцов с таким началом нет, то их нет целиком. Также отмечу, что потерянные столбцы - это столбцы, которые описывают параметры текущее состояние этапа и параметры **продукта**, об этом нам говорит output в названиях.\n",
    "\n",
    "С чем это может быть связано? Некоторые параметры недоступны, потому что замеряются и/или рассчитываются значительно позже, из-за этого в тестовой выборке отсутствуют некоторые признаки, которые могут быть в обучающей. "
   ]
  },
  {
   "cell_type": "markdown",
   "metadata": {},
   "source": [
    "### Предобработка данных"
   ]
  },
  {
   "cell_type": "markdown",
   "metadata": {},
   "source": [
    "Начнем с обучающей выборки. Явных дубликатов не наблюдается."
   ]
  },
  {
   "cell_type": "code",
   "execution_count": 10,
   "metadata": {},
   "outputs": [
    {
     "data": {
      "text/plain": [
       "0"
      ]
     },
     "execution_count": 10,
     "metadata": {},
     "output_type": "execute_result"
    }
   ],
   "source": [
    "data_train.duplicated().sum()"
   ]
  },
  {
   "cell_type": "markdown",
   "metadata": {},
   "source": [
    "Поскольку в тестовой выборке нет части признаков, то в обучении они нам будут бесполезны за исключением `final.output.recovery`, `rougher.output.recovery` - это целевые признаки. Удалим ненужные для обучения признаки, а целевые признаки сохраним."
   ]
  },
  {
   "cell_type": "code",
   "execution_count": 11,
   "metadata": {},
   "outputs": [],
   "source": [
    "target = data_train[['date','rougher.output.recovery','final.output.recovery']]\n",
    "data_train = data_train.drop(train_columns, axis = 1)"
   ]
  },
  {
   "cell_type": "markdown",
   "metadata": {},
   "source": [
    "Теперь посмотрим на количество пропусков в трейне. Пропуски имеются почти в каждом столбце, за исключением некоторых."
   ]
  },
  {
   "cell_type": "code",
   "execution_count": 12,
   "metadata": {
    "scrolled": true
   },
   "outputs": [
    {
     "data": {
      "text/plain": [
       "date                                            0\n",
       "primary_cleaner.input.sulfate                  20\n",
       "primary_cleaner.input.depressant               32\n",
       "primary_cleaner.input.feed_size                 0\n",
       "primary_cleaner.input.xanthate                100\n",
       "primary_cleaner.state.floatbank8_a_air          4\n",
       "primary_cleaner.state.floatbank8_a_level        1\n",
       "primary_cleaner.state.floatbank8_b_air          4\n",
       "primary_cleaner.state.floatbank8_b_level        1\n",
       "primary_cleaner.state.floatbank8_c_air          2\n",
       "primary_cleaner.state.floatbank8_c_level        1\n",
       "primary_cleaner.state.floatbank8_d_air          3\n",
       "primary_cleaner.state.floatbank8_d_level        1\n",
       "rougher.input.feed_ag                           0\n",
       "rougher.input.feed_pb                         100\n",
       "rougher.input.feed_rate                         8\n",
       "rougher.input.feed_size                       144\n",
       "rougher.input.feed_sol                         78\n",
       "rougher.input.feed_au                           0\n",
       "rougher.input.floatbank10_sulfate              29\n",
       "rougher.input.floatbank10_xanthate              8\n",
       "rougher.input.floatbank11_sulfate              36\n",
       "rougher.input.floatbank11_xanthate            428\n",
       "rougher.state.floatbank10_a_air                 1\n",
       "rougher.state.floatbank10_a_level               1\n",
       "rougher.state.floatbank10_b_air                 1\n",
       "rougher.state.floatbank10_b_level               1\n",
       "rougher.state.floatbank10_c_air                 1\n",
       "rougher.state.floatbank10_c_level               1\n",
       "rougher.state.floatbank10_d_air                 0\n",
       "rougher.state.floatbank10_d_level               0\n",
       "rougher.state.floatbank10_e_air               436\n",
       "rougher.state.floatbank10_e_level               0\n",
       "rougher.state.floatbank10_f_air                 0\n",
       "rougher.state.floatbank10_f_level               0\n",
       "secondary_cleaner.state.floatbank2_a_air      217\n",
       "secondary_cleaner.state.floatbank2_a_level      1\n",
       "secondary_cleaner.state.floatbank2_b_air       21\n",
       "secondary_cleaner.state.floatbank2_b_level      1\n",
       "secondary_cleaner.state.floatbank3_a_air        4\n",
       "secondary_cleaner.state.floatbank3_a_level      1\n",
       "secondary_cleaner.state.floatbank3_b_air        1\n",
       "secondary_cleaner.state.floatbank3_b_level      1\n",
       "secondary_cleaner.state.floatbank4_a_air        6\n",
       "secondary_cleaner.state.floatbank4_a_level      1\n",
       "secondary_cleaner.state.floatbank4_b_air        1\n",
       "secondary_cleaner.state.floatbank4_b_level      1\n",
       "secondary_cleaner.state.floatbank5_a_air        1\n",
       "secondary_cleaner.state.floatbank5_a_level      1\n",
       "secondary_cleaner.state.floatbank5_b_air        1\n",
       "secondary_cleaner.state.floatbank5_b_level      1\n",
       "secondary_cleaner.state.floatbank6_a_air        2\n",
       "secondary_cleaner.state.floatbank6_a_level      1\n",
       "dtype: int64"
      ]
     },
     "execution_count": 12,
     "metadata": {},
     "output_type": "execute_result"
    }
   ],
   "source": [
    "data_train.isnull().sum()"
   ]
  },
  {
   "cell_type": "markdown",
   "metadata": {},
   "source": [
    "Если посмотрим на датасет в целом, то можно заметить, что измерения проводятся каждый час и плюс/минус час не критично изменяет значения в признаках. Это наталкивает на мысль заменять пропуски предыдущим значением по времени. "
   ]
  },
  {
   "cell_type": "code",
   "execution_count": 13,
   "metadata": {
    "scrolled": true
   },
   "outputs": [
    {
     "data": {
      "text/html": [
       "<div>\n",
       "<style scoped>\n",
       "    .dataframe tbody tr th:only-of-type {\n",
       "        vertical-align: middle;\n",
       "    }\n",
       "\n",
       "    .dataframe tbody tr th {\n",
       "        vertical-align: top;\n",
       "    }\n",
       "\n",
       "    .dataframe thead th {\n",
       "        text-align: right;\n",
       "    }\n",
       "</style>\n",
       "<table border=\"1\" class=\"dataframe\">\n",
       "  <thead>\n",
       "    <tr style=\"text-align: right;\">\n",
       "      <th></th>\n",
       "      <th>date</th>\n",
       "      <th>primary_cleaner.input.sulfate</th>\n",
       "      <th>primary_cleaner.input.depressant</th>\n",
       "      <th>primary_cleaner.input.feed_size</th>\n",
       "      <th>primary_cleaner.input.xanthate</th>\n",
       "      <th>primary_cleaner.state.floatbank8_a_air</th>\n",
       "      <th>primary_cleaner.state.floatbank8_a_level</th>\n",
       "      <th>primary_cleaner.state.floatbank8_b_air</th>\n",
       "      <th>primary_cleaner.state.floatbank8_b_level</th>\n",
       "      <th>primary_cleaner.state.floatbank8_c_air</th>\n",
       "      <th>...</th>\n",
       "      <th>secondary_cleaner.state.floatbank4_a_air</th>\n",
       "      <th>secondary_cleaner.state.floatbank4_a_level</th>\n",
       "      <th>secondary_cleaner.state.floatbank4_b_air</th>\n",
       "      <th>secondary_cleaner.state.floatbank4_b_level</th>\n",
       "      <th>secondary_cleaner.state.floatbank5_a_air</th>\n",
       "      <th>secondary_cleaner.state.floatbank5_a_level</th>\n",
       "      <th>secondary_cleaner.state.floatbank5_b_air</th>\n",
       "      <th>secondary_cleaner.state.floatbank5_b_level</th>\n",
       "      <th>secondary_cleaner.state.floatbank6_a_air</th>\n",
       "      <th>secondary_cleaner.state.floatbank6_a_level</th>\n",
       "    </tr>\n",
       "  </thead>\n",
       "  <tbody>\n",
       "    <tr>\n",
       "      <th>0</th>\n",
       "      <td>2016-01-15 00:00:00</td>\n",
       "      <td>127.092003</td>\n",
       "      <td>10.128295</td>\n",
       "      <td>7.25</td>\n",
       "      <td>0.988759</td>\n",
       "      <td>1549.775757</td>\n",
       "      <td>-498.912140</td>\n",
       "      <td>1551.434204</td>\n",
       "      <td>-516.403442</td>\n",
       "      <td>1549.873901</td>\n",
       "      <td>...</td>\n",
       "      <td>14.016835</td>\n",
       "      <td>-502.488007</td>\n",
       "      <td>12.099931</td>\n",
       "      <td>-504.715942</td>\n",
       "      <td>9.925633</td>\n",
       "      <td>-498.310211</td>\n",
       "      <td>8.079666</td>\n",
       "      <td>-500.470978</td>\n",
       "      <td>14.151341</td>\n",
       "      <td>-605.841980</td>\n",
       "    </tr>\n",
       "    <tr>\n",
       "      <th>1</th>\n",
       "      <td>2016-01-15 01:00:00</td>\n",
       "      <td>125.629232</td>\n",
       "      <td>10.296251</td>\n",
       "      <td>7.25</td>\n",
       "      <td>1.002663</td>\n",
       "      <td>1576.166671</td>\n",
       "      <td>-500.904965</td>\n",
       "      <td>1575.950626</td>\n",
       "      <td>-499.865889</td>\n",
       "      <td>1575.994189</td>\n",
       "      <td>...</td>\n",
       "      <td>13.992281</td>\n",
       "      <td>-505.503262</td>\n",
       "      <td>11.950531</td>\n",
       "      <td>-501.331529</td>\n",
       "      <td>10.039245</td>\n",
       "      <td>-500.169983</td>\n",
       "      <td>7.984757</td>\n",
       "      <td>-500.582168</td>\n",
       "      <td>13.998353</td>\n",
       "      <td>-599.787184</td>\n",
       "    </tr>\n",
       "    <tr>\n",
       "      <th>2</th>\n",
       "      <td>2016-01-15 02:00:00</td>\n",
       "      <td>123.819808</td>\n",
       "      <td>11.316280</td>\n",
       "      <td>7.25</td>\n",
       "      <td>0.991265</td>\n",
       "      <td>1601.556163</td>\n",
       "      <td>-499.997791</td>\n",
       "      <td>1600.386685</td>\n",
       "      <td>-500.607762</td>\n",
       "      <td>1602.003542</td>\n",
       "      <td>...</td>\n",
       "      <td>14.015015</td>\n",
       "      <td>-502.520901</td>\n",
       "      <td>11.912783</td>\n",
       "      <td>-501.133383</td>\n",
       "      <td>10.070913</td>\n",
       "      <td>-500.129135</td>\n",
       "      <td>8.013877</td>\n",
       "      <td>-500.517572</td>\n",
       "      <td>14.028663</td>\n",
       "      <td>-601.427363</td>\n",
       "    </tr>\n",
       "    <tr>\n",
       "      <th>3</th>\n",
       "      <td>2016-01-15 03:00:00</td>\n",
       "      <td>122.270188</td>\n",
       "      <td>11.322140</td>\n",
       "      <td>7.25</td>\n",
       "      <td>0.996739</td>\n",
       "      <td>1599.968720</td>\n",
       "      <td>-500.951778</td>\n",
       "      <td>1600.659236</td>\n",
       "      <td>-499.677094</td>\n",
       "      <td>1600.304144</td>\n",
       "      <td>...</td>\n",
       "      <td>14.036510</td>\n",
       "      <td>-500.857308</td>\n",
       "      <td>11.999550</td>\n",
       "      <td>-501.193686</td>\n",
       "      <td>9.970366</td>\n",
       "      <td>-499.201640</td>\n",
       "      <td>7.977324</td>\n",
       "      <td>-500.255908</td>\n",
       "      <td>14.005551</td>\n",
       "      <td>-599.996129</td>\n",
       "    </tr>\n",
       "    <tr>\n",
       "      <th>4</th>\n",
       "      <td>2016-01-15 04:00:00</td>\n",
       "      <td>117.988169</td>\n",
       "      <td>11.913613</td>\n",
       "      <td>7.25</td>\n",
       "      <td>1.009869</td>\n",
       "      <td>1601.339707</td>\n",
       "      <td>-498.975456</td>\n",
       "      <td>1601.437854</td>\n",
       "      <td>-500.323246</td>\n",
       "      <td>1599.581894</td>\n",
       "      <td>...</td>\n",
       "      <td>14.027298</td>\n",
       "      <td>-499.838632</td>\n",
       "      <td>11.953070</td>\n",
       "      <td>-501.053894</td>\n",
       "      <td>9.925709</td>\n",
       "      <td>-501.686727</td>\n",
       "      <td>7.894242</td>\n",
       "      <td>-500.356035</td>\n",
       "      <td>13.996647</td>\n",
       "      <td>-601.496691</td>\n",
       "    </tr>\n",
       "  </tbody>\n",
       "</table>\n",
       "<p>5 rows × 53 columns</p>\n",
       "</div>"
      ],
      "text/plain": [
       "                  date  primary_cleaner.input.sulfate  \\\n",
       "0  2016-01-15 00:00:00                     127.092003   \n",
       "1  2016-01-15 01:00:00                     125.629232   \n",
       "2  2016-01-15 02:00:00                     123.819808   \n",
       "3  2016-01-15 03:00:00                     122.270188   \n",
       "4  2016-01-15 04:00:00                     117.988169   \n",
       "\n",
       "   primary_cleaner.input.depressant  primary_cleaner.input.feed_size  \\\n",
       "0                         10.128295                             7.25   \n",
       "1                         10.296251                             7.25   \n",
       "2                         11.316280                             7.25   \n",
       "3                         11.322140                             7.25   \n",
       "4                         11.913613                             7.25   \n",
       "\n",
       "   primary_cleaner.input.xanthate  primary_cleaner.state.floatbank8_a_air  \\\n",
       "0                        0.988759                             1549.775757   \n",
       "1                        1.002663                             1576.166671   \n",
       "2                        0.991265                             1601.556163   \n",
       "3                        0.996739                             1599.968720   \n",
       "4                        1.009869                             1601.339707   \n",
       "\n",
       "   primary_cleaner.state.floatbank8_a_level  \\\n",
       "0                               -498.912140   \n",
       "1                               -500.904965   \n",
       "2                               -499.997791   \n",
       "3                               -500.951778   \n",
       "4                               -498.975456   \n",
       "\n",
       "   primary_cleaner.state.floatbank8_b_air  \\\n",
       "0                             1551.434204   \n",
       "1                             1575.950626   \n",
       "2                             1600.386685   \n",
       "3                             1600.659236   \n",
       "4                             1601.437854   \n",
       "\n",
       "   primary_cleaner.state.floatbank8_b_level  \\\n",
       "0                               -516.403442   \n",
       "1                               -499.865889   \n",
       "2                               -500.607762   \n",
       "3                               -499.677094   \n",
       "4                               -500.323246   \n",
       "\n",
       "   primary_cleaner.state.floatbank8_c_air  ...  \\\n",
       "0                             1549.873901  ...   \n",
       "1                             1575.994189  ...   \n",
       "2                             1602.003542  ...   \n",
       "3                             1600.304144  ...   \n",
       "4                             1599.581894  ...   \n",
       "\n",
       "   secondary_cleaner.state.floatbank4_a_air  \\\n",
       "0                                 14.016835   \n",
       "1                                 13.992281   \n",
       "2                                 14.015015   \n",
       "3                                 14.036510   \n",
       "4                                 14.027298   \n",
       "\n",
       "   secondary_cleaner.state.floatbank4_a_level  \\\n",
       "0                                 -502.488007   \n",
       "1                                 -505.503262   \n",
       "2                                 -502.520901   \n",
       "3                                 -500.857308   \n",
       "4                                 -499.838632   \n",
       "\n",
       "   secondary_cleaner.state.floatbank4_b_air  \\\n",
       "0                                 12.099931   \n",
       "1                                 11.950531   \n",
       "2                                 11.912783   \n",
       "3                                 11.999550   \n",
       "4                                 11.953070   \n",
       "\n",
       "   secondary_cleaner.state.floatbank4_b_level  \\\n",
       "0                                 -504.715942   \n",
       "1                                 -501.331529   \n",
       "2                                 -501.133383   \n",
       "3                                 -501.193686   \n",
       "4                                 -501.053894   \n",
       "\n",
       "   secondary_cleaner.state.floatbank5_a_air  \\\n",
       "0                                  9.925633   \n",
       "1                                 10.039245   \n",
       "2                                 10.070913   \n",
       "3                                  9.970366   \n",
       "4                                  9.925709   \n",
       "\n",
       "   secondary_cleaner.state.floatbank5_a_level  \\\n",
       "0                                 -498.310211   \n",
       "1                                 -500.169983   \n",
       "2                                 -500.129135   \n",
       "3                                 -499.201640   \n",
       "4                                 -501.686727   \n",
       "\n",
       "   secondary_cleaner.state.floatbank5_b_air  \\\n",
       "0                                  8.079666   \n",
       "1                                  7.984757   \n",
       "2                                  8.013877   \n",
       "3                                  7.977324   \n",
       "4                                  7.894242   \n",
       "\n",
       "   secondary_cleaner.state.floatbank5_b_level  \\\n",
       "0                                 -500.470978   \n",
       "1                                 -500.582168   \n",
       "2                                 -500.517572   \n",
       "3                                 -500.255908   \n",
       "4                                 -500.356035   \n",
       "\n",
       "   secondary_cleaner.state.floatbank6_a_air  \\\n",
       "0                                 14.151341   \n",
       "1                                 13.998353   \n",
       "2                                 14.028663   \n",
       "3                                 14.005551   \n",
       "4                                 13.996647   \n",
       "\n",
       "   secondary_cleaner.state.floatbank6_a_level  \n",
       "0                                 -605.841980  \n",
       "1                                 -599.787184  \n",
       "2                                 -601.427363  \n",
       "3                                 -599.996129  \n",
       "4                                 -601.496691  \n",
       "\n",
       "[5 rows x 53 columns]"
      ]
     },
     "execution_count": 13,
     "metadata": {},
     "output_type": "execute_result"
    }
   ],
   "source": [
    "data_train.head(5)"
   ]
  },
  {
   "cell_type": "markdown",
   "metadata": {},
   "source": [
    "Сохраним датафрейм, чтобы потом посмотреть на describe старого и нового датафремов и оценить корректиность такого заполнения."
   ]
  },
  {
   "cell_type": "code",
   "execution_count": 14,
   "metadata": {},
   "outputs": [],
   "source": [
    "data_train_old = data_train.copy()"
   ]
  },
  {
   "cell_type": "code",
   "execution_count": 15,
   "metadata": {},
   "outputs": [],
   "source": [
    "data_train = data_train.fillna(method = \"ffill\")"
   ]
  },
  {
   "cell_type": "markdown",
   "metadata": {},
   "source": [
    "Все пропуски заполнены!"
   ]
  },
  {
   "cell_type": "code",
   "execution_count": 17,
   "metadata": {
    "scrolled": true
   },
   "outputs": [
    {
     "data": {
      "text/plain": [
       "date                                          0\n",
       "primary_cleaner.input.sulfate                 0\n",
       "primary_cleaner.input.depressant              0\n",
       "primary_cleaner.input.feed_size               0\n",
       "primary_cleaner.input.xanthate                0\n",
       "primary_cleaner.state.floatbank8_a_air        0\n",
       "primary_cleaner.state.floatbank8_a_level      0\n",
       "primary_cleaner.state.floatbank8_b_air        0\n",
       "primary_cleaner.state.floatbank8_b_level      0\n",
       "primary_cleaner.state.floatbank8_c_air        0\n",
       "primary_cleaner.state.floatbank8_c_level      0\n",
       "primary_cleaner.state.floatbank8_d_air        0\n",
       "primary_cleaner.state.floatbank8_d_level      0\n",
       "rougher.input.feed_ag                         0\n",
       "rougher.input.feed_pb                         0\n",
       "rougher.input.feed_rate                       0\n",
       "rougher.input.feed_size                       0\n",
       "rougher.input.feed_sol                        0\n",
       "rougher.input.feed_au                         0\n",
       "rougher.input.floatbank10_sulfate             0\n",
       "rougher.input.floatbank10_xanthate            0\n",
       "rougher.input.floatbank11_sulfate             0\n",
       "rougher.input.floatbank11_xanthate            0\n",
       "rougher.state.floatbank10_a_air               0\n",
       "rougher.state.floatbank10_a_level             0\n",
       "rougher.state.floatbank10_b_air               0\n",
       "rougher.state.floatbank10_b_level             0\n",
       "rougher.state.floatbank10_c_air               0\n",
       "rougher.state.floatbank10_c_level             0\n",
       "rougher.state.floatbank10_d_air               0\n",
       "rougher.state.floatbank10_d_level             0\n",
       "rougher.state.floatbank10_e_air               0\n",
       "rougher.state.floatbank10_e_level             0\n",
       "rougher.state.floatbank10_f_air               0\n",
       "rougher.state.floatbank10_f_level             0\n",
       "secondary_cleaner.state.floatbank2_a_air      0\n",
       "secondary_cleaner.state.floatbank2_a_level    0\n",
       "secondary_cleaner.state.floatbank2_b_air      0\n",
       "secondary_cleaner.state.floatbank2_b_level    0\n",
       "secondary_cleaner.state.floatbank3_a_air      0\n",
       "secondary_cleaner.state.floatbank3_a_level    0\n",
       "secondary_cleaner.state.floatbank3_b_air      0\n",
       "secondary_cleaner.state.floatbank3_b_level    0\n",
       "secondary_cleaner.state.floatbank4_a_air      0\n",
       "secondary_cleaner.state.floatbank4_a_level    0\n",
       "secondary_cleaner.state.floatbank4_b_air      0\n",
       "secondary_cleaner.state.floatbank4_b_level    0\n",
       "secondary_cleaner.state.floatbank5_a_air      0\n",
       "secondary_cleaner.state.floatbank5_a_level    0\n",
       "secondary_cleaner.state.floatbank5_b_air      0\n",
       "secondary_cleaner.state.floatbank5_b_level    0\n",
       "secondary_cleaner.state.floatbank6_a_air      0\n",
       "secondary_cleaner.state.floatbank6_a_level    0\n",
       "dtype: int64"
      ]
     },
     "execution_count": 17,
     "metadata": {},
     "output_type": "execute_result"
    }
   ],
   "source": [
    "data_train.isnull().sum()"
   ]
  },
  {
   "cell_type": "markdown",
   "metadata": {},
   "source": [
    "Выберем те столбцы, в которых было наибольшее количество пропусков и посмотрим как заполнение повлияло на ключевые характеристики датафрейма."
   ]
  },
  {
   "cell_type": "code",
   "execution_count": 18,
   "metadata": {},
   "outputs": [],
   "source": [
    "A = ['primary_cleaner.input.xanthate','rougher.input.feed_pb','rougher.input.feed_size','rougher.input.floatbank11_xanthate','rougher.state.floatbank10_e_air','secondary_cleaner.state.floatbank2_a_air']"
   ]
  },
  {
   "cell_type": "markdown",
   "metadata": {},
   "source": [
    "Посмотрим на старый датафрейм:"
   ]
  },
  {
   "cell_type": "code",
   "execution_count": 19,
   "metadata": {},
   "outputs": [
    {
     "data": {
      "text/html": [
       "<div>\n",
       "<style scoped>\n",
       "    .dataframe tbody tr th:only-of-type {\n",
       "        vertical-align: middle;\n",
       "    }\n",
       "\n",
       "    .dataframe tbody tr th {\n",
       "        vertical-align: top;\n",
       "    }\n",
       "\n",
       "    .dataframe thead th {\n",
       "        text-align: right;\n",
       "    }\n",
       "</style>\n",
       "<table border=\"1\" class=\"dataframe\">\n",
       "  <thead>\n",
       "    <tr style=\"text-align: right;\">\n",
       "      <th></th>\n",
       "      <th>primary_cleaner.input.xanthate</th>\n",
       "      <th>rougher.input.feed_pb</th>\n",
       "      <th>rougher.input.feed_size</th>\n",
       "      <th>rougher.input.floatbank11_xanthate</th>\n",
       "      <th>rougher.state.floatbank10_e_air</th>\n",
       "      <th>secondary_cleaner.state.floatbank2_a_air</th>\n",
       "    </tr>\n",
       "  </thead>\n",
       "  <tbody>\n",
       "    <tr>\n",
       "      <th>count</th>\n",
       "      <td>14049.000000</td>\n",
       "      <td>14049.000000</td>\n",
       "      <td>14005.000000</td>\n",
       "      <td>13721.000000</td>\n",
       "      <td>13713.000000</td>\n",
       "      <td>13932.000000</td>\n",
       "    </tr>\n",
       "    <tr>\n",
       "      <th>mean</th>\n",
       "      <td>0.885588</td>\n",
       "      <td>3.522778</td>\n",
       "      <td>60.110518</td>\n",
       "      <td>5.894176</td>\n",
       "      <td>1090.213187</td>\n",
       "      <td>29.613649</td>\n",
       "    </tr>\n",
       "    <tr>\n",
       "      <th>std</th>\n",
       "      <td>0.372714</td>\n",
       "      <td>1.073394</td>\n",
       "      <td>22.418485</td>\n",
       "      <td>1.124233</td>\n",
       "      <td>184.610118</td>\n",
       "      <td>5.800494</td>\n",
       "    </tr>\n",
       "    <tr>\n",
       "      <th>min</th>\n",
       "      <td>0.000005</td>\n",
       "      <td>0.010000</td>\n",
       "      <td>9.659576</td>\n",
       "      <td>0.000290</td>\n",
       "      <td>-1.970275</td>\n",
       "      <td>0.077503</td>\n",
       "    </tr>\n",
       "    <tr>\n",
       "      <th>25%</th>\n",
       "      <td>0.607021</td>\n",
       "      <td>2.780010</td>\n",
       "      <td>48.973027</td>\n",
       "      <td>5.199168</td>\n",
       "      <td>997.183864</td>\n",
       "      <td>25.099584</td>\n",
       "    </tr>\n",
       "    <tr>\n",
       "      <th>50%</th>\n",
       "      <td>0.888749</td>\n",
       "      <td>3.422677</td>\n",
       "      <td>55.373885</td>\n",
       "      <td>5.998460</td>\n",
       "      <td>1050.496363</td>\n",
       "      <td>30.027721</td>\n",
       "    </tr>\n",
       "    <tr>\n",
       "      <th>75%</th>\n",
       "      <td>1.100933</td>\n",
       "      <td>4.226107</td>\n",
       "      <td>66.080172</td>\n",
       "      <td>6.699006</td>\n",
       "      <td>1200.047746</td>\n",
       "      <td>34.893057</td>\n",
       "    </tr>\n",
       "    <tr>\n",
       "      <th>max</th>\n",
       "      <td>2.512968</td>\n",
       "      <td>7.142594</td>\n",
       "      <td>484.967466</td>\n",
       "      <td>9.698407</td>\n",
       "      <td>1922.636637</td>\n",
       "      <td>52.651399</td>\n",
       "    </tr>\n",
       "  </tbody>\n",
       "</table>\n",
       "</div>"
      ],
      "text/plain": [
       "       primary_cleaner.input.xanthate  rougher.input.feed_pb  \\\n",
       "count                    14049.000000           14049.000000   \n",
       "mean                         0.885588               3.522778   \n",
       "std                          0.372714               1.073394   \n",
       "min                          0.000005               0.010000   \n",
       "25%                          0.607021               2.780010   \n",
       "50%                          0.888749               3.422677   \n",
       "75%                          1.100933               4.226107   \n",
       "max                          2.512968               7.142594   \n",
       "\n",
       "       rougher.input.feed_size  rougher.input.floatbank11_xanthate  \\\n",
       "count             14005.000000                        13721.000000   \n",
       "mean                 60.110518                            5.894176   \n",
       "std                  22.418485                            1.124233   \n",
       "min                   9.659576                            0.000290   \n",
       "25%                  48.973027                            5.199168   \n",
       "50%                  55.373885                            5.998460   \n",
       "75%                  66.080172                            6.699006   \n",
       "max                 484.967466                            9.698407   \n",
       "\n",
       "       rougher.state.floatbank10_e_air  \\\n",
       "count                     13713.000000   \n",
       "mean                       1090.213187   \n",
       "std                         184.610118   \n",
       "min                          -1.970275   \n",
       "25%                         997.183864   \n",
       "50%                        1050.496363   \n",
       "75%                        1200.047746   \n",
       "max                        1922.636637   \n",
       "\n",
       "       secondary_cleaner.state.floatbank2_a_air  \n",
       "count                              13932.000000  \n",
       "mean                                  29.613649  \n",
       "std                                    5.800494  \n",
       "min                                    0.077503  \n",
       "25%                                   25.099584  \n",
       "50%                                   30.027721  \n",
       "75%                                   34.893057  \n",
       "max                                   52.651399  "
      ]
     },
     "execution_count": 19,
     "metadata": {},
     "output_type": "execute_result"
    }
   ],
   "source": [
    "data_train_old[A].describe()"
   ]
  },
  {
   "cell_type": "markdown",
   "metadata": {},
   "source": [
    "И на новый:"
   ]
  },
  {
   "cell_type": "code",
   "execution_count": 20,
   "metadata": {},
   "outputs": [
    {
     "data": {
      "text/html": [
       "<div>\n",
       "<style scoped>\n",
       "    .dataframe tbody tr th:only-of-type {\n",
       "        vertical-align: middle;\n",
       "    }\n",
       "\n",
       "    .dataframe tbody tr th {\n",
       "        vertical-align: top;\n",
       "    }\n",
       "\n",
       "    .dataframe thead th {\n",
       "        text-align: right;\n",
       "    }\n",
       "</style>\n",
       "<table border=\"1\" class=\"dataframe\">\n",
       "  <thead>\n",
       "    <tr style=\"text-align: right;\">\n",
       "      <th></th>\n",
       "      <th>primary_cleaner.input.xanthate</th>\n",
       "      <th>rougher.input.feed_pb</th>\n",
       "      <th>rougher.input.feed_size</th>\n",
       "      <th>rougher.input.floatbank11_xanthate</th>\n",
       "      <th>rougher.state.floatbank10_e_air</th>\n",
       "      <th>secondary_cleaner.state.floatbank2_a_air</th>\n",
       "    </tr>\n",
       "  </thead>\n",
       "  <tbody>\n",
       "    <tr>\n",
       "      <th>count</th>\n",
       "      <td>14149.000000</td>\n",
       "      <td>14149.000000</td>\n",
       "      <td>14149.000000</td>\n",
       "      <td>14149.000000</td>\n",
       "      <td>14149.000000</td>\n",
       "      <td>14149.000000</td>\n",
       "    </tr>\n",
       "    <tr>\n",
       "      <th>mean</th>\n",
       "      <td>0.881455</td>\n",
       "      <td>3.505465</td>\n",
       "      <td>60.239856</td>\n",
       "      <td>5.803930</td>\n",
       "      <td>1084.329957</td>\n",
       "      <td>29.685606</td>\n",
       "    </tr>\n",
       "    <tr>\n",
       "      <th>std</th>\n",
       "      <td>0.375683</td>\n",
       "      <td>1.090064</td>\n",
       "      <td>23.005310</td>\n",
       "      <td>1.239005</td>\n",
       "      <td>186.264888</td>\n",
       "      <td>5.812810</td>\n",
       "    </tr>\n",
       "    <tr>\n",
       "      <th>min</th>\n",
       "      <td>0.000005</td>\n",
       "      <td>0.010000</td>\n",
       "      <td>9.659576</td>\n",
       "      <td>0.000290</td>\n",
       "      <td>-1.970275</td>\n",
       "      <td>0.077503</td>\n",
       "    </tr>\n",
       "    <tr>\n",
       "      <th>25%</th>\n",
       "      <td>0.604805</td>\n",
       "      <td>2.766515</td>\n",
       "      <td>48.966751</td>\n",
       "      <td>5.096661</td>\n",
       "      <td>951.248809</td>\n",
       "      <td>25.107090</td>\n",
       "    </tr>\n",
       "    <tr>\n",
       "      <th>50%</th>\n",
       "      <td>0.887473</td>\n",
       "      <td>3.414267</td>\n",
       "      <td>55.269784</td>\n",
       "      <td>5.992219</td>\n",
       "      <td>1050.158925</td>\n",
       "      <td>30.034084</td>\n",
       "    </tr>\n",
       "    <tr>\n",
       "      <th>75%</th>\n",
       "      <td>1.100079</td>\n",
       "      <td>4.220115</td>\n",
       "      <td>66.007526</td>\n",
       "      <td>6.642274</td>\n",
       "      <td>1199.903428</td>\n",
       "      <td>34.902699</td>\n",
       "    </tr>\n",
       "    <tr>\n",
       "      <th>max</th>\n",
       "      <td>2.512968</td>\n",
       "      <td>7.142594</td>\n",
       "      <td>484.967466</td>\n",
       "      <td>9.698407</td>\n",
       "      <td>1922.636637</td>\n",
       "      <td>52.651399</td>\n",
       "    </tr>\n",
       "  </tbody>\n",
       "</table>\n",
       "</div>"
      ],
      "text/plain": [
       "       primary_cleaner.input.xanthate  rougher.input.feed_pb  \\\n",
       "count                    14149.000000           14149.000000   \n",
       "mean                         0.881455               3.505465   \n",
       "std                          0.375683               1.090064   \n",
       "min                          0.000005               0.010000   \n",
       "25%                          0.604805               2.766515   \n",
       "50%                          0.887473               3.414267   \n",
       "75%                          1.100079               4.220115   \n",
       "max                          2.512968               7.142594   \n",
       "\n",
       "       rougher.input.feed_size  rougher.input.floatbank11_xanthate  \\\n",
       "count             14149.000000                        14149.000000   \n",
       "mean                 60.239856                            5.803930   \n",
       "std                  23.005310                            1.239005   \n",
       "min                   9.659576                            0.000290   \n",
       "25%                  48.966751                            5.096661   \n",
       "50%                  55.269784                            5.992219   \n",
       "75%                  66.007526                            6.642274   \n",
       "max                 484.967466                            9.698407   \n",
       "\n",
       "       rougher.state.floatbank10_e_air  \\\n",
       "count                     14149.000000   \n",
       "mean                       1084.329957   \n",
       "std                         186.264888   \n",
       "min                          -1.970275   \n",
       "25%                         951.248809   \n",
       "50%                        1050.158925   \n",
       "75%                        1199.903428   \n",
       "max                        1922.636637   \n",
       "\n",
       "       secondary_cleaner.state.floatbank2_a_air  \n",
       "count                              14149.000000  \n",
       "mean                                  29.685606  \n",
       "std                                    5.812810  \n",
       "min                                    0.077503  \n",
       "25%                                   25.107090  \n",
       "50%                                   30.034084  \n",
       "75%                                   34.902699  \n",
       "max                                   52.651399  "
      ]
     },
     "execution_count": 20,
     "metadata": {},
     "output_type": "execute_result"
    }
   ],
   "source": [
    "data_train[A].describe()"
   ]
  },
  {
   "cell_type": "markdown",
   "metadata": {},
   "source": [
    "Как видим, расхождения в значениях минимальны, поэтому можем считать, что такое заполнение корректно и можем работать дальше."
   ]
  },
  {
   "cell_type": "markdown",
   "metadata": {},
   "source": [
    "Теперь приступим к тестовому датасету. Дубликатов нет, пропуски заполним аналогичным образом."
   ]
  },
  {
   "cell_type": "code",
   "execution_count": 21,
   "metadata": {},
   "outputs": [
    {
     "data": {
      "text/plain": [
       "0"
      ]
     },
     "execution_count": 21,
     "metadata": {},
     "output_type": "execute_result"
    }
   ],
   "source": [
    "data_test.duplicated().sum()"
   ]
  },
  {
   "cell_type": "code",
   "execution_count": 22,
   "metadata": {
    "scrolled": true
   },
   "outputs": [
    {
     "data": {
      "text/plain": [
       "date                                           0\n",
       "primary_cleaner.input.sulfate                  4\n",
       "primary_cleaner.input.depressant               5\n",
       "primary_cleaner.input.feed_size                0\n",
       "primary_cleaner.input.xanthate                 4\n",
       "primary_cleaner.state.floatbank8_a_air         0\n",
       "primary_cleaner.state.floatbank8_a_level       0\n",
       "primary_cleaner.state.floatbank8_b_air         0\n",
       "primary_cleaner.state.floatbank8_b_level       0\n",
       "primary_cleaner.state.floatbank8_c_air         0\n",
       "primary_cleaner.state.floatbank8_c_level       0\n",
       "primary_cleaner.state.floatbank8_d_air         0\n",
       "primary_cleaner.state.floatbank8_d_level       0\n",
       "rougher.input.feed_ag                          0\n",
       "rougher.input.feed_pb                          0\n",
       "rougher.input.feed_rate                        3\n",
       "rougher.input.feed_size                        1\n",
       "rougher.input.feed_sol                        21\n",
       "rougher.input.feed_au                          0\n",
       "rougher.input.floatbank10_sulfate              5\n",
       "rougher.input.floatbank10_xanthate             0\n",
       "rougher.input.floatbank11_sulfate              8\n",
       "rougher.input.floatbank11_xanthate            25\n",
       "rougher.state.floatbank10_a_air                0\n",
       "rougher.state.floatbank10_a_level              0\n",
       "rougher.state.floatbank10_b_air                0\n",
       "rougher.state.floatbank10_b_level              0\n",
       "rougher.state.floatbank10_c_air                0\n",
       "rougher.state.floatbank10_c_level              0\n",
       "rougher.state.floatbank10_d_air                0\n",
       "rougher.state.floatbank10_d_level              0\n",
       "rougher.state.floatbank10_e_air                0\n",
       "rougher.state.floatbank10_e_level              0\n",
       "rougher.state.floatbank10_f_air                0\n",
       "rougher.state.floatbank10_f_level              0\n",
       "secondary_cleaner.state.floatbank2_a_air       3\n",
       "secondary_cleaner.state.floatbank2_a_level     0\n",
       "secondary_cleaner.state.floatbank2_b_air       2\n",
       "secondary_cleaner.state.floatbank2_b_level     0\n",
       "secondary_cleaner.state.floatbank3_a_air       9\n",
       "secondary_cleaner.state.floatbank3_a_level     0\n",
       "secondary_cleaner.state.floatbank3_b_air       0\n",
       "secondary_cleaner.state.floatbank3_b_level     0\n",
       "secondary_cleaner.state.floatbank4_a_air       0\n",
       "secondary_cleaner.state.floatbank4_a_level     0\n",
       "secondary_cleaner.state.floatbank4_b_air       0\n",
       "secondary_cleaner.state.floatbank4_b_level     0\n",
       "secondary_cleaner.state.floatbank5_a_air       0\n",
       "secondary_cleaner.state.floatbank5_a_level     0\n",
       "secondary_cleaner.state.floatbank5_b_air       0\n",
       "secondary_cleaner.state.floatbank5_b_level     0\n",
       "secondary_cleaner.state.floatbank6_a_air       0\n",
       "secondary_cleaner.state.floatbank6_a_level     0\n",
       "dtype: int64"
      ]
     },
     "execution_count": 22,
     "metadata": {},
     "output_type": "execute_result"
    }
   ],
   "source": [
    "data_test.isnull().sum()"
   ]
  },
  {
   "cell_type": "code",
   "execution_count": 23,
   "metadata": {},
   "outputs": [],
   "source": [
    "data_test_old = data_test.copy()\n",
    "data_test = data_test.fillna(method = \"ffill\")"
   ]
  },
  {
   "cell_type": "code",
   "execution_count": 24,
   "metadata": {
    "scrolled": true
   },
   "outputs": [
    {
     "data": {
      "text/plain": [
       "date                                          0\n",
       "primary_cleaner.input.sulfate                 0\n",
       "primary_cleaner.input.depressant              0\n",
       "primary_cleaner.input.feed_size               0\n",
       "primary_cleaner.input.xanthate                0\n",
       "primary_cleaner.state.floatbank8_a_air        0\n",
       "primary_cleaner.state.floatbank8_a_level      0\n",
       "primary_cleaner.state.floatbank8_b_air        0\n",
       "primary_cleaner.state.floatbank8_b_level      0\n",
       "primary_cleaner.state.floatbank8_c_air        0\n",
       "primary_cleaner.state.floatbank8_c_level      0\n",
       "primary_cleaner.state.floatbank8_d_air        0\n",
       "primary_cleaner.state.floatbank8_d_level      0\n",
       "rougher.input.feed_ag                         0\n",
       "rougher.input.feed_pb                         0\n",
       "rougher.input.feed_rate                       0\n",
       "rougher.input.feed_size                       0\n",
       "rougher.input.feed_sol                        0\n",
       "rougher.input.feed_au                         0\n",
       "rougher.input.floatbank10_sulfate             0\n",
       "rougher.input.floatbank10_xanthate            0\n",
       "rougher.input.floatbank11_sulfate             0\n",
       "rougher.input.floatbank11_xanthate            0\n",
       "rougher.state.floatbank10_a_air               0\n",
       "rougher.state.floatbank10_a_level             0\n",
       "rougher.state.floatbank10_b_air               0\n",
       "rougher.state.floatbank10_b_level             0\n",
       "rougher.state.floatbank10_c_air               0\n",
       "rougher.state.floatbank10_c_level             0\n",
       "rougher.state.floatbank10_d_air               0\n",
       "rougher.state.floatbank10_d_level             0\n",
       "rougher.state.floatbank10_e_air               0\n",
       "rougher.state.floatbank10_e_level             0\n",
       "rougher.state.floatbank10_f_air               0\n",
       "rougher.state.floatbank10_f_level             0\n",
       "secondary_cleaner.state.floatbank2_a_air      0\n",
       "secondary_cleaner.state.floatbank2_a_level    0\n",
       "secondary_cleaner.state.floatbank2_b_air      0\n",
       "secondary_cleaner.state.floatbank2_b_level    0\n",
       "secondary_cleaner.state.floatbank3_a_air      0\n",
       "secondary_cleaner.state.floatbank3_a_level    0\n",
       "secondary_cleaner.state.floatbank3_b_air      0\n",
       "secondary_cleaner.state.floatbank3_b_level    0\n",
       "secondary_cleaner.state.floatbank4_a_air      0\n",
       "secondary_cleaner.state.floatbank4_a_level    0\n",
       "secondary_cleaner.state.floatbank4_b_air      0\n",
       "secondary_cleaner.state.floatbank4_b_level    0\n",
       "secondary_cleaner.state.floatbank5_a_air      0\n",
       "secondary_cleaner.state.floatbank5_a_level    0\n",
       "secondary_cleaner.state.floatbank5_b_air      0\n",
       "secondary_cleaner.state.floatbank5_b_level    0\n",
       "secondary_cleaner.state.floatbank6_a_air      0\n",
       "secondary_cleaner.state.floatbank6_a_level    0\n",
       "dtype: int64"
      ]
     },
     "execution_count": 24,
     "metadata": {},
     "output_type": "execute_result"
    }
   ],
   "source": [
    "data_test.isnull().sum()"
   ]
  },
  {
   "cell_type": "markdown",
   "metadata": {},
   "source": [
    "Также посмотрим на статистические характеристики старого и нового датафрейма."
   ]
  },
  {
   "cell_type": "code",
   "execution_count": 25,
   "metadata": {},
   "outputs": [
    {
     "data": {
      "text/html": [
       "<div>\n",
       "<style scoped>\n",
       "    .dataframe tbody tr th:only-of-type {\n",
       "        vertical-align: middle;\n",
       "    }\n",
       "\n",
       "    .dataframe tbody tr th {\n",
       "        vertical-align: top;\n",
       "    }\n",
       "\n",
       "    .dataframe thead th {\n",
       "        text-align: right;\n",
       "    }\n",
       "</style>\n",
       "<table border=\"1\" class=\"dataframe\">\n",
       "  <thead>\n",
       "    <tr style=\"text-align: right;\">\n",
       "      <th></th>\n",
       "      <th>rougher.input.feed_sol</th>\n",
       "      <th>primary_cleaner.input.depressant</th>\n",
       "      <th>rougher.input.floatbank11_xanthate</th>\n",
       "      <th>rougher.input.floatbank11_sulfate</th>\n",
       "      <th>secondary_cleaner.state.floatbank3_a_air</th>\n",
       "    </tr>\n",
       "  </thead>\n",
       "  <tbody>\n",
       "    <tr>\n",
       "      <th>count</th>\n",
       "      <td>5269.000000</td>\n",
       "      <td>5285.000000</td>\n",
       "      <td>5265.000000</td>\n",
       "      <td>5282.000000</td>\n",
       "      <td>5281.000000</td>\n",
       "    </tr>\n",
       "    <tr>\n",
       "      <th>mean</th>\n",
       "      <td>37.716648</td>\n",
       "      <td>8.683596</td>\n",
       "      <td>6.512103</td>\n",
       "      <td>13.922328</td>\n",
       "      <td>25.402926</td>\n",
       "    </tr>\n",
       "    <tr>\n",
       "      <th>std</th>\n",
       "      <td>5.491415</td>\n",
       "      <td>3.072050</td>\n",
       "      <td>0.886989</td>\n",
       "      <td>3.223769</td>\n",
       "      <td>6.526457</td>\n",
       "    </tr>\n",
       "    <tr>\n",
       "      <th>min</th>\n",
       "      <td>1.393488</td>\n",
       "      <td>0.003839</td>\n",
       "      <td>0.006985</td>\n",
       "      <td>0.000077</td>\n",
       "      <td>0.000000</td>\n",
       "    </tr>\n",
       "    <tr>\n",
       "      <th>25%</th>\n",
       "      <td>34.505576</td>\n",
       "      <td>6.489555</td>\n",
       "      <td>5.999157</td>\n",
       "      <td>11.997200</td>\n",
       "      <td>22.982288</td>\n",
       "    </tr>\n",
       "    <tr>\n",
       "      <th>50%</th>\n",
       "      <td>37.980276</td>\n",
       "      <td>8.052207</td>\n",
       "      <td>6.498744</td>\n",
       "      <td>14.004371</td>\n",
       "      <td>25.010105</td>\n",
       "    </tr>\n",
       "    <tr>\n",
       "      <th>75%</th>\n",
       "      <td>41.635385</td>\n",
       "      <td>10.027764</td>\n",
       "      <td>7.091808</td>\n",
       "      <td>16.959671</td>\n",
       "      <td>30.002063</td>\n",
       "    </tr>\n",
       "    <tr>\n",
       "      <th>max</th>\n",
       "      <td>53.477742</td>\n",
       "      <td>40.000000</td>\n",
       "      <td>8.621338</td>\n",
       "      <td>24.280966</td>\n",
       "      <td>40.041997</td>\n",
       "    </tr>\n",
       "  </tbody>\n",
       "</table>\n",
       "</div>"
      ],
      "text/plain": [
       "       rougher.input.feed_sol  primary_cleaner.input.depressant  \\\n",
       "count             5269.000000                       5285.000000   \n",
       "mean                37.716648                          8.683596   \n",
       "std                  5.491415                          3.072050   \n",
       "min                  1.393488                          0.003839   \n",
       "25%                 34.505576                          6.489555   \n",
       "50%                 37.980276                          8.052207   \n",
       "75%                 41.635385                         10.027764   \n",
       "max                 53.477742                         40.000000   \n",
       "\n",
       "       rougher.input.floatbank11_xanthate  rougher.input.floatbank11_sulfate  \\\n",
       "count                         5265.000000                        5282.000000   \n",
       "mean                             6.512103                          13.922328   \n",
       "std                              0.886989                           3.223769   \n",
       "min                              0.006985                           0.000077   \n",
       "25%                              5.999157                          11.997200   \n",
       "50%                              6.498744                          14.004371   \n",
       "75%                              7.091808                          16.959671   \n",
       "max                              8.621338                          24.280966   \n",
       "\n",
       "       secondary_cleaner.state.floatbank3_a_air  \n",
       "count                               5281.000000  \n",
       "mean                                  25.402926  \n",
       "std                                    6.526457  \n",
       "min                                    0.000000  \n",
       "25%                                   22.982288  \n",
       "50%                                   25.010105  \n",
       "75%                                   30.002063  \n",
       "max                                   40.041997  "
      ]
     },
     "execution_count": 25,
     "metadata": {},
     "output_type": "execute_result"
    }
   ],
   "source": [
    "B=['rougher.input.feed_sol','primary_cleaner.input.depressant','rougher.input.floatbank11_xanthate','rougher.input.floatbank11_sulfate','secondary_cleaner.state.floatbank3_a_air']\n",
    "data_test_old[B].describe()"
   ]
  },
  {
   "cell_type": "code",
   "execution_count": 26,
   "metadata": {},
   "outputs": [
    {
     "data": {
      "text/html": [
       "<div>\n",
       "<style scoped>\n",
       "    .dataframe tbody tr th:only-of-type {\n",
       "        vertical-align: middle;\n",
       "    }\n",
       "\n",
       "    .dataframe tbody tr th {\n",
       "        vertical-align: top;\n",
       "    }\n",
       "\n",
       "    .dataframe thead th {\n",
       "        text-align: right;\n",
       "    }\n",
       "</style>\n",
       "<table border=\"1\" class=\"dataframe\">\n",
       "  <thead>\n",
       "    <tr style=\"text-align: right;\">\n",
       "      <th></th>\n",
       "      <th>rougher.input.feed_sol</th>\n",
       "      <th>primary_cleaner.input.depressant</th>\n",
       "      <th>rougher.input.floatbank11_xanthate</th>\n",
       "      <th>rougher.input.floatbank11_sulfate</th>\n",
       "      <th>secondary_cleaner.state.floatbank3_a_air</th>\n",
       "    </tr>\n",
       "  </thead>\n",
       "  <tbody>\n",
       "    <tr>\n",
       "      <th>count</th>\n",
       "      <td>5290.000000</td>\n",
       "      <td>5290.000000</td>\n",
       "      <td>5290.000000</td>\n",
       "      <td>5290.000000</td>\n",
       "      <td>5290.000000</td>\n",
       "    </tr>\n",
       "    <tr>\n",
       "      <th>mean</th>\n",
       "      <td>37.701036</td>\n",
       "      <td>8.684695</td>\n",
       "      <td>6.497324</td>\n",
       "      <td>13.905900</td>\n",
       "      <td>25.360405</td>\n",
       "    </tr>\n",
       "    <tr>\n",
       "      <th>std</th>\n",
       "      <td>5.501268</td>\n",
       "      <td>3.073753</td>\n",
       "      <td>0.913400</td>\n",
       "      <td>3.252560</td>\n",
       "      <td>6.601838</td>\n",
       "    </tr>\n",
       "    <tr>\n",
       "      <th>min</th>\n",
       "      <td>1.393488</td>\n",
       "      <td>0.003839</td>\n",
       "      <td>0.006985</td>\n",
       "      <td>0.000077</td>\n",
       "      <td>0.000000</td>\n",
       "    </tr>\n",
       "    <tr>\n",
       "      <th>25%</th>\n",
       "      <td>34.486885</td>\n",
       "      <td>6.489556</td>\n",
       "      <td>5.998898</td>\n",
       "      <td>11.996933</td>\n",
       "      <td>22.981009</td>\n",
       "    </tr>\n",
       "    <tr>\n",
       "      <th>50%</th>\n",
       "      <td>37.977160</td>\n",
       "      <td>8.052131</td>\n",
       "      <td>6.498428</td>\n",
       "      <td>14.004106</td>\n",
       "      <td>25.009966</td>\n",
       "    </tr>\n",
       "    <tr>\n",
       "      <th>75%</th>\n",
       "      <td>41.619761</td>\n",
       "      <td>10.028043</td>\n",
       "      <td>7.087476</td>\n",
       "      <td>16.953537</td>\n",
       "      <td>30.002010</td>\n",
       "    </tr>\n",
       "    <tr>\n",
       "      <th>max</th>\n",
       "      <td>53.477742</td>\n",
       "      <td>40.000000</td>\n",
       "      <td>8.621338</td>\n",
       "      <td>24.280966</td>\n",
       "      <td>40.041997</td>\n",
       "    </tr>\n",
       "  </tbody>\n",
       "</table>\n",
       "</div>"
      ],
      "text/plain": [
       "       rougher.input.feed_sol  primary_cleaner.input.depressant  \\\n",
       "count             5290.000000                       5290.000000   \n",
       "mean                37.701036                          8.684695   \n",
       "std                  5.501268                          3.073753   \n",
       "min                  1.393488                          0.003839   \n",
       "25%                 34.486885                          6.489556   \n",
       "50%                 37.977160                          8.052131   \n",
       "75%                 41.619761                         10.028043   \n",
       "max                 53.477742                         40.000000   \n",
       "\n",
       "       rougher.input.floatbank11_xanthate  rougher.input.floatbank11_sulfate  \\\n",
       "count                         5290.000000                        5290.000000   \n",
       "mean                             6.497324                          13.905900   \n",
       "std                              0.913400                           3.252560   \n",
       "min                              0.006985                           0.000077   \n",
       "25%                              5.998898                          11.996933   \n",
       "50%                              6.498428                          14.004106   \n",
       "75%                              7.087476                          16.953537   \n",
       "max                              8.621338                          24.280966   \n",
       "\n",
       "       secondary_cleaner.state.floatbank3_a_air  \n",
       "count                               5290.000000  \n",
       "mean                                  25.360405  \n",
       "std                                    6.601838  \n",
       "min                                    0.000000  \n",
       "25%                                   22.981009  \n",
       "50%                                   25.009966  \n",
       "75%                                   30.002010  \n",
       "max                                   40.041997  "
      ]
     },
     "execution_count": 26,
     "metadata": {},
     "output_type": "execute_result"
    }
   ],
   "source": [
    "data_test[B].describe()"
   ]
  },
  {
   "cell_type": "code",
   "execution_count": 27,
   "metadata": {},
   "outputs": [
    {
     "name": "stdout",
     "output_type": "stream",
     "text": [
      "Размер обучающей выборки: (14149, 53)\n",
      "Размер тестовой выборки: (5290, 53)\n"
     ]
    }
   ],
   "source": [
    "print('Размер обучающей выборки:',data_train.shape)\n",
    "print('Размер тестовой выборки:',data_test.shape)"
   ]
  },
  {
   "cell_type": "markdown",
   "metadata": {},
   "source": [
    "**Вывод**: итак, в процессе предобработки данных в обучающей удалили признаки, которых нет в тестовой выборке, также заполнили пропуски предыдущим значением по времени, при этом статистические характеристики почти не изменились. В тестовой выборке заполнили пропуски предыдущим значением по времени. Размер обучающей выборки стал (14149, 53), а у тестовой (5290, 53)."
   ]
  },
  {
   "cell_type": "markdown",
   "metadata": {},
   "source": [
    "## Анализ данных"
   ]
  },
  {
   "cell_type": "markdown",
   "metadata": {},
   "source": [
    "### Как меняется концентрация металлов (Au, Ag, Pb) на различных этапах очистки"
   ]
  },
  {
   "cell_type": "code",
   "execution_count": 28,
   "metadata": {},
   "outputs": [
    {
     "data": {
      "image/png": "[encoded data removed]",
      "text/plain": [
       "<Figure size 720x360 with 1 Axes>"
      ]
     },
     "metadata": {
      "needs_background": "light"
     },
     "output_type": "display_data"
    },
    {
     "data": {
      "image/png": "[encoded data removed]",
      "text/plain": [
       "<Figure size 720x360 with 1 Axes>"
      ]
     },
     "metadata": {
      "needs_background": "light"
     },
     "output_type": "display_data"
    },
    {
     "data": {
      "image/png": "[encoded data removed]",
      "text/plain": [
       "<Figure size 720x360 with 1 Axes>"
      ]
     },
     "metadata": {
      "needs_background": "light"
     },
     "output_type": "display_data"
    }
   ],
   "source": [
    "metal = [['au','золота'], ['ag','серебра'],['pb','свинца']]\n",
    "stage = [['rougher.input.feed_','Сырье'],['rougher.output.concentrate_','Флотация'],['primary_cleaner.output.concentrate_','Первый этап очистки'],['final.output.concentrate_','Второй этап очистки(финальный)']]\n",
    "for m in metal:\n",
    "    plt.figure(figsize=(10,5))\n",
    "    for s,c in zip(stage,['red','green','blue','yellow']):\n",
    "        sns.histplot(data_full[s[0]+m[0]], color=c,label=s[1], kde=True, stat=\"density\", linewidth=0)\n",
    "        plt.legend()\n",
    "        plt.title('Распределение концентрации ' + m[1])\n",
    "        plt.xlabel('концентрация,%')"
   ]
  },
  {
   "cell_type": "code",
   "execution_count": 29,
   "metadata": {},
   "outputs": [
    {
     "data": {
      "text/html": [
       "<div>\n",
       "<style scoped>\n",
       "    .dataframe tbody tr th:only-of-type {\n",
       "        vertical-align: middle;\n",
       "    }\n",
       "\n",
       "    .dataframe tbody tr th {\n",
       "        vertical-align: top;\n",
       "    }\n",
       "\n",
       "    .dataframe thead th {\n",
       "        text-align: right;\n",
       "    }\n",
       "</style>\n",
       "<table border=\"1\" class=\"dataframe\">\n",
       "  <thead>\n",
       "    <tr style=\"text-align: right;\">\n",
       "      <th></th>\n",
       "      <th>rougher.input.feed_au</th>\n",
       "      <th>rougher.output.concentrate_au</th>\n",
       "      <th>primary_cleaner.output.concentrate_au</th>\n",
       "      <th>final.output.concentrate_au</th>\n",
       "    </tr>\n",
       "  </thead>\n",
       "  <tbody>\n",
       "    <tr>\n",
       "      <th>count</th>\n",
       "      <td>19439.000000</td>\n",
       "      <td>19439.000000</td>\n",
       "      <td>19439.000000</td>\n",
       "      <td>19439.000000</td>\n",
       "    </tr>\n",
       "    <tr>\n",
       "      <th>mean</th>\n",
       "      <td>8.266097</td>\n",
       "      <td>19.772000</td>\n",
       "      <td>32.119400</td>\n",
       "      <td>44.076513</td>\n",
       "    </tr>\n",
       "    <tr>\n",
       "      <th>std</th>\n",
       "      <td>1.955092</td>\n",
       "      <td>3.753600</td>\n",
       "      <td>5.627611</td>\n",
       "      <td>5.129784</td>\n",
       "    </tr>\n",
       "    <tr>\n",
       "      <th>min</th>\n",
       "      <td>0.010000</td>\n",
       "      <td>0.000000</td>\n",
       "      <td>0.000000</td>\n",
       "      <td>0.000000</td>\n",
       "    </tr>\n",
       "    <tr>\n",
       "      <th>25%</th>\n",
       "      <td>6.854384</td>\n",
       "      <td>18.802523</td>\n",
       "      <td>30.463140</td>\n",
       "      <td>43.402215</td>\n",
       "    </tr>\n",
       "    <tr>\n",
       "      <th>50%</th>\n",
       "      <td>8.125839</td>\n",
       "      <td>20.280214</td>\n",
       "      <td>32.841295</td>\n",
       "      <td>45.011244</td>\n",
       "    </tr>\n",
       "    <tr>\n",
       "      <th>75%</th>\n",
       "      <td>9.769917</td>\n",
       "      <td>21.717843</td>\n",
       "      <td>35.048006</td>\n",
       "      <td>46.275313</td>\n",
       "    </tr>\n",
       "    <tr>\n",
       "      <th>max</th>\n",
       "      <td>13.731330</td>\n",
       "      <td>28.824507</td>\n",
       "      <td>45.933934</td>\n",
       "      <td>52.756638</td>\n",
       "    </tr>\n",
       "  </tbody>\n",
       "</table>\n",
       "</div>"
      ],
      "text/plain": [
       "       rougher.input.feed_au  rougher.output.concentrate_au  \\\n",
       "count           19439.000000                   19439.000000   \n",
       "mean                8.266097                      19.772000   \n",
       "std                 1.955092                       3.753600   \n",
       "min                 0.010000                       0.000000   \n",
       "25%                 6.854384                      18.802523   \n",
       "50%                 8.125839                      20.280214   \n",
       "75%                 9.769917                      21.717843   \n",
       "max                13.731330                      28.824507   \n",
       "\n",
       "       primary_cleaner.output.concentrate_au  final.output.concentrate_au  \n",
       "count                           19439.000000                 19439.000000  \n",
       "mean                               32.119400                    44.076513  \n",
       "std                                 5.627611                     5.129784  \n",
       "min                                 0.000000                     0.000000  \n",
       "25%                                30.463140                    43.402215  \n",
       "50%                                32.841295                    45.011244  \n",
       "75%                                35.048006                    46.275313  \n",
       "max                                45.933934                    52.756638  "
      ]
     },
     "execution_count": 29,
     "metadata": {},
     "output_type": "execute_result"
    }
   ],
   "source": [
    "A=['rougher.input.feed_au','rougher.output.concentrate_au','primary_cleaner.output.concentrate_au','final.output.concentrate_au']\n",
    "data_full[A].describe()"
   ]
  },
  {
   "cell_type": "code",
   "execution_count": 30,
   "metadata": {},
   "outputs": [
    {
     "data": {
      "text/html": [
       "<div>\n",
       "<style scoped>\n",
       "    .dataframe tbody tr th:only-of-type {\n",
       "        vertical-align: middle;\n",
       "    }\n",
       "\n",
       "    .dataframe tbody tr th {\n",
       "        vertical-align: top;\n",
       "    }\n",
       "\n",
       "    .dataframe thead th {\n",
       "        text-align: right;\n",
       "    }\n",
       "</style>\n",
       "<table border=\"1\" class=\"dataframe\">\n",
       "  <thead>\n",
       "    <tr style=\"text-align: right;\">\n",
       "      <th></th>\n",
       "      <th>rougher.input.feed_ag</th>\n",
       "      <th>rougher.output.concentrate_ag</th>\n",
       "      <th>primary_cleaner.output.concentrate_ag</th>\n",
       "      <th>final.output.concentrate_ag</th>\n",
       "    </tr>\n",
       "  </thead>\n",
       "  <tbody>\n",
       "    <tr>\n",
       "      <th>count</th>\n",
       "      <td>19439.000000</td>\n",
       "      <td>19439.000000</td>\n",
       "      <td>19439.000000</td>\n",
       "      <td>19438.000000</td>\n",
       "    </tr>\n",
       "    <tr>\n",
       "      <th>mean</th>\n",
       "      <td>8.794927</td>\n",
       "      <td>11.994759</td>\n",
       "      <td>8.442408</td>\n",
       "      <td>5.168470</td>\n",
       "    </tr>\n",
       "    <tr>\n",
       "      <th>std</th>\n",
       "      <td>1.936847</td>\n",
       "      <td>2.733862</td>\n",
       "      <td>2.054465</td>\n",
       "      <td>1.372348</td>\n",
       "    </tr>\n",
       "    <tr>\n",
       "      <th>min</th>\n",
       "      <td>0.010000</td>\n",
       "      <td>0.000000</td>\n",
       "      <td>0.000000</td>\n",
       "      <td>0.000000</td>\n",
       "    </tr>\n",
       "    <tr>\n",
       "      <th>25%</th>\n",
       "      <td>7.237967</td>\n",
       "      <td>10.628337</td>\n",
       "      <td>7.263288</td>\n",
       "      <td>4.251240</td>\n",
       "    </tr>\n",
       "    <tr>\n",
       "      <th>50%</th>\n",
       "      <td>8.593574</td>\n",
       "      <td>12.098115</td>\n",
       "      <td>8.507298</td>\n",
       "      <td>5.066094</td>\n",
       "    </tr>\n",
       "    <tr>\n",
       "      <th>75%</th>\n",
       "      <td>10.213771</td>\n",
       "      <td>13.736996</td>\n",
       "      <td>9.809001</td>\n",
       "      <td>5.895527</td>\n",
       "    </tr>\n",
       "    <tr>\n",
       "      <th>max</th>\n",
       "      <td>14.596026</td>\n",
       "      <td>24.480271</td>\n",
       "      <td>16.081632</td>\n",
       "      <td>16.001945</td>\n",
       "    </tr>\n",
       "  </tbody>\n",
       "</table>\n",
       "</div>"
      ],
      "text/plain": [
       "       rougher.input.feed_ag  rougher.output.concentrate_ag  \\\n",
       "count           19439.000000                   19439.000000   \n",
       "mean                8.794927                      11.994759   \n",
       "std                 1.936847                       2.733862   \n",
       "min                 0.010000                       0.000000   \n",
       "25%                 7.237967                      10.628337   \n",
       "50%                 8.593574                      12.098115   \n",
       "75%                10.213771                      13.736996   \n",
       "max                14.596026                      24.480271   \n",
       "\n",
       "       primary_cleaner.output.concentrate_ag  final.output.concentrate_ag  \n",
       "count                           19439.000000                 19438.000000  \n",
       "mean                                8.442408                     5.168470  \n",
       "std                                 2.054465                     1.372348  \n",
       "min                                 0.000000                     0.000000  \n",
       "25%                                 7.263288                     4.251240  \n",
       "50%                                 8.507298                     5.066094  \n",
       "75%                                 9.809001                     5.895527  \n",
       "max                                16.081632                    16.001945  "
      ]
     },
     "execution_count": 30,
     "metadata": {},
     "output_type": "execute_result"
    }
   ],
   "source": [
    "A=['rougher.input.feed_ag','rougher.output.concentrate_ag','primary_cleaner.output.concentrate_ag','final.output.concentrate_ag']\n",
    "data_full[A].describe()"
   ]
  },
  {
   "cell_type": "code",
   "execution_count": 31,
   "metadata": {},
   "outputs": [
    {
     "data": {
      "text/html": [
       "<div>\n",
       "<style scoped>\n",
       "    .dataframe tbody tr th:only-of-type {\n",
       "        vertical-align: middle;\n",
       "    }\n",
       "\n",
       "    .dataframe tbody tr th {\n",
       "        vertical-align: top;\n",
       "    }\n",
       "\n",
       "    .dataframe thead th {\n",
       "        text-align: right;\n",
       "    }\n",
       "</style>\n",
       "<table border=\"1\" class=\"dataframe\">\n",
       "  <thead>\n",
       "    <tr style=\"text-align: right;\">\n",
       "      <th></th>\n",
       "      <th>rougher.input.feed_pb</th>\n",
       "      <th>rougher.output.concentrate_pb</th>\n",
       "      <th>primary_cleaner.output.concentrate_pb</th>\n",
       "      <th>final.output.concentrate_pb</th>\n",
       "    </tr>\n",
       "  </thead>\n",
       "  <tbody>\n",
       "    <tr>\n",
       "      <th>count</th>\n",
       "      <td>19339.000000</td>\n",
       "      <td>19439.000000</td>\n",
       "      <td>19323.000000</td>\n",
       "      <td>19438.000000</td>\n",
       "    </tr>\n",
       "    <tr>\n",
       "      <th>mean</th>\n",
       "      <td>3.598085</td>\n",
       "      <td>7.606272</td>\n",
       "      <td>9.829530</td>\n",
       "      <td>9.978895</td>\n",
       "    </tr>\n",
       "    <tr>\n",
       "      <th>std</th>\n",
       "      <td>1.049486</td>\n",
       "      <td>1.796757</td>\n",
       "      <td>2.556843</td>\n",
       "      <td>1.669240</td>\n",
       "    </tr>\n",
       "    <tr>\n",
       "      <th>min</th>\n",
       "      <td>0.010000</td>\n",
       "      <td>0.000000</td>\n",
       "      <td>0.000000</td>\n",
       "      <td>0.000000</td>\n",
       "    </tr>\n",
       "    <tr>\n",
       "      <th>25%</th>\n",
       "      <td>2.887280</td>\n",
       "      <td>6.725987</td>\n",
       "      <td>8.702328</td>\n",
       "      <td>9.137262</td>\n",
       "    </tr>\n",
       "    <tr>\n",
       "      <th>50%</th>\n",
       "      <td>3.534895</td>\n",
       "      <td>7.742580</td>\n",
       "      <td>10.152433</td>\n",
       "      <td>10.102433</td>\n",
       "    </tr>\n",
       "    <tr>\n",
       "      <th>75%</th>\n",
       "      <td>4.244161</td>\n",
       "      <td>8.565199</td>\n",
       "      <td>11.424971</td>\n",
       "      <td>11.035769</td>\n",
       "    </tr>\n",
       "    <tr>\n",
       "      <th>max</th>\n",
       "      <td>7.142594</td>\n",
       "      <td>13.617072</td>\n",
       "      <td>17.081278</td>\n",
       "      <td>17.031899</td>\n",
       "    </tr>\n",
       "  </tbody>\n",
       "</table>\n",
       "</div>"
      ],
      "text/plain": [
       "       rougher.input.feed_pb  rougher.output.concentrate_pb  \\\n",
       "count           19339.000000                   19439.000000   \n",
       "mean                3.598085                       7.606272   \n",
       "std                 1.049486                       1.796757   \n",
       "min                 0.010000                       0.000000   \n",
       "25%                 2.887280                       6.725987   \n",
       "50%                 3.534895                       7.742580   \n",
       "75%                 4.244161                       8.565199   \n",
       "max                 7.142594                      13.617072   \n",
       "\n",
       "       primary_cleaner.output.concentrate_pb  final.output.concentrate_pb  \n",
       "count                           19323.000000                 19438.000000  \n",
       "mean                                9.829530                     9.978895  \n",
       "std                                 2.556843                     1.669240  \n",
       "min                                 0.000000                     0.000000  \n",
       "25%                                 8.702328                     9.137262  \n",
       "50%                                10.152433                    10.102433  \n",
       "75%                                11.424971                    11.035769  \n",
       "max                                17.081278                    17.031899  "
      ]
     },
     "execution_count": 31,
     "metadata": {},
     "output_type": "execute_result"
    }
   ],
   "source": [
    "A=['rougher.input.feed_pb','rougher.output.concentrate_pb','primary_cleaner.output.concentrate_pb','final.output.concentrate_pb']\n",
    "data_full[A].describe()"
   ]
  },
  {
   "cell_type": "markdown",
   "metadata": {},
   "source": [
    "**Вывод**: построив графики распределения концентрации на различных этапах очистки, можем заметить, что на каждом наблюдаются нулевые выбросы. В дальнейшем изучим их подробнее.Также хочется отметить, что золото и свинец показали положительную динамику концентрации на каждом этапе очистки, а вот у серебра на этапа флотации наблюдается рост, но потом значения падают."
   ]
  },
  {
   "cell_type": "markdown",
   "metadata": {},
   "source": [
    "### Распределения размеров гранул сырья на обучающей и тестовой выборках"
   ]
  },
  {
   "cell_type": "code",
   "execution_count": 32,
   "metadata": {},
   "outputs": [
    {
     "data": {
      "text/plain": [
       "<matplotlib.legend.Legend at 0x7f5118013b20>"
      ]
     },
     "execution_count": 32,
     "metadata": {},
     "output_type": "execute_result"
    },
    {
     "data": {
      "image/png": "[encoded data removed]",
      "text/plain": [
       "<Figure size 504x216 with 1 Axes>"
      ]
     },
     "metadata": {
      "needs_background": "light"
     },
     "output_type": "display_data"
    }
   ],
   "source": [
    "plt.figure(figsize=(7,3))\n",
    "sns.histplot(data_train['rougher.input.feed_size'], color='purple',label='Обучающая', kde=True, stat=\"density\", linewidth=0)\n",
    "sns.histplot(data_test['rougher.input.feed_size'], color='aqua',label='Тестовая', kde=True, stat=\"density\", linewidth=0)\n",
    "plt.title('Распределение размера гранул')\n",
    "plt.legend()"
   ]
  },
  {
   "cell_type": "code",
   "execution_count": 33,
   "metadata": {},
   "outputs": [
    {
     "data": {
      "text/plain": [
       "<matplotlib.legend.Legend at 0x7f5117f82670>"
      ]
     },
     "execution_count": 33,
     "metadata": {},
     "output_type": "execute_result"
    },
    {
     "data": {
      "image/png": "[encoded data removed]",
      "text/plain": [
       "<Figure size 504x216 with 1 Axes>"
      ]
     },
     "metadata": {
      "needs_background": "light"
     },
     "output_type": "display_data"
    }
   ],
   "source": [
    "plt.figure(figsize = (7,3))\n",
    "ax=sns.kdeplot(data_train['rougher.input.feed_size'],color='purple',label='Обучающая')\n",
    "ax=sns.kdeplot(data_test['rougher.input.feed_size'], color='aqua',label='Тестовая')\n",
    "plt.title('Распределение размера гранул')\n",
    "plt.legend()"
   ]
  },
  {
   "cell_type": "markdown",
   "metadata": {},
   "source": [
    "**Вывод**: распределения размеров гранул на обучающей и тестовой выборках близки, немного отличаются средние, но это некритично для далнейшего построения модели."
   ]
  },
  {
   "cell_type": "markdown",
   "metadata": {},
   "source": [
    "### Суммарная концентрация всех веществ на разных стадиях: в сырье, в черновом и финальном концентратах"
   ]
  },
  {
   "cell_type": "code",
   "execution_count": 34,
   "metadata": {},
   "outputs": [
    {
     "data": {
      "image/png": "[encoded data removed]",
      "text/plain": [
       "<Figure size 1440x360 with 4 Axes>"
      ]
     },
     "metadata": {
      "needs_background": "light"
     },
     "output_type": "display_data"
    }
   ],
   "source": [
    "stage = [['rougher.input.feed_','В сырье'],\n",
    "         ['rougher.output.concentrate_','В черновом концентрате'], \n",
    "         ['primary_cleaner.output.concentrate_', 'При первой очистке'],\n",
    "         ['final.output.concentrate_','В финальном концентрате']]\n",
    "conc_sum = pd.DataFrame() #датафрейм суммарных концентраций\n",
    "conc_sum['date'] = data_full['date']\n",
    "figure, axis = plt.subplots(1,4,figsize=(20,5))\n",
    "figure.suptitle('Суммарная концентрация всех веществ на разных стадиях')\n",
    "for s,ax in zip(stage,axis):\n",
    "    conc_sum[s[0]] = data_full[s[0]+'au']+data_full[s[0]+'ag']+data_full[s[0]+'pb']+data_full[s[0]+'sol']\n",
    "    ax.set_title(s[1])\n",
    "    sns.histplot(conc_sum[s[0]], color='purple',label=s[1], kde=True, stat=\"density\", linewidth=0,ax=ax)"
   ]
  },
  {
   "cell_type": "markdown",
   "metadata": {},
   "source": [
    "Наблюдаем выбросы в нуле, это портит картину. Исследуем подробнее. "
   ]
  },
  {
   "cell_type": "code",
   "execution_count": 35,
   "metadata": {},
   "outputs": [
    {
     "data": {
      "image/png": "[encoded data removed]",
      "text/plain": [
       "<Figure size 720x360 with 1 Axes>"
      ]
     },
     "metadata": {
      "needs_background": "light"
     },
     "output_type": "display_data"
    }
   ],
   "source": [
    "stage = [['rougher.input.feed_','Сырье'],['rougher.output.concentrate_','Флотация'],['primary_cleaner.output.concentrate_','Первый этап очистки'],['final.output.concentrate_','Второй этап очистки(финальный)']]\n",
    "plt.figure(figsize=(10,5))\n",
    "for s,c in zip(stage,['red','green','blue','yellow']):\n",
    "    sns.histplot(conc_sum[s[0]], color=c,label=s[1], kde=True, stat=\"density\", linewidth=0)\n",
    "    plt.legend()\n",
    "    plt.title('Распределение концентрации металлов на каждом этапе')\n",
    "    plt.xlabel('концентрация,%')"
   ]
  },
  {
   "cell_type": "markdown",
   "metadata": {},
   "source": [
    "В нуле собирается столбик, приблизим. Стоит проверить, поскольку тянет на аномалии. Возможно, в тот момент на производстве не проводили измерений по различным причинам. "
   ]
  },
  {
   "cell_type": "code",
   "execution_count": 36,
   "metadata": {},
   "outputs": [
    {
     "data": {
      "image/png": "[encoded data removed]",
      "text/plain": [
       "<Figure size 360x360 with 1 Axes>"
      ]
     },
     "metadata": {
      "needs_background": "light"
     },
     "output_type": "display_data"
    }
   ],
   "source": [
    "stage = [['rougher.input.feed_','Сырье'],['rougher.output.concentrate_','Флотация'],['primary_cleaner.output.concentrate_','Первый этап очистки'],['final.output.concentrate_','Второй этап очистки(финальный)']]\n",
    "plt.figure(figsize=(5,5))\n",
    "for s,c in zip(stage,['red','green','blue','yellow']):\n",
    "    sns.histplot(conc_sum[s[0]], color=c,label=s[1], kde=True, stat=\"density\", linewidth=0)\n",
    "    plt.legend()\n",
    "    plt.title('Распределение концентрации металлов на каждом этапе')\n",
    "    plt.xlabel('концентрация,%')\n",
    "    plt.xlim([0,5])\n",
    "    plt.ylim([0,0.05])"
   ]
  },
  {
   "cell_type": "markdown",
   "metadata": {},
   "source": [
    "Выберем из conc_sum (фрейм суммарных концентраций) даты элементов, где на каком-то этапе стоят нули и удалим из train, поскольку нулевые аномалии могут сказаться на результате машинного обучения."
   ]
  },
  {
   "cell_type": "code",
   "execution_count": 37,
   "metadata": {},
   "outputs": [
    {
     "data": {
      "text/plain": [
       "591"
      ]
     },
     "execution_count": 37,
     "metadata": {},
     "output_type": "execute_result"
    }
   ],
   "source": [
    "#запишем сюда даты, где суммарная концентрация равна 0\n",
    "indexes = conc_sum.query('(`rougher.output.concentrate_` == 0) or (`rougher.input.feed_` == 0) or (`final.output.concentrate_` == 0)or (`primary_cleaner.output.concentrate_` == 0)')['date']\n",
    "len(indexes)"
   ]
  },
  {
   "cell_type": "markdown",
   "metadata": {},
   "source": [
    "Т.е. имеется 591 строка, где суммарная концентрация на каком-то этапе равна 0."
   ]
  },
  {
   "cell_type": "code",
   "execution_count": 38,
   "metadata": {},
   "outputs": [],
   "source": [
    "conc_sum = conc_sum.loc[~conc_sum['date'].isin(indexes.values)]"
   ]
  },
  {
   "cell_type": "code",
   "execution_count": 39,
   "metadata": {
    "scrolled": true
   },
   "outputs": [
    {
     "data": {
      "image/png": "[encoded data removed]",
      "text/plain": [
       "<Figure size 1440x360 with 4 Axes>"
      ]
     },
     "metadata": {
      "needs_background": "light"
     },
     "output_type": "display_data"
    }
   ],
   "source": [
    "figure, axis = plt.subplots(1, 4,figsize=(20,5))\n",
    "figure.suptitle('Суммарная концентрация всех веществ на разных стадиях')\n",
    "for s,ax in zip(stage,axis):\n",
    "    ax.set_title(s[1])\n",
    "    sns.histplot(conc_sum[s[0]], color='purple',label=s[1], kde=True, stat=\"density\", linewidth=0,ax=ax)"
   ]
  },
  {
   "cell_type": "markdown",
   "metadata": {},
   "source": [
    "Как видим, после такой \"подчистки\" большинство нули исчезло, однако на графике первой очистки есть маленький столбик в 0. Проверим, что там за значения.\n",
    "\n",
    "В этом столбце целых 120 строк, со значением меньше 1, но не равных нулю. Да, они маленькие, но в технологическом процессе может быть и такое - главное, что не 0. Оставляем их."
   ]
  },
  {
   "cell_type": "code",
   "execution_count": 40,
   "metadata": {},
   "outputs": [
    {
     "data": {
      "text/html": [
       "<div>\n",
       "<style scoped>\n",
       "    .dataframe tbody tr th:only-of-type {\n",
       "        vertical-align: middle;\n",
       "    }\n",
       "\n",
       "    .dataframe tbody tr th {\n",
       "        vertical-align: top;\n",
       "    }\n",
       "\n",
       "    .dataframe thead th {\n",
       "        text-align: right;\n",
       "    }\n",
       "</style>\n",
       "<table border=\"1\" class=\"dataframe\">\n",
       "  <thead>\n",
       "    <tr style=\"text-align: right;\">\n",
       "      <th></th>\n",
       "      <th>date</th>\n",
       "      <th>rougher.input.feed_</th>\n",
       "      <th>rougher.output.concentrate_</th>\n",
       "      <th>primary_cleaner.output.concentrate_</th>\n",
       "      <th>final.output.concentrate_</th>\n",
       "    </tr>\n",
       "  </thead>\n",
       "  <tbody>\n",
       "    <tr>\n",
       "      <th>9400</th>\n",
       "      <td>2017-04-12 01:59:59</td>\n",
       "      <td>57.622237</td>\n",
       "      <td>66.551581</td>\n",
       "      <td>0.774000</td>\n",
       "      <td>70.100386</td>\n",
       "    </tr>\n",
       "    <tr>\n",
       "      <th>11262</th>\n",
       "      <td>2017-07-13 04:59:59</td>\n",
       "      <td>51.883150</td>\n",
       "      <td>71.901628</td>\n",
       "      <td>0.113023</td>\n",
       "      <td>69.902495</td>\n",
       "    </tr>\n",
       "    <tr>\n",
       "      <th>15740</th>\n",
       "      <td>2018-02-17 17:59:59</td>\n",
       "      <td>60.587233</td>\n",
       "      <td>70.244588</td>\n",
       "      <td>0.040000</td>\n",
       "      <td>69.239321</td>\n",
       "    </tr>\n",
       "    <tr>\n",
       "      <th>15741</th>\n",
       "      <td>2018-02-17 18:59:59</td>\n",
       "      <td>60.932924</td>\n",
       "      <td>71.587910</td>\n",
       "      <td>0.040000</td>\n",
       "      <td>68.799424</td>\n",
       "    </tr>\n",
       "    <tr>\n",
       "      <th>15742</th>\n",
       "      <td>2018-02-17 19:59:59</td>\n",
       "      <td>59.948689</td>\n",
       "      <td>72.355166</td>\n",
       "      <td>0.040000</td>\n",
       "      <td>69.618763</td>\n",
       "    </tr>\n",
       "    <tr>\n",
       "      <th>...</th>\n",
       "      <td>...</td>\n",
       "      <td>...</td>\n",
       "      <td>...</td>\n",
       "      <td>...</td>\n",
       "      <td>...</td>\n",
       "    </tr>\n",
       "    <tr>\n",
       "      <th>19253</th>\n",
       "      <td>2018-08-10 03:59:59</td>\n",
       "      <td>65.372679</td>\n",
       "      <td>74.231258</td>\n",
       "      <td>0.040000</td>\n",
       "      <td>68.560160</td>\n",
       "    </tr>\n",
       "    <tr>\n",
       "      <th>19254</th>\n",
       "      <td>2018-08-10 04:59:59</td>\n",
       "      <td>65.082625</td>\n",
       "      <td>75.579562</td>\n",
       "      <td>0.040000</td>\n",
       "      <td>68.468135</td>\n",
       "    </tr>\n",
       "    <tr>\n",
       "      <th>19255</th>\n",
       "      <td>2018-08-10 05:59:59</td>\n",
       "      <td>64.927849</td>\n",
       "      <td>74.882662</td>\n",
       "      <td>0.040000</td>\n",
       "      <td>68.540325</td>\n",
       "    </tr>\n",
       "    <tr>\n",
       "      <th>19256</th>\n",
       "      <td>2018-08-10 06:59:59</td>\n",
       "      <td>45.851614</td>\n",
       "      <td>43.117470</td>\n",
       "      <td>0.040000</td>\n",
       "      <td>55.612711</td>\n",
       "    </tr>\n",
       "    <tr>\n",
       "      <th>19257</th>\n",
       "      <td>2018-08-10 07:59:59</td>\n",
       "      <td>65.220999</td>\n",
       "      <td>77.110087</td>\n",
       "      <td>0.040000</td>\n",
       "      <td>27.339765</td>\n",
       "    </tr>\n",
       "  </tbody>\n",
       "</table>\n",
       "<p>120 rows × 5 columns</p>\n",
       "</div>"
      ],
      "text/plain": [
       "                      date  rougher.input.feed_  rougher.output.concentrate_  \\\n",
       "9400   2017-04-12 01:59:59            57.622237                    66.551581   \n",
       "11262  2017-07-13 04:59:59            51.883150                    71.901628   \n",
       "15740  2018-02-17 17:59:59            60.587233                    70.244588   \n",
       "15741  2018-02-17 18:59:59            60.932924                    71.587910   \n",
       "15742  2018-02-17 19:59:59            59.948689                    72.355166   \n",
       "...                    ...                  ...                          ...   \n",
       "19253  2018-08-10 03:59:59            65.372679                    74.231258   \n",
       "19254  2018-08-10 04:59:59            65.082625                    75.579562   \n",
       "19255  2018-08-10 05:59:59            64.927849                    74.882662   \n",
       "19256  2018-08-10 06:59:59            45.851614                    43.117470   \n",
       "19257  2018-08-10 07:59:59            65.220999                    77.110087   \n",
       "\n",
       "       primary_cleaner.output.concentrate_  final.output.concentrate_  \n",
       "9400                              0.774000                  70.100386  \n",
       "11262                             0.113023                  69.902495  \n",
       "15740                             0.040000                  69.239321  \n",
       "15741                             0.040000                  68.799424  \n",
       "15742                             0.040000                  69.618763  \n",
       "...                                    ...                        ...  \n",
       "19253                             0.040000                  68.560160  \n",
       "19254                             0.040000                  68.468135  \n",
       "19255                             0.040000                  68.540325  \n",
       "19256                             0.040000                  55.612711  \n",
       "19257                             0.040000                  27.339765  \n",
       "\n",
       "[120 rows x 5 columns]"
      ]
     },
     "execution_count": 40,
     "metadata": {},
     "output_type": "execute_result"
    }
   ],
   "source": [
    "conc_sum.loc[conc_sum['primary_cleaner.output.concentrate_']<1,:]"
   ]
  },
  {
   "cell_type": "markdown",
   "metadata": {},
   "source": [
    "Проделаем ту же процедуру для train, чтобы нулевые аномалии не отразились на будущей модели, т.е. удалим строки с нулевой концентрацией на этапе.\n",
    "\n",
    "Важно отметить, что не все значения из indexes присутствуют в train, а именно 167 нет в train, значит они попали в тестовую выборку. Но в тестовой выборке мы не будем их удалять, чтобы случайно не завысить метрики качества."
   ]
  },
  {
   "cell_type": "code",
   "execution_count": 41,
   "metadata": {},
   "outputs": [
    {
     "name": "stdout",
     "output_type": "stream",
     "text": [
      "Действительно, нет\n"
     ]
    }
   ],
   "source": [
    "#пример того, что некоторых значений нет в трейне, но есть в indexes\n",
    "if (('2016-09-02 06:59:59' not in data_train['date']) and ('2016-09-02 06:59:59' in indexes.values)):\n",
    "    print('Действительно, нет')"
   ]
  },
  {
   "cell_type": "markdown",
   "metadata": {},
   "source": [
    "А теперь удалим те значения в трейне и в таргете, которые можем."
   ]
  },
  {
   "cell_type": "code",
   "execution_count": 42,
   "metadata": {},
   "outputs": [
    {
     "name": "stdout",
     "output_type": "stream",
     "text": [
      "(13725, 53)\n",
      "(13725, 3)\n"
     ]
    }
   ],
   "source": [
    "data_train = data_train.loc[~data_train['date'].isin(indexes.values)]\n",
    "target = target.loc[~target['date'].isin(indexes.values)]\n",
    "print(data_train.shape)\n",
    "print(target.shape)"
   ]
  },
  {
   "cell_type": "markdown",
   "metadata": {},
   "source": [
    "Размер трейна был 14149, хотели удалить 591 значение, но смогли только 591-167=424, тогда 14149-424=13725.\n",
    "\n",
    "Ура, всё сошлось!"
   ]
  },
  {
   "cell_type": "markdown",
   "metadata": {},
   "source": [
    "**Вывод**: итак, на этапе анализа данных проведено исследование концентрации металлов и суммарной концентрации на каждом этапе очистки. Также изучено распределение размера гранул на тестовой и обучающей выборках.\n",
    "\n",
    "- От этапа к этапу концентрация золота повышается, в то же время концентрация серебра с каждым этапом уменьшается. У свница однозначной динамики нет.\n",
    "- Распределения гранул на обучающей и тестовой выборках не критично отличаются.\n",
    "- Суммарная концентрация после флотации увеличивается по сравнению с сырьем, после первой очистки немного уменьшается и достигает максимума в финальном продукте. "
   ]
  },
  {
   "cell_type": "markdown",
   "metadata": {},
   "source": [
    "## Модель"
   ]
  },
  {
   "cell_type": "markdown",
   "metadata": {},
   "source": [
    "### sMAPE"
   ]
  },
  {
   "attachments": {
    "image.png": {
     "image/png": "[encoded data removed]"
    }
   },
   "cell_type": "markdown",
   "metadata": {},
   "source": [
    "![image.png](attachment:image.png)"
   ]
  },
  {
   "cell_type": "code",
   "execution_count": 44,
   "metadata": {},
   "outputs": [],
   "source": [
    "def smape(true, pred):\n",
    "    true = np.array(true)\n",
    "    pred = np.array(pred)\n",
    "    S = 2*(np.abs(true - pred) / (np.abs(true) + np.abs(pred)))\n",
    "    return np.mean(S)*100\n",
    "def res_smape(smape_rougher, smape_final):\n",
    "    return 0.25*smape_rougher + 0.75*smape_final\n",
    "smape_score = make_scorer(smape, greater_is_better=False)"
   ]
  },
  {
   "cell_type": "markdown",
   "metadata": {},
   "source": [
    "### Выбор наилучшей модели"
   ]
  },
  {
   "cell_type": "markdown",
   "metadata": {},
   "source": [
    "Приступим к построению модели. Целевые признаки - `rougher.output.recovery`, `final.output.recovery`. Добавим в качестве таргета для тестовой выборки значения из data_full, выцепляя значения по date."
   ]
  },
  {
   "cell_type": "code",
   "execution_count": 45,
   "metadata": {},
   "outputs": [],
   "source": [
    "target_test = data_full.loc[data_full['date'].isin(data_test['date']),['rougher.output.recovery', 'final.output.recovery']]"
   ]
  },
  {
   "cell_type": "code",
   "execution_count": 46,
   "metadata": {},
   "outputs": [],
   "source": [
    "target_train = target.reset_index(drop = True)\n",
    "target_test = target_test.reset_index(drop=True)\n",
    "data_train = data_train.reset_index(drop = True)\n",
    "data_train = data_train.drop('date',axis=1)\n",
    "target_train = target_train.drop('date',axis=1)\n",
    "data_test = data_test.drop('date',axis=1)"
   ]
  },
  {
   "cell_type": "code",
   "execution_count": 47,
   "metadata": {},
   "outputs": [],
   "source": [
    "features_train = data_train\n",
    "features_test = data_test"
   ]
  },
  {
   "cell_type": "code",
   "execution_count": 48,
   "metadata": {
    "scrolled": true
   },
   "outputs": [
    {
     "name": "stdout",
     "output_type": "stream",
     "text": [
      "Размер features_train (13725, 52)\n",
      "Размер target_train (13725, 2)\n",
      "Размер features_test (5290, 52)\n",
      "Размер target_test (5290, 2)\n"
     ]
    }
   ],
   "source": [
    "print('Размер features_train', features_train.shape)\n",
    "print('Размер target_train',target_train.shape)\n",
    "print('Размер features_test',features_test.shape)\n",
    "print('Размер target_test',target_test.shape)"
   ]
  },
  {
   "cell_type": "code",
   "execution_count": 49,
   "metadata": {
    "scrolled": true
   },
   "outputs": [
    {
     "data": {
      "text/html": [
       "<div>\n",
       "<style scoped>\n",
       "    .dataframe tbody tr th:only-of-type {\n",
       "        vertical-align: middle;\n",
       "    }\n",
       "\n",
       "    .dataframe tbody tr th {\n",
       "        vertical-align: top;\n",
       "    }\n",
       "\n",
       "    .dataframe thead th {\n",
       "        text-align: right;\n",
       "    }\n",
       "</style>\n",
       "<table border=\"1\" class=\"dataframe\">\n",
       "  <thead>\n",
       "    <tr style=\"text-align: right;\">\n",
       "      <th></th>\n",
       "      <th>rougher.output.recovery</th>\n",
       "      <th>final.output.recovery</th>\n",
       "    </tr>\n",
       "  </thead>\n",
       "  <tbody>\n",
       "    <tr>\n",
       "      <th>0</th>\n",
       "      <td>89.993421</td>\n",
       "      <td>70.273583</td>\n",
       "    </tr>\n",
       "    <tr>\n",
       "      <th>1</th>\n",
       "      <td>88.089657</td>\n",
       "      <td>68.910432</td>\n",
       "    </tr>\n",
       "    <tr>\n",
       "      <th>2</th>\n",
       "      <td>88.412756</td>\n",
       "      <td>68.143213</td>\n",
       "    </tr>\n",
       "    <tr>\n",
       "      <th>3</th>\n",
       "      <td>87.360133</td>\n",
       "      <td>67.776393</td>\n",
       "    </tr>\n",
       "    <tr>\n",
       "      <th>4</th>\n",
       "      <td>83.236367</td>\n",
       "      <td>61.467078</td>\n",
       "    </tr>\n",
       "    <tr>\n",
       "      <th>...</th>\n",
       "      <td>...</td>\n",
       "      <td>...</td>\n",
       "    </tr>\n",
       "    <tr>\n",
       "      <th>5285</th>\n",
       "      <td>95.172585</td>\n",
       "      <td>68.919891</td>\n",
       "    </tr>\n",
       "    <tr>\n",
       "      <th>5286</th>\n",
       "      <td>94.575036</td>\n",
       "      <td>68.440582</td>\n",
       "    </tr>\n",
       "    <tr>\n",
       "      <th>5287</th>\n",
       "      <td>93.018138</td>\n",
       "      <td>67.092759</td>\n",
       "    </tr>\n",
       "    <tr>\n",
       "      <th>5288</th>\n",
       "      <td>92.599042</td>\n",
       "      <td>68.061186</td>\n",
       "    </tr>\n",
       "    <tr>\n",
       "      <th>5289</th>\n",
       "      <td>91.177695</td>\n",
       "      <td>71.699976</td>\n",
       "    </tr>\n",
       "  </tbody>\n",
       "</table>\n",
       "<p>5290 rows × 2 columns</p>\n",
       "</div>"
      ],
      "text/plain": [
       "      rougher.output.recovery  final.output.recovery\n",
       "0                   89.993421              70.273583\n",
       "1                   88.089657              68.910432\n",
       "2                   88.412756              68.143213\n",
       "3                   87.360133              67.776393\n",
       "4                   83.236367              61.467078\n",
       "...                       ...                    ...\n",
       "5285                95.172585              68.919891\n",
       "5286                94.575036              68.440582\n",
       "5287                93.018138              67.092759\n",
       "5288                92.599042              68.061186\n",
       "5289                91.177695              71.699976\n",
       "\n",
       "[5290 rows x 2 columns]"
      ]
     },
     "execution_count": 49,
     "metadata": {},
     "output_type": "execute_result"
    }
   ],
   "source": [
    "target_test"
   ]
  },
  {
   "cell_type": "code",
   "execution_count": 50,
   "metadata": {},
   "outputs": [],
   "source": [
    "rougher_col = []\n",
    "final_col =[]\n",
    "for col in features_train.columns:\n",
    "    if ('rougher.input' in col or 'rougher.state' in col):\n",
    "        rougher_col.append(col)"
   ]
  },
  {
   "cell_type": "code",
   "execution_count": 51,
   "metadata": {},
   "outputs": [
    {
     "name": "stdout",
     "output_type": "stream",
     "text": [
      "Rougher train: features_train (13725, 22) , target_train (13725,)\n",
      "Rougher test: features_test (5290, 22) , target_test (5290,)\n",
      "Final train: features_train (13725, 52) , target_train (13725,)\n",
      "Final test: features_test (5290, 52) , target_test (5290,)\n"
     ]
    }
   ],
   "source": [
    "features_train_r = features_train[rougher_col]\n",
    "target_train_r = target_train['rougher.output.recovery']\n",
    "features_train_f = features_train\n",
    "target_train_f = target_train['final.output.recovery']\n",
    "features_test_r = features_test[rougher_col]\n",
    "target_test_r = target_test['rougher.output.recovery']\n",
    "features_test_f = features_test\n",
    "target_test_f = target_test['final.output.recovery']\n",
    "print('Rougher train: features_train', features_train_r.shape,', target_train',target_train_r.shape)\n",
    "print('Rougher test: features_test', features_test_r.shape,', target_test',target_test_r.shape)\n",
    "print('Final train: features_train', features_train_f.shape,', target_train',target_train_f.shape)\n",
    "print('Final test: features_test', features_test_f.shape,', target_test',target_test_f.shape)"
   ]
  },
  {
   "cell_type": "markdown",
   "metadata": {},
   "source": [
    "Будем рассматривать четыре модели: линейную регрессию, случайный лес, ближайших соседей и решающее дерево."
   ]
  },
  {
   "cell_type": "markdown",
   "metadata": {},
   "source": [
    "#### Линейная регрессия"
   ]
  },
  {
   "cell_type": "markdown",
   "metadata": {},
   "source": [
    "Применяем линейную регрессию на обучающей выборке с использованием кросс-валидации и 5ю фолдами."
   ]
  },
  {
   "cell_type": "code",
   "execution_count": 52,
   "metadata": {},
   "outputs": [
    {
     "name": "stdout",
     "output_type": "stream",
     "text": [
      "Метрика sMAPE для\n",
      "rougher: 6.677118661212704\n",
      "final: 10.950532500993102\n",
      "Итоговое sMAPE 9.882179041048001\n"
     ]
    }
   ],
   "source": [
    "model1 = LinearRegression()\n",
    "smape_rougher = cross_val_score(model1, features_train_r, target_train_r, cv=5, scoring = smape_score)\n",
    "smape_final =  cross_val_score(model1, features_train_f, target_train_f, cv=5, scoring = smape_score)\n",
    "print('Метрика sMAPE для')\n",
    "print('rougher:',-smape_rougher.mean())\n",
    "print('final:',-smape_final.mean())\n",
    "print('Итоговое sMAPE',-res_smape(smape_rougher,smape_final).mean())"
   ]
  },
  {
   "cell_type": "markdown",
   "metadata": {},
   "source": [
    "#### Случайный лес"
   ]
  },
  {
   "cell_type": "markdown",
   "metadata": {},
   "source": [
    "Первый раз пробую gridsearch=)"
   ]
  },
  {
   "cell_type": "code",
   "execution_count": 53,
   "metadata": {},
   "outputs": [
    {
     "name": "stdout",
     "output_type": "stream",
     "text": [
      "CPU times: user 5.82 s, sys: 218 ms, total: 6.04 s\n",
      "Wall time: 7min 58s\n"
     ]
    },
    {
     "data": {
      "text/plain": [
       "GridSearchCV(cv=5, estimator=RandomForestRegressor(random_state=12345),\n",
       "             n_jobs=2,\n",
       "             param_grid={'max_depth': range(2, 11, 2),\n",
       "                         'n_estimators': range(10, 30, 5)},\n",
       "             scoring=make_scorer(smape, greater_is_better=False))"
      ]
     },
     "execution_count": 53,
     "metadata": {},
     "output_type": "execute_result"
    }
   ],
   "source": [
    "%%time\n",
    "RANDOM_STATE = 12345\n",
    "model2=RandomForestRegressor(random_state=RANDOM_STATE)\n",
    "parameters = {'n_estimators': range(10,30,5), 'max_depth': range(2, 11,2)}\n",
    "rfr = GridSearchCV(estimator = model2, param_grid = parameters, cv = 5, scoring = smape_score, n_jobs=2)\n",
    "rfr.fit(features_train_r, target_train_r)\n",
    "rff=GridSearchCV(estimator = model2, param_grid = parameters, cv = 5, scoring = smape_score, n_jobs=2)\n",
    "rff.fit(features_train_f, target_train_f)"
   ]
  },
  {
   "cell_type": "markdown",
   "metadata": {},
   "source": [
    "Искал 15 минут!"
   ]
  },
  {
   "cell_type": "code",
   "execution_count": 54,
   "metadata": {},
   "outputs": [
    {
     "name": "stdout",
     "output_type": "stream",
     "text": [
      "Метрика sMAPE для\n",
      "rougher: 6.614803368689844 , с параметрами: {'max_depth': 4, 'n_estimators': 25}\n",
      "final: 9.0301432829274 , с параметрами: {'max_depth': 4, 'n_estimators': 20}\n",
      "Итоговое sMAPE 8.42630830436801\n"
     ]
    }
   ],
   "source": [
    "print('Метрика sMAPE для')\n",
    "print('rougher:',-rfr.best_score_, ', с параметрами:', rfr.best_params_)\n",
    "print('final:',-rff.best_score_, ', с параметрами:', rff.best_params_)\n",
    "print('Итоговое sMAPE',-res_smape(rfr.best_score_,rff.best_score_).mean())"
   ]
  },
  {
   "cell_type": "markdown",
   "metadata": {},
   "source": [
    "#### Ближайшие  соседи"
   ]
  },
  {
   "cell_type": "code",
   "execution_count": 55,
   "metadata": {},
   "outputs": [
    {
     "name": "stdout",
     "output_type": "stream",
     "text": [
      "CPU times: user 342 ms, sys: 53 ms, total: 395 ms\n",
      "Wall time: 43 s\n"
     ]
    },
    {
     "data": {
      "text/plain": [
       "GridSearchCV(cv=5, estimator=KNeighborsRegressor(), n_jobs=2,\n",
       "             param_grid={'n_neighbors': range(1, 10)},\n",
       "             scoring=make_scorer(smape, greater_is_better=False))"
      ]
     },
     "execution_count": 55,
     "metadata": {},
     "output_type": "execute_result"
    }
   ],
   "source": [
    "%%time\n",
    "model3 = KNeighborsRegressor()\n",
    "parameters = {'n_neighbors': range(1,10)}\n",
    "knr=GridSearchCV(estimator = model3, param_grid = parameters, cv = 5, scoring = smape_score, n_jobs=2)\n",
    "knr.fit(features_train_r, target_train_r)\n",
    "knf=GridSearchCV(estimator = model3, param_grid = parameters, cv = 5, scoring = smape_score, n_jobs=2)\n",
    "knf.fit(features_train_f, target_train_f)"
   ]
  },
  {
   "cell_type": "code",
   "execution_count": 56,
   "metadata": {},
   "outputs": [
    {
     "name": "stdout",
     "output_type": "stream",
     "text": [
      "Метрика sMAPE для\n",
      "rougher: 9.31438883159802 , с параметрами: {'n_neighbors': 9}\n",
      "final: 12.174152529908067 , с параметрами: {'n_neighbors': 7}\n",
      "Итоговое sMAPE 11.459211605330555\n"
     ]
    }
   ],
   "source": [
    "print('Метрика sMAPE для')\n",
    "print('rougher:',-knr.best_score_, ', с параметрами:', knr.best_params_)\n",
    "print('final:',-knf.best_score_, ', с параметрами:', knf.best_params_)\n",
    "print('Итоговое sMAPE',-res_smape(knr.best_score_,knf.best_score_).mean())"
   ]
  },
  {
   "cell_type": "markdown",
   "metadata": {},
   "source": [
    "Здесь подозрительно высокая метрика, не будем ее использовать для тестовой выборки."
   ]
  },
  {
   "cell_type": "markdown",
   "metadata": {},
   "source": [
    "#### Решающее дерево"
   ]
  },
  {
   "cell_type": "code",
   "execution_count": 57,
   "metadata": {},
   "outputs": [
    {
     "data": {
      "text/plain": [
       "GridSearchCV(cv=5, estimator=DecisionTreeRegressor(random_state=12345),\n",
       "             n_jobs=8,\n",
       "             param_grid={'max_depth': range(1, 11),\n",
       "                         'min_samples_leaf': range(1, 5)},\n",
       "             scoring=make_scorer(smape, greater_is_better=False))"
      ]
     },
     "execution_count": 57,
     "metadata": {},
     "output_type": "execute_result"
    }
   ],
   "source": [
    "model4 =DecisionTreeRegressor(random_state=RANDOM_STATE)\n",
    "parameters = {'min_samples_leaf': range(1,5), 'max_depth': range(1,11)}\n",
    "\n",
    "dtr = GridSearchCV(model4, param_grid=parameters, scoring=smape_score, cv=5, n_jobs=8)\n",
    "dtr.fit(features_train_r, target_train_r)\n",
    "\n",
    "dtf = GridSearchCV(model4, param_grid=parameters, scoring=smape_score, cv=5, n_jobs=8)\n",
    "dtf.fit(features_train_f, target_train_f)"
   ]
  },
  {
   "cell_type": "code",
   "execution_count": 58,
   "metadata": {},
   "outputs": [
    {
     "name": "stdout",
     "output_type": "stream",
     "text": [
      "Метрика sMAPE для\n",
      "rougher: 7.011978846411521 , с параметрами: {'max_depth': 4, 'min_samples_leaf': 2}\n",
      "final: 9.440354196471514 , с параметрами: {'max_depth': 3, 'min_samples_leaf': 1}\n",
      "Итоговое sMAPE 8.833260358956515\n"
     ]
    }
   ],
   "source": [
    "print('Метрика sMAPE для')\n",
    "print('rougher:',-dtr.best_score_, ', с параметрами:', dtr.best_params_)\n",
    "print('final:',-dtf.best_score_, ', с параметрами:', dtf.best_params_)\n",
    "print('Итоговое sMAPE',-res_smape(dtr.best_score_,dtf.best_score_).mean())"
   ]
  },
  {
   "cell_type": "markdown",
   "metadata": {},
   "source": [
    "### Проверка на тестовой выборке"
   ]
  },
  {
   "cell_type": "markdown",
   "metadata": {},
   "source": [
    "Будем проверять на случайном лесе, с параметрами, которые нашли в GridSearch. "
   ]
  },
  {
   "cell_type": "code",
   "execution_count": 63,
   "metadata": {},
   "outputs": [
    {
     "name": "stdout",
     "output_type": "stream",
     "text": [
      "Итоговая sMAPE 9.515501106933671\n"
     ]
    }
   ],
   "source": [
    "r_model = RandomForestRegressor(random_state=RANDOM_STATE,**rfr.best_params_) \n",
    "f_model = RandomForestRegressor(random_state=RANDOM_STATE, **rff.best_params_) \n",
    "r_model.fit(features_train_r, target_train_r)\n",
    "f_model.fit(features_train_f, target_train_f)\n",
    "pred_rougher = r_model.predict(features_test_r)\n",
    "pred_final = f_model.predict(features_test_f)\n",
    "smape_r = smape(target_test_r, pred_rougher)\n",
    "smape_f = smape(target_test_f, pred_final)\n",
    "print('Итоговая sMAPE',res_smape(smape_r, smape_f))"
   ]
  },
  {
   "cell_type": "markdown",
   "metadata": {},
   "source": [
    "Заодно проверим на DummyRegressor адекватность модели. Как видим, значения итоговой метрики от случайного леса и от Dummy дали приблизительно один результат. Когда проверяла ближайших соседей, то значения отличались больше."
   ]
  },
  {
   "cell_type": "code",
   "execution_count": 64,
   "metadata": {},
   "outputs": [
    {
     "name": "stdout",
     "output_type": "stream",
     "text": [
      "Итоговая sMAPE 9.831066377059802\n"
     ]
    }
   ],
   "source": [
    "dummy_r = DummyRegressor(strategy='mean').fit(features_train_r, target_train_r)\n",
    "dummy_f = DummyRegressor(strategy='mean').fit(features_train_f, target_train_f)\n",
    "pred_rougher = dummy_r.predict(features_test_r)\n",
    "pred_final = dummy_f.predict(features_test_f)\n",
    "smape_r = smape(target_test_r, pred_rougher)\n",
    "smape_f = smape(target_test_f, pred_final)\n",
    "print('Итоговая sMAPE',res_smape(smape_r, smape_f))"
   ]
  },
  {
   "cell_type": "markdown",
   "metadata": {},
   "source": [
    "## Общий вывод"
   ]
  },
  {
   "cell_type": "markdown",
   "metadata": {},
   "source": [
    "Итак, резюмирую проделанную работу. На начальном этапе была проверена правильность расчета эффективности обогащения, а именно посчитана mean_absolute_error между собственно ручно посчитанной recovery и теми значениями, которые присутствовали в таблице. MAE оказалась равна 1e-14, что показало правильность расчетов.\n",
    "\n",
    "Далее было замечено, что в тестовой выборке отсутствуют некоторые столбцы, они были удалены из тренировочной выборки, поскольку при обучении они бесполезны.\n",
    "\n",
    "После была проведена обработка данных: дубликатов обнаружено не было, а пропуски были заполнены предыдущим по значению временем, поскольку значения признаков в промежутке +- час не сильно изменялись.\n",
    "\n",
    "В рамках анализа данных исследована концентрация золота, серебра и свинца на разных этапах очистки. Свинец и золото показали положительную динамику концентрации, а вот серебро не дало стабильного роста или падения.\n",
    "\n",
    "Выявлена схожесть распределений размеров гранул в тестовой и обучающей выборках.\n",
    "\n",
    "Далее исследована суммарная концентрация металлов на каждом этапе, здесь были обнаружены нулевые аномалии, которые было решено удалить из тренировочной выборки, поскольку они могли повлиять на предсказания модели. \n",
    "\n",
    "В качестве метрики машинного обучения введена функция sMAPE, а модели были взяты следующие: дерево решений, случайный лес, линейная регрессия и ближайшие соседи. Самую большую метрику sMAPE показала модель ближайших соседей, однако при проверке dummy метрики сильно отличались, поэтому было принято решений взять модель случайного леса, хоть она и показала наименьшее значение на \n",
    "\n",
    "//Модель: итоговая sMAPE//\n",
    "- Линейная регрессия: 9.88%\n",
    "- Случайный лес: 8.43%\n",
    "- Ближайшие соседи: 11.45%\n",
    "- Дерево решений: 8.83%\n",
    "\n",
    "Для предсказаний на тестовой выборке взята модель случайного леса с параметарами n_estimators = 25, max_depth = 4 для rougher и n_estimators = 20, max_depth = 4 для final. \n",
    "\n",
    "Результат итоговой sMAPE: 9.5%"
   ]
  }
 ],
 "metadata": {
  "ExecuteTimeLog": [
   {
    "duration": 1588,
    "start_time": "2023-03-02T09:00:25.261Z"
   },
   {
    "duration": 2204,
    "start_time": "2023-03-02T09:00:26.851Z"
   },
   {
    "duration": 65,
    "start_time": "2023-03-02T09:00:29.056Z"
   },
   {
    "duration": 29,
    "start_time": "2023-03-02T09:00:29.123Z"
   },
   {
    "duration": 20,
    "start_time": "2023-03-02T09:00:29.154Z"
   },
   {
    "duration": 16,
    "start_time": "2023-03-02T09:00:29.176Z"
   },
   {
    "duration": 44,
    "start_time": "2023-03-02T09:00:29.195Z"
   },
   {
    "duration": 5,
    "start_time": "2023-03-02T09:00:29.241Z"
   },
   {
    "duration": 9,
    "start_time": "2023-03-02T09:00:29.248Z"
   },
   {
    "duration": 148,
    "start_time": "2023-03-02T09:00:29.258Z"
   },
   {
    "duration": 10,
    "start_time": "2023-03-02T09:00:29.408Z"
   },
   {
    "duration": 18,
    "start_time": "2023-03-02T09:00:29.420Z"
   },
   {
    "duration": 24,
    "start_time": "2023-03-02T09:00:29.440Z"
   },
   {
    "duration": 9,
    "start_time": "2023-03-02T09:00:29.468Z"
   },
   {
    "duration": 25,
    "start_time": "2023-03-02T09:00:29.479Z"
   },
   {
    "duration": 3,
    "start_time": "2023-03-02T09:00:29.506Z"
   },
   {
    "duration": 25,
    "start_time": "2023-03-02T09:00:29.511Z"
   },
   {
    "duration": 4,
    "start_time": "2023-03-02T09:00:29.538Z"
   },
   {
    "duration": 32,
    "start_time": "2023-03-02T09:00:29.544Z"
   },
   {
    "duration": 29,
    "start_time": "2023-03-02T09:00:29.578Z"
   },
   {
    "duration": 23,
    "start_time": "2023-03-02T09:00:29.634Z"
   },
   {
    "duration": 8,
    "start_time": "2023-03-02T09:00:29.659Z"
   },
   {
    "duration": 8,
    "start_time": "2023-03-02T09:00:29.669Z"
   },
   {
    "duration": 8,
    "start_time": "2023-03-02T09:00:29.679Z"
   },
   {
    "duration": 56,
    "start_time": "2023-03-02T09:00:29.689Z"
   },
   {
    "duration": 23,
    "start_time": "2023-03-02T09:00:29.748Z"
   },
   {
    "duration": 3,
    "start_time": "2023-03-02T09:00:29.773Z"
   },
   {
    "duration": 6077,
    "start_time": "2023-03-02T09:00:29.778Z"
   },
   {
    "duration": 23,
    "start_time": "2023-03-02T09:00:35.857Z"
   },
   {
    "duration": 24,
    "start_time": "2023-03-02T09:00:35.882Z"
   },
   {
    "duration": 52,
    "start_time": "2023-03-02T09:00:35.907Z"
   },
   {
    "duration": 1551,
    "start_time": "2023-03-02T09:00:35.962Z"
   },
   {
    "duration": 511,
    "start_time": "2023-03-02T09:00:37.515Z"
   },
   {
    "duration": 2660,
    "start_time": "2023-03-02T09:00:38.028Z"
   },
   {
    "duration": 2524,
    "start_time": "2023-03-02T09:00:40.690Z"
   },
   {
    "duration": 2593,
    "start_time": "2023-03-02T09:00:43.216Z"
   },
   {
    "duration": 10,
    "start_time": "2023-03-02T09:00:45.811Z"
   },
   {
    "duration": 20,
    "start_time": "2023-03-02T09:00:45.823Z"
   },
   {
    "duration": 2518,
    "start_time": "2023-03-02T09:00:45.845Z"
   },
   {
    "duration": 15,
    "start_time": "2023-03-02T09:00:48.364Z"
   },
   {
    "duration": 4,
    "start_time": "2023-03-02T09:00:48.383Z"
   },
   {
    "duration": 14,
    "start_time": "2023-03-02T09:00:48.388Z"
   },
   {
    "duration": 3,
    "start_time": "2023-03-02T09:00:48.404Z"
   },
   {
    "duration": 27,
    "start_time": "2023-03-02T09:00:48.408Z"
   },
   {
    "duration": 13,
    "start_time": "2023-03-02T09:00:48.437Z"
   },
   {
    "duration": 10,
    "start_time": "2023-03-02T09:00:48.452Z"
   },
   {
    "duration": 5,
    "start_time": "2023-03-02T09:00:48.464Z"
   },
   {
    "duration": 12,
    "start_time": "2023-03-02T09:00:48.470Z"
   },
   {
    "duration": 11,
    "start_time": "2023-03-02T09:00:48.483Z"
   },
   {
    "duration": 6,
    "start_time": "2023-03-02T09:00:48.495Z"
   },
   {
    "duration": 32,
    "start_time": "2023-03-02T09:00:48.502Z"
   },
   {
    "duration": 1903,
    "start_time": "2023-03-02T09:00:48.536Z"
   },
   {
    "duration": 474725,
    "start_time": "2023-03-02T09:00:50.441Z"
   },
   {
    "duration": 5,
    "start_time": "2023-03-02T09:08:45.167Z"
   },
   {
    "duration": 40155,
    "start_time": "2023-03-02T09:08:45.174Z"
   },
   {
    "duration": 5,
    "start_time": "2023-03-02T09:09:25.331Z"
   },
   {
    "duration": 137783,
    "start_time": "2023-03-02T09:09:25.338Z"
   },
   {
    "duration": 11,
    "start_time": "2023-03-02T09:11:43.124Z"
   },
   {
    "duration": 5997,
    "start_time": "2023-03-02T09:11:43.137Z"
   },
   {
    "duration": 8,
    "start_time": "2023-03-02T09:11:49.136Z"
   },
   {
    "duration": 1510,
    "start_time": "2023-03-02T09:15:03.063Z"
   },
   {
    "duration": 740,
    "start_time": "2023-03-02T09:15:04.575Z"
   },
   {
    "duration": 68,
    "start_time": "2023-03-02T09:15:05.317Z"
   },
   {
    "duration": 22,
    "start_time": "2023-03-02T09:15:05.387Z"
   },
   {
    "duration": 39,
    "start_time": "2023-03-02T09:15:05.413Z"
   },
   {
    "duration": 15,
    "start_time": "2023-03-02T09:15:05.454Z"
   },
   {
    "duration": 14,
    "start_time": "2023-03-02T09:15:05.471Z"
   },
   {
    "duration": 13,
    "start_time": "2023-03-02T09:15:05.487Z"
   },
   {
    "duration": 36,
    "start_time": "2023-03-02T09:15:05.502Z"
   },
   {
    "duration": 127,
    "start_time": "2023-03-02T09:15:05.540Z"
   },
   {
    "duration": 9,
    "start_time": "2023-03-02T09:15:05.669Z"
   },
   {
    "duration": 19,
    "start_time": "2023-03-02T09:15:05.680Z"
   },
   {
    "duration": 44,
    "start_time": "2023-03-02T09:15:05.701Z"
   },
   {
    "duration": 7,
    "start_time": "2023-03-02T09:15:05.748Z"
   },
   {
    "duration": 18,
    "start_time": "2023-03-02T09:15:05.757Z"
   },
   {
    "duration": 3,
    "start_time": "2023-03-02T09:15:05.777Z"
   },
   {
    "duration": 19,
    "start_time": "2023-03-02T09:15:05.782Z"
   },
   {
    "duration": 3,
    "start_time": "2023-03-02T09:15:05.803Z"
   },
   {
    "duration": 56,
    "start_time": "2023-03-02T09:15:05.808Z"
   },
   {
    "duration": 28,
    "start_time": "2023-03-02T09:15:05.866Z"
   },
   {
    "duration": 22,
    "start_time": "2023-03-02T09:15:05.896Z"
   },
   {
    "duration": 19,
    "start_time": "2023-03-02T09:15:05.920Z"
   },
   {
    "duration": 9,
    "start_time": "2023-03-02T09:15:05.941Z"
   },
   {
    "duration": 18,
    "start_time": "2023-03-02T09:15:05.952Z"
   },
   {
    "duration": 25,
    "start_time": "2023-03-02T09:15:05.972Z"
   },
   {
    "duration": 46,
    "start_time": "2023-03-02T09:15:05.999Z"
   },
   {
    "duration": 4,
    "start_time": "2023-03-02T09:15:06.046Z"
   },
   {
    "duration": 5834,
    "start_time": "2023-03-02T09:15:06.051Z"
   },
   {
    "duration": 24,
    "start_time": "2023-03-02T09:15:11.887Z"
   },
   {
    "duration": 40,
    "start_time": "2023-03-02T09:15:11.912Z"
   },
   {
    "duration": 25,
    "start_time": "2023-03-02T09:15:11.954Z"
   },
   {
    "duration": 1479,
    "start_time": "2023-03-02T09:15:11.981Z"
   },
   {
    "duration": 353,
    "start_time": "2023-03-02T09:15:13.462Z"
   },
   {
    "duration": 2486,
    "start_time": "2023-03-02T09:15:13.817Z"
   },
   {
    "duration": 2402,
    "start_time": "2023-03-02T09:15:16.305Z"
   },
   {
    "duration": 2539,
    "start_time": "2023-03-02T09:15:18.709Z"
   },
   {
    "duration": 10,
    "start_time": "2023-03-02T09:15:21.250Z"
   },
   {
    "duration": 16,
    "start_time": "2023-03-02T09:15:21.261Z"
   },
   {
    "duration": 2539,
    "start_time": "2023-03-02T09:15:21.279Z"
   },
   {
    "duration": 26,
    "start_time": "2023-03-02T09:15:23.821Z"
   },
   {
    "duration": 4,
    "start_time": "2023-03-02T09:15:23.853Z"
   },
   {
    "duration": 17,
    "start_time": "2023-03-02T09:15:23.858Z"
   },
   {
    "duration": 3,
    "start_time": "2023-03-02T09:15:23.877Z"
   },
   {
    "duration": 9,
    "start_time": "2023-03-02T09:15:23.882Z"
   },
   {
    "duration": 22,
    "start_time": "2023-03-02T09:15:23.893Z"
   },
   {
    "duration": 24,
    "start_time": "2023-03-02T09:15:23.917Z"
   },
   {
    "duration": 2,
    "start_time": "2023-03-02T09:15:23.943Z"
   },
   {
    "duration": 15,
    "start_time": "2023-03-02T09:15:23.947Z"
   },
   {
    "duration": 17,
    "start_time": "2023-03-02T09:15:23.964Z"
   },
   {
    "duration": 6,
    "start_time": "2023-03-02T09:15:23.983Z"
   },
   {
    "duration": 17,
    "start_time": "2023-03-02T09:15:23.991Z"
   },
   {
    "duration": 2127,
    "start_time": "2023-03-02T09:15:24.010Z"
   },
   {
    "duration": 470444,
    "start_time": "2023-03-02T09:15:26.144Z"
   },
   {
    "duration": 6,
    "start_time": "2023-03-02T09:23:16.590Z"
   },
   {
    "duration": 40449,
    "start_time": "2023-03-02T09:23:16.597Z"
   },
   {
    "duration": 6,
    "start_time": "2023-03-02T09:23:57.047Z"
   },
   {
    "duration": 138245,
    "start_time": "2023-03-02T09:23:57.055Z"
   },
   {
    "duration": 6,
    "start_time": "2023-03-02T09:26:15.302Z"
   },
   {
    "duration": 5972,
    "start_time": "2023-03-02T09:26:15.310Z"
   },
   {
    "duration": 6,
    "start_time": "2023-03-02T09:26:21.284Z"
   },
   {
    "duration": 2235,
    "start_time": "2023-03-02T09:30:36.307Z"
   },
   {
    "duration": 1746,
    "start_time": "2023-03-02T11:19:16.286Z"
   },
   {
    "duration": 2042,
    "start_time": "2023-03-02T11:19:18.034Z"
   },
   {
    "duration": 80,
    "start_time": "2023-03-02T11:19:20.077Z"
   },
   {
    "duration": 30,
    "start_time": "2023-03-02T11:19:20.159Z"
   },
   {
    "duration": 27,
    "start_time": "2023-03-02T11:19:20.204Z"
   },
   {
    "duration": 20,
    "start_time": "2023-03-02T11:19:20.233Z"
   },
   {
    "duration": 15,
    "start_time": "2023-03-02T11:19:20.255Z"
   },
   {
    "duration": 35,
    "start_time": "2023-03-02T11:19:20.272Z"
   },
   {
    "duration": 30,
    "start_time": "2023-03-02T11:19:20.309Z"
   },
   {
    "duration": 145,
    "start_time": "2023-03-02T11:19:20.341Z"
   },
   {
    "duration": 19,
    "start_time": "2023-03-02T11:19:20.488Z"
   },
   {
    "duration": 9,
    "start_time": "2023-03-02T11:19:20.510Z"
   },
   {
    "duration": 23,
    "start_time": "2023-03-02T11:19:20.522Z"
   },
   {
    "duration": 6,
    "start_time": "2023-03-02T11:19:20.550Z"
   },
   {
    "duration": 8,
    "start_time": "2023-03-02T11:19:20.560Z"
   },
   {
    "duration": 36,
    "start_time": "2023-03-02T11:19:20.570Z"
   },
   {
    "duration": 10,
    "start_time": "2023-03-02T11:19:20.610Z"
   },
   {
    "duration": 6,
    "start_time": "2023-03-02T11:19:20.623Z"
   },
   {
    "duration": 32,
    "start_time": "2023-03-02T11:19:20.633Z"
   },
   {
    "duration": 73,
    "start_time": "2023-03-02T11:19:20.667Z"
   },
   {
    "duration": 31,
    "start_time": "2023-03-02T11:19:20.743Z"
   },
   {
    "duration": 30,
    "start_time": "2023-03-02T11:19:20.776Z"
   },
   {
    "duration": 6,
    "start_time": "2023-03-02T11:19:20.808Z"
   },
   {
    "duration": 10,
    "start_time": "2023-03-02T11:19:20.816Z"
   },
   {
    "duration": 37,
    "start_time": "2023-03-02T11:19:20.828Z"
   },
   {
    "duration": 70,
    "start_time": "2023-03-02T11:19:20.867Z"
   },
   {
    "duration": 5,
    "start_time": "2023-03-02T11:19:20.939Z"
   },
   {
    "duration": 6139,
    "start_time": "2023-03-02T11:19:20.947Z"
   },
   {
    "duration": 34,
    "start_time": "2023-03-02T11:19:27.089Z"
   },
   {
    "duration": 28,
    "start_time": "2023-03-02T11:19:27.125Z"
   },
   {
    "duration": 51,
    "start_time": "2023-03-02T11:19:27.155Z"
   },
   {
    "duration": 1519,
    "start_time": "2023-03-02T11:19:27.208Z"
   },
   {
    "duration": 390,
    "start_time": "2023-03-02T11:19:28.728Z"
   },
   {
    "duration": 2408,
    "start_time": "2023-03-02T11:19:29.120Z"
   },
   {
    "duration": 3031,
    "start_time": "2023-03-02T11:19:31.530Z"
   },
   {
    "duration": 2473,
    "start_time": "2023-03-02T11:19:34.563Z"
   },
   {
    "duration": 12,
    "start_time": "2023-03-02T11:19:37.039Z"
   },
   {
    "duration": 6,
    "start_time": "2023-03-02T11:19:37.053Z"
   },
   {
    "duration": 2854,
    "start_time": "2023-03-02T11:19:37.061Z"
   },
   {
    "duration": 16,
    "start_time": "2023-03-02T11:19:39.918Z"
   },
   {
    "duration": 5,
    "start_time": "2023-03-02T11:19:39.939Z"
   },
   {
    "duration": 23,
    "start_time": "2023-03-02T11:19:39.947Z"
   },
   {
    "duration": 26,
    "start_time": "2023-03-02T11:19:39.979Z"
   },
   {
    "duration": 9,
    "start_time": "2023-03-02T11:19:40.007Z"
   },
   {
    "duration": 13,
    "start_time": "2023-03-02T11:19:40.018Z"
   },
   {
    "duration": 14,
    "start_time": "2023-03-02T11:19:40.033Z"
   },
   {
    "duration": 28,
    "start_time": "2023-03-02T11:19:40.050Z"
   },
   {
    "duration": 7,
    "start_time": "2023-03-02T11:19:40.080Z"
   },
   {
    "duration": 12,
    "start_time": "2023-03-02T11:19:40.092Z"
   },
   {
    "duration": 5,
    "start_time": "2023-03-02T11:19:40.107Z"
   },
   {
    "duration": 13,
    "start_time": "2023-03-02T11:19:40.114Z"
   },
   {
    "duration": 2580,
    "start_time": "2023-03-02T11:19:40.128Z"
   },
   {
    "duration": 478483,
    "start_time": "2023-03-02T11:19:42.711Z"
   },
   {
    "duration": 11,
    "start_time": "2023-03-02T11:27:41.196Z"
   },
   {
    "duration": 43056,
    "start_time": "2023-03-02T11:27:41.209Z"
   },
   {
    "duration": 7,
    "start_time": "2023-03-02T11:28:24.267Z"
   },
   {
    "duration": 136196,
    "start_time": "2023-03-02T11:28:24.276Z"
   },
   {
    "duration": 5,
    "start_time": "2023-03-02T11:30:40.475Z"
   },
   {
    "duration": 5801,
    "start_time": "2023-03-02T11:30:40.481Z"
   },
   {
    "duration": 7,
    "start_time": "2023-03-02T11:30:46.284Z"
   },
   {
    "duration": 4,
    "start_time": "2023-03-02T11:38:41.499Z"
   },
   {
    "duration": 107,
    "start_time": "2023-03-02T11:39:21.632Z"
   },
   {
    "duration": 5325,
    "start_time": "2023-03-02T11:41:03.449Z"
   },
   {
    "duration": 6,
    "start_time": "2023-03-02T11:41:15.520Z"
   }
  ],
  "kernelspec": {
   "display_name": "Python 3 (ipykernel)",
   "language": "python",
   "name": "python3"
  },
  "language_info": {
   "codemirror_mode": {
    "name": "ipython",
    "version": 3
   },
   "file_extension": ".py",
   "mimetype": "text/x-python",
   "name": "python",
   "nbconvert_exporter": "python",
   "pygments_lexer": "ipython3",
   "version": "3.9.13"
  },
  "toc": {
   "base_numbering": 1,
   "nav_menu": {},
   "number_sections": true,
   "sideBar": true,
   "skip_h1_title": true,
   "title_cell": "Содержание",
   "title_sidebar": "Contents",
   "toc_cell": true,
   "toc_position": {
    "height": "calc(100% - 180px)",
    "left": "10px",
    "top": "150px",
    "width": "165px"
   },
   "toc_section_display": true,
   "toc_window_display": true
  }
 },
 "nbformat": 4,
 "nbformat_minor": 2
}

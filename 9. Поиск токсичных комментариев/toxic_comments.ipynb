{
 "cells": [
  {
   "cell_type": "markdown",
   "metadata": {
    "toc": true
   },
   "source": [
    "<h1>Содержание<span class=\"tocSkip\"></span></h1>\n",
    "<div class=\"toc\"><ul class=\"toc-item\"><li><span><a href=\"#Подготовка\" data-toc-modified-id=\"Подготовка-1\"><span class=\"toc-item-num\">1&nbsp;&nbsp;</span>Подготовка</a></span></li><li><span><a href=\"#Обучение\" data-toc-modified-id=\"Обучение-2\"><span class=\"toc-item-num\">2&nbsp;&nbsp;</span>Обучение</a></span></li><li><span><a href=\"#Выводы\" data-toc-modified-id=\"Выводы-3\"><span class=\"toc-item-num\">3&nbsp;&nbsp;</span>Выводы</a></span></li></ul></div>"
   ]
  },
  {
   "cell_type": "markdown",
   "metadata": {},
   "source": [
    "# Проект для «Викишоп»"
   ]
  },
  {
   "cell_type": "markdown",
   "metadata": {},
   "source": [
    "Интернет-магазин «Викишоп» запускает новый сервис. Теперь пользователи могут редактировать и дополнять описания товаров, как в вики-сообществах. То есть клиенты предлагают свои правки и комментируют изменения других. Магазину нужен инструмент, который будет искать токсичные комментарии и отправлять их на модерацию. \n",
    "\n",
    "**Цель:** обучить модель, которая будет классифицировать комментарии на позитивные и негативные. В распоряжении набор данных с разметкой о токсичности правок.\n",
    "\n",
    "**Примечание:** построить модель со значением метрики качества *F1* не меньше 0.75. \n",
    "\n",
    "**Данные:**\n",
    "- text - текст комментария;\n",
    "- toxic - целевой признак."
   ]
  },
  {
   "cell_type": "markdown",
   "metadata": {},
   "source": [
    "## Подготовка"
   ]
  },
  {
   "cell_type": "code",
   "execution_count": 1,
   "metadata": {},
   "outputs": [
    {
     "name": "stderr",
     "output_type": "stream",
     "text": [
      "[nltk_data] Downloading package averaged_perceptron_tagger to\n",
      "[nltk_data]     C:\\Users\\borod\\AppData\\Roaming\\nltk_data...\n",
      "[nltk_data]   Package averaged_perceptron_tagger is already up-to-\n",
      "[nltk_data]       date!\n",
      "[nltk_data] Downloading package stopwords to\n",
      "[nltk_data]     C:\\Users\\borod\\AppData\\Roaming\\nltk_data...\n",
      "[nltk_data]   Package stopwords is already up-to-date!\n",
      "[nltk_data] Downloading package punkt to\n",
      "[nltk_data]     C:\\Users\\borod\\AppData\\Roaming\\nltk_data...\n",
      "[nltk_data]   Package punkt is already up-to-date!\n",
      "[nltk_data] Downloading package wordnet to\n",
      "[nltk_data]     C:\\Users\\borod\\AppData\\Roaming\\nltk_data...\n",
      "[nltk_data]   Package wordnet is already up-to-date!\n"
     ]
    }
   ],
   "source": [
    "import pandas as pd\n",
    "import numpy as  np\n",
    "import matplotlib.pyplot as plt\n",
    "import seaborn as sns\n",
    "\n",
    "import time\n",
    "from tqdm.notebook import tqdm\n",
    "tqdm.pandas()\n",
    "\n",
    "import re\n",
    "import nltk\n",
    "from nltk.corpus import stopwords\n",
    "from nltk.stem import WordNetLemmatizer\n",
    "from nltk.corpus import wordnet\n",
    "from sklearn.feature_extraction.text import TfidfVectorizer\n",
    "\n",
    "from sklearn.pipeline import Pipeline\n",
    "from sklearn.linear_model import LogisticRegression\n",
    "from sklearn.ensemble import RandomForestClassifier\n",
    "from lightgbm import LGBMClassifier\n",
    "\n",
    "from sklearn.model_selection import train_test_split, GridSearchCV, cross_val_score\n",
    "from sklearn.metrics import f1_score\n",
    "\n",
    "nltk.download('averaged_perceptron_tagger')\n",
    "nltk.download('stopwords')\n",
    "nltk.download('punkt')\n",
    "nltk.download('wordnet')\n",
    "\n",
    "stop_words = set(stopwords.words('english'))\n",
    "RANDOM_STATE = 12345"
   ]
  },
  {
   "cell_type": "code",
   "execution_count": 2,
   "metadata": {},
   "outputs": [],
   "source": [
    "try:\n",
    "    data =  pd.read_csv('C:/Users/borod/OneDrive/Рабочий стол/DS/project12_comments/toxic_comments.csv')\n",
    "except:\n",
    "    data =  pd.read_csv('/datasets/toxic_comments.csv')"
   ]
  },
  {
   "cell_type": "code",
   "execution_count": 3,
   "metadata": {},
   "outputs": [
    {
     "data": {
      "text/html": [
       "<div>\n",
       "<style scoped>\n",
       "    .dataframe tbody tr th:only-of-type {\n",
       "        vertical-align: middle;\n",
       "    }\n",
       "\n",
       "    .dataframe tbody tr th {\n",
       "        vertical-align: top;\n",
       "    }\n",
       "\n",
       "    .dataframe thead th {\n",
       "        text-align: right;\n",
       "    }\n",
       "</style>\n",
       "<table border=\"1\" class=\"dataframe\">\n",
       "  <thead>\n",
       "    <tr style=\"text-align: right;\">\n",
       "      <th></th>\n",
       "      <th>Unnamed: 0</th>\n",
       "      <th>text</th>\n",
       "      <th>toxic</th>\n",
       "    </tr>\n",
       "  </thead>\n",
       "  <tbody>\n",
       "    <tr>\n",
       "      <th>9907</th>\n",
       "      <td>9920</td>\n",
       "      <td>\"\\n\\n \"\"The Late\"\"\"\" \\n\\nI appreciate you givi...</td>\n",
       "      <td>0</td>\n",
       "    </tr>\n",
       "    <tr>\n",
       "      <th>29366</th>\n",
       "      <td>29405</td>\n",
       "      <td>Though, having researched it a bit more, I'd l...</td>\n",
       "      <td>0</td>\n",
       "    </tr>\n",
       "    <tr>\n",
       "      <th>153713</th>\n",
       "      <td>153870</td>\n",
       "      <td>FREE MYANMAR!!! STOP THE MILITARY REGIME!!!! P...</td>\n",
       "      <td>0</td>\n",
       "    </tr>\n",
       "    <tr>\n",
       "      <th>155014</th>\n",
       "      <td>155171</td>\n",
       "      <td>\"\\n\\nI just recall that De728631 has been cons...</td>\n",
       "      <td>0</td>\n",
       "    </tr>\n",
       "    <tr>\n",
       "      <th>76482</th>\n",
       "      <td>76558</td>\n",
       "      <td>It appears you can expect lame shit like that ...</td>\n",
       "      <td>1</td>\n",
       "    </tr>\n",
       "  </tbody>\n",
       "</table>\n",
       "</div>"
      ],
      "text/plain": [
       "        Unnamed: 0                                               text  toxic\n",
       "9907          9920  \"\\n\\n \"\"The Late\"\"\"\" \\n\\nI appreciate you givi...      0\n",
       "29366        29405  Though, having researched it a bit more, I'd l...      0\n",
       "153713      153870  FREE MYANMAR!!! STOP THE MILITARY REGIME!!!! P...      0\n",
       "155014      155171  \"\\n\\nI just recall that De728631 has been cons...      0\n",
       "76482        76558  It appears you can expect lame shit like that ...      1"
      ]
     },
     "execution_count": 3,
     "metadata": {},
     "output_type": "execute_result"
    }
   ],
   "source": [
    "data.sample(5)"
   ]
  },
  {
   "cell_type": "markdown",
   "metadata": {},
   "source": [
    "Удалим ненужный столбец `Unnamed: 0`."
   ]
  },
  {
   "cell_type": "code",
   "execution_count": 4,
   "metadata": {},
   "outputs": [],
   "source": [
    "data = data.drop('Unnamed: 0', axis = 1)"
   ]
  },
  {
   "cell_type": "markdown",
   "metadata": {},
   "source": [
    "Пропусков и дубликатов не наблюдается."
   ]
  },
  {
   "cell_type": "code",
   "execution_count": 5,
   "metadata": {},
   "outputs": [
    {
     "data": {
      "text/plain": [
       "text     0\n",
       "toxic    0\n",
       "dtype: int64"
      ]
     },
     "execution_count": 5,
     "metadata": {},
     "output_type": "execute_result"
    }
   ],
   "source": [
    "data.isnull().sum()"
   ]
  },
  {
   "cell_type": "code",
   "execution_count": 6,
   "metadata": {},
   "outputs": [
    {
     "data": {
      "text/plain": [
       "0"
      ]
     },
     "execution_count": 6,
     "metadata": {},
     "output_type": "execute_result"
    }
   ],
   "source": [
    "data.duplicated().sum()"
   ]
  },
  {
   "cell_type": "markdown",
   "metadata": {},
   "source": [
    "Посмотрим на распределение в целевом признаке `toxic`. Видим явный дисбаланс классов. В дальнейшем в train_test_split будем применять stratify для выравнивания."
   ]
  },
  {
   "cell_type": "code",
   "execution_count": 7,
   "metadata": {
    "scrolled": true
   },
   "outputs": [
    {
     "data": {
      "text/plain": [
       "<AxesSubplot:title={'center':'toxic'}, xlabel='toxic', ylabel='count'>"
      ]
     },
     "execution_count": 7,
     "metadata": {},
     "output_type": "execute_result"
    },
    {
     "data": {
      "image/png": "[encoded data removed]",
      "text/plain": [
       "<Figure size 300x300 with 1 Axes>"
      ]
     },
     "metadata": {},
     "output_type": "display_data"
    }
   ],
   "source": [
    "figure, ax = plt.subplots(figsize=(3,3))\n",
    "ax.set_title('toxic')\n",
    "sns.countplot(x ='toxic', data = data,ax=ax)"
   ]
  },
  {
   "cell_type": "markdown",
   "metadata": {},
   "source": [
    "Введем ряд функций, которые:\n",
    "- a) `pos_tagger` -  функция для лемматизации каждого слова его POS-тегом;\n",
    "- b) `cleaner` - очистка комментария с помощью регулярных выражений от символов и удаление стоп-слов;\n",
    "- c) `all_clean` - лемматизация WordNet с POS-тегами."
   ]
  },
  {
   "cell_type": "code",
   "execution_count": 8,
   "metadata": {},
   "outputs": [],
   "source": [
    "lemmatizer = WordNetLemmatizer()\n",
    "pattern = r'[^a-z]'\n",
    "\n",
    "#определяем функцию для лемматизации каждого слова его POS-тегом\n",
    "def pos_tagger(nltk_tag):\n",
    "    if nltk_tag.startswith('J'):\n",
    "        return wordnet.ADJ\n",
    "    elif nltk_tag.startswith('V'):\n",
    "        return wordnet.VERB\n",
    "    elif nltk_tag.startswith('N'):\n",
    "        return wordnet.NOUN\n",
    "    elif nltk_tag.startswith('R'):\n",
    "        return wordnet.ADV\n",
    "    else:         \n",
    "        return None\n",
    "\n",
    "#чистим от символом и стоп-слов\n",
    "def cleaner(comment):\n",
    "    text = re.sub(pattern, ' ', comment.lower()).split()\n",
    "    for word in text:\n",
    "        if word and word in stop_words:\n",
    "            text.remove(word)\n",
    "    return \" \".join(text)\n",
    "\n",
    "#лемматизируем\n",
    "def all_clean(comment):\n",
    "    sentence = cleaner(comment)\n",
    "    pos_tagged = nltk.pos_tag(nltk.word_tokenize(sentence)) \n",
    "    wordnet_tagged = list(map(lambda x: (x[0], pos_tagger(x[1])), pos_tagged))\n",
    "    lemmatized_sentence = []\n",
    "    for word, tag in wordnet_tagged:\n",
    "        if tag is None:\n",
    "            #если нет доступного тега, добавь токен как есть\n",
    "            lemmatized_sentence.append(word)\n",
    "        else:       \n",
    "            # иначе используй тег, чтобы лемматизировать токен\n",
    "            lemmatized_sentence.append(lemmatizer.lemmatize(word, tag))\n",
    "    lemmatized_sentence = \" \".join(lemmatized_sentence)\n",
    "    return lemmatized_sentence"
   ]
  },
  {
   "cell_type": "code",
   "execution_count": 9,
   "metadata": {},
   "outputs": [
    {
     "data": {
      "application/vnd.jupyter.widget-view+json": {
       "model_id": "950391e250294c3b910b43149b492631",
       "version_major": 2,
       "version_minor": 0
      },
      "text/plain": [
       "  0%|          | 0/159292 [00:00<?, ?it/s]"
      ]
     },
     "metadata": {},
     "output_type": "display_data"
    }
   ],
   "source": [
    "corpus = data['text'].progress_apply(cleaner)"
   ]
  },
  {
   "cell_type": "code",
   "execution_count": 10,
   "metadata": {},
   "outputs": [
    {
     "data": {
      "text/plain": [
       "0         explanation edits made my username hardcore me...\n",
       "1         aww matches background colour m seemingly stuc...\n",
       "2         hey man m really trying edit war s that guy co...\n",
       "3         t make real suggestions improvement wondered s...\n",
       "4                        sir my hero chance remember page s\n",
       "                                ...                        \n",
       "159287    for second time asking your view completely co...\n",
       "159288    should ashamed yourself is horrible thing put ...\n",
       "159289    spitzer umm theres actual article prostitution...\n",
       "159290    looks like it was actually who put speedy have...\n",
       "159291    really t think understand i came and idea bad ...\n",
       "Name: text, Length: 159292, dtype: object"
      ]
     },
     "execution_count": 10,
     "metadata": {},
     "output_type": "execute_result"
    }
   ],
   "source": [
    "corpus"
   ]
  },
  {
   "cell_type": "markdown",
   "metadata": {},
   "source": [
    "Разделим выборку на обучающую и тестовую, добавим stratify."
   ]
  },
  {
   "cell_type": "code",
   "execution_count": 14,
   "metadata": {},
   "outputs": [],
   "source": [
    "features_train,features_test,target_train,target_test = train_test_split(corpus,data['toxic'],test_size=0.2,\n",
    "                                                                          random_state=RANDOM_STATE,\n",
    "                                                                          stratify = data['toxic'])"
   ]
  },
  {
   "cell_type": "markdown",
   "metadata": {},
   "source": [
    "Вычислим TF-IDF для текстов обучающей и тестовой выборках."
   ]
  },
  {
   "cell_type": "code",
   "execution_count": 15,
   "metadata": {},
   "outputs": [
    {
     "name": "stdout",
     "output_type": "stream",
     "text": [
      "train (127433,) (127433,)\n",
      "test (31859,) (31859,)\n"
     ]
    }
   ],
   "source": [
    "print('train', features_train.shape,target_train.shape)\n",
    "print('test', features_test.shape, target_test.shape)"
   ]
  },
  {
   "cell_type": "markdown",
   "metadata": {},
   "source": [
    "## Обучение"
   ]
  },
  {
   "cell_type": "markdown",
   "metadata": {},
   "source": [
    "Будем пользоваться следующими моделями с применением пайплайна:\n",
    "\n",
    "- LogisticRegression;\n",
    "- RandomForestClassifier;\n",
    "- LGBMClassifier.\n",
    "\n",
    "Введем функцию `learn`, которая будет проводить поиск наилучших гиперпараметров. В TfidVectorizer возьмем ngram_range = (1,1) для более быстрого обучения, также ограничим пространство признаков с помощью min_df = 0.0001. "
   ]
  },
  {
   "cell_type": "code",
   "execution_count": 16,
   "metadata": {},
   "outputs": [],
   "source": [
    "def learn(model,parameters):\n",
    "    pipe = Pipeline([\n",
    "        ('vct', TfidfVectorizer(min_df = 0.0001, ngram_range=(1,1))),\n",
    "        ('model', model)])\n",
    "    grid_cv = GridSearchCV(pipe, cv=5, n_jobs=-1, param_grid=parameters,scoring ='f1', verbose=False)\n",
    "    grid_cv.fit(features_train,target_train)\n",
    "    print('Лучшая  метрика:', grid_cv.best_score_)\n",
    "    print('Лучшие параметры:', grid_cv.best_params_)\n",
    "    return grid_cv"
   ]
  },
  {
   "cell_type": "markdown",
   "metadata": {},
   "source": [
    "`LogisticRegression`"
   ]
  },
  {
   "cell_type": "code",
   "execution_count": 17,
   "metadata": {},
   "outputs": [
    {
     "name": "stdout",
     "output_type": "stream",
     "text": [
      "Лучшая  метрика: 0.7420422887033785\n",
      "Лучшие параметры: {'model__penalty': 'l1', 'model__solver': 'liblinear'}\n",
      "CPU times: total: 27.2 s\n",
      "Wall time: 6min 26s\n"
     ]
    }
   ],
   "source": [
    "%%time\n",
    "lr_param =  {'model__solver': ['liblinear'], 'model__penalty': ['l1', 'l2']}\n",
    "lr = learn(LogisticRegression(random_state=RANDOM_STATE, class_weight='balanced'), lr_param)"
   ]
  },
  {
   "cell_type": "markdown",
   "metadata": {},
   "source": [
    "`RandomForest`"
   ]
  },
  {
   "cell_type": "code",
   "execution_count": 18,
   "metadata": {},
   "outputs": [
    {
     "name": "stdout",
     "output_type": "stream",
     "text": [
      "Лучшая  метрика: 0.6379485666410522\n",
      "Лучшие параметры: {'model__max_depth': 100, 'model__n_estimators': 300}\n",
      "CPU times: total: 16min 17s\n",
      "Wall time: 9h 5min 24s\n"
     ]
    }
   ],
   "source": [
    "%%time\n",
    "rf_param = {'model__max_depth':[80,100], 'model__n_estimators': [200,300]}\n",
    "rf = learn(RandomForestClassifier(random_state=RANDOM_STATE), rf_param)"
   ]
  },
  {
   "cell_type": "markdown",
   "metadata": {},
   "source": [
    "`LGBM`"
   ]
  },
  {
   "cell_type": "code",
   "execution_count": 30,
   "metadata": {},
   "outputs": [
    {
     "name": "stdout",
     "output_type": "stream",
     "text": [
      "Лучшая  метрика: 0.7616825550308327\n",
      "Лучшие параметры: {'model__learning_rate': 0.2, 'model__max_depth': 30}\n",
      "CPU times: total: 3min 28s\n",
      "Wall time: 43min 51s\n"
     ]
    }
   ],
   "source": [
    "%%time\n",
    "lgbm_param = {'model__learning_rate': [0.1,0.2], 'model__max_depth': [30, 40]}\n",
    "lgbm =  learn(LGBMClassifier(random_state = RANDOM_STATE), lgbm_param)"
   ]
  },
  {
   "cell_type": "markdown",
   "metadata": {},
   "source": [
    "**Вывод**: как видим, лучшая метрика получилась на модели LGBM, её и будем брать для тестовой."
   ]
  },
  {
   "cell_type": "markdown",
   "metadata": {},
   "source": [
    "## Выводы"
   ]
  },
  {
   "cell_type": "markdown",
   "metadata": {},
   "source": [
    "Итак, на начальном этапе была проведена очистка комментариев от стоп-слов, символов, также лемматизация.\n",
    "\n",
    "Для обучения выбраны модели логистической регрессии, случайного леса и градиентного бустинга. На тренировочной выборке лучшую метрику показала модель LGBM, поэтому прогоним её на тестовой выборке."
   ]
  },
  {
   "cell_type": "code",
   "execution_count": 31,
   "metadata": {},
   "outputs": [
    {
     "name": "stdout",
     "output_type": "stream",
     "text": [
      "Метрика на тестовой выборке для модели LGBM:  0.7659724673491\n"
     ]
    }
   ],
   "source": [
    "result = f1_score(target_test, lgbm.predict(features_test))\n",
    "print('Метрика на тестовой выборке для модели LGBM: ',result)"
   ]
  },
  {
   "cell_type": "markdown",
   "metadata": {},
   "source": [
    "Полученное значение F1-меры = **0.7659724673491** удовлетворяет условиям."
   ]
  }
 ],
 "metadata": {
  "kernelspec": {
   "display_name": "Python 3 (ipykernel)",
   "language": "python",
   "name": "python3"
  },
  "language_info": {
   "codemirror_mode": {
    "name": "ipython",
    "version": 3
   },
   "file_extension": ".py",
   "mimetype": "text/x-python",
   "name": "python",
   "nbconvert_exporter": "python",
   "pygments_lexer": "ipython3",
   "version": "3.9.13"
  },
  "toc": {
   "base_numbering": 1,
   "nav_menu": {},
   "number_sections": true,
   "sideBar": true,
   "skip_h1_title": true,
   "title_cell": "Содержание",
   "title_sidebar": "Contents",
   "toc_cell": true,
   "toc_position": {
    "height": "calc(100% - 180px)",
    "left": "10px",
    "top": "150px",
    "width": "302.391px"
   },
   "toc_section_display": true,
   "toc_window_display": false
  }
 },
 "nbformat": 4,
 "nbformat_minor": 2
}

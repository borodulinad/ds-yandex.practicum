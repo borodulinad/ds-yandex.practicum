{
 "cells": [
  {
   "cell_type": "markdown",
   "metadata": {},
   "source": [
    "# Закономерности, определяющие успешность игры\n",
    "\n",
    "На рассмотрении интернет-магазин «Стримчик», который продаёт по всему миру компьютерные игры. Из открытых источников доступны исторические данные о продажах игр, оценки пользователей и экспертов, жанры и платформы (например, Xbox или PlayStation). Задача состоит в выявлении определяющих успешность игры закономерностей. Это позволит сделать ставку на потенциально популярный продукт и спланировать рекламные кампании. Предоставлены данные до 2016 года.\n",
    "В наборе данных попадается аббревиатура ESRB (Entertainment Software Rating Board) — это ассоциация, определяющая возрастной рейтинг компьютерных игр. ESRB оценивает игровой контент и присваивает ему подходящую возрастную категорию, например, «Для взрослых», «Для детей младшего возраста» или «Для подростков»."
   ]
  },
  {
   "cell_type": "markdown",
   "metadata": {},
   "source": [
    "**План проекта**"
   ]
  },
  {
   "cell_type": "markdown",
   "metadata": {},
   "source": [
    "1. Введение, изучение общей информации.\n",
    "2. Предобрабокта данных:\n",
    "- [x]  заменить названия столбцов (приведите к нижнему регистру);\n",
    "- [x]  преобразовать данные в нужные типы, описать причину замены;\n",
    "- [x]  обработать пропуски при необходимости, объяснить, почему пропуски заполнены определённым образом или вовсе не заполнены, описать причины, которые могли привести к пропускам.\n",
    "- [x]  изучить значение 'tbd' в столбце `User_Score`, описать, как его обработать;\n",
    "- [x]  посчитать суммарные продажи во всех регионах и запишите их в отдельный столбец.\n",
    "3. Исследовательский анализ данных:\n",
    "- [x]  посмотреть, сколько игр выпускалось в разные годы. Важны ли данные за все периоды?\n",
    "- [x]  посмотреть, как менялись продажи по платформам. Выбрать платформы с наибольшими суммарными продажами и построить распределение по годам. За какой характерный срок появляются новые и исчезают старые платформы?\n",
    "- [x]  взять данные за соответствующий актуальный период. Актуальный период определить в результате исследования предыдущих вопросов. Основной фактор — эти данные помогут построить прогноз на 2017 год. Не учитывать в работе данные за предыдущие годы.\n",
    "- [x]  какие платформы лидируют по продажам, растут или падают? Выбрать несколько потенциально прибыльных платформ.\n",
    "- [x]  построить график «ящик с усами» по глобальным продажам игр в разбивке по платформам, описать результат.\n",
    "- [x]  посмотреть, как влияют на продажи внутри одной популярной платформы отзывы пользователей и критиков, построить диаграмму рассеяния и посчитать корреляцию между отзывами и продажами, сформулировать выводы.\n",
    "- [x]  соотнести выводы с продажами игр на других платформах.\n",
    "- [x]  посмотреть на общее распределение игр по жанрам. Что можно сказать о самых прибыльных жанрах? Выделяются ли жанры с высокими и низкими продажами?\n",
    "4. Составление портрета пользователя каждого региона:\n",
    "Определить для пользователя каждого региона (NA, EU, JP):\n",
    "- [x]  самые популярные платформы (топ-5), описать различия в долях продаж.\n",
    "- [x]  самые популярные жанры (топ-5), объяснить разницу.\n",
    "- [x]  влияет ли рейтинг ESRB на продажи в отдельном регионе?\n",
    "5. Статистический анализ: \n",
    "Проверить гипотезы\n",
    "- [x]  средние пользовательские рейтинги платформ Xbox One и PC одинаковые;\n",
    "- [x]  средние пользовательские рейтинги жанров Action и Sports разные.\n",
    "- [x]  задать пороговое значение alpha, объяснить формулировку нулевой и альтернативной гипотезы, какой критерий был применен для проверки гипотез и почему.\n",
    "6. Общий вывод"
   ]
  },
  {
   "cell_type": "markdown",
   "metadata": {},
   "source": [
    "### Введение, общая информация"
   ]
  },
  {
   "cell_type": "markdown",
   "metadata": {},
   "source": [
    "В этом разделе изучим основную информацию датасета."
   ]
  },
  {
   "cell_type": "code",
   "execution_count": 1,
   "metadata": {},
   "outputs": [],
   "source": [
    "import pandas as pd\n",
    "import numpy as np\n",
    "import matplotlib.pyplot as plt\n",
    "import seaborn as sns\n",
    "from scipy import stats as st\n",
    "from bs4 import BeautifulSoup\n",
    "import requests"
   ]
  },
  {
   "cell_type": "code",
   "execution_count": 2,
   "metadata": {},
   "outputs": [
    {
     "data": {
      "text/html": [
       "<div>\n",
       "<style scoped>\n",
       "    .dataframe tbody tr th:only-of-type {\n",
       "        vertical-align: middle;\n",
       "    }\n",
       "\n",
       "    .dataframe tbody tr th {\n",
       "        vertical-align: top;\n",
       "    }\n",
       "\n",
       "    .dataframe thead th {\n",
       "        text-align: right;\n",
       "    }\n",
       "</style>\n",
       "<table border=\"1\" class=\"dataframe\">\n",
       "  <thead>\n",
       "    <tr style=\"text-align: right;\">\n",
       "      <th></th>\n",
       "      <th>Name</th>\n",
       "      <th>Platform</th>\n",
       "      <th>Year_of_Release</th>\n",
       "      <th>Genre</th>\n",
       "      <th>NA_sales</th>\n",
       "      <th>EU_sales</th>\n",
       "      <th>JP_sales</th>\n",
       "      <th>Other_sales</th>\n",
       "      <th>Critic_Score</th>\n",
       "      <th>User_Score</th>\n",
       "      <th>Rating</th>\n",
       "    </tr>\n",
       "  </thead>\n",
       "  <tbody>\n",
       "    <tr>\n",
       "      <th>0</th>\n",
       "      <td>Wii Sports</td>\n",
       "      <td>Wii</td>\n",
       "      <td>2006.0</td>\n",
       "      <td>Sports</td>\n",
       "      <td>41.36</td>\n",
       "      <td>28.96</td>\n",
       "      <td>3.77</td>\n",
       "      <td>8.45</td>\n",
       "      <td>76.0</td>\n",
       "      <td>8</td>\n",
       "      <td>E</td>\n",
       "    </tr>\n",
       "    <tr>\n",
       "      <th>1</th>\n",
       "      <td>Super Mario Bros.</td>\n",
       "      <td>NES</td>\n",
       "      <td>1985.0</td>\n",
       "      <td>Platform</td>\n",
       "      <td>29.08</td>\n",
       "      <td>3.58</td>\n",
       "      <td>6.81</td>\n",
       "      <td>0.77</td>\n",
       "      <td>NaN</td>\n",
       "      <td>NaN</td>\n",
       "      <td>NaN</td>\n",
       "    </tr>\n",
       "    <tr>\n",
       "      <th>2</th>\n",
       "      <td>Mario Kart Wii</td>\n",
       "      <td>Wii</td>\n",
       "      <td>2008.0</td>\n",
       "      <td>Racing</td>\n",
       "      <td>15.68</td>\n",
       "      <td>12.76</td>\n",
       "      <td>3.79</td>\n",
       "      <td>3.29</td>\n",
       "      <td>82.0</td>\n",
       "      <td>8.3</td>\n",
       "      <td>E</td>\n",
       "    </tr>\n",
       "    <tr>\n",
       "      <th>3</th>\n",
       "      <td>Wii Sports Resort</td>\n",
       "      <td>Wii</td>\n",
       "      <td>2009.0</td>\n",
       "      <td>Sports</td>\n",
       "      <td>15.61</td>\n",
       "      <td>10.93</td>\n",
       "      <td>3.28</td>\n",
       "      <td>2.95</td>\n",
       "      <td>80.0</td>\n",
       "      <td>8</td>\n",
       "      <td>E</td>\n",
       "    </tr>\n",
       "    <tr>\n",
       "      <th>4</th>\n",
       "      <td>Pokemon Red/Pokemon Blue</td>\n",
       "      <td>GB</td>\n",
       "      <td>1996.0</td>\n",
       "      <td>Role-Playing</td>\n",
       "      <td>11.27</td>\n",
       "      <td>8.89</td>\n",
       "      <td>10.22</td>\n",
       "      <td>1.00</td>\n",
       "      <td>NaN</td>\n",
       "      <td>NaN</td>\n",
       "      <td>NaN</td>\n",
       "    </tr>\n",
       "    <tr>\n",
       "      <th>5</th>\n",
       "      <td>Tetris</td>\n",
       "      <td>GB</td>\n",
       "      <td>1989.0</td>\n",
       "      <td>Puzzle</td>\n",
       "      <td>23.20</td>\n",
       "      <td>2.26</td>\n",
       "      <td>4.22</td>\n",
       "      <td>0.58</td>\n",
       "      <td>NaN</td>\n",
       "      <td>NaN</td>\n",
       "      <td>NaN</td>\n",
       "    </tr>\n",
       "    <tr>\n",
       "      <th>6</th>\n",
       "      <td>New Super Mario Bros.</td>\n",
       "      <td>DS</td>\n",
       "      <td>2006.0</td>\n",
       "      <td>Platform</td>\n",
       "      <td>11.28</td>\n",
       "      <td>9.14</td>\n",
       "      <td>6.50</td>\n",
       "      <td>2.88</td>\n",
       "      <td>89.0</td>\n",
       "      <td>8.5</td>\n",
       "      <td>E</td>\n",
       "    </tr>\n",
       "    <tr>\n",
       "      <th>7</th>\n",
       "      <td>Wii Play</td>\n",
       "      <td>Wii</td>\n",
       "      <td>2006.0</td>\n",
       "      <td>Misc</td>\n",
       "      <td>13.96</td>\n",
       "      <td>9.18</td>\n",
       "      <td>2.93</td>\n",
       "      <td>2.84</td>\n",
       "      <td>58.0</td>\n",
       "      <td>6.6</td>\n",
       "      <td>E</td>\n",
       "    </tr>\n",
       "    <tr>\n",
       "      <th>8</th>\n",
       "      <td>New Super Mario Bros. Wii</td>\n",
       "      <td>Wii</td>\n",
       "      <td>2009.0</td>\n",
       "      <td>Platform</td>\n",
       "      <td>14.44</td>\n",
       "      <td>6.94</td>\n",
       "      <td>4.70</td>\n",
       "      <td>2.24</td>\n",
       "      <td>87.0</td>\n",
       "      <td>8.4</td>\n",
       "      <td>E</td>\n",
       "    </tr>\n",
       "    <tr>\n",
       "      <th>9</th>\n",
       "      <td>Duck Hunt</td>\n",
       "      <td>NES</td>\n",
       "      <td>1984.0</td>\n",
       "      <td>Shooter</td>\n",
       "      <td>26.93</td>\n",
       "      <td>0.63</td>\n",
       "      <td>0.28</td>\n",
       "      <td>0.47</td>\n",
       "      <td>NaN</td>\n",
       "      <td>NaN</td>\n",
       "      <td>NaN</td>\n",
       "    </tr>\n",
       "  </tbody>\n",
       "</table>\n",
       "</div>"
      ],
      "text/plain": [
       "                        Name Platform  Year_of_Release         Genre  \\\n",
       "0                 Wii Sports      Wii           2006.0        Sports   \n",
       "1          Super Mario Bros.      NES           1985.0      Platform   \n",
       "2             Mario Kart Wii      Wii           2008.0        Racing   \n",
       "3          Wii Sports Resort      Wii           2009.0        Sports   \n",
       "4   Pokemon Red/Pokemon Blue       GB           1996.0  Role-Playing   \n",
       "5                     Tetris       GB           1989.0        Puzzle   \n",
       "6      New Super Mario Bros.       DS           2006.0      Platform   \n",
       "7                   Wii Play      Wii           2006.0          Misc   \n",
       "8  New Super Mario Bros. Wii      Wii           2009.0      Platform   \n",
       "9                  Duck Hunt      NES           1984.0       Shooter   \n",
       "\n",
       "   NA_sales  EU_sales  JP_sales  Other_sales  Critic_Score User_Score Rating  \n",
       "0     41.36     28.96      3.77         8.45          76.0          8      E  \n",
       "1     29.08      3.58      6.81         0.77           NaN        NaN    NaN  \n",
       "2     15.68     12.76      3.79         3.29          82.0        8.3      E  \n",
       "3     15.61     10.93      3.28         2.95          80.0          8      E  \n",
       "4     11.27      8.89     10.22         1.00           NaN        NaN    NaN  \n",
       "5     23.20      2.26      4.22         0.58           NaN        NaN    NaN  \n",
       "6     11.28      9.14      6.50         2.88          89.0        8.5      E  \n",
       "7     13.96      9.18      2.93         2.84          58.0        6.6      E  \n",
       "8     14.44      6.94      4.70         2.24          87.0        8.4      E  \n",
       "9     26.93      0.63      0.28         0.47           NaN        NaN    NaN  "
      ]
     },
     "execution_count": 2,
     "metadata": {},
     "output_type": "execute_result"
    }
   ],
   "source": [
    "data = pd.read_csv('C:/Users/borod/OneDrive/Рабочий стол/DS/project4(games)/games.csv')\n",
    "#data = pd.read_csv('/datasets/games.csv') \n",
    "data.head(10)"
   ]
  },
  {
   "cell_type": "code",
   "execution_count": 3,
   "metadata": {},
   "outputs": [
    {
     "name": "stdout",
     "output_type": "stream",
     "text": [
      "<class 'pandas.core.frame.DataFrame'>\n",
      "RangeIndex: 16715 entries, 0 to 16714\n",
      "Data columns (total 11 columns):\n",
      " #   Column           Non-Null Count  Dtype  \n",
      "---  ------           --------------  -----  \n",
      " 0   Name             16713 non-null  object \n",
      " 1   Platform         16715 non-null  object \n",
      " 2   Year_of_Release  16446 non-null  float64\n",
      " 3   Genre            16713 non-null  object \n",
      " 4   NA_sales         16715 non-null  float64\n",
      " 5   EU_sales         16715 non-null  float64\n",
      " 6   JP_sales         16715 non-null  float64\n",
      " 7   Other_sales      16715 non-null  float64\n",
      " 8   Critic_Score     8137 non-null   float64\n",
      " 9   User_Score       10014 non-null  object \n",
      " 10  Rating           9949 non-null   object \n",
      "dtypes: float64(6), object(5)\n",
      "memory usage: 1.4+ MB\n"
     ]
    }
   ],
   "source": [
    "data.info()"
   ]
  },
  {
   "cell_type": "markdown",
   "metadata": {},
   "source": [
    "Итак, датафрейм состоит из 16715 строк и 11 столбцов, причем в 6 из 11 наблюдаются пропуски, с которыми мы разберемся позже. \n",
    "- `Name` — название игры\n",
    "- `Platform` — платформа\n",
    "- `Year_of_Release` — год выпуска\n",
    "- `Genre` — жанр игры\n",
    "- `NA_sales` — продажи в Северной Америке (миллионы проданных копий)\n",
    "- `EU_sales` — продажи в Европе (миллионы проданных копий)\n",
    "- `JP_sales` — продажи в Японии (миллионы проданных копий)\n",
    "- `Other_sales` — продажи в других странах (миллионы проданных копий)\n",
    "- `Critic_Score` — оценка критиков (максимум 100)\n",
    "- `User_Score` — оценка пользователей (максимум 10)\n",
    "- `Rating` — рейтинг от организации ESRB. Здесь «EC» — «Для детей младшего возраста», «E» — «Для всех», «E10+» — «Для всех от 10 лет и старше», «T» — «Подросткам», «M» — «Для взрослых», «AO» — «Только для взрослых», «RP» — «Рейтинг ожидается», «K-A» - не понятно, что означает, в интернете нет такой категории. \"K-A\" - это настоящий рейтинг \"E\", изменим позже."
   ]
  },
  {
   "cell_type": "markdown",
   "metadata": {},
   "source": [
    "### Предобработка данных"
   ]
  },
  {
   "cell_type": "markdown",
   "metadata": {},
   "source": [
    "Приведем к нижнему регистру названия всех столбцов."
   ]
  },
  {
   "cell_type": "code",
   "execution_count": 4,
   "metadata": {},
   "outputs": [
    {
     "data": {
      "text/plain": [
       "Index(['name', 'platform', 'year_of_release', 'genre', 'na_sales', 'eu_sales',\n",
       "       'jp_sales', 'other_sales', 'critic_score', 'user_score', 'rating'],\n",
       "      dtype='object')"
      ]
     },
     "execution_count": 4,
     "metadata": {},
     "output_type": "execute_result"
    }
   ],
   "source": [
    "data.columns = data.columns.str.lower()\n",
    "data.columns"
   ]
  },
  {
   "cell_type": "markdown",
   "metadata": {},
   "source": [
    "Явных дубликатов не оказалось. Ура!"
   ]
  },
  {
   "cell_type": "code",
   "execution_count": 5,
   "metadata": {},
   "outputs": [
    {
     "data": {
      "text/plain": [
       "0"
      ]
     },
     "execution_count": 5,
     "metadata": {},
     "output_type": "execute_result"
    }
   ],
   "source": [
    "data.duplicated().sum()"
   ]
  },
  {
   "cell_type": "code",
   "execution_count": 6,
   "metadata": {},
   "outputs": [
    {
     "data": {
      "text/plain": [
       "name                  2\n",
       "platform              0\n",
       "year_of_release     269\n",
       "genre                 2\n",
       "na_sales              0\n",
       "eu_sales              0\n",
       "jp_sales              0\n",
       "other_sales           0\n",
       "critic_score       8578\n",
       "user_score         6701\n",
       "rating             6766\n",
       "dtype: int64"
      ]
     },
     "execution_count": 6,
     "metadata": {},
     "output_type": "execute_result"
    }
   ],
   "source": [
    "data.isna().sum()"
   ]
  },
  {
   "cell_type": "markdown",
   "metadata": {},
   "source": [
    "Пропуски наблюдаются в 6 столбцах. Причем строки без имени и жанра можно удалить, поскольку они не представляют ценности для всего датафрейма. Кстати, строки без имени и жанра совпадают.\n",
    "\n",
    "В остальных 4-х столбцах количество пропусков достаточно велико(кроме `year_of_release`), поэтому просто удалить их не получится, нужно будет заменять в соответствии с выбранным принципом. "
   ]
  },
  {
   "cell_type": "code",
   "execution_count": 7,
   "metadata": {},
   "outputs": [
    {
     "data": {
      "text/html": [
       "<div>\n",
       "<style scoped>\n",
       "    .dataframe tbody tr th:only-of-type {\n",
       "        vertical-align: middle;\n",
       "    }\n",
       "\n",
       "    .dataframe tbody tr th {\n",
       "        vertical-align: top;\n",
       "    }\n",
       "\n",
       "    .dataframe thead th {\n",
       "        text-align: right;\n",
       "    }\n",
       "</style>\n",
       "<table border=\"1\" class=\"dataframe\">\n",
       "  <thead>\n",
       "    <tr style=\"text-align: right;\">\n",
       "      <th></th>\n",
       "      <th>name</th>\n",
       "      <th>platform</th>\n",
       "      <th>year_of_release</th>\n",
       "      <th>genre</th>\n",
       "      <th>na_sales</th>\n",
       "      <th>eu_sales</th>\n",
       "      <th>jp_sales</th>\n",
       "      <th>other_sales</th>\n",
       "      <th>critic_score</th>\n",
       "      <th>user_score</th>\n",
       "      <th>rating</th>\n",
       "    </tr>\n",
       "  </thead>\n",
       "  <tbody>\n",
       "    <tr>\n",
       "      <th>659</th>\n",
       "      <td>NaN</td>\n",
       "      <td>GEN</td>\n",
       "      <td>1993.0</td>\n",
       "      <td>NaN</td>\n",
       "      <td>1.78</td>\n",
       "      <td>0.53</td>\n",
       "      <td>0.00</td>\n",
       "      <td>0.08</td>\n",
       "      <td>NaN</td>\n",
       "      <td>NaN</td>\n",
       "      <td>NaN</td>\n",
       "    </tr>\n",
       "    <tr>\n",
       "      <th>14244</th>\n",
       "      <td>NaN</td>\n",
       "      <td>GEN</td>\n",
       "      <td>1993.0</td>\n",
       "      <td>NaN</td>\n",
       "      <td>0.00</td>\n",
       "      <td>0.00</td>\n",
       "      <td>0.03</td>\n",
       "      <td>0.00</td>\n",
       "      <td>NaN</td>\n",
       "      <td>NaN</td>\n",
       "      <td>NaN</td>\n",
       "    </tr>\n",
       "  </tbody>\n",
       "</table>\n",
       "</div>"
      ],
      "text/plain": [
       "      name platform  year_of_release genre  na_sales  eu_sales  jp_sales  \\\n",
       "659    NaN      GEN           1993.0   NaN      1.78      0.53      0.00   \n",
       "14244  NaN      GEN           1993.0   NaN      0.00      0.00      0.03   \n",
       "\n",
       "       other_sales  critic_score user_score rating  \n",
       "659           0.08           NaN        NaN    NaN  \n",
       "14244         0.00           NaN        NaN    NaN  "
      ]
     },
     "execution_count": 7,
     "metadata": {},
     "output_type": "execute_result"
    }
   ],
   "source": [
    "data[data['name'].isnull()]"
   ]
  },
  {
   "cell_type": "code",
   "execution_count": 8,
   "metadata": {},
   "outputs": [
    {
     "data": {
      "text/html": [
       "<div>\n",
       "<style scoped>\n",
       "    .dataframe tbody tr th:only-of-type {\n",
       "        vertical-align: middle;\n",
       "    }\n",
       "\n",
       "    .dataframe tbody tr th {\n",
       "        vertical-align: top;\n",
       "    }\n",
       "\n",
       "    .dataframe thead th {\n",
       "        text-align: right;\n",
       "    }\n",
       "</style>\n",
       "<table border=\"1\" class=\"dataframe\">\n",
       "  <thead>\n",
       "    <tr style=\"text-align: right;\">\n",
       "      <th></th>\n",
       "      <th>name</th>\n",
       "      <th>platform</th>\n",
       "      <th>year_of_release</th>\n",
       "      <th>genre</th>\n",
       "      <th>na_sales</th>\n",
       "      <th>eu_sales</th>\n",
       "      <th>jp_sales</th>\n",
       "      <th>other_sales</th>\n",
       "      <th>critic_score</th>\n",
       "      <th>user_score</th>\n",
       "      <th>rating</th>\n",
       "    </tr>\n",
       "  </thead>\n",
       "  <tbody>\n",
       "    <tr>\n",
       "      <th>659</th>\n",
       "      <td>NaN</td>\n",
       "      <td>GEN</td>\n",
       "      <td>1993.0</td>\n",
       "      <td>NaN</td>\n",
       "      <td>1.78</td>\n",
       "      <td>0.53</td>\n",
       "      <td>0.00</td>\n",
       "      <td>0.08</td>\n",
       "      <td>NaN</td>\n",
       "      <td>NaN</td>\n",
       "      <td>NaN</td>\n",
       "    </tr>\n",
       "    <tr>\n",
       "      <th>14244</th>\n",
       "      <td>NaN</td>\n",
       "      <td>GEN</td>\n",
       "      <td>1993.0</td>\n",
       "      <td>NaN</td>\n",
       "      <td>0.00</td>\n",
       "      <td>0.00</td>\n",
       "      <td>0.03</td>\n",
       "      <td>0.00</td>\n",
       "      <td>NaN</td>\n",
       "      <td>NaN</td>\n",
       "      <td>NaN</td>\n",
       "    </tr>\n",
       "  </tbody>\n",
       "</table>\n",
       "</div>"
      ],
      "text/plain": [
       "      name platform  year_of_release genre  na_sales  eu_sales  jp_sales  \\\n",
       "659    NaN      GEN           1993.0   NaN      1.78      0.53      0.00   \n",
       "14244  NaN      GEN           1993.0   NaN      0.00      0.00      0.03   \n",
       "\n",
       "       other_sales  critic_score user_score rating  \n",
       "659           0.08           NaN        NaN    NaN  \n",
       "14244         0.00           NaN        NaN    NaN  "
      ]
     },
     "execution_count": 8,
     "metadata": {},
     "output_type": "execute_result"
    }
   ],
   "source": [
    "data[data['genre'].isnull()]"
   ]
  },
  {
   "cell_type": "code",
   "execution_count": 9,
   "metadata": {},
   "outputs": [],
   "source": [
    "data = data.dropna(subset=['name'])"
   ]
  },
  {
   "cell_type": "markdown",
   "metadata": {},
   "source": [
    "Приведем все имена к нижнему регистру и посмотрим количество дубликатов в этом случае. Вдруг одинаковые имена были записаны по-разному."
   ]
  },
  {
   "cell_type": "code",
   "execution_count": 10,
   "metadata": {},
   "outputs": [
    {
     "data": {
      "text/plain": [
       "0"
      ]
     },
     "execution_count": 10,
     "metadata": {},
     "output_type": "execute_result"
    }
   ],
   "source": [
    "data['name'] = data['name'].str.lower()\n",
    "data.duplicated().sum()"
   ]
  },
  {
   "cell_type": "markdown",
   "metadata": {},
   "source": [
    "Нет, таких дубликатов не оказалось."
   ]
  },
  {
   "cell_type": "markdown",
   "metadata": {},
   "source": [
    "Разберемся с пропусками в `year_of_release`. Проведем парсинг сайта ag.ru. Будем искать название игры и извлекать год выпуска. Те названия, которые не нашлись(например, на сайте у игры не такое название или её вовсе там нет) просто удалим, они составляют незначительную часть всего датафрейма (меньше процента). Приведем к специальному виду имена для удобства парсинга. Используется *BeautifulSoup*, *requests*. Не судите строго! Первый раз писала парсинг =)"
   ]
  },
  {
   "cell_type": "code",
   "execution_count": 11,
   "metadata": {},
   "outputs": [],
   "source": [
    "data.columns = data.columns.str.lower()\n",
    "data['name'] = data['name'].astype('string').str.lower()\n",
    "data['name'] = data['name'].str.replace(' ','-')"
   ]
  },
  {
   "cell_type": "code",
   "execution_count": 12,
   "metadata": {},
   "outputs": [],
   "source": [
    "def year_na(name,year):\n",
    "    try:\n",
    "        if pd.isna(year):\n",
    "            url = f'https://ag.ru/games/{name}'\n",
    "            response = requests.get(url)\n",
    "            bs = BeautifulSoup(response.text,\"lxml\")\n",
    "            temp = bs.find('div', {'itemprop':'datePublished'})\n",
    "            var = str(temp).split(' ')[5]\n",
    "            return var\n",
    "        else:\n",
    "            return year\n",
    "    except:\n",
    "        return year"
   ]
  },
  {
   "cell_type": "code",
   "execution_count": 13,
   "metadata": {},
   "outputs": [],
   "source": [
    "data['year_of_release'] = data.apply(lambda x: year_na(x['name'],x['year_of_release']), axis=1)"
   ]
  },
  {
   "cell_type": "markdown",
   "metadata": {},
   "source": [
    "Остальные строки без года удалим, они составляют всего 1.5% от общего количества, поэтому их удаление будет не критично."
   ]
  },
  {
   "cell_type": "code",
   "execution_count": 14,
   "metadata": {},
   "outputs": [
    {
     "data": {
      "text/plain": [
       "array([1977, 1980, 1981, 1982, 1983, 1984, 1985, 1986, 1987, 1988, 1989,\n",
       "       1990, 1991, 1992, 1993, 1994, 1995, 1996, 1997, 1998, 1999, 2000,\n",
       "       2001, 2002, 2003, 2004, 2005, 2006, 2007, 2008, 2009, 2010, 2011,\n",
       "       2012, 2013, 2014, 2015, 2016, 2017, 2022], dtype=int64)"
      ]
     },
     "execution_count": 14,
     "metadata": {},
     "output_type": "execute_result"
    }
   ],
   "source": [
    "data = data.dropna(subset = ['year_of_release'])\n",
    "data['year_of_release'] = data['year_of_release'].astype('float')\n",
    "data['year_of_release'] = data['year_of_release'].astype('int64')\n",
    "data['year_of_release'].sort_values().unique()"
   ]
  },
  {
   "cell_type": "markdown",
   "metadata": {},
   "source": [
    "Приступим к заполнению пропусков в столбцах `critic_score`,\t`user_score` - оценки со стороны критиков и пользователей соответственно. В этих столбцах достаточное количество пропусков, поэтому просто удалить их будет неправильным. Начнем с `user_score`, в этом столбце присутствует значение *tbd*, что означает \"to be discussed\" - будет определено позже. Будем это расценивать как NaN, можно заменить *tbd*->*NaN* без удаления этих строк, они нам еще понадобятся для дальнейшего анализа. \n",
    "\n",
    "Пропуски в обоих столбцах будем заполнять средним значением по жанру. Если заполнять по платформам, то возникнут проблемы с некоторыми из них, например GB,NES, поскольку у них вообще нет оценок.  "
   ]
  },
  {
   "cell_type": "code",
   "execution_count": 15,
   "metadata": {},
   "outputs": [],
   "source": [
    "#data['user_score'] = data['user_score'].replace('tbd', np.NaN)\n",
    "#data['user_score'] = data['user_score'].astype('float64')\n",
    "data['user_score'] = pd.to_numeric(data['user_score'], errors='coerce')"
   ]
  },
  {
   "cell_type": "code",
   "execution_count": 16,
   "metadata": {},
   "outputs": [
    {
     "data": {
      "text/plain": [
       "array([8. , nan, 8.3, 8.5, 6.6, 8.4, 8.6, 7.7, 6.3, 7.4, 8.2, 9. , 7.9,\n",
       "       8.1, 8.7, 7.1, 3.4, 5.3, 4.8, 3.2, 8.9, 6.4, 7.8, 7.5, 2.6, 7.2,\n",
       "       9.2, 7. , 7.3, 4.3, 7.6, 5.7, 5. , 9.1, 6.5, 8.8, 6.9, 9.4, 6.8,\n",
       "       6.1, 6.7, 5.4, 4. , 4.9, 4.5, 9.3, 6.2, 4.2, 6. , 3.7, 4.1, 5.8,\n",
       "       5.6, 5.5, 4.4, 4.6, 5.9, 3.9, 3.1, 2.9, 5.2, 3.3, 4.7, 5.1, 3.5,\n",
       "       2.5, 1.9, 3. , 2.7, 2.2, 2. , 9.5, 2.1, 3.6, 2.8, 1.8, 3.8, 0. ,\n",
       "       1.6, 9.6, 2.4, 1.7, 1.1, 0.3, 1.5, 0.7, 1.2, 2.3, 0.5, 1.3, 0.2,\n",
       "       0.6, 1.4, 0.9, 1. , 9.7])"
      ]
     },
     "execution_count": 16,
     "metadata": {},
     "output_type": "execute_result"
    }
   ],
   "source": [
    "data['user_score'].unique()"
   ]
  },
  {
   "cell_type": "markdown",
   "metadata": {},
   "source": [
    "Займёмся `rating` - рейтинг ESRB. Сначала был реализован **парсинг**, аналогичный замене пропусков даты выхода. Код ниже, но невозможно долго парсит. Решила делать по-другому,ведь пропуски надо заполнить, их почти 7000, что очень много относительно всего датафрейма. "
   ]
  },
  {
   "cell_type": "markdown",
   "metadata": {},
   "source": [
    "<div class=\"alert alert-info\">\n",
    "<b>В `rating` принимаю решение поставить заглушки.</b> \n",
    "</div>"
   ]
  },
  {
   "cell_type": "code",
   "execution_count": 21,
   "metadata": {},
   "outputs": [],
   "source": [
    "data['rating']=data['rating'].fillna(-1)"
   ]
  },
  {
   "cell_type": "code",
   "execution_count": 22,
   "metadata": {},
   "outputs": [
    {
     "data": {
      "text/plain": [
       "array(['E', -1, 'M', 'T', 'E10+', 'K-A', 'AO', 'EC', 'RP'], dtype=object)"
      ]
     },
     "execution_count": 22,
     "metadata": {},
     "output_type": "execute_result"
    }
   ],
   "source": [
    "data['rating'].unique()"
   ]
  },
  {
   "cell_type": "markdown",
   "metadata": {},
   "source": [
    "Заменим K-A на E."
   ]
  },
  {
   "cell_type": "code",
   "execution_count": 23,
   "metadata": {},
   "outputs": [
    {
     "data": {
      "text/plain": [
       "(16585, 11)"
      ]
     },
     "execution_count": 23,
     "metadata": {},
     "output_type": "execute_result"
    }
   ],
   "source": [
    "data.shape"
   ]
  },
  {
   "cell_type": "code",
   "execution_count": 24,
   "metadata": {},
   "outputs": [],
   "source": [
    "data.loc[data['rating'] == 'K-A','rating'] = 'E'"
   ]
  },
  {
   "cell_type": "code",
   "execution_count": 25,
   "metadata": {},
   "outputs": [
    {
     "name": "stdout",
     "output_type": "stream",
     "text": [
      "<class 'pandas.core.frame.DataFrame'>\n",
      "Int64Index: 16585 entries, 0 to 16714\n",
      "Data columns (total 11 columns):\n",
      " #   Column           Non-Null Count  Dtype  \n",
      "---  ------           --------------  -----  \n",
      " 0   name             16585 non-null  string \n",
      " 1   platform         16585 non-null  object \n",
      " 2   year_of_release  16585 non-null  int64  \n",
      " 3   genre            16585 non-null  object \n",
      " 4   na_sales         16585 non-null  float64\n",
      " 5   eu_sales         16585 non-null  float64\n",
      " 6   jp_sales         16585 non-null  float64\n",
      " 7   other_sales      16585 non-null  float64\n",
      " 8   critic_score     8067 non-null   float64\n",
      " 9   user_score       7533 non-null   float64\n",
      " 10  rating           16585 non-null  object \n",
      "dtypes: float64(6), int64(1), object(3), string(1)\n",
      "memory usage: 1.5+ MB\n"
     ]
    }
   ],
   "source": [
    "data.info()"
   ]
  },
  {
   "cell_type": "markdown",
   "metadata": {},
   "source": [
    "Закончили обработку пропусков. Теперь посчитаем **суммарные продажи** во всех регионах для каждой игры и запишем их в отдельный столбец."
   ]
  },
  {
   "cell_type": "code",
   "execution_count": 26,
   "metadata": {},
   "outputs": [],
   "source": [
    "data['sum_sales'] =  data[['na_sales','eu_sales','jp_sales', 'other_sales']].sum(axis = 1)"
   ]
  },
  {
   "cell_type": "code",
   "execution_count": 27,
   "metadata": {},
   "outputs": [
    {
     "data": {
      "text/html": [
       "<div>\n",
       "<style scoped>\n",
       "    .dataframe tbody tr th:only-of-type {\n",
       "        vertical-align: middle;\n",
       "    }\n",
       "\n",
       "    .dataframe tbody tr th {\n",
       "        vertical-align: top;\n",
       "    }\n",
       "\n",
       "    .dataframe thead th {\n",
       "        text-align: right;\n",
       "    }\n",
       "</style>\n",
       "<table border=\"1\" class=\"dataframe\">\n",
       "  <thead>\n",
       "    <tr style=\"text-align: right;\">\n",
       "      <th></th>\n",
       "      <th>name</th>\n",
       "      <th>platform</th>\n",
       "      <th>year_of_release</th>\n",
       "      <th>genre</th>\n",
       "      <th>na_sales</th>\n",
       "      <th>eu_sales</th>\n",
       "      <th>jp_sales</th>\n",
       "      <th>other_sales</th>\n",
       "      <th>critic_score</th>\n",
       "      <th>user_score</th>\n",
       "      <th>rating</th>\n",
       "      <th>sum_sales</th>\n",
       "    </tr>\n",
       "  </thead>\n",
       "  <tbody>\n",
       "    <tr>\n",
       "      <th>0</th>\n",
       "      <td>wii-sports</td>\n",
       "      <td>Wii</td>\n",
       "      <td>2006</td>\n",
       "      <td>Sports</td>\n",
       "      <td>41.36</td>\n",
       "      <td>28.96</td>\n",
       "      <td>3.77</td>\n",
       "      <td>8.45</td>\n",
       "      <td>76.0</td>\n",
       "      <td>8.0</td>\n",
       "      <td>E</td>\n",
       "      <td>82.54</td>\n",
       "    </tr>\n",
       "    <tr>\n",
       "      <th>1</th>\n",
       "      <td>super-mario-bros.</td>\n",
       "      <td>NES</td>\n",
       "      <td>1985</td>\n",
       "      <td>Platform</td>\n",
       "      <td>29.08</td>\n",
       "      <td>3.58</td>\n",
       "      <td>6.81</td>\n",
       "      <td>0.77</td>\n",
       "      <td>NaN</td>\n",
       "      <td>NaN</td>\n",
       "      <td>-1</td>\n",
       "      <td>40.24</td>\n",
       "    </tr>\n",
       "    <tr>\n",
       "      <th>2</th>\n",
       "      <td>mario-kart-wii</td>\n",
       "      <td>Wii</td>\n",
       "      <td>2008</td>\n",
       "      <td>Racing</td>\n",
       "      <td>15.68</td>\n",
       "      <td>12.76</td>\n",
       "      <td>3.79</td>\n",
       "      <td>3.29</td>\n",
       "      <td>82.0</td>\n",
       "      <td>8.3</td>\n",
       "      <td>E</td>\n",
       "      <td>35.52</td>\n",
       "    </tr>\n",
       "    <tr>\n",
       "      <th>3</th>\n",
       "      <td>wii-sports-resort</td>\n",
       "      <td>Wii</td>\n",
       "      <td>2009</td>\n",
       "      <td>Sports</td>\n",
       "      <td>15.61</td>\n",
       "      <td>10.93</td>\n",
       "      <td>3.28</td>\n",
       "      <td>2.95</td>\n",
       "      <td>80.0</td>\n",
       "      <td>8.0</td>\n",
       "      <td>E</td>\n",
       "      <td>32.77</td>\n",
       "    </tr>\n",
       "    <tr>\n",
       "      <th>4</th>\n",
       "      <td>pokemon-red/pokemon-blue</td>\n",
       "      <td>GB</td>\n",
       "      <td>1996</td>\n",
       "      <td>Role-Playing</td>\n",
       "      <td>11.27</td>\n",
       "      <td>8.89</td>\n",
       "      <td>10.22</td>\n",
       "      <td>1.00</td>\n",
       "      <td>NaN</td>\n",
       "      <td>NaN</td>\n",
       "      <td>-1</td>\n",
       "      <td>31.38</td>\n",
       "    </tr>\n",
       "  </tbody>\n",
       "</table>\n",
       "</div>"
      ],
      "text/plain": [
       "                       name platform  year_of_release         genre  na_sales  \\\n",
       "0                wii-sports      Wii             2006        Sports     41.36   \n",
       "1         super-mario-bros.      NES             1985      Platform     29.08   \n",
       "2            mario-kart-wii      Wii             2008        Racing     15.68   \n",
       "3         wii-sports-resort      Wii             2009        Sports     15.61   \n",
       "4  pokemon-red/pokemon-blue       GB             1996  Role-Playing     11.27   \n",
       "\n",
       "   eu_sales  jp_sales  other_sales  critic_score  user_score rating  sum_sales  \n",
       "0     28.96      3.77         8.45          76.0         8.0      E      82.54  \n",
       "1      3.58      6.81         0.77           NaN         NaN     -1      40.24  \n",
       "2     12.76      3.79         3.29          82.0         8.3      E      35.52  \n",
       "3     10.93      3.28         2.95          80.0         8.0      E      32.77  \n",
       "4      8.89     10.22         1.00           NaN         NaN     -1      31.38  "
      ]
     },
     "execution_count": 27,
     "metadata": {},
     "output_type": "execute_result"
    }
   ],
   "source": [
    "data.head(5)"
   ]
  },
  {
   "cell_type": "markdown",
   "metadata": {},
   "source": [
    "**Итог**: итак, все логически заменяемые и важные для исследования пропуски заполнены в соответствии с выбранным мной принципом, изменены типы данных там, где это необходимо и удобно для дальнейшего использования. Опишу причины возможного появления пропусков: \n",
    "\n",
    "- `name`, `genre` — название и жанр игры. Возможно, просто ошибка заполнения, поскольку строки с такими пропусками совпали, всего их было две, поэтому я их просто удалила. \n",
    "- `year_of_release` — год выпуска. Здесь пропуски возможны по нескольким причинам. Например, точная дата выхода игры неизвестна или же всё та же ошибка заполнения. Проблема решалась парсингом.\n",
    "- `critic_score`, `user_score`, `rating` — здесь пропуски было решено оставить."
   ]
  },
  {
   "cell_type": "markdown",
   "metadata": {},
   "source": [
    "### Исследовательский анализ данных"
   ]
  },
  {
   "cell_type": "markdown",
   "metadata": {},
   "source": [
    "#### Количество игр в разные годы"
   ]
  },
  {
   "cell_type": "code",
   "execution_count": 28,
   "metadata": {},
   "outputs": [
    {
     "data": {
      "text/plain": [
       "<AxesSubplot:title={'center':'Зависимость количества игр от года выхода'}, xlabel='year_of_release'>"
      ]
     },
     "execution_count": 28,
     "metadata": {},
     "output_type": "execute_result"
    },
    {
     "data": {
      "image/png": "[encoded data removed]",
      "text/plain": [
       "<Figure size 800x400 with 1 Axes>"
      ]
     },
     "metadata": {},
     "output_type": "display_data"
    }
   ],
   "source": [
    "data.pivot_table(index = 'year_of_release', \n",
    "                 values = 'name', aggfunc = 'count').plot(style = '-*', color = 'purple', title = 'Зависимость количества игр от года выхода', grid = True, figsize = (8,4))"
   ]
  },
  {
   "cell_type": "markdown",
   "metadata": {},
   "source": [
    "**Вывод**: как видим, до 1995 года выходило довольно мало игр, после произошел резкий скачок в индустрии и количество игр в год стремительно росло вплоть до 2009-2010, далее динамика пошла на спад. Ближе к 2016 году примерно на уровне 2000-х, возможно это связано с тем, что игры стали технически сложнеее, \"навороченнее\". Получается \"редко, но метко\". \n",
    "\n",
    "Поскольку игр до 1995 довольно мало, можно исключить их из рассмотрения."
   ]
  },
  {
   "cell_type": "markdown",
   "metadata": {},
   "source": [
    "#### Динамика продаж по платформам"
   ]
  },
  {
   "cell_type": "code",
   "execution_count": 29,
   "metadata": {},
   "outputs": [
    {
     "data": {
      "text/plain": [
       "<AxesSubplot:title={'center':'Продажи платформ по регионам'}, xlabel='platform'>"
      ]
     },
     "execution_count": 29,
     "metadata": {},
     "output_type": "execute_result"
    },
    {
     "data": {
      "image/png": "[encoded data removed]",
      "text/plain": [
       "<Figure size 800x400 with 1 Axes>"
      ]
     },
     "metadata": {},
     "output_type": "display_data"
    }
   ],
   "source": [
    "dinamic_sales_pl = data.pivot_table(\n",
    "    index = 'platform', values = ['na_sales', 'eu_sales', 'jp_sales', \n",
    "                                  'other_sales','sum_sales'], aggfunc = 'sum').sort_values(by = 'sum_sales')\n",
    "dinamic_sales_pl.plot(kind = 'bar', color = \n",
    "                      ['silver','blue', 'steelblue','magenta','purple'],grid = True,\n",
    "                      figsize = (8,4), title = 'Продажи платформ по регионам')"
   ]
  },
  {
   "cell_type": "markdown",
   "metadata": {},
   "source": [
    "**Вывод**: как видим, в суммарных продажах за все время лидируют такие платформы: PS, DS, Wii, PS3, X360, PS2. Построим для них распределение по годам и исследуем, за какой характерный срок появляются новые и исчезают старые платформы. Для этого показательным кажется график heatmap."
   ]
  },
  {
   "cell_type": "markdown",
   "metadata": {},
   "source": [
    "#### Распределение продаж платформ по годам"
   ]
  },
  {
   "cell_type": "markdown",
   "metadata": {},
   "source": [
    "Из распределения видно, что в среднем топовые платформы востребовательны в течение 10 лет, причем у всех довольно предсказуемый жизненный цикл: сначала активный рост, пик, а потом спад \n",
    "\n",
    "На примере Sony и их PS, PS2,PS3 видно, что как только наступает середина жизни одной платформы и продажи начинают падать, то на рынок выпускают следующую модель. \n",
    "\n",
    "Хочу обратить внимание на неожиданные значения для PS2,PS3 в 80-х. Понятно, что в то время приставки еще не существовали. Скорее всего причиной такой аномалии послужило заполнение пропусков года релиза, на сайте ag.ru указана дата в целом, а не для какой-то конкретной платформы, поэтому игра действительно могла выйти в 80-е, но для ps ее сделали позже. Удалим строки с такой аномалией, чтоб не смущали.\n",
    "\n",
    "Еще, конечно, настораживает платформа DS со значением в 1985, проверила, оказалось, что она выпущена в 2004 году. Тоже удалим эту строку."
   ]
  },
  {
   "cell_type": "code",
   "execution_count": 30,
   "metadata": {},
   "outputs": [
    {
     "data": {
      "text/plain": [
       "<AxesSubplot:xlabel='year_of_release', ylabel='platform'>"
      ]
     },
     "execution_count": 30,
     "metadata": {},
     "output_type": "execute_result"
    },
    {
     "data": {
      "image/png": "[encoded data removed]",
      "text/plain": [
       "<Figure size 600x300 with 2 Axes>"
      ]
     },
     "metadata": {},
     "output_type": "display_data"
    }
   ],
   "source": [
    "lider_platform = data.query('platform in [\"PS\", \"DS\", \"Wii\", \"PS3\", \"X360\", \"PS2\"]')\n",
    "distrib_platform = lider_platform.pivot_table(index = 'platform', \n",
    "                                              columns = 'year_of_release', values = 'sum_sales',aggfunc = 'sum')\n",
    "plt.figure(figsize=(6,3))\n",
    "sns.heatmap(distrib_platform,cmap= 'coolwarm')"
   ]
  },
  {
   "cell_type": "code",
   "execution_count": 31,
   "metadata": {},
   "outputs": [
    {
     "data": {
      "text/html": [
       "<div>\n",
       "<style scoped>\n",
       "    .dataframe tbody tr th:only-of-type {\n",
       "        vertical-align: middle;\n",
       "    }\n",
       "\n",
       "    .dataframe tbody tr th {\n",
       "        vertical-align: top;\n",
       "    }\n",
       "\n",
       "    .dataframe thead th {\n",
       "        text-align: right;\n",
       "    }\n",
       "</style>\n",
       "<table border=\"1\" class=\"dataframe\">\n",
       "  <thead>\n",
       "    <tr style=\"text-align: right;\">\n",
       "      <th></th>\n",
       "      <th>name</th>\n",
       "      <th>platform</th>\n",
       "      <th>year_of_release</th>\n",
       "      <th>genre</th>\n",
       "      <th>na_sales</th>\n",
       "      <th>eu_sales</th>\n",
       "      <th>jp_sales</th>\n",
       "      <th>other_sales</th>\n",
       "      <th>critic_score</th>\n",
       "      <th>user_score</th>\n",
       "      <th>rating</th>\n",
       "      <th>sum_sales</th>\n",
       "    </tr>\n",
       "  </thead>\n",
       "  <tbody>\n",
       "    <tr>\n",
       "      <th>4127</th>\n",
       "      <td>sonic-the-hedgehog</td>\n",
       "      <td>PS3</td>\n",
       "      <td>1991</td>\n",
       "      <td>Platform</td>\n",
       "      <td>0.00</td>\n",
       "      <td>0.48</td>\n",
       "      <td>0.00</td>\n",
       "      <td>0.00</td>\n",
       "      <td>43.0</td>\n",
       "      <td>4.1</td>\n",
       "      <td>E10+</td>\n",
       "      <td>0.48</td>\n",
       "    </tr>\n",
       "    <tr>\n",
       "      <th>8364</th>\n",
       "      <td>sword-of-the-samurai</td>\n",
       "      <td>PS2</td>\n",
       "      <td>1989</td>\n",
       "      <td>Fighting</td>\n",
       "      <td>0.00</td>\n",
       "      <td>0.00</td>\n",
       "      <td>0.17</td>\n",
       "      <td>0.00</td>\n",
       "      <td>NaN</td>\n",
       "      <td>NaN</td>\n",
       "      <td>-1</td>\n",
       "      <td>0.17</td>\n",
       "    </tr>\n",
       "    <tr>\n",
       "      <th>8500</th>\n",
       "      <td>splatterhouse</td>\n",
       "      <td>PS3</td>\n",
       "      <td>1988</td>\n",
       "      <td>Action</td>\n",
       "      <td>0.13</td>\n",
       "      <td>0.02</td>\n",
       "      <td>0.00</td>\n",
       "      <td>0.02</td>\n",
       "      <td>59.0</td>\n",
       "      <td>7.7</td>\n",
       "      <td>M</td>\n",
       "      <td>0.17</td>\n",
       "    </tr>\n",
       "    <tr>\n",
       "      <th>15957</th>\n",
       "      <td>strongest-tokyo-university-shogi-ds</td>\n",
       "      <td>DS</td>\n",
       "      <td>1985</td>\n",
       "      <td>Action</td>\n",
       "      <td>0.00</td>\n",
       "      <td>0.00</td>\n",
       "      <td>0.02</td>\n",
       "      <td>0.00</td>\n",
       "      <td>NaN</td>\n",
       "      <td>NaN</td>\n",
       "      <td>-1</td>\n",
       "      <td>0.02</td>\n",
       "    </tr>\n",
       "  </tbody>\n",
       "</table>\n",
       "</div>"
      ],
      "text/plain": [
       "                                      name platform  year_of_release  \\\n",
       "4127                    sonic-the-hedgehog      PS3             1991   \n",
       "8364                  sword-of-the-samurai      PS2             1989   \n",
       "8500                         splatterhouse      PS3             1988   \n",
       "15957  strongest-tokyo-university-shogi-ds       DS             1985   \n",
       "\n",
       "          genre  na_sales  eu_sales  jp_sales  other_sales  critic_score  \\\n",
       "4127   Platform      0.00      0.48      0.00         0.00          43.0   \n",
       "8364   Fighting      0.00      0.00      0.17         0.00           NaN   \n",
       "8500     Action      0.13      0.02      0.00         0.02          59.0   \n",
       "15957    Action      0.00      0.00      0.02         0.00           NaN   \n",
       "\n",
       "       user_score rating  sum_sales  \n",
       "4127          4.1   E10+       0.48  \n",
       "8364          NaN     -1       0.17  \n",
       "8500          7.7      M       0.17  \n",
       "15957         NaN     -1       0.02  "
      ]
     },
     "execution_count": 31,
     "metadata": {},
     "output_type": "execute_result"
    }
   ],
   "source": [
    "data.query('platform in [\"PS2\", \"PS3\",\"DS\"] and year_of_release < 2000')"
   ]
  },
  {
   "cell_type": "markdown",
   "metadata": {},
   "source": [
    "Удаляем строки с аномалиями."
   ]
  },
  {
   "cell_type": "code",
   "execution_count": 32,
   "metadata": {},
   "outputs": [],
   "source": [
    "data = data.drop(index = [4127,8364,8500,15957]).reset_index(drop = True)"
   ]
  },
  {
   "cell_type": "code",
   "execution_count": 33,
   "metadata": {},
   "outputs": [
    {
     "data": {
      "text/plain": [
       "<AxesSubplot:xlabel='year_of_release', ylabel='platform'>"
      ]
     },
     "execution_count": 33,
     "metadata": {},
     "output_type": "execute_result"
    },
    {
     "data": {
      "image/png": "[encoded data removed]",
      "text/plain": [
       "<Figure size 600x300 with 2 Axes>"
      ]
     },
     "metadata": {},
     "output_type": "display_data"
    }
   ],
   "source": [
    "lider_platform = data.query('platform in [\"PS\", \"DS\", \"Wii\", \"PS3\", \"X360\", \"PS2\"]')\n",
    "distrib_platform = lider_platform.pivot_table(index = 'platform', \n",
    "                                              columns = 'year_of_release', values = 'sum_sales',aggfunc = 'sum')\n",
    "plt.figure(figsize=(6,3))\n",
    "sns.heatmap(distrib_platform,cmap= 'coolwarm')"
   ]
  },
  {
   "cell_type": "markdown",
   "metadata": {},
   "source": [
    "Теперь все хорошо=)"
   ]
  },
  {
   "cell_type": "markdown",
   "metadata": {},
   "source": [
    "#### Актуальный период"
   ]
  },
  {
   "cell_type": "markdown",
   "metadata": {},
   "source": [
    "Теперь перейдем к определению актуального периода исследования. Для этого построим \"жизненный цикл\" для каждой платформы, чтобы определить наиболее популярные к 2016 году приставки, а также те, которые уже заканчивают свое существование в игровой индустрии.  "
   ]
  },
  {
   "cell_type": "code",
   "execution_count": 34,
   "metadata": {},
   "outputs": [
    {
     "data": {
      "text/plain": [
       "<AxesSubplot:xlabel='year_of_release'>"
      ]
     },
     "execution_count": 34,
     "metadata": {},
     "output_type": "execute_result"
    },
    {
     "data": {
      "image/png": "[encoded data removed]",
      "text/plain": [
       "<Figure size 1000x400 with 1 Axes>"
      ]
     },
     "metadata": {},
     "output_type": "display_data"
    }
   ],
   "source": [
    "cycle_platform = data.pivot_table(index = 'year_of_release', columns = 'platform', values = 'name', aggfunc = 'count')\n",
    "colors = ['aqua', 'azure', 'black', 'brown', 'crimson', 'darkblue', 'darkgreen', 'magenta', 'yellow', 'red', 'purple','silver', 'orange','pink','plum', 'navy', 'lightgreen']\n",
    "cycle_platform.plot(style = '-o', color = colors, figsize = (10,4))"
   ]
  },
  {
   "cell_type": "markdown",
   "metadata": {},
   "source": [
    "**Вывод**: к 2016 году набирают обороты PS4, XOne. Год релиза первой игры на них примерно одинаковый - 2013. С учётом стремительго развития индустрии имеет смысл взять актуальный период 2015-2016 для исследования."
   ]
  },
  {
   "cell_type": "markdown",
   "metadata": {},
   "source": [
    "#### \"Лидеры, растущие и падающие\""
   ]
  },
  {
   "cell_type": "markdown",
   "metadata": {},
   "source": [
    "Определим, какие платформы лидируют по продажам, какие только растут или уже падают, а также выберем несколько потенциально прибыльных платформ в выбранный актуальный период."
   ]
  },
  {
   "cell_type": "code",
   "execution_count": 35,
   "metadata": {},
   "outputs": [
    {
     "data": {
      "text/plain": [
       "<AxesSubplot:title={'center':'Продажи платформ по регионам и общие в 2015-2016 г.'}, xlabel='platform'>"
      ]
     },
     "execution_count": 35,
     "metadata": {},
     "output_type": "execute_result"
    },
    {
     "data": {
      "image/png": "[encoded data removed]",
      "text/plain": [
       "<Figure size 800x400 with 1 Axes>"
      ]
     },
     "metadata": {},
     "output_type": "display_data"
    }
   ],
   "source": [
    "data_new = data.query('year_of_release >= 2015')\n",
    "data_new.pivot_table(\n",
    "    index = 'platform', values = ['na_sales', 'eu_sales', 'jp_sales', \n",
    "                                  'other_sales','sum_sales'], aggfunc = 'sum').sort_values(by = 'sum_sales').plot(kind = 'bar', color = \n",
    "                      ['silver','blue', 'steelblue','magenta','purple'],grid = True,\n",
    "                      figsize = (8,4), title = 'Продажи платформ по регионам и общие в 2015-2016 г.')"
   ]
  },
  {
   "cell_type": "markdown",
   "metadata": {},
   "source": [
    "**Вывод**: вновь подтвердилась популярность PS4, на втором месте XOne. У 3DS, PS3, X360 продажи начали падать. К 2016 году PS3 почти исчерпала себя, на смену пришла PS4, похожая ситуация и с X360 и XOne, первая уступает место второй. Выделяем следующие актуальные платформы:"
   ]
  },
  {
   "cell_type": "code",
   "execution_count": 36,
   "metadata": {},
   "outputs": [],
   "source": [
    "lider_platform = ['PS4', 'XOne', '3DS','WiiU']"
   ]
  },
  {
   "cell_type": "markdown",
   "metadata": {},
   "source": [
    "<div class=\"alert alert-info\">\n",
    "<b>Sony полностью прекратила производство PS3 17 марта 2017, а Xbox перестал выпускаться и поддерживаться 24 апреля 2016, поэтому исключаю из рассмотрения.</b> \n",
    "</div>"
   ]
  },
  {
   "cell_type": "markdown",
   "metadata": {},
   "source": [
    "#### Диаграмма размаха глобальных продаж платформ"
   ]
  },
  {
   "cell_type": "markdown",
   "metadata": {},
   "source": [
    "Построим график «ящик с усами» по глобальным продажам игр в разбивке по платформам. Будем исследовать актуальный период и востребованные платформы."
   ]
  },
  {
   "cell_type": "code",
   "execution_count": 37,
   "metadata": {},
   "outputs": [
    {
     "data": {
      "text/plain": [
       "(0.0, 2.5)"
      ]
     },
     "execution_count": 37,
     "metadata": {},
     "output_type": "execute_result"
    },
    {
     "data": {
      "image/png": "[encoded data removed]",
      "text/plain": [
       "<Figure size 1500x1000 with 1 Axes>"
      ]
     },
     "metadata": {},
     "output_type": "display_data"
    }
   ],
   "source": [
    "data_new = data_new.query('platform in @lider_platform')\n",
    "plt.figure(figsize=(15,10))\n",
    "sns.boxplot(data=data_new, x='sum_sales', y='platform')\n",
    "plt.title(label='Диаграмма размаха по глобальным продажам игр для востребованных платформ \\n', fontsize=15)\n",
    "plt.xlabel(\"\\nСуммарные продажи\", fontsize=10)\n",
    "plt.ylabel(\"Платформы\", fontsize=10)\n",
    "plt.xlim(0, 2.5)"
   ]
  },
  {
   "cell_type": "code",
   "execution_count": 39,
   "metadata": {},
   "outputs": [
    {
     "data": {
      "text/html": [
       "<div>\n",
       "<style scoped>\n",
       "    .dataframe tbody tr th:only-of-type {\n",
       "        vertical-align: middle;\n",
       "    }\n",
       "\n",
       "    .dataframe tbody tr th {\n",
       "        vertical-align: top;\n",
       "    }\n",
       "\n",
       "    .dataframe thead th {\n",
       "        text-align: right;\n",
       "    }\n",
       "</style>\n",
       "<table border=\"1\" class=\"dataframe\">\n",
       "  <thead>\n",
       "    <tr style=\"text-align: right;\">\n",
       "      <th></th>\n",
       "      <th>name</th>\n",
       "      <th>count</th>\n",
       "      <th>mean</th>\n",
       "      <th>std</th>\n",
       "      <th>min</th>\n",
       "      <th>25%</th>\n",
       "      <th>50%</th>\n",
       "      <th>75%</th>\n",
       "      <th>max</th>\n",
       "    </tr>\n",
       "  </thead>\n",
       "  <tbody>\n",
       "    <tr>\n",
       "      <th>0</th>\n",
       "      <td>PS4</td>\n",
       "      <td>301.0</td>\n",
       "      <td>0.63</td>\n",
       "      <td>1.46</td>\n",
       "      <td>0.01</td>\n",
       "      <td>0.05</td>\n",
       "      <td>0.12</td>\n",
       "      <td>0.42</td>\n",
       "      <td>14.63</td>\n",
       "    </tr>\n",
       "    <tr>\n",
       "      <th>1</th>\n",
       "      <td>XOne</td>\n",
       "      <td>167.0</td>\n",
       "      <td>0.52</td>\n",
       "      <td>0.97</td>\n",
       "      <td>0.01</td>\n",
       "      <td>0.04</td>\n",
       "      <td>0.13</td>\n",
       "      <td>0.56</td>\n",
       "      <td>7.39</td>\n",
       "    </tr>\n",
       "    <tr>\n",
       "      <th>2</th>\n",
       "      <td>3DS</td>\n",
       "      <td>132.0</td>\n",
       "      <td>0.33</td>\n",
       "      <td>0.80</td>\n",
       "      <td>0.01</td>\n",
       "      <td>0.03</td>\n",
       "      <td>0.09</td>\n",
       "      <td>0.23</td>\n",
       "      <td>7.14</td>\n",
       "    </tr>\n",
       "    <tr>\n",
       "      <th>3</th>\n",
       "      <td>WiiU</td>\n",
       "      <td>42.0</td>\n",
       "      <td>0.50</td>\n",
       "      <td>0.85</td>\n",
       "      <td>0.01</td>\n",
       "      <td>0.05</td>\n",
       "      <td>0.21</td>\n",
       "      <td>0.52</td>\n",
       "      <td>4.44</td>\n",
       "    </tr>\n",
       "  </tbody>\n",
       "</table>\n",
       "</div>"
      ],
      "text/plain": [
       "   name  count  mean   std   min   25%   50%   75%    max\n",
       "0   PS4  301.0  0.63  1.46  0.01  0.05  0.12  0.42  14.63\n",
       "1  XOne  167.0  0.52  0.97  0.01  0.04  0.13  0.56   7.39\n",
       "2   3DS  132.0  0.33  0.80  0.01  0.03  0.09  0.23   7.14\n",
       "3  WiiU   42.0  0.50  0.85  0.01  0.05  0.21  0.52   4.44"
      ]
     },
     "execution_count": 39,
     "metadata": {},
     "output_type": "execute_result"
    }
   ],
   "source": [
    "des_act_plat = pd.DataFrame({'name':lider_platform, \n",
    "'count' :[301.0,167.0,132.0,42.0], 'mean': [0.63,0.52,0.33,0.5], \n",
    "'std': [1.46,0.97,0.8,0.85], 'min': [0.01,0.01,0.01,0.01],'25%': [0.05,0.04,0.03,0.05],\n",
    "'50%':[0.12,0.13,0.09,0.21], '75%':[0.42 ,0.56,0.23,0.52],'max':[14.63,7.39,7.14,4.44]})\n",
    "des_act_plat"
   ]
  },
  {
   "cell_type": "markdown",
   "metadata": {},
   "source": [
    "**Вывод**: наблюдаем следующую картину. Примерно одинаковые медианы у PS4, XOne. Среднее у всех платформ больше медианы. Это значит, что распределение будет положительно ассиметричным (горб будет слева).\n",
    "Максимальное из максимальных имеет PS4 - 14,63, в пиковых продажах она обходит XOne почти в три раза. "
   ]
  },
  {
   "cell_type": "markdown",
   "metadata": {},
   "source": [
    "#### Влияние отзывов на продажи одной популярной платформы"
   ]
  },
  {
   "cell_type": "markdown",
   "metadata": {},
   "source": [
    "Исследуем, как влияют на продажи внутри одной популярной платформы отзывы пользователей и критиков, построим диаграмму рассеяния для каждой популярной платформы и вычислим корреляцию между отзывами и продажами. "
   ]
  },
  {
   "cell_type": "markdown",
   "metadata": {},
   "source": [
    "**PS4**"
   ]
  },
  {
   "cell_type": "code",
   "execution_count": 40,
   "metadata": {},
   "outputs": [
    {
     "data": {
      "text/plain": [
       "<matplotlib.collections.PathCollection at 0x1c80e12cc70>"
      ]
     },
     "execution_count": 40,
     "metadata": {},
     "output_type": "execute_result"
    },
    {
     "data": {
      "image/png": "[encoded data removed]",
      "text/plain": [
       "<Figure size 1000x500 with 2 Axes>"
      ]
     },
     "metadata": {},
     "output_type": "display_data"
    }
   ],
   "source": [
    "fig,ax = plt.subplots(nrows = 1, ncols = 2, figsize=(10,5))\n",
    "ps4 = data_new.query('platform == \"PS4\"')[['user_score','critic_score','sum_sales']].sort_values(by = 'sum_sales')\n",
    "ax[0].set_title('Зависимость продаж от оценки критиков')\n",
    "ax[0].scatter(ps4['critic_score'],ps4['sum_sales'])\n",
    "\n",
    "ax[1].set_title('Зависимость продаж от оценки пользователей')\n",
    "ax[1].scatter(ps4['user_score'],ps4['sum_sales'])"
   ]
  },
  {
   "cell_type": "markdown",
   "metadata": {},
   "source": [
    "**XOne**"
   ]
  },
  {
   "cell_type": "code",
   "execution_count": 41,
   "metadata": {},
   "outputs": [
    {
     "data": {
      "text/plain": [
       "<matplotlib.collections.PathCollection at 0x1c80d4166d0>"
      ]
     },
     "execution_count": 41,
     "metadata": {},
     "output_type": "execute_result"
    },
    {
     "data": {
      "image/png": "[encoded data removed]",
      "text/plain": [
       "<Figure size 1000x500 with 2 Axes>"
      ]
     },
     "metadata": {},
     "output_type": "display_data"
    }
   ],
   "source": [
    "fig,ax = plt.subplots(nrows = 1, ncols = 2, figsize=(10,5))\n",
    "xone = data_new.query('platform == \"XOne\"')[['user_score','critic_score','sum_sales']].sort_values(by = 'sum_sales')\n",
    "ax[0].set_title('Зависимость продаж от оценки критиков')\n",
    "ax[0].scatter(xone['critic_score'],xone['sum_sales'])\n",
    "\n",
    "ax[1].set_title('Зависимость продаж от оценки пользователей')\n",
    "ax[1].scatter(xone['user_score'],xone['sum_sales'])"
   ]
  },
  {
   "cell_type": "markdown",
   "metadata": {},
   "source": [
    "**3DS**"
   ]
  },
  {
   "cell_type": "code",
   "execution_count": 42,
   "metadata": {},
   "outputs": [
    {
     "data": {
      "text/plain": [
       "<matplotlib.collections.PathCollection at 0x1c80dfc92b0>"
      ]
     },
     "execution_count": 42,
     "metadata": {},
     "output_type": "execute_result"
    },
    {
     "data": {
      "image/png": "[encoded data removed]",
      "text/plain": [
       "<Figure size 1000x500 with 2 Axes>"
      ]
     },
     "metadata": {},
     "output_type": "display_data"
    }
   ],
   "source": [
    "fig,ax = plt.subplots(nrows = 1, ncols = 2, figsize=(10,5))\n",
    "ds = data_new.query('platform == \"3DS\"')[['user_score','critic_score','sum_sales']].sort_values(by = 'sum_sales')\n",
    "ax[0].set_title('Зависимость продаж от оценки критиков')\n",
    "ax[0].scatter(ds['critic_score'],ds['sum_sales'])\n",
    "\n",
    "ax[1].set_title('Зависимость продаж от оценки пользователей')\n",
    "ax[1].scatter(ds['user_score'],ds['sum_sales'])"
   ]
  },
  {
   "cell_type": "markdown",
   "metadata": {},
   "source": [
    "**WiiU**"
   ]
  },
  {
   "cell_type": "code",
   "execution_count": 43,
   "metadata": {},
   "outputs": [
    {
     "data": {
      "text/plain": [
       "<matplotlib.collections.PathCollection at 0x1c80de91940>"
      ]
     },
     "execution_count": 43,
     "metadata": {},
     "output_type": "execute_result"
    },
    {
     "data": {
      "image/png": "[encoded data removed]",
      "text/plain": [
       "<Figure size 1000x500 with 2 Axes>"
      ]
     },
     "metadata": {},
     "output_type": "display_data"
    }
   ],
   "source": [
    "fig,ax = plt.subplots(nrows = 1, ncols = 2, figsize=(10,5))\n",
    "wii = data_new.query('platform == \"WiiU\"')[['user_score','critic_score','sum_sales']].sort_values(by = 'sum_sales')\n",
    "ax[0].set_title('Зависимость продаж от оценки критиков')\n",
    "ax[0].scatter(wii['critic_score'],wii['sum_sales'])\n",
    "\n",
    "ax[1].set_title('Зависимость продаж от оценки пользователей')\n",
    "ax[1].scatter(wii['user_score'],wii['sum_sales'])"
   ]
  },
  {
   "cell_type": "markdown",
   "metadata": {},
   "source": [
    "Пока по графикам нельзя сказать о какой-то сильной линейной зависимости между продажами и отзывами критиков/пользователей. Удостоверимся в этом с помощью вычисления коэффициента корреляции Пирсона."
   ]
  },
  {
   "cell_type": "markdown",
   "metadata": {},
   "source": [
    "Соотнесем выводы с продажами игр на других платформах. "
   ]
  },
  {
   "cell_type": "code",
   "execution_count": 45,
   "metadata": {},
   "outputs": [
    {
     "data": {
      "text/html": [
       "<div>\n",
       "<style scoped>\n",
       "    .dataframe tbody tr th:only-of-type {\n",
       "        vertical-align: middle;\n",
       "    }\n",
       "\n",
       "    .dataframe tbody tr th {\n",
       "        vertical-align: top;\n",
       "    }\n",
       "\n",
       "    .dataframe thead th {\n",
       "        text-align: right;\n",
       "    }\n",
       "</style>\n",
       "<table border=\"1\" class=\"dataframe\">\n",
       "  <thead>\n",
       "    <tr style=\"text-align: right;\">\n",
       "      <th></th>\n",
       "      <th>name</th>\n",
       "      <th>critic_sore</th>\n",
       "      <th>user_score</th>\n",
       "    </tr>\n",
       "  </thead>\n",
       "  <tbody>\n",
       "    <tr>\n",
       "      <th>0</th>\n",
       "      <td>PS4</td>\n",
       "      <td>0.39</td>\n",
       "      <td>-0.06</td>\n",
       "    </tr>\n",
       "    <tr>\n",
       "      <th>1</th>\n",
       "      <td>XOne</td>\n",
       "      <td>0.43</td>\n",
       "      <td>-0.04</td>\n",
       "    </tr>\n",
       "    <tr>\n",
       "      <th>2</th>\n",
       "      <td>3DS</td>\n",
       "      <td>0.18</td>\n",
       "      <td>0.20</td>\n",
       "    </tr>\n",
       "    <tr>\n",
       "      <th>3</th>\n",
       "      <td>WiiU</td>\n",
       "      <td>0.32</td>\n",
       "      <td>0.36</td>\n",
       "    </tr>\n",
       "  </tbody>\n",
       "</table>\n",
       "</div>"
      ],
      "text/plain": [
       "   name  critic_sore  user_score\n",
       "0   PS4         0.39       -0.06\n",
       "1  XOne         0.43       -0.04\n",
       "2   3DS         0.18        0.20\n",
       "3  WiiU         0.32        0.36"
      ]
     },
     "execution_count": 45,
     "metadata": {},
     "output_type": "execute_result"
    }
   ],
   "source": [
    "corr_sales_score = pd.DataFrame({'name':lider_platform, \n",
    "'critic_sore' :[0.39, 0.43, 0.18, 0.32], 'user_score': [-0.06,-0.04,0.2,0.36]})\n",
    "corr_sales_score"
   ]
  },
  {
   "cell_type": "markdown",
   "metadata": {},
   "source": [
    "**Вывод**: как видим по графикам и по коэффициентам корреляции, о какой-либо линейной зависимости между продажами и отзывами критиков/пользователей говорить нельзя. В случае пары `user_score` - `sum_sales` у PS4, XOne коэффициент корреляции совсем близко к 0, у 3DS чуть лучше, но всё равно маленький. В случае `critic_score` - `sum_sales` ситуация чуть лучше, но коэффициенты всё равно слишком малы для сильной/средней зависимости."
   ]
  },
  {
   "cell_type": "markdown",
   "metadata": {},
   "source": [
    "<div class=\"alert alert-info\">\n",
    "<b>Построила диаграммы рассеяния для каждой популярной платформы, а также таблицу с коэффициентами корреляции.</b> \n",
    "</div>"
   ]
  },
  {
   "cell_type": "markdown",
   "metadata": {},
   "source": [
    "#### Общее распределение игр по жанрам"
   ]
  },
  {
   "cell_type": "markdown",
   "metadata": {},
   "source": [
    "Исследуем общее распределение игр по жанрам, а также самые прибыльные жанры."
   ]
  },
  {
   "cell_type": "code",
   "execution_count": 46,
   "metadata": {},
   "outputs": [
    {
     "data": {
      "text/html": [
       "<div>\n",
       "<style scoped>\n",
       "    .dataframe tbody tr th:only-of-type {\n",
       "        vertical-align: middle;\n",
       "    }\n",
       "\n",
       "    .dataframe tbody tr th {\n",
       "        vertical-align: top;\n",
       "    }\n",
       "\n",
       "    .dataframe thead th {\n",
       "        text-align: right;\n",
       "    }\n",
       "</style>\n",
       "<table border=\"1\" class=\"dataframe\">\n",
       "  <thead>\n",
       "    <tr style=\"text-align: right;\">\n",
       "      <th></th>\n",
       "      <th>name</th>\n",
       "    </tr>\n",
       "    <tr>\n",
       "      <th>genre</th>\n",
       "      <th></th>\n",
       "    </tr>\n",
       "  </thead>\n",
       "  <tbody>\n",
       "    <tr>\n",
       "      <th>Puzzle</th>\n",
       "      <td>6</td>\n",
       "    </tr>\n",
       "    <tr>\n",
       "      <th>Strategy</th>\n",
       "      <td>10</td>\n",
       "    </tr>\n",
       "    <tr>\n",
       "      <th>Simulation</th>\n",
       "      <td>15</td>\n",
       "    </tr>\n",
       "    <tr>\n",
       "      <th>Platform</th>\n",
       "      <td>22</td>\n",
       "    </tr>\n",
       "    <tr>\n",
       "      <th>Fighting</th>\n",
       "      <td>25</td>\n",
       "    </tr>\n",
       "    <tr>\n",
       "      <th>Racing</th>\n",
       "      <td>29</td>\n",
       "    </tr>\n",
       "    <tr>\n",
       "      <th>Adventure</th>\n",
       "      <td>43</td>\n",
       "    </tr>\n",
       "    <tr>\n",
       "      <th>Misc</th>\n",
       "      <td>47</td>\n",
       "    </tr>\n",
       "    <tr>\n",
       "      <th>Sports</th>\n",
       "      <td>57</td>\n",
       "    </tr>\n",
       "    <tr>\n",
       "      <th>Shooter</th>\n",
       "      <td>59</td>\n",
       "    </tr>\n",
       "    <tr>\n",
       "      <th>Role-Playing</th>\n",
       "      <td>80</td>\n",
       "    </tr>\n",
       "    <tr>\n",
       "      <th>Action</th>\n",
       "      <td>249</td>\n",
       "    </tr>\n",
       "  </tbody>\n",
       "</table>\n",
       "</div>"
      ],
      "text/plain": [
       "              name\n",
       "genre             \n",
       "Puzzle           6\n",
       "Strategy        10\n",
       "Simulation      15\n",
       "Platform        22\n",
       "Fighting        25\n",
       "Racing          29\n",
       "Adventure       43\n",
       "Misc            47\n",
       "Sports          57\n",
       "Shooter         59\n",
       "Role-Playing    80\n",
       "Action         249"
      ]
     },
     "execution_count": 46,
     "metadata": {},
     "output_type": "execute_result"
    },
    {
     "data": {
      "image/png": "[encoded data removed]",
      "text/plain": [
       "<Figure size 800x400 with 1 Axes>"
      ]
     },
     "metadata": {},
     "output_type": "display_data"
    }
   ],
   "source": [
    "des_genres = data_new.pivot_table(\n",
    "    index = 'genre', values = 'name', aggfunc = 'count').sort_values(by = 'name')\n",
    "des_genres.plot(kind = 'bar', color = 'steelblue',grid = True, figsize = (8,4), title = 'Распределение жанров')\n",
    "des_genres"
   ]
  },
  {
   "cell_type": "markdown",
   "metadata": {},
   "source": [
    "Больше всего выпускают игры в жанре \"Action\" - 249 млн. экземпляров за актуальный период, далее идет \"Role-Playing\" - 80, \"Shooter\" на третьем месте - 59. Самым низкопроизводимым жанром оказались \"Puzzle\" - 6, \"Strategy\" - 10.  "
   ]
  },
  {
   "cell_type": "markdown",
   "metadata": {},
   "source": [
    "Исследуем продажи по жанрам."
   ]
  },
  {
   "cell_type": "code",
   "execution_count": 47,
   "metadata": {},
   "outputs": [
    {
     "data": {
      "text/html": [
       "<div>\n",
       "<style scoped>\n",
       "    .dataframe tbody tr th:only-of-type {\n",
       "        vertical-align: middle;\n",
       "    }\n",
       "\n",
       "    .dataframe tbody tr th {\n",
       "        vertical-align: top;\n",
       "    }\n",
       "\n",
       "    .dataframe thead th {\n",
       "        text-align: right;\n",
       "    }\n",
       "</style>\n",
       "<table border=\"1\" class=\"dataframe\">\n",
       "  <thead>\n",
       "    <tr style=\"text-align: right;\">\n",
       "      <th></th>\n",
       "      <th>sum_sales</th>\n",
       "    </tr>\n",
       "    <tr>\n",
       "      <th>genre</th>\n",
       "      <th></th>\n",
       "    </tr>\n",
       "  </thead>\n",
       "  <tbody>\n",
       "    <tr>\n",
       "      <th>Puzzle</th>\n",
       "      <td>0.71</td>\n",
       "    </tr>\n",
       "    <tr>\n",
       "      <th>Strategy</th>\n",
       "      <td>0.92</td>\n",
       "    </tr>\n",
       "    <tr>\n",
       "      <th>Simulation</th>\n",
       "      <td>5.02</td>\n",
       "    </tr>\n",
       "    <tr>\n",
       "      <th>Adventure</th>\n",
       "      <td>8.08</td>\n",
       "    </tr>\n",
       "    <tr>\n",
       "      <th>Platform</th>\n",
       "      <td>8.88</td>\n",
       "    </tr>\n",
       "    <tr>\n",
       "      <th>Racing</th>\n",
       "      <td>10.37</td>\n",
       "    </tr>\n",
       "    <tr>\n",
       "      <th>Misc</th>\n",
       "      <td>10.96</td>\n",
       "    </tr>\n",
       "    <tr>\n",
       "      <th>Fighting</th>\n",
       "      <td>11.18</td>\n",
       "    </tr>\n",
       "    <tr>\n",
       "      <th>Role-Playing</th>\n",
       "      <td>48.97</td>\n",
       "    </tr>\n",
       "    <tr>\n",
       "      <th>Sports</th>\n",
       "      <td>51.04</td>\n",
       "    </tr>\n",
       "    <tr>\n",
       "      <th>Action</th>\n",
       "      <td>84.60</td>\n",
       "    </tr>\n",
       "    <tr>\n",
       "      <th>Shooter</th>\n",
       "      <td>97.58</td>\n",
       "    </tr>\n",
       "  </tbody>\n",
       "</table>\n",
       "</div>"
      ],
      "text/plain": [
       "              sum_sales\n",
       "genre                  \n",
       "Puzzle             0.71\n",
       "Strategy           0.92\n",
       "Simulation         5.02\n",
       "Adventure          8.08\n",
       "Platform           8.88\n",
       "Racing            10.37\n",
       "Misc              10.96\n",
       "Fighting          11.18\n",
       "Role-Playing      48.97\n",
       "Sports            51.04\n",
       "Action            84.60\n",
       "Shooter           97.58"
      ]
     },
     "execution_count": 47,
     "metadata": {},
     "output_type": "execute_result"
    },
    {
     "data": {
      "image/png": "[encoded data removed]",
      "text/plain": [
       "<Figure size 800x400 with 1 Axes>"
      ]
     },
     "metadata": {},
     "output_type": "display_data"
    }
   ],
   "source": [
    "genre_sales = data_new.pivot_table(index = 'genre', values = 'sum_sales', aggfunc = 'sum').sort_values(by = 'sum_sales')\n",
    "genre_sales.plot(kind = 'bar', color = 'purple',grid = True, figsize = (8,4),title = 'Продажи по жанрам')\n",
    "genre_sales"
   ]
  },
  {
   "cell_type": "markdown",
   "metadata": {},
   "source": [
    "Больше всего и покупают шутер, однако на втором месте уже экшн, а вот рол-плей на четвертом! Интересно посмотреть на средние продажи игры определенного жанра, то есть отношение купленных к произведенным. \n",
    "\n",
    "Интересно это потому, что жанр экшн делают много, покупают много, жанр шутер на первом месте по покупке, но на 2м месте по количеству. Может быть на самом деле игра жанра шутер покупается лучше, а у экшн такие показатели в продажах просто потому, что его много производят. Проверим."
   ]
  },
  {
   "cell_type": "code",
   "execution_count": 48,
   "metadata": {},
   "outputs": [
    {
     "data": {
      "text/html": [
       "<div>\n",
       "<style scoped>\n",
       "    .dataframe tbody tr th:only-of-type {\n",
       "        vertical-align: middle;\n",
       "    }\n",
       "\n",
       "    .dataframe tbody tr th {\n",
       "        vertical-align: top;\n",
       "    }\n",
       "\n",
       "    .dataframe thead th {\n",
       "        text-align: right;\n",
       "    }\n",
       "</style>\n",
       "<table border=\"1\" class=\"dataframe\">\n",
       "  <thead>\n",
       "    <tr style=\"text-align: right;\">\n",
       "      <th></th>\n",
       "      <th>sum_sales</th>\n",
       "    </tr>\n",
       "    <tr>\n",
       "      <th>genre</th>\n",
       "      <th></th>\n",
       "    </tr>\n",
       "  </thead>\n",
       "  <tbody>\n",
       "    <tr>\n",
       "      <th>Strategy</th>\n",
       "      <td>0.092000</td>\n",
       "    </tr>\n",
       "    <tr>\n",
       "      <th>Puzzle</th>\n",
       "      <td>0.118333</td>\n",
       "    </tr>\n",
       "    <tr>\n",
       "      <th>Adventure</th>\n",
       "      <td>0.187907</td>\n",
       "    </tr>\n",
       "    <tr>\n",
       "      <th>Misc</th>\n",
       "      <td>0.233191</td>\n",
       "    </tr>\n",
       "    <tr>\n",
       "      <th>Simulation</th>\n",
       "      <td>0.334667</td>\n",
       "    </tr>\n",
       "    <tr>\n",
       "      <th>Action</th>\n",
       "      <td>0.339759</td>\n",
       "    </tr>\n",
       "    <tr>\n",
       "      <th>Racing</th>\n",
       "      <td>0.357586</td>\n",
       "    </tr>\n",
       "    <tr>\n",
       "      <th>Platform</th>\n",
       "      <td>0.403636</td>\n",
       "    </tr>\n",
       "    <tr>\n",
       "      <th>Fighting</th>\n",
       "      <td>0.447200</td>\n",
       "    </tr>\n",
       "    <tr>\n",
       "      <th>Role-Playing</th>\n",
       "      <td>0.612125</td>\n",
       "    </tr>\n",
       "    <tr>\n",
       "      <th>Sports</th>\n",
       "      <td>0.895439</td>\n",
       "    </tr>\n",
       "    <tr>\n",
       "      <th>Shooter</th>\n",
       "      <td>1.653898</td>\n",
       "    </tr>\n",
       "  </tbody>\n",
       "</table>\n",
       "</div>"
      ],
      "text/plain": [
       "              sum_sales\n",
       "genre                  \n",
       "Strategy       0.092000\n",
       "Puzzle         0.118333\n",
       "Adventure      0.187907\n",
       "Misc           0.233191\n",
       "Simulation     0.334667\n",
       "Action         0.339759\n",
       "Racing         0.357586\n",
       "Platform       0.403636\n",
       "Fighting       0.447200\n",
       "Role-Playing   0.612125\n",
       "Sports         0.895439\n",
       "Shooter        1.653898"
      ]
     },
     "execution_count": 48,
     "metadata": {},
     "output_type": "execute_result"
    },
    {
     "data": {
      "image/png": "[encoded data removed]",
      "text/plain": [
       "<Figure size 800x400 with 1 Axes>"
      ]
     },
     "metadata": {},
     "output_type": "display_data"
    }
   ],
   "source": [
    "genre_sales_mean = data_new.pivot_table(index = 'genre', values = 'sum_sales', aggfunc = 'mean').sort_values(by ='sum_sales')\n",
    "genre_sales_mean.plot(kind = 'bar', color = 'purple',grid = True, figsize = (8,4),title = 'Средние продажи по жанру')\n",
    "genre_sales_mean"
   ]
  },
  {
   "cell_type": "markdown",
   "metadata": {},
   "source": [
    "**Вывод**: как оказалось, интерес обоснован. Одна игра жанра шутер покупается в среднем в 1.6 млн. экземплярах, в то же время одна игра жанра экшн в среднем покупается в 0.34 экземплярах. Соответсвенно, чем больше игр по 1.6 миллинонов будет произведено, тем больше выручка, поэтому шутер лидирует в продажах. Но хоть шутеры и меньше производят, зато геймеры их любят и покупают, как оказалось, в больших количествах. "
   ]
  },
  {
   "cell_type": "markdown",
   "metadata": {},
   "source": [
    "### Составление портрета пользователя каждого региона"
   ]
  },
  {
   "cell_type": "markdown",
   "metadata": {},
   "source": [
    "В нашем распоряжении три вида регионов: NA, EU, JP - Северная Америка, Европа и Япония."
   ]
  },
  {
   "cell_type": "markdown",
   "metadata": {},
   "source": [
    "#### Доли продаж популярных платформ для каждого региона"
   ]
  },
  {
   "cell_type": "code",
   "execution_count": 49,
   "metadata": {},
   "outputs": [
    {
     "data": {
      "text/html": [
       "<div>\n",
       "<style scoped>\n",
       "    .dataframe tbody tr th:only-of-type {\n",
       "        vertical-align: middle;\n",
       "    }\n",
       "\n",
       "    .dataframe tbody tr th {\n",
       "        vertical-align: top;\n",
       "    }\n",
       "\n",
       "    .dataframe thead th {\n",
       "        text-align: right;\n",
       "    }\n",
       "</style>\n",
       "<table border=\"1\" class=\"dataframe\">\n",
       "  <thead>\n",
       "    <tr style=\"text-align: right;\">\n",
       "      <th></th>\n",
       "      <th>na_sales</th>\n",
       "    </tr>\n",
       "    <tr>\n",
       "      <th>platform</th>\n",
       "      <th></th>\n",
       "    </tr>\n",
       "  </thead>\n",
       "  <tbody>\n",
       "    <tr>\n",
       "      <th>PS4</th>\n",
       "      <td>63.86</td>\n",
       "    </tr>\n",
       "    <tr>\n",
       "      <th>XOne</th>\n",
       "      <td>50.30</td>\n",
       "    </tr>\n",
       "    <tr>\n",
       "      <th>3DS</th>\n",
       "      <td>10.31</td>\n",
       "    </tr>\n",
       "    <tr>\n",
       "      <th>WiiU</th>\n",
       "      <td>8.86</td>\n",
       "    </tr>\n",
       "  </tbody>\n",
       "</table>\n",
       "</div>"
      ],
      "text/plain": [
       "          na_sales\n",
       "platform          \n",
       "PS4          63.86\n",
       "XOne         50.30\n",
       "3DS          10.31\n",
       "WiiU          8.86"
      ]
     },
     "execution_count": 49,
     "metadata": {},
     "output_type": "execute_result"
    }
   ],
   "source": [
    "data_new.pivot_table(index = 'platform',values='na_sales',aggfunc = 'sum').sort_values(by = 'na_sales',ascending = False)"
   ]
  },
  {
   "cell_type": "code",
   "execution_count": 50,
   "metadata": {},
   "outputs": [
    {
     "data": {
      "text/html": [
       "<div>\n",
       "<style scoped>\n",
       "    .dataframe tbody tr th:only-of-type {\n",
       "        vertical-align: middle;\n",
       "    }\n",
       "\n",
       "    .dataframe tbody tr th {\n",
       "        vertical-align: top;\n",
       "    }\n",
       "\n",
       "    .dataframe thead th {\n",
       "        text-align: right;\n",
       "    }\n",
       "</style>\n",
       "<table border=\"1\" class=\"dataframe\">\n",
       "  <thead>\n",
       "    <tr style=\"text-align: right;\">\n",
       "      <th></th>\n",
       "      <th>eu_sales</th>\n",
       "    </tr>\n",
       "    <tr>\n",
       "      <th>platform</th>\n",
       "      <th></th>\n",
       "    </tr>\n",
       "  </thead>\n",
       "  <tbody>\n",
       "    <tr>\n",
       "      <th>PS4</th>\n",
       "      <td>83.54</td>\n",
       "    </tr>\n",
       "    <tr>\n",
       "      <th>XOne</th>\n",
       "      <td>28.10</td>\n",
       "    </tr>\n",
       "    <tr>\n",
       "      <th>3DS</th>\n",
       "      <td>7.39</td>\n",
       "    </tr>\n",
       "    <tr>\n",
       "      <th>WiiU</th>\n",
       "      <td>6.49</td>\n",
       "    </tr>\n",
       "  </tbody>\n",
       "</table>\n",
       "</div>"
      ],
      "text/plain": [
       "          eu_sales\n",
       "platform          \n",
       "PS4          83.54\n",
       "XOne         28.10\n",
       "3DS           7.39\n",
       "WiiU          6.49"
      ]
     },
     "execution_count": 50,
     "metadata": {},
     "output_type": "execute_result"
    }
   ],
   "source": [
    "data_new.pivot_table(index = 'platform',values='eu_sales',aggfunc = 'sum').sort_values(by = 'eu_sales',ascending = False)"
   ]
  },
  {
   "cell_type": "code",
   "execution_count": 51,
   "metadata": {},
   "outputs": [
    {
     "data": {
      "text/html": [
       "<div>\n",
       "<style scoped>\n",
       "    .dataframe tbody tr th:only-of-type {\n",
       "        vertical-align: middle;\n",
       "    }\n",
       "\n",
       "    .dataframe tbody tr th {\n",
       "        vertical-align: top;\n",
       "    }\n",
       "\n",
       "    .dataframe thead th {\n",
       "        text-align: right;\n",
       "    }\n",
       "</style>\n",
       "<table border=\"1\" class=\"dataframe\">\n",
       "  <thead>\n",
       "    <tr style=\"text-align: right;\">\n",
       "      <th></th>\n",
       "      <th>jp_sales</th>\n",
       "    </tr>\n",
       "    <tr>\n",
       "      <th>platform</th>\n",
       "      <th></th>\n",
       "    </tr>\n",
       "  </thead>\n",
       "  <tbody>\n",
       "    <tr>\n",
       "      <th>3DS</th>\n",
       "      <td>23.55</td>\n",
       "    </tr>\n",
       "    <tr>\n",
       "      <th>PS4</th>\n",
       "      <td>12.05</td>\n",
       "    </tr>\n",
       "    <tr>\n",
       "      <th>WiiU</th>\n",
       "      <td>4.12</td>\n",
       "    </tr>\n",
       "    <tr>\n",
       "      <th>XOne</th>\n",
       "      <td>0.18</td>\n",
       "    </tr>\n",
       "  </tbody>\n",
       "</table>\n",
       "</div>"
      ],
      "text/plain": [
       "          jp_sales\n",
       "platform          \n",
       "3DS          23.55\n",
       "PS4          12.05\n",
       "WiiU          4.12\n",
       "XOne          0.18"
      ]
     },
     "execution_count": 51,
     "metadata": {},
     "output_type": "execute_result"
    }
   ],
   "source": [
    "data_new.pivot_table(index = 'platform',values='jp_sales',aggfunc = 'sum').sort_values(by = 'jp_sales',ascending = False)"
   ]
  },
  {
   "cell_type": "code",
   "execution_count": 52,
   "metadata": {},
   "outputs": [
    {
     "data": {
      "text/plain": [
       "Text(0.5, 1.0, 'Тепловая карта продаж в регионах')"
      ]
     },
     "execution_count": 52,
     "metadata": {},
     "output_type": "execute_result"
    },
    {
     "data": {
      "image/png": "[encoded data removed]",
      "text/plain": [
       "<Figure size 640x480 with 2 Axes>"
      ]
     },
     "metadata": {},
     "output_type": "display_data"
    }
   ],
   "source": [
    "region_group = data_new.pivot_table(index = 'platform',values=['na_sales','eu_sales','jp_sales'],aggfunc = 'sum')\n",
    "sns.heatmap(region_group, cmap='coolwarm')\n",
    "plt.title('Тепловая карта продаж в регионах')"
   ]
  },
  {
   "cell_type": "markdown",
   "metadata": {},
   "source": [
    "**Вывод**: в Северной Америке лидирует по продажам PS4, после этого XOne, 3DS, самая непопулярная платформа - это WiiU. Европейские пользователи очень похожи в предпочтениях, рейтинг совпал.\n",
    "\n",
    "Очень интересны в своих предпочтениях японские пользователи. Совсем всё наоборот! Самой популярной платформой стала 3DS, далее идет PS4. А вот XOne совсем не пользуется популярностью. \n",
    "\n",
    "Если о числах относительно всех регионов, то \n",
    "- PS4 больше всего продались в Европе(83 млн. копий) за актуальный период\n",
    "- XOne в Северной Америке(50 млн.копий)\n",
    "- 3DS в Японии(24 млн.копий)\n",
    "- WiiU в Северной Америке (8,86 млн.копий)"
   ]
  },
  {
   "cell_type": "markdown",
   "metadata": {},
   "source": [
    "#### Самые популярные жанры в регионах"
   ]
  },
  {
   "cell_type": "code",
   "execution_count": 53,
   "metadata": {},
   "outputs": [
    {
     "data": {
      "text/html": [
       "<div>\n",
       "<style scoped>\n",
       "    .dataframe tbody tr th:only-of-type {\n",
       "        vertical-align: middle;\n",
       "    }\n",
       "\n",
       "    .dataframe tbody tr th {\n",
       "        vertical-align: top;\n",
       "    }\n",
       "\n",
       "    .dataframe thead th {\n",
       "        text-align: right;\n",
       "    }\n",
       "</style>\n",
       "<table border=\"1\" class=\"dataframe\">\n",
       "  <thead>\n",
       "    <tr style=\"text-align: right;\">\n",
       "      <th></th>\n",
       "      <th>na_sales</th>\n",
       "    </tr>\n",
       "    <tr>\n",
       "      <th>genre</th>\n",
       "      <th></th>\n",
       "    </tr>\n",
       "  </thead>\n",
       "  <tbody>\n",
       "    <tr>\n",
       "      <th>Shooter</th>\n",
       "      <td>44.70</td>\n",
       "    </tr>\n",
       "    <tr>\n",
       "      <th>Action</th>\n",
       "      <td>29.16</td>\n",
       "    </tr>\n",
       "    <tr>\n",
       "      <th>Sports</th>\n",
       "      <td>20.72</td>\n",
       "    </tr>\n",
       "    <tr>\n",
       "      <th>Role-Playing</th>\n",
       "      <td>18.69</td>\n",
       "    </tr>\n",
       "    <tr>\n",
       "      <th>Fighting</th>\n",
       "      <td>5.16</td>\n",
       "    </tr>\n",
       "    <tr>\n",
       "      <th>Misc</th>\n",
       "      <td>4.41</td>\n",
       "    </tr>\n",
       "    <tr>\n",
       "      <th>Platform</th>\n",
       "      <td>3.62</td>\n",
       "    </tr>\n",
       "    <tr>\n",
       "      <th>Racing</th>\n",
       "      <td>2.82</td>\n",
       "    </tr>\n",
       "    <tr>\n",
       "      <th>Adventure</th>\n",
       "      <td>2.72</td>\n",
       "    </tr>\n",
       "    <tr>\n",
       "      <th>Simulation</th>\n",
       "      <td>0.93</td>\n",
       "    </tr>\n",
       "    <tr>\n",
       "      <th>Strategy</th>\n",
       "      <td>0.34</td>\n",
       "    </tr>\n",
       "    <tr>\n",
       "      <th>Puzzle</th>\n",
       "      <td>0.06</td>\n",
       "    </tr>\n",
       "  </tbody>\n",
       "</table>\n",
       "</div>"
      ],
      "text/plain": [
       "              na_sales\n",
       "genre                 \n",
       "Shooter          44.70\n",
       "Action           29.16\n",
       "Sports           20.72\n",
       "Role-Playing     18.69\n",
       "Fighting          5.16\n",
       "Misc              4.41\n",
       "Platform          3.62\n",
       "Racing            2.82\n",
       "Adventure         2.72\n",
       "Simulation        0.93\n",
       "Strategy          0.34\n",
       "Puzzle            0.06"
      ]
     },
     "execution_count": 53,
     "metadata": {},
     "output_type": "execute_result"
    }
   ],
   "source": [
    "data_new.pivot_table(index = 'genre',values='na_sales',aggfunc = 'sum').sort_values(by = 'na_sales',ascending = False)"
   ]
  },
  {
   "cell_type": "code",
   "execution_count": 54,
   "metadata": {},
   "outputs": [
    {
     "data": {
      "text/html": [
       "<div>\n",
       "<style scoped>\n",
       "    .dataframe tbody tr th:only-of-type {\n",
       "        vertical-align: middle;\n",
       "    }\n",
       "\n",
       "    .dataframe tbody tr th {\n",
       "        vertical-align: top;\n",
       "    }\n",
       "\n",
       "    .dataframe thead th {\n",
       "        text-align: right;\n",
       "    }\n",
       "</style>\n",
       "<table border=\"1\" class=\"dataframe\">\n",
       "  <thead>\n",
       "    <tr style=\"text-align: right;\">\n",
       "      <th></th>\n",
       "      <th>eu_sales</th>\n",
       "    </tr>\n",
       "    <tr>\n",
       "      <th>genre</th>\n",
       "      <th></th>\n",
       "    </tr>\n",
       "  </thead>\n",
       "  <tbody>\n",
       "    <tr>\n",
       "      <th>Shooter</th>\n",
       "      <td>36.63</td>\n",
       "    </tr>\n",
       "    <tr>\n",
       "      <th>Action</th>\n",
       "      <td>29.53</td>\n",
       "    </tr>\n",
       "    <tr>\n",
       "      <th>Sports</th>\n",
       "      <td>22.40</td>\n",
       "    </tr>\n",
       "    <tr>\n",
       "      <th>Role-Playing</th>\n",
       "      <td>15.43</td>\n",
       "    </tr>\n",
       "    <tr>\n",
       "      <th>Racing</th>\n",
       "      <td>6.14</td>\n",
       "    </tr>\n",
       "    <tr>\n",
       "      <th>Adventure</th>\n",
       "      <td>3.46</td>\n",
       "    </tr>\n",
       "    <tr>\n",
       "      <th>Fighting</th>\n",
       "      <td>3.40</td>\n",
       "    </tr>\n",
       "    <tr>\n",
       "      <th>Misc</th>\n",
       "      <td>3.25</td>\n",
       "    </tr>\n",
       "    <tr>\n",
       "      <th>Platform</th>\n",
       "      <td>3.03</td>\n",
       "    </tr>\n",
       "    <tr>\n",
       "      <th>Simulation</th>\n",
       "      <td>1.88</td>\n",
       "    </tr>\n",
       "    <tr>\n",
       "      <th>Strategy</th>\n",
       "      <td>0.25</td>\n",
       "    </tr>\n",
       "    <tr>\n",
       "      <th>Puzzle</th>\n",
       "      <td>0.12</td>\n",
       "    </tr>\n",
       "  </tbody>\n",
       "</table>\n",
       "</div>"
      ],
      "text/plain": [
       "              eu_sales\n",
       "genre                 \n",
       "Shooter          36.63\n",
       "Action           29.53\n",
       "Sports           22.40\n",
       "Role-Playing     15.43\n",
       "Racing            6.14\n",
       "Adventure         3.46\n",
       "Fighting          3.40\n",
       "Misc              3.25\n",
       "Platform          3.03\n",
       "Simulation        1.88\n",
       "Strategy          0.25\n",
       "Puzzle            0.12"
      ]
     },
     "execution_count": 54,
     "metadata": {},
     "output_type": "execute_result"
    }
   ],
   "source": [
    "data_new.pivot_table(index = 'genre',values='eu_sales',aggfunc = 'sum').sort_values(by = 'eu_sales',ascending = False)"
   ]
  },
  {
   "cell_type": "code",
   "execution_count": 55,
   "metadata": {},
   "outputs": [
    {
     "data": {
      "text/html": [
       "<div>\n",
       "<style scoped>\n",
       "    .dataframe tbody tr th:only-of-type {\n",
       "        vertical-align: middle;\n",
       "    }\n",
       "\n",
       "    .dataframe tbody tr th {\n",
       "        vertical-align: top;\n",
       "    }\n",
       "\n",
       "    .dataframe thead th {\n",
       "        text-align: right;\n",
       "    }\n",
       "</style>\n",
       "<table border=\"1\" class=\"dataframe\">\n",
       "  <thead>\n",
       "    <tr style=\"text-align: right;\">\n",
       "      <th></th>\n",
       "      <th>jp_sales</th>\n",
       "    </tr>\n",
       "    <tr>\n",
       "      <th>genre</th>\n",
       "      <th></th>\n",
       "    </tr>\n",
       "  </thead>\n",
       "  <tbody>\n",
       "    <tr>\n",
       "      <th>Action</th>\n",
       "      <td>16.70</td>\n",
       "    </tr>\n",
       "    <tr>\n",
       "      <th>Role-Playing</th>\n",
       "      <td>9.82</td>\n",
       "    </tr>\n",
       "    <tr>\n",
       "      <th>Shooter</th>\n",
       "      <td>3.63</td>\n",
       "    </tr>\n",
       "    <tr>\n",
       "      <th>Misc</th>\n",
       "      <td>2.42</td>\n",
       "    </tr>\n",
       "    <tr>\n",
       "      <th>Simulation</th>\n",
       "      <td>1.89</td>\n",
       "    </tr>\n",
       "    <tr>\n",
       "      <th>Platform</th>\n",
       "      <td>1.39</td>\n",
       "    </tr>\n",
       "    <tr>\n",
       "      <th>Fighting</th>\n",
       "      <td>1.15</td>\n",
       "    </tr>\n",
       "    <tr>\n",
       "      <th>Sports</th>\n",
       "      <td>0.97</td>\n",
       "    </tr>\n",
       "    <tr>\n",
       "      <th>Adventure</th>\n",
       "      <td>0.95</td>\n",
       "    </tr>\n",
       "    <tr>\n",
       "      <th>Puzzle</th>\n",
       "      <td>0.52</td>\n",
       "    </tr>\n",
       "    <tr>\n",
       "      <th>Strategy</th>\n",
       "      <td>0.26</td>\n",
       "    </tr>\n",
       "    <tr>\n",
       "      <th>Racing</th>\n",
       "      <td>0.20</td>\n",
       "    </tr>\n",
       "  </tbody>\n",
       "</table>\n",
       "</div>"
      ],
      "text/plain": [
       "              jp_sales\n",
       "genre                 \n",
       "Action           16.70\n",
       "Role-Playing      9.82\n",
       "Shooter           3.63\n",
       "Misc              2.42\n",
       "Simulation        1.89\n",
       "Platform          1.39\n",
       "Fighting          1.15\n",
       "Sports            0.97\n",
       "Adventure         0.95\n",
       "Puzzle            0.52\n",
       "Strategy          0.26\n",
       "Racing            0.20"
      ]
     },
     "execution_count": 55,
     "metadata": {},
     "output_type": "execute_result"
    }
   ],
   "source": [
    "data_new.pivot_table(index = 'genre',values='jp_sales',aggfunc = 'sum').sort_values(by = 'jp_sales',ascending = False)"
   ]
  },
  {
   "cell_type": "code",
   "execution_count": 56,
   "metadata": {},
   "outputs": [
    {
     "data": {
      "text/plain": [
       "Text(0.5, 1.0, 'Тепловая карта жанров в регионах')"
      ]
     },
     "execution_count": 56,
     "metadata": {},
     "output_type": "execute_result"
    },
    {
     "data": {
      "image/png": "[encoded data removed]",
      "text/plain": [
       "<Figure size 640x480 with 2 Axes>"
      ]
     },
     "metadata": {},
     "output_type": "display_data"
    }
   ],
   "source": [
    "region_genre = data_new.pivot_table(index = 'genre',values=['na_sales','eu_sales','jp_sales'],aggfunc = 'sum')\n",
    "sns.heatmap(region_genre, cmap='coolwarm')\n",
    "plt.title('Тепловая карта жанров в регионах')"
   ]
  },
  {
   "cell_type": "markdown",
   "metadata": {},
   "source": [
    "**Вывод**: итак, если посмотрим на сводные таблицы и на тепловую карту. Очень похожи картины у Европы и Америки. На первом месте жанр шутер, но по количеству продаж лидирует Америка: 45 млн. против 37 млн.. Далее и там,и там идет шутер, в продажах очень близко - (29.16(NA) и 29.53(EU) млн. копий). После идет жанр спорт и рол-плэй. Совсем не популярны головоломки, стратегии и симуляции.\n",
    "\n",
    "В Японии вкусы отличаются по местам. Наиболее популярным стал экшн (16.7 млн.копий) и рол плэй(почти 10 млн.копий). Не популярны здесь гонки, стратегии и головоломки. Однако по сравнению с Америкой и Европой, симуляции здесь в середине рейтинга."
   ]
  },
  {
   "cell_type": "markdown",
   "metadata": {},
   "source": [
    "#### Влияние рейтинга ESRB на продажи в отдельном регионе"
   ]
  },
  {
   "cell_type": "code",
   "execution_count": 57,
   "metadata": {},
   "outputs": [
    {
     "data": {
      "text/html": [
       "<div>\n",
       "<style scoped>\n",
       "    .dataframe tbody tr th:only-of-type {\n",
       "        vertical-align: middle;\n",
       "    }\n",
       "\n",
       "    .dataframe tbody tr th {\n",
       "        vertical-align: top;\n",
       "    }\n",
       "\n",
       "    .dataframe thead th {\n",
       "        text-align: right;\n",
       "    }\n",
       "</style>\n",
       "<table border=\"1\" class=\"dataframe\">\n",
       "  <thead>\n",
       "    <tr style=\"text-align: right;\">\n",
       "      <th></th>\n",
       "      <th>na_sales</th>\n",
       "    </tr>\n",
       "    <tr>\n",
       "      <th>rating</th>\n",
       "      <th></th>\n",
       "    </tr>\n",
       "  </thead>\n",
       "  <tbody>\n",
       "    <tr>\n",
       "      <th>M</th>\n",
       "      <td>43.64</td>\n",
       "    </tr>\n",
       "    <tr>\n",
       "      <th>-1</th>\n",
       "      <td>33.19</td>\n",
       "    </tr>\n",
       "    <tr>\n",
       "      <th>E</th>\n",
       "      <td>21.55</td>\n",
       "    </tr>\n",
       "    <tr>\n",
       "      <th>T</th>\n",
       "      <td>19.84</td>\n",
       "    </tr>\n",
       "    <tr>\n",
       "      <th>E10+</th>\n",
       "      <td>15.11</td>\n",
       "    </tr>\n",
       "  </tbody>\n",
       "</table>\n",
       "</div>"
      ],
      "text/plain": [
       "        na_sales\n",
       "rating          \n",
       "M          43.64\n",
       "-1         33.19\n",
       "E          21.55\n",
       "T          19.84\n",
       "E10+       15.11"
      ]
     },
     "execution_count": 57,
     "metadata": {},
     "output_type": "execute_result"
    }
   ],
   "source": [
    "data_new[~data_new['rating'].isnull()].pivot_table(index = 'rating',values='na_sales',aggfunc = 'sum').sort_values(by = 'na_sales',ascending = False)"
   ]
  },
  {
   "cell_type": "code",
   "execution_count": 58,
   "metadata": {},
   "outputs": [
    {
     "data": {
      "text/html": [
       "<div>\n",
       "<style scoped>\n",
       "    .dataframe tbody tr th:only-of-type {\n",
       "        vertical-align: middle;\n",
       "    }\n",
       "\n",
       "    .dataframe tbody tr th {\n",
       "        vertical-align: top;\n",
       "    }\n",
       "\n",
       "    .dataframe thead th {\n",
       "        text-align: right;\n",
       "    }\n",
       "</style>\n",
       "<table border=\"1\" class=\"dataframe\">\n",
       "  <thead>\n",
       "    <tr style=\"text-align: right;\">\n",
       "      <th></th>\n",
       "      <th>eu_sales</th>\n",
       "    </tr>\n",
       "    <tr>\n",
       "      <th>rating</th>\n",
       "      <th></th>\n",
       "    </tr>\n",
       "  </thead>\n",
       "  <tbody>\n",
       "    <tr>\n",
       "      <th>M</th>\n",
       "      <td>40.99</td>\n",
       "    </tr>\n",
       "    <tr>\n",
       "      <th>-1</th>\n",
       "      <td>30.53</td>\n",
       "    </tr>\n",
       "    <tr>\n",
       "      <th>E</th>\n",
       "      <td>28.51</td>\n",
       "    </tr>\n",
       "    <tr>\n",
       "      <th>T</th>\n",
       "      <td>17.11</td>\n",
       "    </tr>\n",
       "    <tr>\n",
       "      <th>E10+</th>\n",
       "      <td>8.38</td>\n",
       "    </tr>\n",
       "  </tbody>\n",
       "</table>\n",
       "</div>"
      ],
      "text/plain": [
       "        eu_sales\n",
       "rating          \n",
       "M          40.99\n",
       "-1         30.53\n",
       "E          28.51\n",
       "T          17.11\n",
       "E10+        8.38"
      ]
     },
     "execution_count": 58,
     "metadata": {},
     "output_type": "execute_result"
    }
   ],
   "source": [
    "data_new[~data_new['rating'].isnull()].pivot_table(index = 'rating',values='eu_sales',aggfunc = 'sum').sort_values(by = 'eu_sales',ascending = False)"
   ]
  },
  {
   "cell_type": "code",
   "execution_count": 59,
   "metadata": {},
   "outputs": [
    {
     "data": {
      "text/html": [
       "<div>\n",
       "<style scoped>\n",
       "    .dataframe tbody tr th:only-of-type {\n",
       "        vertical-align: middle;\n",
       "    }\n",
       "\n",
       "    .dataframe tbody tr th {\n",
       "        vertical-align: top;\n",
       "    }\n",
       "\n",
       "    .dataframe thead th {\n",
       "        text-align: right;\n",
       "    }\n",
       "</style>\n",
       "<table border=\"1\" class=\"dataframe\">\n",
       "  <thead>\n",
       "    <tr style=\"text-align: right;\">\n",
       "      <th></th>\n",
       "      <th>jp_sales</th>\n",
       "    </tr>\n",
       "    <tr>\n",
       "      <th>rating</th>\n",
       "      <th></th>\n",
       "    </tr>\n",
       "  </thead>\n",
       "  <tbody>\n",
       "    <tr>\n",
       "      <th>-1</th>\n",
       "      <td>24.00</td>\n",
       "    </tr>\n",
       "    <tr>\n",
       "      <th>E</th>\n",
       "      <td>4.93</td>\n",
       "    </tr>\n",
       "    <tr>\n",
       "      <th>T</th>\n",
       "      <td>4.47</td>\n",
       "    </tr>\n",
       "    <tr>\n",
       "      <th>M</th>\n",
       "      <td>3.52</td>\n",
       "    </tr>\n",
       "    <tr>\n",
       "      <th>E10+</th>\n",
       "      <td>2.98</td>\n",
       "    </tr>\n",
       "  </tbody>\n",
       "</table>\n",
       "</div>"
      ],
      "text/plain": [
       "        jp_sales\n",
       "rating          \n",
       "-1         24.00\n",
       "E           4.93\n",
       "T           4.47\n",
       "M           3.52\n",
       "E10+        2.98"
      ]
     },
     "execution_count": 59,
     "metadata": {},
     "output_type": "execute_result"
    }
   ],
   "source": [
    "data_new[~data_new['rating'].isnull()].pivot_table(index = 'rating',values='jp_sales',aggfunc = 'sum').sort_values(by = 'jp_sales',ascending = False)"
   ]
  },
  {
   "cell_type": "code",
   "execution_count": 60,
   "metadata": {},
   "outputs": [
    {
     "data": {
      "text/plain": [
       "Text(0.5, 1.0, 'Тепловая карта рейтингов в регионах')"
      ]
     },
     "execution_count": 60,
     "metadata": {},
     "output_type": "execute_result"
    },
    {
     "data": {
      "image/png": "[encoded data removed]",
      "text/plain": [
       "<Figure size 640x480 with 2 Axes>"
      ]
     },
     "metadata": {},
     "output_type": "display_data"
    }
   ],
   "source": [
    "region_rat = data_new.pivot_table(index = 'rating',values=['na_sales','eu_sales','jp_sales'],aggfunc = 'sum')\n",
    "sns.heatmap(region_rat, cmap='coolwarm')\n",
    "plt.title('Тепловая карта рейтингов в регионах')"
   ]
  },
  {
   "cell_type": "markdown",
   "metadata": {},
   "source": [
    "**Вывод**: в Европе и в Америке самыми продаваемыми являются игры с рейтингом \"М\" - для взрослых. Вспомним, что там самые популярные жанры экшн и шутер, всё сходится. Обычно такие игры с элементами \"для взрослых\": перестрелки, кровь и тд. В Японии же самым популярными стали игры рейтинга \"E\" - для всех. Однако если мы посмотрим по количеству в последней сводной таблице, то там оцененных млн.копий в разы меньше, чем у Америки и Европы. Возможно, это связано с тем, что в Японии своя \"оценочная\" организация. Это действительно так, возрастными рейтингами игр в Японии занимается CERO. "
   ]
  },
  {
   "cell_type": "markdown",
   "metadata": {},
   "source": [
    "**Вывод по разделу**: итак, портреты пользователей по регионам выглядят следующим образом\n",
    "> Пользователь из Северной Америки скорее всего выберет PS4, XOne и будет играть в игры жанра экшн и шутер с рейтингом M. \n",
    "\n",
    "> Пользователь из Европы аналогично американцу выберет платформы PS4, XOne. Предпочитает жанры экшн и шутер с рейтингом M.\n",
    "\n",
    "> Пользователь из Японии сильно выделяется на фоне других. Он выберет платформу 3DS и будет играть на ней в экшн или рол плэй. Рейтинг игр будет либо E, либо оценен другой компанией. "
   ]
  },
  {
   "cell_type": "markdown",
   "metadata": {},
   "source": [
    "### Статистический анализ"
   ]
  },
  {
   "cell_type": "markdown",
   "metadata": {},
   "source": [
    "#### Сравнение средних пользовательских рейтингов XOne и PC"
   ]
  },
  {
   "cell_type": "markdown",
   "metadata": {},
   "source": [
    "Сформируем следующий статистический критерий:\n",
    "$$\\delta =\\begin{cases}\n",
    "   H_0, a_1=a_2\\\\\n",
    "   H_1, a_1 \\neq a_2\n",
    " \\end{cases}$$ где $a_1, a_2$ средние пользовательских оценок для XOne, PC.\n",
    "\n",
    "$H_0$: средние пользовательских оценок платформ XOne и PC **равны**.\n",
    "\n",
    "$H_1$: средние пользовательских оценок платформ XOne и PC **не равны**."
   ]
  },
  {
   "cell_type": "markdown",
   "metadata": {},
   "source": [
    "Возьмем данные за актуальный период и с соответствующими платформами."
   ]
  },
  {
   "cell_type": "code",
   "execution_count": 61,
   "metadata": {},
   "outputs": [],
   "source": [
    "data_xone = data.query('platform == \"XOne\" and year_of_release >=2015')\n",
    "data_pc = data.query('platform == \"PC\" and year_of_release >=2015')"
   ]
  },
  {
   "cell_type": "code",
   "execution_count": 62,
   "metadata": {},
   "outputs": [
    {
     "data": {
      "image/png": "[encoded data removed]",
      "text/plain": [
       "<Figure size 500x500 with 1 Axes>"
      ]
     },
     "metadata": {},
     "output_type": "display_data"
    }
   ],
   "source": [
    "fig,ax = plt.subplots(nrows =1, ncols = 1, figsize =(5,5))\n",
    "ax.hist(data_xone['user_score'],bins=20)\n",
    "ax.hist(data_pc['user_score'],bins=20)\n",
    "ax.set_title('Распределение пользовательских оценок для XOne, PC')\n",
    "ax.legend(['XOne','PC'])\n",
    "ax.grid()"
   ]
  },
  {
   "cell_type": "code",
   "execution_count": 63,
   "metadata": {},
   "outputs": [
    {
     "data": {
      "text/plain": [
       "count    121.000000\n",
       "mean       6.542149\n",
       "std        1.458010\n",
       "min        1.600000\n",
       "25%        5.800000\n",
       "50%        6.700000\n",
       "75%        7.700000\n",
       "max        9.200000\n",
       "Name: user_score, dtype: float64"
      ]
     },
     "execution_count": 63,
     "metadata": {},
     "output_type": "execute_result"
    }
   ],
   "source": [
    "data_xone['user_score'].describe()"
   ]
  },
  {
   "cell_type": "code",
   "execution_count": 64,
   "metadata": {},
   "outputs": [
    {
     "data": {
      "text/plain": [
       "count    87.000000\n",
       "mean      6.295402\n",
       "std       1.766346\n",
       "min       1.400000\n",
       "25%       4.950000\n",
       "50%       6.900000\n",
       "75%       7.600000\n",
       "max       9.300000\n",
       "Name: user_score, dtype: float64"
      ]
     },
     "execution_count": 64,
     "metadata": {},
     "output_type": "execute_result"
    }
   ],
   "source": [
    "data_pc['user_score'].describe()"
   ]
  },
  {
   "cell_type": "markdown",
   "metadata": {},
   "source": [
    "Итак, среднее для XOne составляет 6.54, а для PC 6.29. Среднеквадратичное отклонение соответсвенно 1.46 и 1.77."
   ]
  },
  {
   "cell_type": "code",
   "execution_count": 65,
   "metadata": {},
   "outputs": [
    {
     "name": "stdout",
     "output_type": "stream",
     "text": [
      "Значение p-value: 0.2873378302816034\n",
      "Не удалось отвергнуть нулевую гипотезу\n"
     ]
    }
   ],
   "source": [
    "alpha = .05\n",
    "results = st.ttest_ind(data_xone.loc[~data_xone['user_score'].isnull(),'user_score'],\n",
    "                       data_pc.loc[~data_pc['user_score'].isnull(),'user_score'], equal_var=False)\n",
    "print('Значение p-value:', results.pvalue)\n",
    "if results.pvalue<alpha:\n",
    "    print('Отвергаем нулевую гипотезу')\n",
    "else:\n",
    "    print('Не удалось отвергнуть нулевую гипотезу')"
   ]
  },
  {
   "cell_type": "markdown",
   "metadata": {},
   "source": [
    "**Вывод**: для проверки гипотезы использовался Т-тест Уэлча и функция ttest_ind. По итогу нулевую гипотезу отвергнуть не удалось, это значит, мы допускаем, что средние пользовательских оценок XOne и PC могут совпадать."
   ]
  },
  {
   "cell_type": "markdown",
   "metadata": {},
   "source": [
    "#### Сравнение средних пользовательских рейтингов жанров Action и Sports"
   ]
  },
  {
   "cell_type": "markdown",
   "metadata": {},
   "source": [
    "Сформируем следующий статистический критерий:\n",
    "$$\\delta =\\begin{cases}\n",
    "   H_0, a_1=a_2\\\\\n",
    "   H_1, a_1 \\neq a_2\n",
    " \\end{cases}$$ где $a_1, a_2$ средние пользовательских оценок для жанров Action, Sports.\n",
    " \n",
    "$H_0$: средние пользовательских оценок игр жанров Action и Sports **равны**.\n",
    "\n",
    "$H_1$: средние пользовательских оценок игр жанров Action и Sports **не равны**."
   ]
  },
  {
   "cell_type": "markdown",
   "metadata": {},
   "source": [
    "Возьмем данные за актуальный период."
   ]
  },
  {
   "cell_type": "code",
   "execution_count": 66,
   "metadata": {},
   "outputs": [],
   "source": [
    "data_action = data.query('genre == \"Action\" and year_of_release >=2015')\n",
    "data_sports = data.query('genre == \"Sports\" and year_of_release >=2015')"
   ]
  },
  {
   "cell_type": "code",
   "execution_count": 67,
   "metadata": {},
   "outputs": [
    {
     "data": {
      "image/png": "[encoded data removed]",
      "text/plain": [
       "<Figure size 500x500 with 1 Axes>"
      ]
     },
     "metadata": {},
     "output_type": "display_data"
    }
   ],
   "source": [
    "fig,ax = plt.subplots(nrows =1, ncols = 1, figsize =(5,5))\n",
    "ax.hist(data_action['user_score'],bins=20)\n",
    "ax.hist(data_sports['user_score'],bins=20)\n",
    "ax.set_title('Распределение пользовательских оценок для Action, Sports')\n",
    "ax.legend(['Action','Sports'])\n",
    "ax.grid()"
   ]
  },
  {
   "cell_type": "code",
   "execution_count": 68,
   "metadata": {},
   "outputs": [
    {
     "data": {
      "text/plain": [
       "count    193.000000\n",
       "mean       6.808290\n",
       "std        1.346498\n",
       "min        2.000000\n",
       "25%        6.300000\n",
       "50%        7.100000\n",
       "75%        7.700000\n",
       "max        9.000000\n",
       "Name: user_score, dtype: float64"
      ]
     },
     "execution_count": 68,
     "metadata": {},
     "output_type": "execute_result"
    }
   ],
   "source": [
    "data_action['user_score'].describe()"
   ]
  },
  {
   "cell_type": "code",
   "execution_count": 69,
   "metadata": {},
   "outputs": [
    {
     "data": {
      "text/plain": [
       "count    82.000000\n",
       "mean      5.198780\n",
       "std       1.967859\n",
       "min       0.200000\n",
       "25%       3.850000\n",
       "50%       5.550000\n",
       "75%       6.600000\n",
       "max       8.800000\n",
       "Name: user_score, dtype: float64"
      ]
     },
     "execution_count": 69,
     "metadata": {},
     "output_type": "execute_result"
    }
   ],
   "source": [
    "data_sports['user_score'].describe()"
   ]
  },
  {
   "cell_type": "code",
   "execution_count": 70,
   "metadata": {},
   "outputs": [
    {
     "name": "stdout",
     "output_type": "stream",
     "text": [
      "Значение p-value: 5.97163549920592e-10\n",
      "Отвергаем нулевую гипотезу\n"
     ]
    }
   ],
   "source": [
    "alpha = .05\n",
    "results = st.ttest_ind(\n",
    "    data_action.loc[~data_action['user_score'].isnull(),'user_score'], \n",
    "    data_sports.loc[~data_sports['user_score'].isnull(),'user_score'], equal_var=False)\n",
    "print('Значение p-value:', results.pvalue)\n",
    "if results.pvalue<alpha:\n",
    "    print('Отвергаем нулевую гипотезу')\n",
    "else:\n",
    "    print('Не удалось отвергнуть нулевую гипотезу')"
   ]
  },
  {
   "cell_type": "markdown",
   "metadata": {},
   "source": [
    "**Вывод**: для проверки гипотезы использовался Т-тест Уэлча и функция ttest_ind. По итогу отвергаем нулевую гипотезу, это значит, что средние пользовательских оценок Action и Sports не совпадают, что подтверждает метод `describe()` выше."
   ]
  },
  {
   "cell_type": "markdown",
   "metadata": {},
   "source": [
    "### Общий вывод"
   ]
  },
  {
   "cell_type": "markdown",
   "metadata": {},
   "source": [
    "Подведем итоги. Проведен анализ закономерностей, определяющих успешность игры. На этапе предобработки данных были обработаны пропуски в соответствии с выбранным принципом, заменены типы данных. \n",
    "\n",
    "Пик игровой индустрии пришёлся на 2008-2010 годы, ближе к 2016 году наблюдалась отрицательная динамика. За всё время в суммарных продажах лидируют такие платформы: PS, DS, Wii, PS3, X360, PS2. \n",
    "\n",
    "Выяснилось, что в среднем платформа живет 10 лет, к середине жизни наблюдается пик продаж, а также выход следующей модели платформы.  \n",
    "\n",
    "Для прогноза на 2017 год требовалось определить актуальный период. К 2016 году набирают обороты PS4, XOne. Поскольку игровая индустрия стремительно развивается, то было принято решение взять за актуальный период 2015-2016 года.\n",
    "\n",
    "Также были выявлен топ-платформ. Такими стали PS4, 3DS, XOne, WiiU, 3DS.\n",
    "\n",
    "Было исследовано, как влияют на продажи отзывы пользователей и критиков. Выяснилось, что какой-либо линейной зависимости между продажами и отзывами критиков/пользователей нет. \n",
    "\n",
    "В производстве игр по жанрам лидируют экшн и рол плэй, в продажах экшн и шутер. Однако по среднему количеству проданных экземпляров одной игры конкретного жанра лидирует шутер. \n",
    "\n",
    "В процессе исследования были построены портреты пользователей из Северной Америки, Европы и Японии. Как оказалось, предпочтения различаются. Пользователь из Северной Америки или Европы скорее всего выберет PS4, XOne и будет играть в игры жанра экшн и шутер с рейтингом M. А вот пользователь из Японии сильно выделяется на фоне других. Он выберет платформу 3DS и будет играть на ней в экшн или рол плэй рейтинга Е. Сложилось впечатление, что японские игроки игнорируют зарубежные платформы.\n",
    "\n",
    "Был проведен статистический анализ данных.\n",
    "\n",
    "Первый вопрос: равняются ли средние пользовательских рейтингов XOne и PC? Сформулировав гипотезы и проведя тест Уэлча, я выяснила, что основную гипотезу о равенстве средних отвергнуть нельзя. \n",
    "\n",
    "Второй вопрос: равняются ли средние пользовательских рейтингов жанров Action и Sports. Как оказалось, средние не равны, тест показал, что основную гипотезу о равенстве следует отвергнуть. "
   ]
  }
 ],
 "metadata": {
  "ExecuteTimeLog": [
   {
    "duration": 1501,
    "start_time": "2022-12-29T17:31:52.855Z"
   },
   {
    "duration": 138,
    "start_time": "2022-12-29T17:31:54.358Z"
   },
   {
    "duration": 0,
    "start_time": "2022-12-29T17:31:54.500Z"
   },
   {
    "duration": 0,
    "start_time": "2022-12-29T17:31:54.501Z"
   },
   {
    "duration": 0,
    "start_time": "2022-12-29T17:31:54.503Z"
   },
   {
    "duration": 0,
    "start_time": "2022-12-29T17:31:54.512Z"
   },
   {
    "duration": 0,
    "start_time": "2022-12-29T17:31:54.513Z"
   },
   {
    "duration": 0,
    "start_time": "2022-12-29T17:31:54.514Z"
   },
   {
    "duration": 0,
    "start_time": "2022-12-29T17:31:54.516Z"
   },
   {
    "duration": 0,
    "start_time": "2022-12-29T17:31:54.517Z"
   },
   {
    "duration": 0,
    "start_time": "2022-12-29T17:31:54.518Z"
   },
   {
    "duration": 0,
    "start_time": "2022-12-29T17:31:54.519Z"
   },
   {
    "duration": 0,
    "start_time": "2022-12-29T17:31:54.520Z"
   },
   {
    "duration": 0,
    "start_time": "2022-12-29T17:31:54.521Z"
   },
   {
    "duration": 0,
    "start_time": "2022-12-29T17:31:54.522Z"
   },
   {
    "duration": 0,
    "start_time": "2022-12-29T17:31:54.523Z"
   },
   {
    "duration": 0,
    "start_time": "2022-12-29T17:31:54.525Z"
   },
   {
    "duration": 0,
    "start_time": "2022-12-29T17:31:54.526Z"
   },
   {
    "duration": 0,
    "start_time": "2022-12-29T17:31:54.527Z"
   },
   {
    "duration": 0,
    "start_time": "2022-12-29T17:31:54.528Z"
   },
   {
    "duration": 0,
    "start_time": "2022-12-29T17:31:54.530Z"
   },
   {
    "duration": 0,
    "start_time": "2022-12-29T17:31:54.531Z"
   },
   {
    "duration": 0,
    "start_time": "2022-12-29T17:31:54.531Z"
   },
   {
    "duration": 0,
    "start_time": "2022-12-29T17:31:54.533Z"
   },
   {
    "duration": 0,
    "start_time": "2022-12-29T17:31:54.534Z"
   },
   {
    "duration": 0,
    "start_time": "2022-12-29T17:31:54.535Z"
   },
   {
    "duration": 0,
    "start_time": "2022-12-29T17:31:54.536Z"
   },
   {
    "duration": 0,
    "start_time": "2022-12-29T17:31:54.538Z"
   },
   {
    "duration": 0,
    "start_time": "2022-12-29T17:31:54.539Z"
   },
   {
    "duration": 0,
    "start_time": "2022-12-29T17:31:54.540Z"
   },
   {
    "duration": 0,
    "start_time": "2022-12-29T17:31:54.541Z"
   },
   {
    "duration": 0,
    "start_time": "2022-12-29T17:31:54.542Z"
   },
   {
    "duration": 0,
    "start_time": "2022-12-29T17:31:54.543Z"
   },
   {
    "duration": 0,
    "start_time": "2022-12-29T17:31:54.544Z"
   },
   {
    "duration": 0,
    "start_time": "2022-12-29T17:31:54.545Z"
   },
   {
    "duration": 0,
    "start_time": "2022-12-29T17:31:54.546Z"
   },
   {
    "duration": 0,
    "start_time": "2022-12-29T17:31:54.547Z"
   },
   {
    "duration": 0,
    "start_time": "2022-12-29T17:31:54.549Z"
   },
   {
    "duration": 0,
    "start_time": "2022-12-29T17:31:54.550Z"
   },
   {
    "duration": 0,
    "start_time": "2022-12-29T17:31:54.551Z"
   },
   {
    "duration": 0,
    "start_time": "2022-12-29T17:31:54.612Z"
   },
   {
    "duration": 0,
    "start_time": "2022-12-29T17:31:54.614Z"
   },
   {
    "duration": 0,
    "start_time": "2022-12-29T17:31:54.615Z"
   },
   {
    "duration": 0,
    "start_time": "2022-12-29T17:31:54.616Z"
   },
   {
    "duration": 0,
    "start_time": "2022-12-29T17:31:54.617Z"
   },
   {
    "duration": 0,
    "start_time": "2022-12-29T17:31:54.618Z"
   },
   {
    "duration": 0,
    "start_time": "2022-12-29T17:31:54.619Z"
   },
   {
    "duration": 0,
    "start_time": "2022-12-29T17:31:54.620Z"
   },
   {
    "duration": 0,
    "start_time": "2022-12-29T17:31:54.621Z"
   },
   {
    "duration": 1,
    "start_time": "2022-12-29T17:31:54.622Z"
   },
   {
    "duration": 0,
    "start_time": "2022-12-29T17:31:54.623Z"
   },
   {
    "duration": 0,
    "start_time": "2022-12-29T17:31:54.625Z"
   },
   {
    "duration": 0,
    "start_time": "2022-12-29T17:31:54.625Z"
   },
   {
    "duration": 0,
    "start_time": "2022-12-29T17:31:54.627Z"
   },
   {
    "duration": 0,
    "start_time": "2022-12-29T17:31:54.628Z"
   },
   {
    "duration": 0,
    "start_time": "2022-12-29T17:31:54.629Z"
   },
   {
    "duration": 0,
    "start_time": "2022-12-29T17:31:54.630Z"
   },
   {
    "duration": 0,
    "start_time": "2022-12-29T17:31:54.631Z"
   },
   {
    "duration": 0,
    "start_time": "2022-12-29T17:31:54.632Z"
   },
   {
    "duration": 0,
    "start_time": "2022-12-29T17:31:54.633Z"
   },
   {
    "duration": 0,
    "start_time": "2022-12-29T17:31:54.635Z"
   },
   {
    "duration": 0,
    "start_time": "2022-12-29T17:31:54.636Z"
   },
   {
    "duration": 0,
    "start_time": "2022-12-29T17:31:54.637Z"
   },
   {
    "duration": 0,
    "start_time": "2022-12-29T17:31:54.638Z"
   },
   {
    "duration": 0,
    "start_time": "2022-12-29T17:31:54.639Z"
   },
   {
    "duration": 0,
    "start_time": "2022-12-29T17:31:54.640Z"
   },
   {
    "duration": 0,
    "start_time": "2022-12-29T17:31:54.641Z"
   },
   {
    "duration": 0,
    "start_time": "2022-12-29T17:31:54.642Z"
   },
   {
    "duration": 0,
    "start_time": "2022-12-29T17:31:54.643Z"
   },
   {
    "duration": 110,
    "start_time": "2022-12-29T17:32:41.589Z"
   },
   {
    "duration": 1279,
    "start_time": "2022-12-29T17:32:46.229Z"
   },
   {
    "duration": 69,
    "start_time": "2022-12-29T17:32:47.510Z"
   },
   {
    "duration": 18,
    "start_time": "2022-12-29T17:32:47.580Z"
   },
   {
    "duration": 4,
    "start_time": "2022-12-29T17:32:47.600Z"
   },
   {
    "duration": 21,
    "start_time": "2022-12-29T17:32:47.607Z"
   },
   {
    "duration": 9,
    "start_time": "2022-12-29T17:32:47.630Z"
   },
   {
    "duration": 13,
    "start_time": "2022-12-29T17:32:47.640Z"
   },
   {
    "duration": 13,
    "start_time": "2022-12-29T17:32:47.655Z"
   },
   {
    "duration": 7,
    "start_time": "2022-12-29T17:32:47.670Z"
   },
   {
    "duration": 51,
    "start_time": "2022-12-29T17:32:47.681Z"
   },
   {
    "duration": 17,
    "start_time": "2022-12-29T17:32:47.735Z"
   },
   {
    "duration": 5,
    "start_time": "2022-12-29T17:32:47.754Z"
   },
   {
    "duration": 44837,
    "start_time": "2022-12-29T17:32:47.760Z"
   },
   {
    "duration": 15,
    "start_time": "2022-12-29T17:33:32.598Z"
   },
   {
    "duration": 7,
    "start_time": "2022-12-29T17:33:32.615Z"
   },
   {
    "duration": 14,
    "start_time": "2022-12-29T17:33:32.623Z"
   },
   {
    "duration": 3,
    "start_time": "2022-12-29T17:33:32.638Z"
   },
   {
    "duration": 10,
    "start_time": "2022-12-29T17:33:32.642Z"
   },
   {
    "duration": 20010,
    "start_time": "2022-12-29T17:33:32.654Z"
   },
   {
    "duration": 4,
    "start_time": "2022-12-29T17:33:52.665Z"
   },
   {
    "duration": 14,
    "start_time": "2022-12-29T17:33:52.670Z"
   },
   {
    "duration": 4,
    "start_time": "2022-12-29T17:33:52.686Z"
   },
   {
    "duration": 21,
    "start_time": "2022-12-29T17:33:52.691Z"
   },
   {
    "duration": 12,
    "start_time": "2022-12-29T17:33:52.714Z"
   },
   {
    "duration": 218,
    "start_time": "2022-12-29T17:33:52.727Z"
   },
   {
    "duration": 14,
    "start_time": "2022-12-29T17:33:52.947Z"
   },
   {
    "duration": 186,
    "start_time": "2022-12-29T17:33:52.963Z"
   },
   {
    "duration": 426,
    "start_time": "2022-12-29T17:33:53.153Z"
   },
   {
    "duration": 365,
    "start_time": "2022-12-29T17:33:53.581Z"
   },
   {
    "duration": 18,
    "start_time": "2022-12-29T17:33:53.947Z"
   },
   {
    "duration": 11,
    "start_time": "2022-12-29T17:33:53.967Z"
   },
   {
    "duration": 420,
    "start_time": "2022-12-29T17:33:53.980Z"
   },
   {
    "duration": 329,
    "start_time": "2022-12-29T17:33:54.401Z"
   },
   {
    "duration": 332,
    "start_time": "2022-12-29T17:33:54.732Z"
   },
   {
    "duration": 3,
    "start_time": "2022-12-29T17:33:55.065Z"
   },
   {
    "duration": 161,
    "start_time": "2022-12-29T17:33:55.069Z"
   },
   {
    "duration": 4,
    "start_time": "2022-12-29T17:33:55.232Z"
   },
   {
    "duration": 19,
    "start_time": "2022-12-29T17:33:55.237Z"
   },
   {
    "duration": 147,
    "start_time": "2022-12-29T17:33:55.257Z"
   },
   {
    "duration": 156,
    "start_time": "2022-12-29T17:33:55.411Z"
   },
   {
    "duration": 7,
    "start_time": "2022-12-29T17:33:55.568Z"
   },
   {
    "duration": 11,
    "start_time": "2022-12-29T17:33:55.577Z"
   },
   {
    "duration": 4,
    "start_time": "2022-12-29T17:33:55.590Z"
   },
   {
    "duration": 22,
    "start_time": "2022-12-29T17:33:55.595Z"
   },
   {
    "duration": 225,
    "start_time": "2022-12-29T17:33:55.618Z"
   },
   {
    "duration": 283,
    "start_time": "2022-12-29T17:33:55.845Z"
   },
   {
    "duration": 228,
    "start_time": "2022-12-29T17:33:56.130Z"
   },
   {
    "duration": 14,
    "start_time": "2022-12-29T17:33:56.359Z"
   },
   {
    "duration": 13,
    "start_time": "2022-12-29T17:33:56.375Z"
   },
   {
    "duration": 33,
    "start_time": "2022-12-29T17:33:56.390Z"
   },
   {
    "duration": 305,
    "start_time": "2022-12-29T17:33:56.425Z"
   },
   {
    "duration": 15,
    "start_time": "2022-12-29T17:33:56.732Z"
   },
   {
    "duration": 13,
    "start_time": "2022-12-29T17:33:56.749Z"
   },
   {
    "duration": 14,
    "start_time": "2022-12-29T17:33:56.764Z"
   },
   {
    "duration": 347,
    "start_time": "2022-12-29T17:33:56.779Z"
   },
   {
    "duration": 14,
    "start_time": "2022-12-29T17:33:57.128Z"
   },
   {
    "duration": 15,
    "start_time": "2022-12-29T17:33:57.144Z"
   },
   {
    "duration": 13,
    "start_time": "2022-12-29T17:33:57.161Z"
   },
   {
    "duration": 305,
    "start_time": "2022-12-29T17:33:57.176Z"
   },
   {
    "duration": 9,
    "start_time": "2022-12-29T17:33:57.483Z"
   },
   {
    "duration": 221,
    "start_time": "2022-12-29T17:33:57.493Z"
   },
   {
    "duration": 8,
    "start_time": "2022-12-29T17:33:57.716Z"
   },
   {
    "duration": 8,
    "start_time": "2022-12-29T17:33:57.725Z"
   },
   {
    "duration": 7,
    "start_time": "2022-12-29T17:33:57.735Z"
   },
   {
    "duration": 16,
    "start_time": "2022-12-29T17:33:57.744Z"
   },
   {
    "duration": 218,
    "start_time": "2022-12-29T17:33:57.762Z"
   },
   {
    "duration": 7,
    "start_time": "2022-12-29T17:33:57.982Z"
   },
   {
    "duration": 21,
    "start_time": "2022-12-29T17:33:57.991Z"
   },
   {
    "duration": 4,
    "start_time": "2022-12-29T17:33:58.014Z"
   }
  ],
  "kernelspec": {
   "display_name": "Python 3 (ipykernel)",
   "language": "python",
   "name": "python3"
  },
  "language_info": {
   "codemirror_mode": {
    "name": "ipython",
    "version": 3
   },
   "file_extension": ".py",
   "mimetype": "text/x-python",
   "name": "python",
   "nbconvert_exporter": "python",
   "pygments_lexer": "ipython3",
   "version": "3.9.13"
  },
  "toc": {
   "base_numbering": 1,
   "nav_menu": {},
   "number_sections": true,
   "sideBar": true,
   "skip_h1_title": true,
   "title_cell": "Table of Contents",
   "title_sidebar": "Contents",
   "toc_cell": false,
   "toc_position": {
    "height": "calc(100% - 180px)",
    "left": "10px",
    "top": "150px",
    "width": "165px"
   },
   "toc_section_display": true,
   "toc_window_display": true
  }
 },
 "nbformat": 4,
 "nbformat_minor": 2
}

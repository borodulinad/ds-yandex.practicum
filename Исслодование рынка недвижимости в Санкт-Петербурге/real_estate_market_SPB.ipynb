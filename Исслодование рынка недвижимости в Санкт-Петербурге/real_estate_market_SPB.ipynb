{
 "cells": [
  {
   "cell_type": "markdown",
   "metadata": {},
   "source": [
    "<div style=\"border:solid Chocolate 2px; padding: 40px\">\n",
    "\n",
    "<b>Анастасия, привет!</b>\n",
    "\n",
    "Меня зовут Евгений Головин, я буду ревьюером твоего проекта. Если ты не против, то предлагаю посмотрить наше общение на \"ты\" ;) Если удобнее на \"вы\", то нет проблем, только скажи об этом. \n",
    "\n",
    "В ходе работы я оставил тебе комментарии <font color='green'>зеленого</font>, <font color='gold'>желтого</font> и <font color='red'>красного</font> цветов. Сейчас объясню, что они значат:\n",
    "\n",
    "<br/>\n",
    "\n",
    "<div class=\"alert alert-success\">\n",
    "<h2> Комментарий ревьюера <a class=\"tocSkip\"> </h2>\n",
    "\n",
    "<b>Все супер!👍:</b> Решение на этом шаге является полностью правильным.\n",
    "</div>\n",
    "\n",
    "<br/>\n",
    "\n",
    "<div class=\"alert alert-warning\">\n",
    "    <h2> Комментарий ревьюера <a class=\"tocSkip\"> </h2>\n",
    "    \n",
    "<b>Небольшие замечания и рекомендации💡:</b> Решение на этом шаге станет еще лучше, если внести небольшие коррективы.\n",
    "</div>\n",
    "\n",
    "\n",
    "<br/>\n",
    "<div class=\"alert alert-block alert-danger\">\n",
    "<h2> Комментарий ревьюера <a class=\"tocSkip\"></h2>\n",
    "\n",
    "    \n",
    "<b>На доработку🤔:</b>\n",
    " Решение на этом шаге требует существенной переработки и внесения правок. Напоминаю, что проект не может быть принят с первого раза, если ревью содержит комментарии, рекомендующие доработать шаги.\n",
    "</div>\n",
    "    \n",
    "Увидев мой комментарий, не удаляй его, он будет очень полезен в случае повторной проверки работы :)\n",
    "    \n",
    "<div class=\"alert alert-info\">\n",
    "<b>А свой помечай вот так, чтобы я его не потерял ;)</b> \n",
    "</div>\n",
    "    \n",
    "Увидев мой комментарий, не удаляй его, он будет очень полезен в случае повторной проверки работы :)\n",
    "    \n",
    "На мои комменатрии можно и нужно реагировать, только делать это стоит так, чтобы твои и мои комменты не смешались: выделяй свои цветами, сильно отличающимися от моих.\n",
    "    \n",
    "Увидев у тебя неточность, в первый раз я лишь укажу на ее наличие и дам тебе возможность самому найти и исправить ее. На реальной работе твой руководитель будет поступать также, и я пытаюсь подготовить тебя именно к работе аналитиком. Но если ты пока не справишься с такой задачей - при следующей проверке я дам более точную подсказку!"
   ]
  },
  {
   "cell_type": "markdown",
   "metadata": {},
   "source": [
    "# Исследование объявлений о продаже квартир\n",
    "\n",
    "В вашем распоряжении данные сервиса Яндекс.Недвижимость — архив объявлений о продаже квартир в Санкт-Петербурге и соседних населённых пунктов за несколько лет. Нужно научиться определять рыночную стоимость объектов недвижимости. Ваша задача — установить параметры. Это позволит построить автоматизированную систему: она отследит аномалии и мошенническую деятельность. \n",
    "\n",
    "По каждой квартире на продажу доступны два вида данных. Первые вписаны пользователем, вторые — получены автоматически на основе картографических данных. Например, расстояние до центра, аэропорта, ближайшего парка и водоёма. "
   ]
  },
  {
   "cell_type": "markdown",
   "metadata": {},
   "source": [
    "<div class=\"alert alert-success\">\n",
    "<h2> Комментарий ревьюера <a class=\"tocSkip\"> </h2>\n",
    "\n",
    "<b>Все супер!👍:</b> Введение есть, отлично!"
   ]
  },
  {
   "cell_type": "markdown",
   "metadata": {},
   "source": [
    "### Откройте файл с данными и изучите общую информацию. "
   ]
  },
  {
   "cell_type": "code",
   "execution_count": 1,
   "metadata": {},
   "outputs": [],
   "source": [
    "import pandas as pd\n",
    "import numpy as np\n",
    "import matplotlib.pyplot as plt\n",
    "import seaborn as sns"
   ]
  },
  {
   "cell_type": "code",
   "execution_count": 2,
   "metadata": {},
   "outputs": [
    {
     "data": {
      "text/html": [
       "<div>\n",
       "<style scoped>\n",
       "    .dataframe tbody tr th:only-of-type {\n",
       "        vertical-align: middle;\n",
       "    }\n",
       "\n",
       "    .dataframe tbody tr th {\n",
       "        vertical-align: top;\n",
       "    }\n",
       "\n",
       "    .dataframe thead th {\n",
       "        text-align: right;\n",
       "    }\n",
       "</style>\n",
       "<table border=\"1\" class=\"dataframe\">\n",
       "  <thead>\n",
       "    <tr style=\"text-align: right;\">\n",
       "      <th></th>\n",
       "      <th>total_images</th>\n",
       "      <th>last_price</th>\n",
       "      <th>total_area</th>\n",
       "      <th>first_day_exposition</th>\n",
       "      <th>rooms</th>\n",
       "      <th>ceiling_height</th>\n",
       "      <th>floors_total</th>\n",
       "      <th>living_area</th>\n",
       "      <th>floor</th>\n",
       "      <th>is_apartment</th>\n",
       "      <th>...</th>\n",
       "      <th>kitchen_area</th>\n",
       "      <th>balcony</th>\n",
       "      <th>locality_name</th>\n",
       "      <th>airports_nearest</th>\n",
       "      <th>cityCenters_nearest</th>\n",
       "      <th>parks_around3000</th>\n",
       "      <th>parks_nearest</th>\n",
       "      <th>ponds_around3000</th>\n",
       "      <th>ponds_nearest</th>\n",
       "      <th>days_exposition</th>\n",
       "    </tr>\n",
       "  </thead>\n",
       "  <tbody>\n",
       "    <tr>\n",
       "      <th>0</th>\n",
       "      <td>20</td>\n",
       "      <td>13000000.0</td>\n",
       "      <td>108.00</td>\n",
       "      <td>2019-03-07T00:00:00</td>\n",
       "      <td>3</td>\n",
       "      <td>2.70</td>\n",
       "      <td>16.0</td>\n",
       "      <td>51.00</td>\n",
       "      <td>8</td>\n",
       "      <td>NaN</td>\n",
       "      <td>...</td>\n",
       "      <td>25.00</td>\n",
       "      <td>NaN</td>\n",
       "      <td>Санкт-Петербург</td>\n",
       "      <td>18863.0</td>\n",
       "      <td>16028.0</td>\n",
       "      <td>1.0</td>\n",
       "      <td>482.0</td>\n",
       "      <td>2.0</td>\n",
       "      <td>755.0</td>\n",
       "      <td>NaN</td>\n",
       "    </tr>\n",
       "    <tr>\n",
       "      <th>1</th>\n",
       "      <td>7</td>\n",
       "      <td>3350000.0</td>\n",
       "      <td>40.40</td>\n",
       "      <td>2018-12-04T00:00:00</td>\n",
       "      <td>1</td>\n",
       "      <td>NaN</td>\n",
       "      <td>11.0</td>\n",
       "      <td>18.60</td>\n",
       "      <td>1</td>\n",
       "      <td>NaN</td>\n",
       "      <td>...</td>\n",
       "      <td>11.00</td>\n",
       "      <td>2.0</td>\n",
       "      <td>посёлок Шушары</td>\n",
       "      <td>12817.0</td>\n",
       "      <td>18603.0</td>\n",
       "      <td>0.0</td>\n",
       "      <td>NaN</td>\n",
       "      <td>0.0</td>\n",
       "      <td>NaN</td>\n",
       "      <td>81.0</td>\n",
       "    </tr>\n",
       "    <tr>\n",
       "      <th>2</th>\n",
       "      <td>10</td>\n",
       "      <td>5196000.0</td>\n",
       "      <td>56.00</td>\n",
       "      <td>2015-08-20T00:00:00</td>\n",
       "      <td>2</td>\n",
       "      <td>NaN</td>\n",
       "      <td>5.0</td>\n",
       "      <td>34.30</td>\n",
       "      <td>4</td>\n",
       "      <td>NaN</td>\n",
       "      <td>...</td>\n",
       "      <td>8.30</td>\n",
       "      <td>0.0</td>\n",
       "      <td>Санкт-Петербург</td>\n",
       "      <td>21741.0</td>\n",
       "      <td>13933.0</td>\n",
       "      <td>1.0</td>\n",
       "      <td>90.0</td>\n",
       "      <td>2.0</td>\n",
       "      <td>574.0</td>\n",
       "      <td>558.0</td>\n",
       "    </tr>\n",
       "    <tr>\n",
       "      <th>3</th>\n",
       "      <td>0</td>\n",
       "      <td>64900000.0</td>\n",
       "      <td>159.00</td>\n",
       "      <td>2015-07-24T00:00:00</td>\n",
       "      <td>3</td>\n",
       "      <td>NaN</td>\n",
       "      <td>14.0</td>\n",
       "      <td>NaN</td>\n",
       "      <td>9</td>\n",
       "      <td>NaN</td>\n",
       "      <td>...</td>\n",
       "      <td>NaN</td>\n",
       "      <td>0.0</td>\n",
       "      <td>Санкт-Петербург</td>\n",
       "      <td>28098.0</td>\n",
       "      <td>6800.0</td>\n",
       "      <td>2.0</td>\n",
       "      <td>84.0</td>\n",
       "      <td>3.0</td>\n",
       "      <td>234.0</td>\n",
       "      <td>424.0</td>\n",
       "    </tr>\n",
       "    <tr>\n",
       "      <th>4</th>\n",
       "      <td>2</td>\n",
       "      <td>10000000.0</td>\n",
       "      <td>100.00</td>\n",
       "      <td>2018-06-19T00:00:00</td>\n",
       "      <td>2</td>\n",
       "      <td>3.03</td>\n",
       "      <td>14.0</td>\n",
       "      <td>32.00</td>\n",
       "      <td>13</td>\n",
       "      <td>NaN</td>\n",
       "      <td>...</td>\n",
       "      <td>41.00</td>\n",
       "      <td>NaN</td>\n",
       "      <td>Санкт-Петербург</td>\n",
       "      <td>31856.0</td>\n",
       "      <td>8098.0</td>\n",
       "      <td>2.0</td>\n",
       "      <td>112.0</td>\n",
       "      <td>1.0</td>\n",
       "      <td>48.0</td>\n",
       "      <td>121.0</td>\n",
       "    </tr>\n",
       "    <tr>\n",
       "      <th>5</th>\n",
       "      <td>10</td>\n",
       "      <td>2890000.0</td>\n",
       "      <td>30.40</td>\n",
       "      <td>2018-09-10T00:00:00</td>\n",
       "      <td>1</td>\n",
       "      <td>NaN</td>\n",
       "      <td>12.0</td>\n",
       "      <td>14.40</td>\n",
       "      <td>5</td>\n",
       "      <td>NaN</td>\n",
       "      <td>...</td>\n",
       "      <td>9.10</td>\n",
       "      <td>NaN</td>\n",
       "      <td>городской посёлок Янино-1</td>\n",
       "      <td>NaN</td>\n",
       "      <td>NaN</td>\n",
       "      <td>NaN</td>\n",
       "      <td>NaN</td>\n",
       "      <td>NaN</td>\n",
       "      <td>NaN</td>\n",
       "      <td>55.0</td>\n",
       "    </tr>\n",
       "    <tr>\n",
       "      <th>6</th>\n",
       "      <td>6</td>\n",
       "      <td>3700000.0</td>\n",
       "      <td>37.30</td>\n",
       "      <td>2017-11-02T00:00:00</td>\n",
       "      <td>1</td>\n",
       "      <td>NaN</td>\n",
       "      <td>26.0</td>\n",
       "      <td>10.60</td>\n",
       "      <td>6</td>\n",
       "      <td>NaN</td>\n",
       "      <td>...</td>\n",
       "      <td>14.40</td>\n",
       "      <td>1.0</td>\n",
       "      <td>посёлок Парголово</td>\n",
       "      <td>52996.0</td>\n",
       "      <td>19143.0</td>\n",
       "      <td>0.0</td>\n",
       "      <td>NaN</td>\n",
       "      <td>0.0</td>\n",
       "      <td>NaN</td>\n",
       "      <td>155.0</td>\n",
       "    </tr>\n",
       "    <tr>\n",
       "      <th>7</th>\n",
       "      <td>5</td>\n",
       "      <td>7915000.0</td>\n",
       "      <td>71.60</td>\n",
       "      <td>2019-04-18T00:00:00</td>\n",
       "      <td>2</td>\n",
       "      <td>NaN</td>\n",
       "      <td>24.0</td>\n",
       "      <td>NaN</td>\n",
       "      <td>22</td>\n",
       "      <td>NaN</td>\n",
       "      <td>...</td>\n",
       "      <td>18.90</td>\n",
       "      <td>2.0</td>\n",
       "      <td>Санкт-Петербург</td>\n",
       "      <td>23982.0</td>\n",
       "      <td>11634.0</td>\n",
       "      <td>0.0</td>\n",
       "      <td>NaN</td>\n",
       "      <td>0.0</td>\n",
       "      <td>NaN</td>\n",
       "      <td>NaN</td>\n",
       "    </tr>\n",
       "    <tr>\n",
       "      <th>8</th>\n",
       "      <td>20</td>\n",
       "      <td>2900000.0</td>\n",
       "      <td>33.16</td>\n",
       "      <td>2018-05-23T00:00:00</td>\n",
       "      <td>1</td>\n",
       "      <td>NaN</td>\n",
       "      <td>27.0</td>\n",
       "      <td>15.43</td>\n",
       "      <td>26</td>\n",
       "      <td>NaN</td>\n",
       "      <td>...</td>\n",
       "      <td>8.81</td>\n",
       "      <td>NaN</td>\n",
       "      <td>посёлок Мурино</td>\n",
       "      <td>NaN</td>\n",
       "      <td>NaN</td>\n",
       "      <td>NaN</td>\n",
       "      <td>NaN</td>\n",
       "      <td>NaN</td>\n",
       "      <td>NaN</td>\n",
       "      <td>189.0</td>\n",
       "    </tr>\n",
       "    <tr>\n",
       "      <th>9</th>\n",
       "      <td>18</td>\n",
       "      <td>5400000.0</td>\n",
       "      <td>61.00</td>\n",
       "      <td>2017-02-26T00:00:00</td>\n",
       "      <td>3</td>\n",
       "      <td>2.50</td>\n",
       "      <td>9.0</td>\n",
       "      <td>43.60</td>\n",
       "      <td>7</td>\n",
       "      <td>NaN</td>\n",
       "      <td>...</td>\n",
       "      <td>6.50</td>\n",
       "      <td>2.0</td>\n",
       "      <td>Санкт-Петербург</td>\n",
       "      <td>50898.0</td>\n",
       "      <td>15008.0</td>\n",
       "      <td>0.0</td>\n",
       "      <td>NaN</td>\n",
       "      <td>0.0</td>\n",
       "      <td>NaN</td>\n",
       "      <td>289.0</td>\n",
       "    </tr>\n",
       "  </tbody>\n",
       "</table>\n",
       "<p>10 rows × 22 columns</p>\n",
       "</div>"
      ],
      "text/plain": [
       "   total_images  last_price  total_area first_day_exposition  rooms  \\\n",
       "0            20  13000000.0      108.00  2019-03-07T00:00:00      3   \n",
       "1             7   3350000.0       40.40  2018-12-04T00:00:00      1   \n",
       "2            10   5196000.0       56.00  2015-08-20T00:00:00      2   \n",
       "3             0  64900000.0      159.00  2015-07-24T00:00:00      3   \n",
       "4             2  10000000.0      100.00  2018-06-19T00:00:00      2   \n",
       "5            10   2890000.0       30.40  2018-09-10T00:00:00      1   \n",
       "6             6   3700000.0       37.30  2017-11-02T00:00:00      1   \n",
       "7             5   7915000.0       71.60  2019-04-18T00:00:00      2   \n",
       "8            20   2900000.0       33.16  2018-05-23T00:00:00      1   \n",
       "9            18   5400000.0       61.00  2017-02-26T00:00:00      3   \n",
       "\n",
       "   ceiling_height  floors_total  living_area  floor is_apartment  ...  \\\n",
       "0            2.70          16.0        51.00      8          NaN  ...   \n",
       "1             NaN          11.0        18.60      1          NaN  ...   \n",
       "2             NaN           5.0        34.30      4          NaN  ...   \n",
       "3             NaN          14.0          NaN      9          NaN  ...   \n",
       "4            3.03          14.0        32.00     13          NaN  ...   \n",
       "5             NaN          12.0        14.40      5          NaN  ...   \n",
       "6             NaN          26.0        10.60      6          NaN  ...   \n",
       "7             NaN          24.0          NaN     22          NaN  ...   \n",
       "8             NaN          27.0        15.43     26          NaN  ...   \n",
       "9            2.50           9.0        43.60      7          NaN  ...   \n",
       "\n",
       "   kitchen_area  balcony              locality_name  airports_nearest  \\\n",
       "0         25.00      NaN            Санкт-Петербург           18863.0   \n",
       "1         11.00      2.0             посёлок Шушары           12817.0   \n",
       "2          8.30      0.0            Санкт-Петербург           21741.0   \n",
       "3           NaN      0.0            Санкт-Петербург           28098.0   \n",
       "4         41.00      NaN            Санкт-Петербург           31856.0   \n",
       "5          9.10      NaN  городской посёлок Янино-1               NaN   \n",
       "6         14.40      1.0          посёлок Парголово           52996.0   \n",
       "7         18.90      2.0            Санкт-Петербург           23982.0   \n",
       "8          8.81      NaN             посёлок Мурино               NaN   \n",
       "9          6.50      2.0            Санкт-Петербург           50898.0   \n",
       "\n",
       "  cityCenters_nearest  parks_around3000  parks_nearest  ponds_around3000  \\\n",
       "0             16028.0               1.0          482.0               2.0   \n",
       "1             18603.0               0.0            NaN               0.0   \n",
       "2             13933.0               1.0           90.0               2.0   \n",
       "3              6800.0               2.0           84.0               3.0   \n",
       "4              8098.0               2.0          112.0               1.0   \n",
       "5                 NaN               NaN            NaN               NaN   \n",
       "6             19143.0               0.0            NaN               0.0   \n",
       "7             11634.0               0.0            NaN               0.0   \n",
       "8                 NaN               NaN            NaN               NaN   \n",
       "9             15008.0               0.0            NaN               0.0   \n",
       "\n",
       "   ponds_nearest  days_exposition  \n",
       "0          755.0              NaN  \n",
       "1            NaN             81.0  \n",
       "2          574.0            558.0  \n",
       "3          234.0            424.0  \n",
       "4           48.0            121.0  \n",
       "5            NaN             55.0  \n",
       "6            NaN            155.0  \n",
       "7            NaN              NaN  \n",
       "8            NaN            189.0  \n",
       "9            NaN            289.0  \n",
       "\n",
       "[10 rows x 22 columns]"
      ]
     },
     "execution_count": 2,
     "metadata": {},
     "output_type": "execute_result"
    }
   ],
   "source": [
    "data = pd.read_csv('/datasets/real_estate_data.csv', sep = '\\t')\n",
    "data.head(10)"
   ]
  },
  {
   "cell_type": "code",
   "execution_count": 3,
   "metadata": {},
   "outputs": [
    {
     "name": "stdout",
     "output_type": "stream",
     "text": [
      "<class 'pandas.core.frame.DataFrame'>\n",
      "RangeIndex: 23699 entries, 0 to 23698\n",
      "Data columns (total 22 columns):\n",
      " #   Column                Non-Null Count  Dtype  \n",
      "---  ------                --------------  -----  \n",
      " 0   total_images          23699 non-null  int64  \n",
      " 1   last_price            23699 non-null  float64\n",
      " 2   total_area            23699 non-null  float64\n",
      " 3   first_day_exposition  23699 non-null  object \n",
      " 4   rooms                 23699 non-null  int64  \n",
      " 5   ceiling_height        14504 non-null  float64\n",
      " 6   floors_total          23613 non-null  float64\n",
      " 7   living_area           21796 non-null  float64\n",
      " 8   floor                 23699 non-null  int64  \n",
      " 9   is_apartment          2775 non-null   object \n",
      " 10  studio                23699 non-null  bool   \n",
      " 11  open_plan             23699 non-null  bool   \n",
      " 12  kitchen_area          21421 non-null  float64\n",
      " 13  balcony               12180 non-null  float64\n",
      " 14  locality_name         23650 non-null  object \n",
      " 15  airports_nearest      18157 non-null  float64\n",
      " 16  cityCenters_nearest   18180 non-null  float64\n",
      " 17  parks_around3000      18181 non-null  float64\n",
      " 18  parks_nearest         8079 non-null   float64\n",
      " 19  ponds_around3000      18181 non-null  float64\n",
      " 20  ponds_nearest         9110 non-null   float64\n",
      " 21  days_exposition       20518 non-null  float64\n",
      "dtypes: bool(2), float64(14), int64(3), object(3)\n",
      "memory usage: 3.7+ MB\n"
     ]
    }
   ],
   "source": [
    "data.info()"
   ]
  },
  {
   "cell_type": "code",
   "execution_count": 4,
   "metadata": {},
   "outputs": [
    {
     "data": {
      "text/plain": [
       "array([[<AxesSubplot:title={'center':'total_images'}>,\n",
       "        <AxesSubplot:title={'center':'last_price'}>,\n",
       "        <AxesSubplot:title={'center':'total_area'}>,\n",
       "        <AxesSubplot:title={'center':'rooms'}>],\n",
       "       [<AxesSubplot:title={'center':'ceiling_height'}>,\n",
       "        <AxesSubplot:title={'center':'floors_total'}>,\n",
       "        <AxesSubplot:title={'center':'living_area'}>,\n",
       "        <AxesSubplot:title={'center':'floor'}>],\n",
       "       [<AxesSubplot:title={'center':'kitchen_area'}>,\n",
       "        <AxesSubplot:title={'center':'balcony'}>,\n",
       "        <AxesSubplot:title={'center':'airports_nearest'}>,\n",
       "        <AxesSubplot:title={'center':'cityCenters_nearest'}>],\n",
       "       [<AxesSubplot:title={'center':'parks_around3000'}>,\n",
       "        <AxesSubplot:title={'center':'parks_nearest'}>,\n",
       "        <AxesSubplot:title={'center':'ponds_around3000'}>,\n",
       "        <AxesSubplot:title={'center':'ponds_nearest'}>],\n",
       "       [<AxesSubplot:title={'center':'days_exposition'}>, <AxesSubplot:>,\n",
       "        <AxesSubplot:>, <AxesSubplot:>]], dtype=object)"
      ]
     },
     "execution_count": 4,
     "metadata": {},
     "output_type": "execute_result"
    },
    {
     "data": {
      "image/png": "[encoded data removed]",
      "text/plain": [
       "<Figure size 1080x1440 with 20 Axes>"
      ]
     },
     "metadata": {
      "needs_background": "light"
     },
     "output_type": "display_data"
    }
   ],
   "source": [
    "data.hist(bins = 30, figsize=(15, 20))"
   ]
  },
  {
   "cell_type": "markdown",
   "metadata": {},
   "source": [
    "**Вывод:** наблюдаются пропуски в 14 столбцах из 22, причем в некоторых столбцах количество пропусков достаточно велико, поэтому просто удалить их не получится, нужно будет заменять в соответствии с выбранным принципом. Все данные делятся на две группы: добавленные пользователем и картографические. В связи с этим можно выдвинуть следующие предположение о возникновении пропусков. \n",
    "- `ceiling_height` - данные заполнялись пользователем, здесь почти 40% пропусков, что довольно много. На мой взгляд, пропуски возникли из-за того, что пользователь не посчитал нужным заполнять этот пункт, либо же у него не было на руках необходимых бумаг. Если бы человек не знал эту информацию, её можно было бы уточнить в документах на собственность, высота потолка является важным параметром недвижимости, об этом всегда пишут в документах. Предложение по заполнению пропусков в следующем разделе. \n",
    "- `floors_total` - странно, что в этом столбце есть пропуски, но с другой стороны, их не много, всего 85, поэтому ими можно пренебречь, то есть удалить.\n",
    "- `living_area` - возможно, пользователь не стал заполнять этот пункт, потому что забыл, нет под рукой бумаг, либо же в системе этот пункт необязательный. Предложение по заполнению пропусков в следующем разделе. \n",
    "- `is_apartment` - параметр-загадка для многих, так начиная выполнять задание, я полезла гуглить строгое определение апартаментов. Оказывается, это нежилая коммерческая недвижимость. Смею предположить, что много людей, так же, как и я не знают этого, поэтому пропустили пункт. Второй вариант: человек знает, что такое апартаменты, но посчитал, что отсутствие значения эквивалентно **не**апартаментам. Пропуски заменим 0.\n",
    "- `kitchen_area` - аналогично living_area.\n",
    "- `balcony` - скорее всего отсутсвие значения значит, что балкона попросту нет. Заполним пропуски 0.\n",
    "- `locality_name` - строки с такими пропусками вообще бесполезны, их всего 49, можно удалить. \n",
    "- `parks_nearest`, `ponds_nearest`, `parks_around3000`, `ponds_around3000` - эти данные заполнялись автоматически, поэтому возможно два варианта: либо ошибка системы, либо в базе нет данных. В дальнейшем решено не заполнять пропуски, поскольку значимости в исследовании эти столбцы не несут.\n",
    "- `airports_nearest`, `cityCenters_nearest` - возможная причина возникновения пропусков аналогична пункту выше. Было выдвинуто предложение: сгруппировать данные по районами, вычислить среднее расстояние до центра/аэропорта для каждого района и в соответствии с ним заполнить пропуски. Далее выяснилось, что не для всех районов указана эта информация, поэтому все пропуски устранить не удалось.  \n",
    "- `days_exposition`- возможно, объявление еще не закрыто, то есть объект еще не продан, или же владелец продал недвжимость, но забыл снять объявление. При дальнейшем анализе не будем их учитывать, заменим их каким-нибудь большим, выделяющимся числом."
   ]
  },
  {
   "cell_type": "markdown",
   "metadata": {},
   "source": [
    "<div class=\"alert alert-success\">\n",
    "<h2> Комментарий ревьюера <a class=\"tocSkip\"> </h2>\n",
    "\n",
    "<b>Все супер!👍:</b> Отлично! Очень подробно прошлись по прпоускам, молодец! Еще бы что-нибдуь сказать о наличии неправильных типов данных, выбросов и аномалий, явных дубликатов"
   ]
  },
  {
   "cell_type": "markdown",
   "metadata": {},
   "source": [
    "### Предобработка данных"
   ]
  },
  {
   "cell_type": "markdown",
   "metadata": {},
   "source": [
    "Явных дубликатов не оказалось."
   ]
  },
  {
   "cell_type": "code",
   "execution_count": 5,
   "metadata": {},
   "outputs": [
    {
     "data": {
      "text/plain": [
       "0"
      ]
     },
     "execution_count": 5,
     "metadata": {},
     "output_type": "execute_result"
    }
   ],
   "source": [
    "data.duplicated().sum()"
   ]
  },
  {
   "cell_type": "markdown",
   "metadata": {},
   "source": [
    "<div class=\"alert alert-success\">\n",
    "<h2> Комментарий ревьюера <a class=\"tocSkip\"> </h2>\n",
    "\n",
    "<b>Все супер!👍:</b> А, вот и проверка дублей) Отлично)"
   ]
  },
  {
   "cell_type": "markdown",
   "metadata": {},
   "source": [
    "Обработаем столбец `locality_name`. Удалим строки, где нет названия населенного пункта, таких строк всего 49, поэтому удаление не критично. Приведем к одному виду, заменим ё на е, сделаем нижний регистр, выявим неявные дубликаты."
   ]
  },
  {
   "cell_type": "markdown",
   "metadata": {},
   "source": [
    "<div class=\"alert alert-info\">\n",
    "<b> Сделала эту часть кода без if-else. Еще я вручную проверяла все одинаковые имена и являются ли такие населенные пункты(НП) одним и тем же (просто находила одинаковые имена, но с разным названием НП, потом гуглила одно и тоже это или нет).</b> \n",
    "</div>"
   ]
  },
  {
   "cell_type": "markdown",
   "metadata": {},
   "source": [
    "<div class=\"alert alert-success\">\n",
    "<h2> Комментарий ревьюера v2 <a class=\"tocSkip\"> </h2>\n",
    "\n",
    "<b>Все супер!👍:</b> Нужно подумать над тем, как это автоматизировать, а то много сил тратишь"
   ]
  },
  {
   "cell_type": "markdown",
   "metadata": {},
   "source": [
    "Итак, вот следующие названия населенных пунктов, которые двоятся. У них я не буду удалять наименование населенного пункта, чтобы их можно было различать.\n",
    "\n",
    "    Павлово - городской посёлок, посёлок городского типа, село. Здесь дополнительно соединим первое и второе - это одно и то же.\n",
    "    Гарболово - деревня, посёлок\n",
    "    Зимитицы - деревня, посёлок\n",
    "    Калитино - деревня, посёлок\n",
    "    Щеглово - деревня, посёлок\n",
    "    Лесное - посёлок, коттеджный посёлок\n",
    "    Громово - посёлок, поселок станции громово\n",
    "    "
   ]
  },
  {
   "cell_type": "code",
   "execution_count": 6,
   "metadata": {},
   "outputs": [],
   "source": [
    "name_non = ['городской поселок павлово','село павлово','деревня гарболово', 'поселок гарболово','деревня зимитицы',\n",
    " 'поселок зимитицы','деревня калитино','поселок калитино','деревня щеглово','поселок щеглово', \n",
    " 'поселок лесное', 'коттеджный поселок лесное','поселок громово','поселок станции громово'] \n",
    "data.loc[data['locality_name'] == 'посёлок городского типа Павлово', 'locality_name'] = 'городской поселок павлово'"
   ]
  },
  {
   "cell_type": "code",
   "execution_count": 7,
   "metadata": {},
   "outputs": [
    {
     "data": {
      "text/plain": [
       "array(['агалатово', 'александровская', 'алексеевка', 'аннино', 'аро',\n",
       "       'барышево', 'батово', 'бегуницы', 'белогорка', 'белоостров',\n",
       "       'бокситогорск', 'большая вруда', 'большая ижора',\n",
       "       'большая пустомержа', 'большие колпаны', 'большое рейзино',\n",
       "       'большой сабск', 'бор', 'борисова грива', 'бугры', 'будогощь',\n",
       "       'ваганово', 'важины', 'вартемяги', 'вахнова кара', 'вещево',\n",
       "       'виллози', 'вознесенье', 'возрождение', 'войсковицы', 'войскорово',\n",
       "       'володарское', 'волосово', 'волхов', 'всеволожск', 'выборг',\n",
       "       'вырица', 'выскатка', 'высокоключевой', 'высоцк', 'гаврилово',\n",
       "       'гатчина', 'гладкое', 'глажево', 'глебычево', 'глинка',\n",
       "       'гончарово', 'горбунки', 'городской поселок павлово', 'гостилицы',\n",
       "       'деревня гарболово', 'деревня зимитицы', 'деревня калитино',\n",
       "       'деревня щеглово', 'дзержинского', 'дружная горка', 'дружноселье',\n",
       "       'дубровка', 'елизаветино', 'ефимовский', 'жилгородок',\n",
       "       'жилпоселок', 'житково', 'заводской', 'заклинье', 'заневка',\n",
       "       'запорожское', 'зеленогорск', 'ивангород', 'извара', 'ильичево',\n",
       "       'имени морозова', 'имени свердлова', 'иссад', 'каложицы',\n",
       "       'кальтино', 'каменногорск', 'камышовка', 'каськово', 'келози',\n",
       "       'кивеннапа север', 'кикерино', 'кингисепп', 'кингисеппский',\n",
       "       'кипень', 'кириши', 'кировск', 'кирпичное', 'кисельня',\n",
       "       'кобралово', 'кобринское', 'колпино', 'колтуши', 'коммунар',\n",
       "       'коммунары', 'кондратьево', 'копорье', 'коркино', 'корнево',\n",
       "       'коробицыно', 'котельский', 'котлы', 'коттеджный поселок лесное',\n",
       "       'красная долина', 'красное село', 'красносельское', 'красный бор',\n",
       "       'кривко', 'кронштадт', 'кудрово', 'кузнечное', 'кузьмолово',\n",
       "       'кузьмоловский', 'курковицы', 'куровицы', 'куттузи', 'лаврики',\n",
       "       'лаголово', 'лампово', 'лебяжье', 'левашово', 'ленинское',\n",
       "       'лесколово', 'лесная поляна', 'лесогорский', 'лисий нос',\n",
       "       'лодейное поле', 'ломоносов', 'лопухинка', 'луга', 'лужайка',\n",
       "       'лукаши', 'лупполово', 'любань', 'малая романовка', 'малое верево',\n",
       "       'малое карлино', 'малые колпаны', 'мануйлово', 'мга', 'мельниково',\n",
       "       'меньково', 'металлострой', 'мины', 'мистолово', 'мичуринское',\n",
       "       'молодежное', 'молодцово', 'мурино', 'мыза-ивановка', 'назия',\n",
       "       'ненимяки', 'нижние осельки', 'нижняя', 'низино', 'никольский',\n",
       "       'никольское', 'новая ладога', 'новая ропша', 'новогорелово',\n",
       "       'новое девяткино', 'новолисино', 'новоселье', 'новый свет',\n",
       "       'новый учхоз', 'нурма', 'оредеж', 'оржицы', 'отрадное', 'павловск',\n",
       "       'пансионат зеленый бор', 'парголово', 'парицы', 'паша', 'пельгора',\n",
       "       'пеники', 'первомайское', 'перово', 'песочный', 'петергоф',\n",
       "       'петро-славянка', 'петровское', 'пижма', 'пикалево', 'пикколово',\n",
       "       'платформа 69-й километр', 'плодовое', 'плоское', 'победа',\n",
       "       'подпорожье', 'поляны', 'понтонный', 'поселок гарболово',\n",
       "       'поселок громово', 'поселок зимитицы', 'поселок калитино',\n",
       "       'поселок лесное', 'поселок станции громово', 'поселок щеглово',\n",
       "       'почап', 'починок', 'приветнинское', 'пригородный', 'приладожский',\n",
       "       'приморск', 'приозерск', 'пудомяги', 'пудость', 'пустынка',\n",
       "       'путилово', 'пушкин', 'пушное', 'пчева', 'пчевжа', 'рабитицы',\n",
       "       'разбегаево', 'раздолье', 'разметелево', 'рапполово', 'рахья',\n",
       "       'реброво', 'репино', 'рождествено', 'романовка', 'ромашки',\n",
       "       'ропша', 'рощино', 'русско', 'русско-высоцкое', 'рябово', 'садко',\n",
       "       'санкт-петербург', 'саперное', 'саперный', 'светогорск', 'свирь',\n",
       "       'свирьстрой', 'севастьяново', 'селезнево', 'село павлово',\n",
       "       'сельцо', 'семиозерье', 'семрино', 'серебрянский', 'сертолово',\n",
       "       'сестрорецк', 'сиверский', 'сижно', 'синявино', 'сланцы',\n",
       "       'снегиревка', 'советский', 'совхозный', 'сосново', 'сосновый бор',\n",
       "       'старая', 'старая ладога', 'старая малукса', 'старая пустошь',\n",
       "       'старое хинколово', 'старополье', 'старосиверская',\n",
       "       'старые бегуницы', 'стеклянный', 'стрельна', 'суйда', 'сумино',\n",
       "       'суоранда', 'суходолье', 'счастье', 'сяськелево', 'сясьстрой',\n",
       "       'тайцы', 'тарасово', 'тельмана', 'терволово', 'терпилицы',\n",
       "       'тесово-4', 'тихвин', 'тихковицы', 'тойворово', 'токсово',\n",
       "       'торковичи', 'торосово', 'торошковичи', 'торфяное', 'тосно',\n",
       "       'трубников бор', 'углово', 'ульяновка', 'усть-ижора', 'усть-луга',\n",
       "       'ушаки', 'фалилеево', 'федоровское', 'форносово',\n",
       "       'форт красная горка', 'хапо-ое', 'хязельки', 'цвелодубово',\n",
       "       'цвылево', 'чудской бор', 'шлиссельбург', 'шпаньково', 'шугозеро',\n",
       "       'шум', 'шушары', 'юкки', 'ялгино', 'яльгелево', 'ям-тесово',\n",
       "       'янино-1'], dtype=object)"
      ]
     },
     "execution_count": 7,
     "metadata": {},
     "output_type": "execute_result"
    }
   ],
   "source": [
    "data.dropna(subset = ['locality_name'], inplace = True)#удалим строки, где нет названия посёлка, такие в анализе бесполезны\n",
    "data['locality_name'] = data['locality_name'].str.replace('ё','е')#подготовим для функции строки\n",
    "data['locality_name'] = data['locality_name'].str.lower()\n",
    "locality = ['городской поселок ','деревня ', 'коттеджный поселок ',\n",
    "            'поселок городского типа ','поселок станции ',\n",
    "            'поселок при железнодорожной станции ',\n",
    "            'садоводческое некоммерческое товарищество ','садовое товарищество ','село ','поселок ' ]\n",
    "def clean_name(row):\n",
    "    for value in locality:\n",
    "        if value in row:\n",
    "            return row.replace(value,'')\n",
    "    return row\n",
    "data.loc[~data['locality_name'].isin(name_non),'locality_name'] = data.loc[~data['locality_name'].isin(name_non),'locality_name'].apply(clean_name)\n",
    "data['locality_name'].sort_values().unique()"
   ]
  },
  {
   "cell_type": "markdown",
   "metadata": {},
   "source": [
    "<div class=\"alert alert-warning\">\n",
    "    <h2> Комментарий ревьюера <a class=\"tocSkip\"> </h2>\n",
    "    \n",
    "<b>Небольшие замечания и рекомендации💡:</b> А можешь убрать названия типов поселений без if-else? Кстати, вот мы убрали навзания типов поселений, а не было ли среди них поселений с одним названием, но разных по факту? \"Село Д\" и \"дереведя Д\", напрмиер"
   ]
  },
  {
   "cell_type": "code",
   "execution_count": 8,
   "metadata": {},
   "outputs": [
    {
     "data": {
      "text/plain": [
       "0"
      ]
     },
     "execution_count": 8,
     "metadata": {},
     "output_type": "execute_result"
    }
   ],
   "source": [
    "data['locality_name'].isna().sum()"
   ]
  },
  {
   "cell_type": "markdown",
   "metadata": {},
   "source": [
    "Проверим `last_price` на аномалии. Выбивается одно значение 12 190. Скорее всего забыли один нолик. Изменим. Хотя особо на данные это не повлияет.\n",
    "\n",
    "Есть цены 400 тыс., 500 тыс., но в основном это объекты вне Санкт-петербурга, т.е. в деревнях, селах, что вполне реалистично. "
   ]
  },
  {
   "cell_type": "code",
   "execution_count": 9,
   "metadata": {},
   "outputs": [
    {
     "data": {
      "text/plain": [
       "array([    12190,    430000,    440000, ..., 401300000, 420000000,\n",
       "       763000000])"
      ]
     },
     "execution_count": 9,
     "metadata": {},
     "output_type": "execute_result"
    }
   ],
   "source": [
    "data['last_price'] = data['last_price'].astype('int64')\n",
    "data['last_price'].sort_values().unique()"
   ]
  },
  {
   "cell_type": "markdown",
   "metadata": {},
   "source": [
    "<div class=\"alert alert-success\">\n",
    "<h2> Комментарий ревьюера <a class=\"tocSkip\"> </h2>\n",
    "\n",
    "<b>Все супер!👍:</b> Цена должна быть целым числом, да)"
   ]
  },
  {
   "cell_type": "code",
   "execution_count": 10,
   "metadata": {},
   "outputs": [],
   "source": [
    "data.loc[8793,'last_price']*=100"
   ]
  },
  {
   "cell_type": "markdown",
   "metadata": {},
   "source": [
    "<div class=\"alert alert-success\">\n",
    "<h2> Комментарий ревьюера <a class=\"tocSkip\"> </h2>\n",
    "\n",
    "<b>Все супер!👍:</b> Можно, наверное даже не на 10, а больше"
   ]
  },
  {
   "cell_type": "code",
   "execution_count": 11,
   "metadata": {},
   "outputs": [
    {
     "data": {
      "text/plain": [
       "array([   430000,    440000,    450000, ..., 401300000, 420000000,\n",
       "       763000000])"
      ]
     },
     "execution_count": 11,
     "metadata": {},
     "output_type": "execute_result"
    }
   ],
   "source": [
    "data['last_price'].sort_values().unique()"
   ]
  },
  {
   "cell_type": "markdown",
   "metadata": {},
   "source": [
    "Пропуски в столбце `balcony` интерпретируем как отсутствие балкона, поэтому заменяем их на 0."
   ]
  },
  {
   "cell_type": "code",
   "execution_count": 12,
   "metadata": {},
   "outputs": [
    {
     "data": {
      "text/plain": [
       "0"
      ]
     },
     "execution_count": 12,
     "metadata": {},
     "output_type": "execute_result"
    }
   ],
   "source": [
    "data['balcony'].fillna(0, inplace = True)\n",
    "data['balcony'].isna().sum()"
   ]
  },
  {
   "cell_type": "markdown",
   "metadata": {},
   "source": [
    "<div class=\"alert alert-success\">\n",
    "<h2> Комментарий ревьюера <a class=\"tocSkip\"> </h2>\n",
    "\n",
    "<b>Все супер!👍:</b> Поддерживаю!"
   ]
  },
  {
   "cell_type": "markdown",
   "metadata": {},
   "source": [
    "`celling_height` - высота потолков, здесь целых 9160 пропусков, это почти 40%. Удалять эти строки нельзя, поскольку они составляют внушительную часть данных. Проверим данные на наличие аномалий. Были выявлены такие значения, как 1, 1.2, 22.6, 24, 25, 26, 27, 27.5, 32, 100. Это точно **очепятки**, потолок в 100 м что-то из разряда фантастики, скорее всего это пентхаус с потолком в 10 м, аналогично значения от 20 и выше выглядят неправдоподобно, в таких строках следует заменить значения, поделив их на 10. "
   ]
  },
  {
   "cell_type": "code",
   "execution_count": 13,
   "metadata": {},
   "outputs": [
    {
     "data": {
      "text/plain": [
       "9160"
      ]
     },
     "execution_count": 13,
     "metadata": {},
     "output_type": "execute_result"
    }
   ],
   "source": [
    "data['ceiling_height'].isna().sum()"
   ]
  },
  {
   "cell_type": "code",
   "execution_count": 14,
   "metadata": {},
   "outputs": [
    {
     "data": {
      "text/plain": [
       "array([  1.  ,   1.2 ,   1.75,   2.  ,   2.2 ,   2.25,   2.3 ,   2.34,\n",
       "         2.4 ,   2.45,   2.46,   2.47,   2.48,   2.49,   2.5 ,   2.51,\n",
       "         2.52,   2.53,   2.54,   2.55,   2.56,   2.57,   2.58,   2.59,\n",
       "         2.6 ,   2.61,   2.62,   2.63,   2.64,   2.65,   2.66,   2.67,\n",
       "         2.68,   2.69,   2.7 ,   2.71,   2.72,   2.73,   2.74,   2.75,\n",
       "         2.76,   2.77,   2.78,   2.79,   2.8 ,   2.81,   2.82,   2.83,\n",
       "         2.84,   2.85,   2.86,   2.87,   2.88,   2.89,   2.9 ,   2.91,\n",
       "         2.92,   2.93,   2.94,   2.95,   2.96,   2.97,   2.98,   2.99,\n",
       "         3.  ,   3.01,   3.02,   3.03,   3.04,   3.05,   3.06,   3.07,\n",
       "         3.08,   3.09,   3.1 ,   3.11,   3.12,   3.13,   3.14,   3.15,\n",
       "         3.16,   3.17,   3.18,   3.2 ,   3.21,   3.22,   3.23,   3.24,\n",
       "         3.25,   3.26,   3.27,   3.28,   3.29,   3.3 ,   3.31,   3.32,\n",
       "         3.33,   3.34,   3.35,   3.36,   3.37,   3.38,   3.39,   3.4 ,\n",
       "         3.42,   3.43,   3.44,   3.45,   3.46,   3.47,   3.48,   3.49,\n",
       "         3.5 ,   3.51,   3.52,   3.53,   3.54,   3.55,   3.56,   3.57,\n",
       "         3.58,   3.59,   3.6 ,   3.62,   3.63,   3.65,   3.66,   3.67,\n",
       "         3.68,   3.69,   3.7 ,   3.75,   3.76,   3.78,   3.8 ,   3.82,\n",
       "         3.83,   3.84,   3.85,   3.86,   3.87,   3.88,   3.9 ,   3.93,\n",
       "         3.95,   3.98,   4.  ,   4.06,   4.1 ,   4.14,   4.15,   4.19,\n",
       "         4.2 ,   4.25,   4.3 ,   4.37,   4.4 ,   4.45,   4.5 ,   4.65,\n",
       "         4.7 ,   4.8 ,   4.9 ,   5.  ,   5.2 ,   5.3 ,   5.5 ,   5.6 ,\n",
       "         5.8 ,   6.  ,   8.  ,   8.3 ,  10.3 ,  14.  ,  20.  ,  22.6 ,\n",
       "        24.  ,  25.  ,  26.  ,  27.  ,  27.5 ,  32.  , 100.  ,    nan])"
      ]
     },
     "execution_count": 14,
     "metadata": {},
     "output_type": "execute_result"
    }
   ],
   "source": [
    "data['ceiling_height'].sort_values().unique()"
   ]
  },
  {
   "cell_type": "code",
   "execution_count": 15,
   "metadata": {},
   "outputs": [],
   "source": [
    "def norm_height(value):\n",
    "    if value > 20:\n",
    "        value = value / 10\n",
    "    return value\n",
    "data['ceiling_height'] = data['ceiling_height'].apply(norm_height)"
   ]
  },
  {
   "cell_type": "markdown",
   "metadata": {},
   "source": [
    "<div class=\"alert alert-success\">\n",
    "<h2> Комментарий ревьюера <a class=\"tocSkip\"> </h2>\n",
    "\n",
    "<b>Все супер!👍:</b> Тоже поддерживаю)"
   ]
  },
  {
   "cell_type": "code",
   "execution_count": 16,
   "metadata": {
    "scrolled": true
   },
   "outputs": [
    {
     "data": {
      "text/html": [
       "<div>\n",
       "<style scoped>\n",
       "    .dataframe tbody tr th:only-of-type {\n",
       "        vertical-align: middle;\n",
       "    }\n",
       "\n",
       "    .dataframe tbody tr th {\n",
       "        vertical-align: top;\n",
       "    }\n",
       "\n",
       "    .dataframe thead th {\n",
       "        text-align: right;\n",
       "    }\n",
       "</style>\n",
       "<table border=\"1\" class=\"dataframe\">\n",
       "  <thead>\n",
       "    <tr style=\"text-align: right;\">\n",
       "      <th></th>\n",
       "      <th>total_images</th>\n",
       "      <th>last_price</th>\n",
       "      <th>total_area</th>\n",
       "      <th>first_day_exposition</th>\n",
       "      <th>rooms</th>\n",
       "      <th>ceiling_height</th>\n",
       "      <th>floors_total</th>\n",
       "      <th>living_area</th>\n",
       "      <th>floor</th>\n",
       "      <th>is_apartment</th>\n",
       "      <th>...</th>\n",
       "      <th>kitchen_area</th>\n",
       "      <th>balcony</th>\n",
       "      <th>locality_name</th>\n",
       "      <th>airports_nearest</th>\n",
       "      <th>cityCenters_nearest</th>\n",
       "      <th>parks_around3000</th>\n",
       "      <th>parks_nearest</th>\n",
       "      <th>ponds_around3000</th>\n",
       "      <th>ponds_nearest</th>\n",
       "      <th>days_exposition</th>\n",
       "    </tr>\n",
       "  </thead>\n",
       "  <tbody>\n",
       "    <tr>\n",
       "      <th>5712</th>\n",
       "      <td>5</td>\n",
       "      <td>1500000</td>\n",
       "      <td>42.8</td>\n",
       "      <td>2017-08-14T00:00:00</td>\n",
       "      <td>2</td>\n",
       "      <td>1.20</td>\n",
       "      <td>2.0</td>\n",
       "      <td>27.5</td>\n",
       "      <td>1</td>\n",
       "      <td>NaN</td>\n",
       "      <td>...</td>\n",
       "      <td>5.20</td>\n",
       "      <td>0.0</td>\n",
       "      <td>мга</td>\n",
       "      <td>NaN</td>\n",
       "      <td>NaN</td>\n",
       "      <td>NaN</td>\n",
       "      <td>NaN</td>\n",
       "      <td>NaN</td>\n",
       "      <td>NaN</td>\n",
       "      <td>248.0</td>\n",
       "    </tr>\n",
       "    <tr>\n",
       "      <th>16934</th>\n",
       "      <td>5</td>\n",
       "      <td>4100000</td>\n",
       "      <td>40.0</td>\n",
       "      <td>2017-10-17T00:00:00</td>\n",
       "      <td>1</td>\n",
       "      <td>1.75</td>\n",
       "      <td>37.0</td>\n",
       "      <td>17.4</td>\n",
       "      <td>5</td>\n",
       "      <td>NaN</td>\n",
       "      <td>...</td>\n",
       "      <td>8.34</td>\n",
       "      <td>0.0</td>\n",
       "      <td>санкт-петербург</td>\n",
       "      <td>18732.0</td>\n",
       "      <td>20444.0</td>\n",
       "      <td>0.0</td>\n",
       "      <td>NaN</td>\n",
       "      <td>3.0</td>\n",
       "      <td>80.0</td>\n",
       "      <td>71.0</td>\n",
       "    </tr>\n",
       "    <tr>\n",
       "      <th>22590</th>\n",
       "      <td>16</td>\n",
       "      <td>6000000</td>\n",
       "      <td>55.0</td>\n",
       "      <td>2018-10-31T00:00:00</td>\n",
       "      <td>2</td>\n",
       "      <td>1.00</td>\n",
       "      <td>12.0</td>\n",
       "      <td>32.4</td>\n",
       "      <td>7</td>\n",
       "      <td>NaN</td>\n",
       "      <td>...</td>\n",
       "      <td>10.00</td>\n",
       "      <td>0.0</td>\n",
       "      <td>санкт-петербург</td>\n",
       "      <td>33053.0</td>\n",
       "      <td>14217.0</td>\n",
       "      <td>2.0</td>\n",
       "      <td>293.0</td>\n",
       "      <td>2.0</td>\n",
       "      <td>289.0</td>\n",
       "      <td>13.0</td>\n",
       "    </tr>\n",
       "  </tbody>\n",
       "</table>\n",
       "<p>3 rows × 22 columns</p>\n",
       "</div>"
      ],
      "text/plain": [
       "       total_images  last_price  total_area first_day_exposition  rooms  \\\n",
       "5712              5     1500000        42.8  2017-08-14T00:00:00      2   \n",
       "16934             5     4100000        40.0  2017-10-17T00:00:00      1   \n",
       "22590            16     6000000        55.0  2018-10-31T00:00:00      2   \n",
       "\n",
       "       ceiling_height  floors_total  living_area  floor is_apartment  ...  \\\n",
       "5712             1.20           2.0         27.5      1          NaN  ...   \n",
       "16934            1.75          37.0         17.4      5          NaN  ...   \n",
       "22590            1.00          12.0         32.4      7          NaN  ...   \n",
       "\n",
       "       kitchen_area  balcony    locality_name  airports_nearest  \\\n",
       "5712           5.20      0.0              мга               NaN   \n",
       "16934          8.34      0.0  санкт-петербург           18732.0   \n",
       "22590         10.00      0.0  санкт-петербург           33053.0   \n",
       "\n",
       "      cityCenters_nearest  parks_around3000  parks_nearest  ponds_around3000  \\\n",
       "5712                  NaN               NaN            NaN               NaN   \n",
       "16934             20444.0               0.0            NaN               3.0   \n",
       "22590             14217.0               2.0          293.0               2.0   \n",
       "\n",
       "       ponds_nearest  days_exposition  \n",
       "5712             NaN            248.0  \n",
       "16934           80.0             71.0  \n",
       "22590          289.0             13.0  \n",
       "\n",
       "[3 rows x 22 columns]"
      ]
     },
     "execution_count": 16,
     "metadata": {},
     "output_type": "execute_result"
    }
   ],
   "source": [
    "data.query('ceiling_height < 2')"
   ]
  },
  {
   "cell_type": "code",
   "execution_count": 17,
   "metadata": {},
   "outputs": [],
   "source": [
    "data = data.drop(index = [5712,16934,22590]).reset_index(drop= True )"
   ]
  },
  {
   "cell_type": "markdown",
   "metadata": {},
   "source": [
    "<div class=\"alert alert-warning\">\n",
    "    <h2> Комментарий ревьюера <a class=\"tocSkip\"> </h2>\n",
    "    \n",
    "<b>Небольшие замечания и рекомендации💡:</b> Можно, но не забывай сбрасывать индексы"
   ]
  },
  {
   "cell_type": "markdown",
   "metadata": {},
   "source": [
    "<div class=\"alert alert-info\">\n",
    "<b> Сбросила)</b> \n",
    "</div>"
   ]
  },
  {
   "cell_type": "markdown",
   "metadata": {},
   "source": [
    "<div class=\"alert alert-success\">\n",
    "<h2> Комментарий ревьюера v2 <a class=\"tocSkip\"> </h2>\n",
    "\n",
    "<b>Все супер!👍:</b> Отлично)"
   ]
  },
  {
   "cell_type": "markdown",
   "metadata": {},
   "source": [
    "Строк с потолками ниже 2 м всего три, поэтому их можно удалить."
   ]
  },
  {
   "cell_type": "code",
   "execution_count": 18,
   "metadata": {},
   "outputs": [
    {
     "data": {
      "text/plain": [
       "array([ 2.  ,  2.2 ,  2.25,  2.26,  2.3 ,  2.34,  2.4 ,  2.45,  2.46,\n",
       "        2.47,  2.48,  2.49,  2.5 ,  2.51,  2.52,  2.53,  2.54,  2.55,\n",
       "        2.56,  2.57,  2.58,  2.59,  2.6 ,  2.61,  2.62,  2.63,  2.64,\n",
       "        2.65,  2.66,  2.67,  2.68,  2.69,  2.7 ,  2.71,  2.72,  2.73,\n",
       "        2.74,  2.75,  2.76,  2.77,  2.78,  2.79,  2.8 ,  2.81,  2.82,\n",
       "        2.83,  2.84,  2.85,  2.86,  2.87,  2.88,  2.89,  2.9 ,  2.91,\n",
       "        2.92,  2.93,  2.94,  2.95,  2.96,  2.97,  2.98,  2.99,  3.  ,\n",
       "        3.01,  3.02,  3.03,  3.04,  3.05,  3.06,  3.07,  3.08,  3.09,\n",
       "        3.1 ,  3.11,  3.12,  3.13,  3.14,  3.15,  3.16,  3.17,  3.18,\n",
       "        3.2 ,  3.21,  3.22,  3.23,  3.24,  3.25,  3.26,  3.27,  3.28,\n",
       "        3.29,  3.3 ,  3.31,  3.32,  3.33,  3.34,  3.35,  3.36,  3.37,\n",
       "        3.38,  3.39,  3.4 ,  3.42,  3.43,  3.44,  3.45,  3.46,  3.47,\n",
       "        3.48,  3.49,  3.5 ,  3.51,  3.52,  3.53,  3.54,  3.55,  3.56,\n",
       "        3.57,  3.58,  3.59,  3.6 ,  3.62,  3.63,  3.65,  3.66,  3.67,\n",
       "        3.68,  3.69,  3.7 ,  3.75,  3.76,  3.78,  3.8 ,  3.82,  3.83,\n",
       "        3.84,  3.85,  3.86,  3.87,  3.88,  3.9 ,  3.93,  3.95,  3.98,\n",
       "        4.  ,  4.06,  4.1 ,  4.14,  4.15,  4.19,  4.2 ,  4.25,  4.3 ,\n",
       "        4.37,  4.4 ,  4.45,  4.5 ,  4.65,  4.7 ,  4.8 ,  4.9 ,  5.  ,\n",
       "        5.2 ,  5.3 ,  5.5 ,  5.6 ,  5.8 ,  6.  ,  8.  ,  8.3 , 10.  ,\n",
       "       10.3 , 14.  , 20.  ,   nan])"
      ]
     },
     "execution_count": 18,
     "metadata": {},
     "output_type": "execute_result"
    }
   ],
   "source": [
    "data['ceiling_height'].sort_values().unique()"
   ]
  },
  {
   "cell_type": "markdown",
   "metadata": {},
   "source": [
    "Чем заменять пропуски? Промониторив стандарты высоты потолков, я выяснила следующее: эконом-дома обладают стандартом 2.55-2.6 м, в квартире бизнес-класса высота начинается с 2,7 м, в элитных квартирах – с 3 м, в пентхаусах варьируется в пределах от 3 до 12 м. Также надо принять во внимание историческую часть Санкт-Петербурга (центр), здесь высота потолков обычно более 3 м. Было принято решение заменять пропуски следующим образом: разделим все жилье на группы (историческое, элитное, бизнес, эконом). Если расстояние до центра меньше 4500 м (проверила по карте), то будем считать жилье историческим, иначе расчитываем среднюю цену за квадратный метр:\n",
    ">эконом - <= 110 тыс. руб. за метр\n",
    "\n",
    ">бизнес - <= 200 тыс. руб. за метр\n",
    "\n",
    ">элита - > 200 тыс. руб. за метр"
   ]
  },
  {
   "cell_type": "code",
   "execution_count": 19,
   "metadata": {},
   "outputs": [],
   "source": [
    "data['total_area'] = data['total_area'].round(2)\n",
    "data['price_one_m'] = data['last_price'] / data['total_area']\n",
    "def status(value, price):\n",
    "    if value <= 4500:\n",
    "        return 'историческое' \n",
    "    else:\n",
    "         if price <= 110000:\n",
    "            return 'эконом'\n",
    "         elif 110000 < price <= 200000: \n",
    "            return 'бизнес'\n",
    "         elif price > 200000:\n",
    "            return 'элита'    \n",
    "data['status'] = data.apply(lambda x: status(x['cityCenters_nearest'], x['price_one_m']), axis=1)"
   ]
  },
  {
   "cell_type": "markdown",
   "metadata": {},
   "source": [
    "<div class=\"alert alert-warning\">\n",
    "    <h2> Комментарий ревьюера <a class=\"tocSkip\"> </h2>\n",
    "    \n",
    "<b>Небольшие замечания и рекомендации💡:</b> Идею понял, есть вопрсо по написанию функции. А разве у тебя не должено быть следующим образом, не буду писать весь код, только смысл покажу:\n",
    "        \n",
    "        if value <= 4500:\n",
    "            return 'историческое' \n",
    "        else:\n",
    "             if price <= 110000:\n",
    "                return 'эконом'\n",
    "             elif 110000 < price <= 200000: \n",
    "                return 'бизнес'\n",
    "             elif price > 200000:\n",
    "                return 'элита'           "
   ]
  },
  {
   "cell_type": "markdown",
   "metadata": {},
   "source": [
    "<div class=\"alert alert-info\">\n",
    "<b> Согласна, так будет правильнее, исправила.</b> \n",
    "</div>"
   ]
  },
  {
   "cell_type": "markdown",
   "metadata": {},
   "source": [
    "<div class=\"alert alert-success\">\n",
    "<h2> Комментарий ревьюера v2 <a class=\"tocSkip\"> </h2>\n",
    "\n",
    "<b>Все супер!👍:</b> Отлично!"
   ]
  },
  {
   "cell_type": "code",
   "execution_count": 20,
   "metadata": {},
   "outputs": [
    {
     "data": {
      "text/plain": [
       "status\n",
       "бизнес          2.780543\n",
       "историческое    3.172556\n",
       "эконом          2.652079\n",
       "элита           3.160463\n",
       "Name: ceiling_height, dtype: float64"
      ]
     },
     "execution_count": 20,
     "metadata": {},
     "output_type": "execute_result"
    }
   ],
   "source": [
    "mean_height = data.groupby('status')['ceiling_height'].mean()#средняя высота потолка по типу жилья \n",
    "mean_height"
   ]
  },
  {
   "cell_type": "code",
   "execution_count": 21,
   "metadata": {},
   "outputs": [],
   "source": [
    "def nan_ceil(height, status):\n",
    "    for sts in mean_height.index:\n",
    "        if pd.isna(height) and status == sts:\n",
    "            return mean_height[sts]\n",
    "    return height\n",
    "data['ceiling_height'] = data.apply(lambda x: nan_ceil(x['ceiling_height'], x['status']), axis=1).round(2)"
   ]
  },
  {
   "cell_type": "code",
   "execution_count": 22,
   "metadata": {},
   "outputs": [
    {
     "data": {
      "text/plain": [
       "0"
      ]
     },
     "execution_count": 22,
     "metadata": {},
     "output_type": "execute_result"
    }
   ],
   "source": [
    "data['ceiling_height'].isna().sum()"
   ]
  },
  {
   "cell_type": "markdown",
   "metadata": {},
   "source": [
    "Перейдем к `floors_total`. Здесь 85 пропусков, что незначительно для общего объема данных, поэтому просто удалим их."
   ]
  },
  {
   "cell_type": "code",
   "execution_count": 23,
   "metadata": {},
   "outputs": [
    {
     "data": {
      "text/plain": [
       "0"
      ]
     },
     "execution_count": 23,
     "metadata": {},
     "output_type": "execute_result"
    }
   ],
   "source": [
    "data.dropna(subset = ['floors_total'], inplace = True)\n",
    "data['floors_total'].isna().sum()"
   ]
  },
  {
   "cell_type": "markdown",
   "metadata": {},
   "source": [
    "<div class=\"alert alert-success\">\n",
    "<h2> Комментарий ревьюера <a class=\"tocSkip\"> </h2>\n",
    "\n",
    "<b>Все супер!👍:</b> Можно, согласен"
   ]
  },
  {
   "cell_type": "markdown",
   "metadata": {},
   "source": [
    "`is_apartment` - здесь всего 2760 заполненных значений. Сделаем этот столбец типа **bool** и будем считать, что 1 - True - апартаменты; 0 - False - не апартаменты. Заменим nan на 0."
   ]
  },
  {
   "cell_type": "code",
   "execution_count": 24,
   "metadata": {},
   "outputs": [
    {
     "data": {
      "text/plain": [
       "array([False,  True])"
      ]
     },
     "execution_count": 24,
     "metadata": {},
     "output_type": "execute_result"
    }
   ],
   "source": [
    "data['is_apartment'] = data['is_apartment'].fillna(0).astype('bool')\n",
    "data['is_apartment'].unique()"
   ]
  },
  {
   "cell_type": "markdown",
   "metadata": {},
   "source": [
    "<div class=\"alert alert-success\">\n",
    "<h2> Комментарий ревьюера <a class=\"tocSkip\"> </h2>\n",
    "\n",
    "<b>Все супер!👍:</b> Тоже можно)"
   ]
  },
  {
   "cell_type": "code",
   "execution_count": 25,
   "metadata": {},
   "outputs": [
    {
     "data": {
      "text/plain": [
       "0"
      ]
     },
     "execution_count": 25,
     "metadata": {},
     "output_type": "execute_result"
    }
   ],
   "source": [
    "data['is_apartment'].isna().sum()"
   ]
  },
  {
   "cell_type": "markdown",
   "metadata": {},
   "source": [
    "Рассмотрим столбцы `parks_around3000`, `ponds_around3000`, скорее всего пропуски возникли из-за того, что либо собственник просто не знает количество прудов, парков в районе 3 км, либо их просто нет. Эти столбцы не слишком важны в исследовании, поэтому заполним пропуски 0. Пропуски в `parks_nearest`, `ponds_nearest` не влияют на исследование, поэтому не будем их заполнять."
   ]
  },
  {
   "cell_type": "code",
   "execution_count": 26,
   "metadata": {},
   "outputs": [],
   "source": [
    "data['parks_around3000'].fillna(0, inplace = True)\n",
    "data['ponds_around3000'].fillna(0, inplace = True)"
   ]
  },
  {
   "cell_type": "markdown",
   "metadata": {},
   "source": [
    "<div class=\"alert alert-success\">\n",
    "<h2> Комментарий ревьюера <a class=\"tocSkip\"> </h2>\n",
    "\n",
    "<b>Все супер!👍:</b> И тоже поддерживаю!"
   ]
  },
  {
   "cell_type": "markdown",
   "metadata": {},
   "source": [
    "Проверим `total_area` на наличие аномалий."
   ]
  },
  {
   "cell_type": "code",
   "execution_count": 27,
   "metadata": {},
   "outputs": [
    {
     "data": {
      "text/plain": [
       "array([ 12. ,  13. ,  13.2, ..., 631. , 631.2, 900. ])"
      ]
     },
     "execution_count": 27,
     "metadata": {},
     "output_type": "execute_result"
    }
   ],
   "source": [
    "data['total_area'].sort_values().unique()"
   ]
  },
  {
   "cell_type": "markdown",
   "metadata": {},
   "source": [
    "Как видим, есть площади, не похожие на площадь квартиры. Заменим данные в апартаментах, если общая площадь больше 500, будем считать, что это апартаменты."
   ]
  },
  {
   "cell_type": "code",
   "execution_count": 28,
   "metadata": {},
   "outputs": [],
   "source": [
    "data.loc[data['total_area']>=500, 'is_apartment'] = True"
   ]
  },
  {
   "cell_type": "code",
   "execution_count": 29,
   "metadata": {
    "scrolled": true
   },
   "outputs": [
    {
     "data": {
      "text/html": [
       "<div>\n",
       "<style scoped>\n",
       "    .dataframe tbody tr th:only-of-type {\n",
       "        vertical-align: middle;\n",
       "    }\n",
       "\n",
       "    .dataframe tbody tr th {\n",
       "        vertical-align: top;\n",
       "    }\n",
       "\n",
       "    .dataframe thead th {\n",
       "        text-align: right;\n",
       "    }\n",
       "</style>\n",
       "<table border=\"1\" class=\"dataframe\">\n",
       "  <thead>\n",
       "    <tr style=\"text-align: right;\">\n",
       "      <th></th>\n",
       "      <th>total_images</th>\n",
       "      <th>last_price</th>\n",
       "      <th>total_area</th>\n",
       "      <th>first_day_exposition</th>\n",
       "      <th>rooms</th>\n",
       "      <th>ceiling_height</th>\n",
       "      <th>floors_total</th>\n",
       "      <th>living_area</th>\n",
       "      <th>floor</th>\n",
       "      <th>is_apartment</th>\n",
       "      <th>...</th>\n",
       "      <th>locality_name</th>\n",
       "      <th>airports_nearest</th>\n",
       "      <th>cityCenters_nearest</th>\n",
       "      <th>parks_around3000</th>\n",
       "      <th>parks_nearest</th>\n",
       "      <th>ponds_around3000</th>\n",
       "      <th>ponds_nearest</th>\n",
       "      <th>days_exposition</th>\n",
       "      <th>price_one_m</th>\n",
       "      <th>status</th>\n",
       "    </tr>\n",
       "  </thead>\n",
       "  <tbody>\n",
       "    <tr>\n",
       "      <th>155</th>\n",
       "      <td>8</td>\n",
       "      <td>96000000</td>\n",
       "      <td>317.00</td>\n",
       "      <td>2017-07-07T00:00:00</td>\n",
       "      <td>4</td>\n",
       "      <td>3.50</td>\n",
       "      <td>3.0</td>\n",
       "      <td>183.0</td>\n",
       "      <td>3</td>\n",
       "      <td>False</td>\n",
       "      <td>...</td>\n",
       "      <td>санкт-петербург</td>\n",
       "      <td>22673.0</td>\n",
       "      <td>1771.0</td>\n",
       "      <td>2.0</td>\n",
       "      <td>508.0</td>\n",
       "      <td>3.0</td>\n",
       "      <td>366.0</td>\n",
       "      <td>62.0</td>\n",
       "      <td>302839.116719</td>\n",
       "      <td>историческое</td>\n",
       "    </tr>\n",
       "    <tr>\n",
       "      <th>581</th>\n",
       "      <td>20</td>\n",
       "      <td>65000000</td>\n",
       "      <td>365.00</td>\n",
       "      <td>2019-03-18T00:00:00</td>\n",
       "      <td>7</td>\n",
       "      <td>2.90</td>\n",
       "      <td>7.0</td>\n",
       "      <td>NaN</td>\n",
       "      <td>7</td>\n",
       "      <td>False</td>\n",
       "      <td>...</td>\n",
       "      <td>санкт-петербург</td>\n",
       "      <td>19827.0</td>\n",
       "      <td>1690.0</td>\n",
       "      <td>3.0</td>\n",
       "      <td>378.0</td>\n",
       "      <td>3.0</td>\n",
       "      <td>58.0</td>\n",
       "      <td>NaN</td>\n",
       "      <td>178082.191781</td>\n",
       "      <td>историческое</td>\n",
       "    </tr>\n",
       "    <tr>\n",
       "      <th>660</th>\n",
       "      <td>3</td>\n",
       "      <td>49950000</td>\n",
       "      <td>483.90</td>\n",
       "      <td>2017-10-04T00:00:00</td>\n",
       "      <td>7</td>\n",
       "      <td>3.20</td>\n",
       "      <td>6.0</td>\n",
       "      <td>312.5</td>\n",
       "      <td>4</td>\n",
       "      <td>False</td>\n",
       "      <td>...</td>\n",
       "      <td>санкт-петербург</td>\n",
       "      <td>23079.0</td>\n",
       "      <td>945.0</td>\n",
       "      <td>3.0</td>\n",
       "      <td>461.0</td>\n",
       "      <td>3.0</td>\n",
       "      <td>22.0</td>\n",
       "      <td>391.0</td>\n",
       "      <td>103223.806572</td>\n",
       "      <td>историческое</td>\n",
       "    </tr>\n",
       "    <tr>\n",
       "      <th>793</th>\n",
       "      <td>20</td>\n",
       "      <td>135000000</td>\n",
       "      <td>310.00</td>\n",
       "      <td>2018-05-22T00:00:00</td>\n",
       "      <td>4</td>\n",
       "      <td>3.30</td>\n",
       "      <td>5.0</td>\n",
       "      <td>250.0</td>\n",
       "      <td>2</td>\n",
       "      <td>False</td>\n",
       "      <td>...</td>\n",
       "      <td>санкт-петербург</td>\n",
       "      <td>34159.0</td>\n",
       "      <td>7251.0</td>\n",
       "      <td>2.0</td>\n",
       "      <td>295.0</td>\n",
       "      <td>3.0</td>\n",
       "      <td>190.0</td>\n",
       "      <td>342.0</td>\n",
       "      <td>435483.870968</td>\n",
       "      <td>элита</td>\n",
       "    </tr>\n",
       "    <tr>\n",
       "      <th>866</th>\n",
       "      <td>5</td>\n",
       "      <td>25000000</td>\n",
       "      <td>363.00</td>\n",
       "      <td>2017-12-23T00:00:00</td>\n",
       "      <td>14</td>\n",
       "      <td>3.16</td>\n",
       "      <td>5.0</td>\n",
       "      <td>222.0</td>\n",
       "      <td>4</td>\n",
       "      <td>False</td>\n",
       "      <td>...</td>\n",
       "      <td>санкт-петербург</td>\n",
       "      <td>38076.0</td>\n",
       "      <td>7950.0</td>\n",
       "      <td>0.0</td>\n",
       "      <td>NaN</td>\n",
       "      <td>2.0</td>\n",
       "      <td>435.0</td>\n",
       "      <td>418.0</td>\n",
       "      <td>68870.523416</td>\n",
       "      <td>эконом</td>\n",
       "    </tr>\n",
       "    <tr>\n",
       "      <th>1026</th>\n",
       "      <td>20</td>\n",
       "      <td>155000000</td>\n",
       "      <td>310.00</td>\n",
       "      <td>2018-10-12T00:00:00</td>\n",
       "      <td>5</td>\n",
       "      <td>5.30</td>\n",
       "      <td>3.0</td>\n",
       "      <td>190.0</td>\n",
       "      <td>3</td>\n",
       "      <td>False</td>\n",
       "      <td>...</td>\n",
       "      <td>санкт-петербург</td>\n",
       "      <td>24899.0</td>\n",
       "      <td>4785.0</td>\n",
       "      <td>0.0</td>\n",
       "      <td>NaN</td>\n",
       "      <td>1.0</td>\n",
       "      <td>603.0</td>\n",
       "      <td>NaN</td>\n",
       "      <td>500000.000000</td>\n",
       "      <td>элита</td>\n",
       "    </tr>\n",
       "    <tr>\n",
       "      <th>1085</th>\n",
       "      <td>16</td>\n",
       "      <td>75000000</td>\n",
       "      <td>323.00</td>\n",
       "      <td>2017-07-10T00:00:00</td>\n",
       "      <td>5</td>\n",
       "      <td>4.00</td>\n",
       "      <td>5.0</td>\n",
       "      <td>255.7</td>\n",
       "      <td>4</td>\n",
       "      <td>False</td>\n",
       "      <td>...</td>\n",
       "      <td>санкт-петербург</td>\n",
       "      <td>23713.0</td>\n",
       "      <td>594.0</td>\n",
       "      <td>3.0</td>\n",
       "      <td>398.0</td>\n",
       "      <td>2.0</td>\n",
       "      <td>515.0</td>\n",
       "      <td>259.0</td>\n",
       "      <td>232198.142415</td>\n",
       "      <td>историческое</td>\n",
       "    </tr>\n",
       "    <tr>\n",
       "      <th>1387</th>\n",
       "      <td>20</td>\n",
       "      <td>59800000</td>\n",
       "      <td>399.00</td>\n",
       "      <td>2015-01-21T00:00:00</td>\n",
       "      <td>5</td>\n",
       "      <td>5.60</td>\n",
       "      <td>6.0</td>\n",
       "      <td>NaN</td>\n",
       "      <td>6</td>\n",
       "      <td>False</td>\n",
       "      <td>...</td>\n",
       "      <td>санкт-петербург</td>\n",
       "      <td>26204.0</td>\n",
       "      <td>6934.0</td>\n",
       "      <td>2.0</td>\n",
       "      <td>149.0</td>\n",
       "      <td>2.0</td>\n",
       "      <td>577.0</td>\n",
       "      <td>719.0</td>\n",
       "      <td>149874.686717</td>\n",
       "      <td>бизнес</td>\n",
       "    </tr>\n",
       "    <tr>\n",
       "      <th>1493</th>\n",
       "      <td>10</td>\n",
       "      <td>65000000</td>\n",
       "      <td>364.00</td>\n",
       "      <td>2018-11-27T00:00:00</td>\n",
       "      <td>7</td>\n",
       "      <td>3.90</td>\n",
       "      <td>6.0</td>\n",
       "      <td>250.0</td>\n",
       "      <td>3</td>\n",
       "      <td>False</td>\n",
       "      <td>...</td>\n",
       "      <td>санкт-петербург</td>\n",
       "      <td>21988.0</td>\n",
       "      <td>3254.0</td>\n",
       "      <td>0.0</td>\n",
       "      <td>NaN</td>\n",
       "      <td>1.0</td>\n",
       "      <td>689.0</td>\n",
       "      <td>46.0</td>\n",
       "      <td>178571.428571</td>\n",
       "      <td>историческое</td>\n",
       "    </tr>\n",
       "    <tr>\n",
       "      <th>2241</th>\n",
       "      <td>9</td>\n",
       "      <td>130278280</td>\n",
       "      <td>304.00</td>\n",
       "      <td>2015-07-24T00:00:00</td>\n",
       "      <td>5</td>\n",
       "      <td>3.11</td>\n",
       "      <td>9.0</td>\n",
       "      <td>NaN</td>\n",
       "      <td>7</td>\n",
       "      <td>False</td>\n",
       "      <td>...</td>\n",
       "      <td>санкт-петербург</td>\n",
       "      <td>25593.0</td>\n",
       "      <td>5913.0</td>\n",
       "      <td>2.0</td>\n",
       "      <td>164.0</td>\n",
       "      <td>0.0</td>\n",
       "      <td>NaN</td>\n",
       "      <td>599.0</td>\n",
       "      <td>428546.973684</td>\n",
       "      <td>элита</td>\n",
       "    </tr>\n",
       "    <tr>\n",
       "      <th>2578</th>\n",
       "      <td>6</td>\n",
       "      <td>30900000</td>\n",
       "      <td>338.60</td>\n",
       "      <td>2017-10-16T00:00:00</td>\n",
       "      <td>7</td>\n",
       "      <td>3.86</td>\n",
       "      <td>6.0</td>\n",
       "      <td>230.0</td>\n",
       "      <td>4</td>\n",
       "      <td>False</td>\n",
       "      <td>...</td>\n",
       "      <td>санкт-петербург</td>\n",
       "      <td>24957.0</td>\n",
       "      <td>5641.0</td>\n",
       "      <td>0.0</td>\n",
       "      <td>NaN</td>\n",
       "      <td>0.0</td>\n",
       "      <td>NaN</td>\n",
       "      <td>406.0</td>\n",
       "      <td>91258.121677</td>\n",
       "      <td>эконом</td>\n",
       "    </tr>\n",
       "    <tr>\n",
       "      <th>3113</th>\n",
       "      <td>19</td>\n",
       "      <td>140000000</td>\n",
       "      <td>631.00</td>\n",
       "      <td>2019-03-30T00:00:00</td>\n",
       "      <td>7</td>\n",
       "      <td>3.16</td>\n",
       "      <td>5.0</td>\n",
       "      <td>NaN</td>\n",
       "      <td>5</td>\n",
       "      <td>True</td>\n",
       "      <td>...</td>\n",
       "      <td>санкт-петербург</td>\n",
       "      <td>25707.0</td>\n",
       "      <td>4972.0</td>\n",
       "      <td>0.0</td>\n",
       "      <td>NaN</td>\n",
       "      <td>2.0</td>\n",
       "      <td>210.0</td>\n",
       "      <td>NaN</td>\n",
       "      <td>221870.047544</td>\n",
       "      <td>элита</td>\n",
       "    </tr>\n",
       "    <tr>\n",
       "      <th>3671</th>\n",
       "      <td>12</td>\n",
       "      <td>28789000</td>\n",
       "      <td>441.98</td>\n",
       "      <td>2019-01-23T00:00:00</td>\n",
       "      <td>4</td>\n",
       "      <td>2.65</td>\n",
       "      <td>6.0</td>\n",
       "      <td>NaN</td>\n",
       "      <td>6</td>\n",
       "      <td>False</td>\n",
       "      <td>...</td>\n",
       "      <td>санкт-петербург</td>\n",
       "      <td>20552.0</td>\n",
       "      <td>5181.0</td>\n",
       "      <td>0.0</td>\n",
       "      <td>NaN</td>\n",
       "      <td>0.0</td>\n",
       "      <td>NaN</td>\n",
       "      <td>NaN</td>\n",
       "      <td>65136.431513</td>\n",
       "      <td>эконом</td>\n",
       "    </tr>\n",
       "    <tr>\n",
       "      <th>4230</th>\n",
       "      <td>1</td>\n",
       "      <td>50000000</td>\n",
       "      <td>517.00</td>\n",
       "      <td>2017-10-14T00:00:00</td>\n",
       "      <td>7</td>\n",
       "      <td>3.17</td>\n",
       "      <td>4.0</td>\n",
       "      <td>332.0</td>\n",
       "      <td>3</td>\n",
       "      <td>True</td>\n",
       "      <td>...</td>\n",
       "      <td>санкт-петербург</td>\n",
       "      <td>22835.0</td>\n",
       "      <td>1847.0</td>\n",
       "      <td>2.0</td>\n",
       "      <td>477.0</td>\n",
       "      <td>2.0</td>\n",
       "      <td>540.0</td>\n",
       "      <td>NaN</td>\n",
       "      <td>96711.798839</td>\n",
       "      <td>историческое</td>\n",
       "    </tr>\n",
       "    <tr>\n",
       "      <th>5034</th>\n",
       "      <td>20</td>\n",
       "      <td>35000000</td>\n",
       "      <td>380.00</td>\n",
       "      <td>2017-08-17T00:00:00</td>\n",
       "      <td>6</td>\n",
       "      <td>2.65</td>\n",
       "      <td>3.0</td>\n",
       "      <td>198.0</td>\n",
       "      <td>2</td>\n",
       "      <td>False</td>\n",
       "      <td>...</td>\n",
       "      <td>пушкин</td>\n",
       "      <td>18490.0</td>\n",
       "      <td>30643.0</td>\n",
       "      <td>1.0</td>\n",
       "      <td>527.0</td>\n",
       "      <td>1.0</td>\n",
       "      <td>668.0</td>\n",
       "      <td>15.0</td>\n",
       "      <td>92105.263158</td>\n",
       "      <td>эконом</td>\n",
       "    </tr>\n",
       "    <tr>\n",
       "      <th>5349</th>\n",
       "      <td>20</td>\n",
       "      <td>65000000</td>\n",
       "      <td>590.00</td>\n",
       "      <td>2019-02-14T00:00:00</td>\n",
       "      <td>15</td>\n",
       "      <td>3.50</td>\n",
       "      <td>6.0</td>\n",
       "      <td>409.0</td>\n",
       "      <td>3</td>\n",
       "      <td>True</td>\n",
       "      <td>...</td>\n",
       "      <td>санкт-петербург</td>\n",
       "      <td>24447.0</td>\n",
       "      <td>4666.0</td>\n",
       "      <td>1.0</td>\n",
       "      <td>767.0</td>\n",
       "      <td>0.0</td>\n",
       "      <td>NaN</td>\n",
       "      <td>14.0</td>\n",
       "      <td>110169.491525</td>\n",
       "      <td>бизнес</td>\n",
       "    </tr>\n",
       "    <tr>\n",
       "      <th>5862</th>\n",
       "      <td>0</td>\n",
       "      <td>38000000</td>\n",
       "      <td>400.00</td>\n",
       "      <td>2019-03-15T00:00:00</td>\n",
       "      <td>7</td>\n",
       "      <td>3.60</td>\n",
       "      <td>3.0</td>\n",
       "      <td>NaN</td>\n",
       "      <td>1</td>\n",
       "      <td>False</td>\n",
       "      <td>...</td>\n",
       "      <td>санкт-петербург</td>\n",
       "      <td>24889.0</td>\n",
       "      <td>5457.0</td>\n",
       "      <td>1.0</td>\n",
       "      <td>271.0</td>\n",
       "      <td>0.0</td>\n",
       "      <td>NaN</td>\n",
       "      <td>NaN</td>\n",
       "      <td>95000.000000</td>\n",
       "      <td>эконом</td>\n",
       "    </tr>\n",
       "    <tr>\n",
       "      <th>5882</th>\n",
       "      <td>3</td>\n",
       "      <td>230000000</td>\n",
       "      <td>500.00</td>\n",
       "      <td>2017-05-31T00:00:00</td>\n",
       "      <td>6</td>\n",
       "      <td>3.16</td>\n",
       "      <td>7.0</td>\n",
       "      <td>NaN</td>\n",
       "      <td>7</td>\n",
       "      <td>True</td>\n",
       "      <td>...</td>\n",
       "      <td>санкт-петербург</td>\n",
       "      <td>32440.0</td>\n",
       "      <td>5297.0</td>\n",
       "      <td>0.0</td>\n",
       "      <td>NaN</td>\n",
       "      <td>2.0</td>\n",
       "      <td>198.0</td>\n",
       "      <td>50.0</td>\n",
       "      <td>460000.000000</td>\n",
       "      <td>элита</td>\n",
       "    </tr>\n",
       "    <tr>\n",
       "      <th>6172</th>\n",
       "      <td>10</td>\n",
       "      <td>84382000</td>\n",
       "      <td>363.10</td>\n",
       "      <td>2018-10-07T00:00:00</td>\n",
       "      <td>3</td>\n",
       "      <td>3.16</td>\n",
       "      <td>16.0</td>\n",
       "      <td>NaN</td>\n",
       "      <td>12</td>\n",
       "      <td>False</td>\n",
       "      <td>...</td>\n",
       "      <td>санкт-петербург</td>\n",
       "      <td>31887.0</td>\n",
       "      <td>4979.0</td>\n",
       "      <td>0.0</td>\n",
       "      <td>NaN</td>\n",
       "      <td>2.0</td>\n",
       "      <td>182.0</td>\n",
       "      <td>NaN</td>\n",
       "      <td>232393.280088</td>\n",
       "      <td>элита</td>\n",
       "    </tr>\n",
       "    <tr>\n",
       "      <th>6210</th>\n",
       "      <td>8</td>\n",
       "      <td>34000000</td>\n",
       "      <td>470.30</td>\n",
       "      <td>2018-01-14T00:00:00</td>\n",
       "      <td>4</td>\n",
       "      <td>2.65</td>\n",
       "      <td>3.0</td>\n",
       "      <td>248.7</td>\n",
       "      <td>3</td>\n",
       "      <td>False</td>\n",
       "      <td>...</td>\n",
       "      <td>санкт-петербург</td>\n",
       "      <td>43756.0</td>\n",
       "      <td>15459.0</td>\n",
       "      <td>1.0</td>\n",
       "      <td>852.0</td>\n",
       "      <td>3.0</td>\n",
       "      <td>122.0</td>\n",
       "      <td>179.0</td>\n",
       "      <td>72294.280247</td>\n",
       "      <td>эконом</td>\n",
       "    </tr>\n",
       "  </tbody>\n",
       "</table>\n",
       "<p>20 rows × 24 columns</p>\n",
       "</div>"
      ],
      "text/plain": [
       "      total_images  last_price  total_area first_day_exposition  rooms  \\\n",
       "155              8    96000000      317.00  2017-07-07T00:00:00      4   \n",
       "581             20    65000000      365.00  2019-03-18T00:00:00      7   \n",
       "660              3    49950000      483.90  2017-10-04T00:00:00      7   \n",
       "793             20   135000000      310.00  2018-05-22T00:00:00      4   \n",
       "866              5    25000000      363.00  2017-12-23T00:00:00     14   \n",
       "1026            20   155000000      310.00  2018-10-12T00:00:00      5   \n",
       "1085            16    75000000      323.00  2017-07-10T00:00:00      5   \n",
       "1387            20    59800000      399.00  2015-01-21T00:00:00      5   \n",
       "1493            10    65000000      364.00  2018-11-27T00:00:00      7   \n",
       "2241             9   130278280      304.00  2015-07-24T00:00:00      5   \n",
       "2578             6    30900000      338.60  2017-10-16T00:00:00      7   \n",
       "3113            19   140000000      631.00  2019-03-30T00:00:00      7   \n",
       "3671            12    28789000      441.98  2019-01-23T00:00:00      4   \n",
       "4230             1    50000000      517.00  2017-10-14T00:00:00      7   \n",
       "5034            20    35000000      380.00  2017-08-17T00:00:00      6   \n",
       "5349            20    65000000      590.00  2019-02-14T00:00:00     15   \n",
       "5862             0    38000000      400.00  2019-03-15T00:00:00      7   \n",
       "5882             3   230000000      500.00  2017-05-31T00:00:00      6   \n",
       "6172            10    84382000      363.10  2018-10-07T00:00:00      3   \n",
       "6210             8    34000000      470.30  2018-01-14T00:00:00      4   \n",
       "\n",
       "      ceiling_height  floors_total  living_area  floor  is_apartment  ...  \\\n",
       "155             3.50           3.0        183.0      3         False  ...   \n",
       "581             2.90           7.0          NaN      7         False  ...   \n",
       "660             3.20           6.0        312.5      4         False  ...   \n",
       "793             3.30           5.0        250.0      2         False  ...   \n",
       "866             3.16           5.0        222.0      4         False  ...   \n",
       "1026            5.30           3.0        190.0      3         False  ...   \n",
       "1085            4.00           5.0        255.7      4         False  ...   \n",
       "1387            5.60           6.0          NaN      6         False  ...   \n",
       "1493            3.90           6.0        250.0      3         False  ...   \n",
       "2241            3.11           9.0          NaN      7         False  ...   \n",
       "2578            3.86           6.0        230.0      4         False  ...   \n",
       "3113            3.16           5.0          NaN      5          True  ...   \n",
       "3671            2.65           6.0          NaN      6         False  ...   \n",
       "4230            3.17           4.0        332.0      3          True  ...   \n",
       "5034            2.65           3.0        198.0      2         False  ...   \n",
       "5349            3.50           6.0        409.0      3          True  ...   \n",
       "5862            3.60           3.0          NaN      1         False  ...   \n",
       "5882            3.16           7.0          NaN      7          True  ...   \n",
       "6172            3.16          16.0          NaN     12         False  ...   \n",
       "6210            2.65           3.0        248.7      3         False  ...   \n",
       "\n",
       "        locality_name  airports_nearest  cityCenters_nearest  \\\n",
       "155   санкт-петербург           22673.0               1771.0   \n",
       "581   санкт-петербург           19827.0               1690.0   \n",
       "660   санкт-петербург           23079.0                945.0   \n",
       "793   санкт-петербург           34159.0               7251.0   \n",
       "866   санкт-петербург           38076.0               7950.0   \n",
       "1026  санкт-петербург           24899.0               4785.0   \n",
       "1085  санкт-петербург           23713.0                594.0   \n",
       "1387  санкт-петербург           26204.0               6934.0   \n",
       "1493  санкт-петербург           21988.0               3254.0   \n",
       "2241  санкт-петербург           25593.0               5913.0   \n",
       "2578  санкт-петербург           24957.0               5641.0   \n",
       "3113  санкт-петербург           25707.0               4972.0   \n",
       "3671  санкт-петербург           20552.0               5181.0   \n",
       "4230  санкт-петербург           22835.0               1847.0   \n",
       "5034           пушкин           18490.0              30643.0   \n",
       "5349  санкт-петербург           24447.0               4666.0   \n",
       "5862  санкт-петербург           24889.0               5457.0   \n",
       "5882  санкт-петербург           32440.0               5297.0   \n",
       "6172  санкт-петербург           31887.0               4979.0   \n",
       "6210  санкт-петербург           43756.0              15459.0   \n",
       "\n",
       "      parks_around3000 parks_nearest  ponds_around3000  ponds_nearest  \\\n",
       "155                2.0         508.0               3.0          366.0   \n",
       "581                3.0         378.0               3.0           58.0   \n",
       "660                3.0         461.0               3.0           22.0   \n",
       "793                2.0         295.0               3.0          190.0   \n",
       "866                0.0           NaN               2.0          435.0   \n",
       "1026               0.0           NaN               1.0          603.0   \n",
       "1085               3.0         398.0               2.0          515.0   \n",
       "1387               2.0         149.0               2.0          577.0   \n",
       "1493               0.0           NaN               1.0          689.0   \n",
       "2241               2.0         164.0               0.0            NaN   \n",
       "2578               0.0           NaN               0.0            NaN   \n",
       "3113               0.0           NaN               2.0          210.0   \n",
       "3671               0.0           NaN               0.0            NaN   \n",
       "4230               2.0         477.0               2.0          540.0   \n",
       "5034               1.0         527.0               1.0          668.0   \n",
       "5349               1.0         767.0               0.0            NaN   \n",
       "5862               1.0         271.0               0.0            NaN   \n",
       "5882               0.0           NaN               2.0          198.0   \n",
       "6172               0.0           NaN               2.0          182.0   \n",
       "6210               1.0         852.0               3.0          122.0   \n",
       "\n",
       "      days_exposition    price_one_m        status  \n",
       "155              62.0  302839.116719  историческое  \n",
       "581               NaN  178082.191781  историческое  \n",
       "660             391.0  103223.806572  историческое  \n",
       "793             342.0  435483.870968         элита  \n",
       "866             418.0   68870.523416        эконом  \n",
       "1026              NaN  500000.000000         элита  \n",
       "1085            259.0  232198.142415  историческое  \n",
       "1387            719.0  149874.686717        бизнес  \n",
       "1493             46.0  178571.428571  историческое  \n",
       "2241            599.0  428546.973684         элита  \n",
       "2578            406.0   91258.121677        эконом  \n",
       "3113              NaN  221870.047544         элита  \n",
       "3671              NaN   65136.431513        эконом  \n",
       "4230              NaN   96711.798839  историческое  \n",
       "5034             15.0   92105.263158        эконом  \n",
       "5349             14.0  110169.491525        бизнес  \n",
       "5862              NaN   95000.000000        эконом  \n",
       "5882             50.0  460000.000000         элита  \n",
       "6172              NaN  232393.280088         элита  \n",
       "6210            179.0   72294.280247        эконом  \n",
       "\n",
       "[20 rows x 24 columns]"
      ]
     },
     "execution_count": 29,
     "metadata": {},
     "output_type": "execute_result"
    }
   ],
   "source": [
    "data.query('total_area >300').head(20)"
   ]
  },
  {
   "cell_type": "markdown",
   "metadata": {},
   "source": [
    "Заполним пропуски в `cityCenters_nearest` и `airports_nearest` средним по району. Как видим, заполнить пропуски мы сможем только в 25 районах, об остальных данных нет. "
   ]
  },
  {
   "cell_type": "code",
   "execution_count": 30,
   "metadata": {},
   "outputs": [
    {
     "name": "stdout",
     "output_type": "stream",
     "text": [
      "Всего  312 значений.\n",
      "Пропусков  287 .\n",
      "locality_name\n",
      "санкт-петербург    11587.757265\n",
      "парголово          19924.776758\n",
      "стрельна           23374.302326\n",
      "шушары             24243.387615\n",
      "левашово           25727.000000\n",
      "                       ...     \n",
      "юкки                        NaN\n",
      "ялгино                      NaN\n",
      "яльгелево                   NaN\n",
      "ям-тесово                   NaN\n",
      "янино-1                     NaN\n",
      "Name: cityCenters_nearest, Length: 312, dtype: float64\n"
     ]
    }
   ],
   "source": [
    "mean_center_near = data.groupby('locality_name')['cityCenters_nearest'].mean()\n",
    "print('Всего ',mean_center_near.shape[0], 'значений.')\n",
    "print('Пропусков ', mean_center_near.isna().sum(),'.')\n",
    "print(mean_center_near.sort_values())"
   ]
  },
  {
   "cell_type": "code",
   "execution_count": 31,
   "metadata": {},
   "outputs": [
    {
     "name": "stdout",
     "output_type": "stream",
     "text": [
      "Всего  312 значений.\n",
      "Пропусков  287 .\n",
      "locality_name\n",
      "молодежное         84430.200000\n",
      "зеленогорск        73300.250000\n",
      "кронштадт          67469.263158\n",
      "репино             62293.250000\n",
      "белоостров         57769.000000\n",
      "сестрорецк         56640.486339\n",
      "лисий нос          55302.333333\n",
      "песочный           54565.500000\n",
      "парголово          53994.926606\n",
      "левашово           52693.000000\n",
      "ломоносов          48308.280303\n",
      "петергоф           40184.676617\n",
      "саперный           34142.666667\n",
      "понтонный          30581.400000\n",
      "стрельна           28145.395349\n",
      "санкт-петербург    28040.557597\n",
      "Name: airports_nearest, dtype: float64\n"
     ]
    }
   ],
   "source": [
    "mean_airport_near = data.groupby('locality_name')['airports_nearest'].mean()\n",
    "print('Всего ',mean_airport_near.shape[0], 'значений.')\n",
    "print('Пропусков ', mean_airport_near.isna().sum(),'.')\n",
    "print(mean_airport_near.sort_values(ascending = False).head(16))"
   ]
  },
  {
   "cell_type": "code",
   "execution_count": 32,
   "metadata": {},
   "outputs": [],
   "source": [
    "def nan_near(name, near, mean):\n",
    "    for value in mean.index:\n",
    "        if pd.isna(near) and name == value:\n",
    "            return mean[value]\n",
    "    return near\n",
    "data['cityCenters_nearest'] = data.apply(lambda x: nan_near(x['locality_name'], x['cityCenters_nearest'],mean_center_near), axis=1)\n",
    "data['airports_nearest'] = data.apply(lambda x: nan_near(x['locality_name'], x['airports_nearest'], mean_airport_near), axis=1)"
   ]
  },
  {
   "cell_type": "markdown",
   "metadata": {},
   "source": [
    "Разберемся с `days_exposition`. Пропуски скорее всего означают, что объявление еще не закрыто, то есть объект еще не продан, или же владелец продал недвжимость, но забыл снять объявление. При дальнейшем анализе не будем их учитывать, заменим на какое-то большое число, выбивающееся из общей картины. "
   ]
  },
  {
   "cell_type": "code",
   "execution_count": 33,
   "metadata": {},
   "outputs": [
    {
     "data": {
      "text/plain": [
       "3171"
      ]
     },
     "execution_count": 33,
     "metadata": {},
     "output_type": "execute_result"
    }
   ],
   "source": [
    "data['days_exposition'].isna().sum()"
   ]
  },
  {
   "cell_type": "markdown",
   "metadata": {},
   "source": [
    "<div class=\"alert alert-success\">\n",
    "<h2> Комментарий ревьюера <a class=\"tocSkip\"> </h2>\n",
    "\n",
    "<b>Все супер!👍:</b> Правильно, но я бы не стла менять ни на какое число пропуск) Ну есть он и есть, твоя гипотза по его поялвению верна"
   ]
  },
  {
   "cell_type": "markdown",
   "metadata": {},
   "source": [
    "Самое интересное, `living_area`, `kitchen_area`. Пропуски можно заполнить следующим образом. \n",
    "\n",
    "Расчитаем медианный процент отношения a = `living_area`/`total_area` и, исходя из него, будем расчитывать `living_area` = a*`total_area`.\n",
    "\n",
    "Для `kitchen_area` в студиях поставим 0. Для **не студий** расчитаем медианный процент b = `kitchen_area`/`total_area` и в пропусках будем вставлять b* `total_area`."
   ]
  },
  {
   "cell_type": "code",
   "execution_count": 34,
   "metadata": {},
   "outputs": [],
   "source": [
    "data['living_area'] = data['living_area'].round(2)"
   ]
  },
  {
   "cell_type": "code",
   "execution_count": 35,
   "metadata": {},
   "outputs": [],
   "source": [
    "data.loc[data['studio'] == True, 'kitchen_area'] = data.loc[data['studio'] == True, 'kitchen_area'].fillna(0)"
   ]
  },
  {
   "cell_type": "markdown",
   "metadata": {},
   "source": [
    "<div class=\"alert alert-warning\">\n",
    "    <h2> Комментарий ревьюера <a class=\"tocSkip\"> </h2>\n",
    "    \n",
    "<b>Небольшие замечания и рекомендации💡:</b> А у апартаменов в жилой площади тоже 0 ставятся, да? По кухонной понятно, а вот по жилой я не уверен, но может ошибаюсь, ты мне подскажешь, правда?"
   ]
  },
  {
   "cell_type": "markdown",
   "metadata": {},
   "source": [
    "<div class=\"alert alert-info\">\n",
    "<b> Я тут глубже изучила вопрос про апартаменты. Оказалось, в них может быть и жилая площадь, если это не офисы, и даже кухонная, отличие в возможности регистрации, в апартаментах нельзя прописаться. Поэтому я думаю, что для апартаментов тоже можно считать как для обычных квартир. Со студиями оставим также, будем считать, что кухонной площади нет.</b> \n",
    "</div>"
   ]
  },
  {
   "cell_type": "markdown",
   "metadata": {},
   "source": [
    "<div class=\"alert alert-success\">\n",
    "<h2> Комментарий ревьюера v2 <a class=\"tocSkip\"> </h2>\n",
    "\n",
    "<b>Все супер!👍:</b> Ага, отлично)"
   ]
  },
  {
   "cell_type": "code",
   "execution_count": 36,
   "metadata": {},
   "outputs": [
    {
     "data": {
      "text/plain": [
       "0.17236013964894478"
      ]
     },
     "execution_count": 36,
     "metadata": {},
     "output_type": "execute_result"
    }
   ],
   "source": [
    "proc_for_kitch = (data.loc[data['studio'] == False, 'kitchen_area'] \\\n",
    "/ data.loc[data['studio'] == False, 'total_area']).median()\n",
    "proc_for_kitch"
   ]
  },
  {
   "cell_type": "code",
   "execution_count": 37,
   "metadata": {},
   "outputs": [
    {
     "data": {
      "text/plain": [
       "0.5681818181818182"
      ]
     },
     "execution_count": 37,
     "metadata": {},
     "output_type": "execute_result"
    }
   ],
   "source": [
    "proc_for_liv = (data['living_area'] \\\n",
    "/ data['total_area']).median()\n",
    "proc_for_liv"
   ]
  },
  {
   "cell_type": "code",
   "execution_count": 38,
   "metadata": {},
   "outputs": [],
   "source": [
    "data['living_area'].fillna(data['total_area']*proc_for_liv, inplace = True)"
   ]
  },
  {
   "cell_type": "code",
   "execution_count": 39,
   "metadata": {},
   "outputs": [],
   "source": [
    "data['kitchen_area'].fillna(data['total_area']*proc_for_kitch, inplace = True)"
   ]
  },
  {
   "cell_type": "markdown",
   "metadata": {},
   "source": [
    "<div class=\"alert alert-info\">\n",
    "<b> Здесь проверяю, что сумма не больше общей площади.</b> \n",
    "</div>"
   ]
  },
  {
   "cell_type": "markdown",
   "metadata": {},
   "source": [
    "<div class=\"alert alert-success\">\n",
    "<h2> Комментарий ревьюера v2 <a class=\"tocSkip\"> </h2>\n",
    "\n",
    "<b>Все супер!👍:</b> Отлично!"
   ]
  },
  {
   "cell_type": "code",
   "execution_count": 40,
   "metadata": {},
   "outputs": [],
   "source": [
    "def check(a,b,c):\n",
    "    if a+b>c:\n",
    "        return c-b\n",
    "    else:\n",
    "        return a\n",
    "data['living_area'] = data.apply(lambda x: check(x['living_area'], x['kitchen_area'], x['total_area']), axis=1)"
   ]
  },
  {
   "cell_type": "code",
   "execution_count": 41,
   "metadata": {},
   "outputs": [
    {
     "name": "stdout",
     "output_type": "stream",
     "text": [
      "<class 'pandas.core.frame.DataFrame'>\n",
      "Int64Index: 23562 entries, 0 to 23646\n",
      "Data columns (total 24 columns):\n",
      " #   Column                Non-Null Count  Dtype  \n",
      "---  ------                --------------  -----  \n",
      " 0   total_images          23562 non-null  int64  \n",
      " 1   last_price            23562 non-null  int64  \n",
      " 2   total_area            23562 non-null  float64\n",
      " 3   first_day_exposition  23562 non-null  object \n",
      " 4   rooms                 23562 non-null  int64  \n",
      " 5   ceiling_height        23562 non-null  float64\n",
      " 6   floors_total          23562 non-null  float64\n",
      " 7   living_area           23562 non-null  float64\n",
      " 8   floor                 23562 non-null  int64  \n",
      " 9   is_apartment          23562 non-null  bool   \n",
      " 10  studio                23562 non-null  bool   \n",
      " 11  open_plan             23562 non-null  bool   \n",
      " 12  kitchen_area          23562 non-null  float64\n",
      " 13  balcony               23562 non-null  float64\n",
      " 14  locality_name         23562 non-null  object \n",
      " 15  airports_nearest      18131 non-null  float64\n",
      " 16  cityCenters_nearest   18131 non-null  float64\n",
      " 17  parks_around3000      23562 non-null  float64\n",
      " 18  parks_nearest         8029 non-null   float64\n",
      " 19  ponds_around3000      23562 non-null  float64\n",
      " 20  ponds_nearest         9034 non-null   float64\n",
      " 21  days_exposition       20391 non-null  float64\n",
      " 22  price_one_m           23562 non-null  float64\n",
      " 23  status                23562 non-null  object \n",
      "dtypes: bool(3), float64(14), int64(4), object(3)\n",
      "memory usage: 4.0+ MB\n"
     ]
    }
   ],
   "source": [
    "data.info()"
   ]
  },
  {
   "cell_type": "markdown",
   "metadata": {},
   "source": [
    "Итак, везде, где возможно, пропуски заполнены, изучены аномалии, отброшены бесполезные данные. Перейдем к смене типа данных."
   ]
  },
  {
   "cell_type": "markdown",
   "metadata": {},
   "source": [
    "<div class=\"alert alert-success\">\n",
    "<h2> Комментарий ревьюера <a class=\"tocSkip\"> </h2>\n",
    "\n",
    "<b>Все супер!👍:</b> Заполнения по коэффициентам хороши, молодец"
   ]
  },
  {
   "cell_type": "markdown",
   "metadata": {},
   "source": [
    "<div class=\"alert alert-warning\">\n",
    "    <h2> Комментарий ревьюера <a class=\"tocSkip\"> </h2>\n",
    "    \n",
    "<b>Небольшие замечания и рекомендации💡:</b> Не забудь только проверить, не превышает ли у нас сумма площадей всю площадь"
   ]
  },
  {
   "cell_type": "markdown",
   "metadata": {},
   "source": [
    "По причине удобства восприятия, упрощения вычислений и логической очевидности следует сменить тип данных в следующих столбцах:\n",
    "- first_days_exposition - сменить на datetime\n",
    "- floors_total - с float на int\n",
    "- balcony - с float на int\n",
    "- parks_around3000, ponds_around3000 - с float на int\n",
    "- days_exposition - с float на int"
   ]
  },
  {
   "cell_type": "code",
   "execution_count": 42,
   "metadata": {},
   "outputs": [],
   "source": [
    "data['first_day_exposition'] = pd.to_datetime(data['first_day_exposition'], format='%Y-%m-%dT%H:%M:%S')\n",
    "data['floors_total'] = data['floors_total'].astype('int64')\n",
    "data['balcony'] = data['balcony'].astype('int64')\n",
    "data['parks_around3000'] = data['parks_around3000'].astype('int64')\n",
    "data['ponds_around3000'] = data['ponds_around3000'].astype('int64')\n",
    "data['days_exposition'].fillna(55555555, inplace = True)#поставим такое значение заместо nan, чтобы заменить тип данных\\\n",
    "#и не учитывать в дальнейшем такую аномалию\n",
    "data['days_exposition'] = data['days_exposition'].astype('int64')\n",
    "data['living_area'] = data['living_area'].round(2)\n",
    "data['price_one_m'] = data['price_one_m'].astype('int64')"
   ]
  },
  {
   "cell_type": "markdown",
   "metadata": {},
   "source": [
    "<div class=\"alert alert-success\">\n",
    "<h2> Комментарий ревьюера <a class=\"tocSkip\"> </h2>\n",
    "\n",
    "<b>Все супер!👍:</b> Отлично, верно)"
   ]
  },
  {
   "cell_type": "code",
   "execution_count": 43,
   "metadata": {},
   "outputs": [
    {
     "name": "stdout",
     "output_type": "stream",
     "text": [
      "<class 'pandas.core.frame.DataFrame'>\n",
      "Int64Index: 23562 entries, 0 to 23646\n",
      "Data columns (total 24 columns):\n",
      " #   Column                Non-Null Count  Dtype         \n",
      "---  ------                --------------  -----         \n",
      " 0   total_images          23562 non-null  int64         \n",
      " 1   last_price            23562 non-null  int64         \n",
      " 2   total_area            23562 non-null  float64       \n",
      " 3   first_day_exposition  23562 non-null  datetime64[ns]\n",
      " 4   rooms                 23562 non-null  int64         \n",
      " 5   ceiling_height        23562 non-null  float64       \n",
      " 6   floors_total          23562 non-null  int64         \n",
      " 7   living_area           23562 non-null  float64       \n",
      " 8   floor                 23562 non-null  int64         \n",
      " 9   is_apartment          23562 non-null  bool          \n",
      " 10  studio                23562 non-null  bool          \n",
      " 11  open_plan             23562 non-null  bool          \n",
      " 12  kitchen_area          23562 non-null  float64       \n",
      " 13  balcony               23562 non-null  int64         \n",
      " 14  locality_name         23562 non-null  object        \n",
      " 15  airports_nearest      18131 non-null  float64       \n",
      " 16  cityCenters_nearest   18131 non-null  float64       \n",
      " 17  parks_around3000      23562 non-null  int64         \n",
      " 18  parks_nearest         8029 non-null   float64       \n",
      " 19  ponds_around3000      23562 non-null  int64         \n",
      " 20  ponds_nearest         9034 non-null   float64       \n",
      " 21  days_exposition       23562 non-null  int64         \n",
      " 22  price_one_m           23562 non-null  int64         \n",
      " 23  status                23562 non-null  object        \n",
      "dtypes: bool(3), datetime64[ns](1), float64(8), int64(10), object(2)\n",
      "memory usage: 4.0+ MB\n"
     ]
    }
   ],
   "source": [
    "data.info()"
   ]
  },
  {
   "cell_type": "code",
   "execution_count": 44,
   "metadata": {},
   "outputs": [
    {
     "data": {
      "text/html": [
       "<div>\n",
       "<style scoped>\n",
       "    .dataframe tbody tr th:only-of-type {\n",
       "        vertical-align: middle;\n",
       "    }\n",
       "\n",
       "    .dataframe tbody tr th {\n",
       "        vertical-align: top;\n",
       "    }\n",
       "\n",
       "    .dataframe thead th {\n",
       "        text-align: right;\n",
       "    }\n",
       "</style>\n",
       "<table border=\"1\" class=\"dataframe\">\n",
       "  <thead>\n",
       "    <tr style=\"text-align: right;\">\n",
       "      <th></th>\n",
       "      <th>total_images</th>\n",
       "      <th>last_price</th>\n",
       "      <th>total_area</th>\n",
       "      <th>first_day_exposition</th>\n",
       "      <th>rooms</th>\n",
       "      <th>ceiling_height</th>\n",
       "      <th>floors_total</th>\n",
       "      <th>living_area</th>\n",
       "      <th>floor</th>\n",
       "      <th>is_apartment</th>\n",
       "      <th>...</th>\n",
       "      <th>locality_name</th>\n",
       "      <th>airports_nearest</th>\n",
       "      <th>cityCenters_nearest</th>\n",
       "      <th>parks_around3000</th>\n",
       "      <th>parks_nearest</th>\n",
       "      <th>ponds_around3000</th>\n",
       "      <th>ponds_nearest</th>\n",
       "      <th>days_exposition</th>\n",
       "      <th>price_one_m</th>\n",
       "      <th>status</th>\n",
       "    </tr>\n",
       "  </thead>\n",
       "  <tbody>\n",
       "    <tr>\n",
       "      <th>0</th>\n",
       "      <td>20</td>\n",
       "      <td>13000000</td>\n",
       "      <td>108.00</td>\n",
       "      <td>2019-03-07</td>\n",
       "      <td>3</td>\n",
       "      <td>2.70</td>\n",
       "      <td>16</td>\n",
       "      <td>51.00</td>\n",
       "      <td>8</td>\n",
       "      <td>False</td>\n",
       "      <td>...</td>\n",
       "      <td>санкт-петербург</td>\n",
       "      <td>18863.0</td>\n",
       "      <td>16028.0</td>\n",
       "      <td>1</td>\n",
       "      <td>482.0</td>\n",
       "      <td>2</td>\n",
       "      <td>755.0</td>\n",
       "      <td>55555555</td>\n",
       "      <td>120370</td>\n",
       "      <td>бизнес</td>\n",
       "    </tr>\n",
       "    <tr>\n",
       "      <th>1</th>\n",
       "      <td>7</td>\n",
       "      <td>3350000</td>\n",
       "      <td>40.40</td>\n",
       "      <td>2018-12-04</td>\n",
       "      <td>1</td>\n",
       "      <td>2.65</td>\n",
       "      <td>11</td>\n",
       "      <td>18.60</td>\n",
       "      <td>1</td>\n",
       "      <td>False</td>\n",
       "      <td>...</td>\n",
       "      <td>шушары</td>\n",
       "      <td>12817.0</td>\n",
       "      <td>18603.0</td>\n",
       "      <td>0</td>\n",
       "      <td>NaN</td>\n",
       "      <td>0</td>\n",
       "      <td>NaN</td>\n",
       "      <td>81</td>\n",
       "      <td>82920</td>\n",
       "      <td>эконом</td>\n",
       "    </tr>\n",
       "    <tr>\n",
       "      <th>2</th>\n",
       "      <td>10</td>\n",
       "      <td>5196000</td>\n",
       "      <td>56.00</td>\n",
       "      <td>2015-08-20</td>\n",
       "      <td>2</td>\n",
       "      <td>2.65</td>\n",
       "      <td>5</td>\n",
       "      <td>34.30</td>\n",
       "      <td>4</td>\n",
       "      <td>False</td>\n",
       "      <td>...</td>\n",
       "      <td>санкт-петербург</td>\n",
       "      <td>21741.0</td>\n",
       "      <td>13933.0</td>\n",
       "      <td>1</td>\n",
       "      <td>90.0</td>\n",
       "      <td>2</td>\n",
       "      <td>574.0</td>\n",
       "      <td>558</td>\n",
       "      <td>92785</td>\n",
       "      <td>эконом</td>\n",
       "    </tr>\n",
       "    <tr>\n",
       "      <th>3</th>\n",
       "      <td>0</td>\n",
       "      <td>64900000</td>\n",
       "      <td>159.00</td>\n",
       "      <td>2015-07-24</td>\n",
       "      <td>3</td>\n",
       "      <td>3.16</td>\n",
       "      <td>14</td>\n",
       "      <td>90.34</td>\n",
       "      <td>9</td>\n",
       "      <td>False</td>\n",
       "      <td>...</td>\n",
       "      <td>санкт-петербург</td>\n",
       "      <td>28098.0</td>\n",
       "      <td>6800.0</td>\n",
       "      <td>2</td>\n",
       "      <td>84.0</td>\n",
       "      <td>3</td>\n",
       "      <td>234.0</td>\n",
       "      <td>424</td>\n",
       "      <td>408176</td>\n",
       "      <td>элита</td>\n",
       "    </tr>\n",
       "    <tr>\n",
       "      <th>4</th>\n",
       "      <td>2</td>\n",
       "      <td>10000000</td>\n",
       "      <td>100.00</td>\n",
       "      <td>2018-06-19</td>\n",
       "      <td>2</td>\n",
       "      <td>3.03</td>\n",
       "      <td>14</td>\n",
       "      <td>32.00</td>\n",
       "      <td>13</td>\n",
       "      <td>False</td>\n",
       "      <td>...</td>\n",
       "      <td>санкт-петербург</td>\n",
       "      <td>31856.0</td>\n",
       "      <td>8098.0</td>\n",
       "      <td>2</td>\n",
       "      <td>112.0</td>\n",
       "      <td>1</td>\n",
       "      <td>48.0</td>\n",
       "      <td>121</td>\n",
       "      <td>100000</td>\n",
       "      <td>эконом</td>\n",
       "    </tr>\n",
       "    <tr>\n",
       "      <th>5</th>\n",
       "      <td>10</td>\n",
       "      <td>2890000</td>\n",
       "      <td>30.40</td>\n",
       "      <td>2018-09-10</td>\n",
       "      <td>1</td>\n",
       "      <td>2.65</td>\n",
       "      <td>12</td>\n",
       "      <td>14.40</td>\n",
       "      <td>5</td>\n",
       "      <td>False</td>\n",
       "      <td>...</td>\n",
       "      <td>янино-1</td>\n",
       "      <td>NaN</td>\n",
       "      <td>NaN</td>\n",
       "      <td>0</td>\n",
       "      <td>NaN</td>\n",
       "      <td>0</td>\n",
       "      <td>NaN</td>\n",
       "      <td>55</td>\n",
       "      <td>95065</td>\n",
       "      <td>эконом</td>\n",
       "    </tr>\n",
       "    <tr>\n",
       "      <th>6</th>\n",
       "      <td>6</td>\n",
       "      <td>3700000</td>\n",
       "      <td>37.30</td>\n",
       "      <td>2017-11-02</td>\n",
       "      <td>1</td>\n",
       "      <td>2.65</td>\n",
       "      <td>26</td>\n",
       "      <td>10.60</td>\n",
       "      <td>6</td>\n",
       "      <td>False</td>\n",
       "      <td>...</td>\n",
       "      <td>парголово</td>\n",
       "      <td>52996.0</td>\n",
       "      <td>19143.0</td>\n",
       "      <td>0</td>\n",
       "      <td>NaN</td>\n",
       "      <td>0</td>\n",
       "      <td>NaN</td>\n",
       "      <td>155</td>\n",
       "      <td>99195</td>\n",
       "      <td>эконом</td>\n",
       "    </tr>\n",
       "    <tr>\n",
       "      <th>7</th>\n",
       "      <td>5</td>\n",
       "      <td>7915000</td>\n",
       "      <td>71.60</td>\n",
       "      <td>2019-04-18</td>\n",
       "      <td>2</td>\n",
       "      <td>2.78</td>\n",
       "      <td>24</td>\n",
       "      <td>40.68</td>\n",
       "      <td>22</td>\n",
       "      <td>False</td>\n",
       "      <td>...</td>\n",
       "      <td>санкт-петербург</td>\n",
       "      <td>23982.0</td>\n",
       "      <td>11634.0</td>\n",
       "      <td>0</td>\n",
       "      <td>NaN</td>\n",
       "      <td>0</td>\n",
       "      <td>NaN</td>\n",
       "      <td>55555555</td>\n",
       "      <td>110544</td>\n",
       "      <td>бизнес</td>\n",
       "    </tr>\n",
       "    <tr>\n",
       "      <th>8</th>\n",
       "      <td>20</td>\n",
       "      <td>2900000</td>\n",
       "      <td>33.16</td>\n",
       "      <td>2018-05-23</td>\n",
       "      <td>1</td>\n",
       "      <td>2.65</td>\n",
       "      <td>27</td>\n",
       "      <td>15.43</td>\n",
       "      <td>26</td>\n",
       "      <td>False</td>\n",
       "      <td>...</td>\n",
       "      <td>мурино</td>\n",
       "      <td>NaN</td>\n",
       "      <td>NaN</td>\n",
       "      <td>0</td>\n",
       "      <td>NaN</td>\n",
       "      <td>0</td>\n",
       "      <td>NaN</td>\n",
       "      <td>189</td>\n",
       "      <td>87454</td>\n",
       "      <td>эконом</td>\n",
       "    </tr>\n",
       "    <tr>\n",
       "      <th>9</th>\n",
       "      <td>18</td>\n",
       "      <td>5400000</td>\n",
       "      <td>61.00</td>\n",
       "      <td>2017-02-26</td>\n",
       "      <td>3</td>\n",
       "      <td>2.50</td>\n",
       "      <td>9</td>\n",
       "      <td>43.60</td>\n",
       "      <td>7</td>\n",
       "      <td>False</td>\n",
       "      <td>...</td>\n",
       "      <td>санкт-петербург</td>\n",
       "      <td>50898.0</td>\n",
       "      <td>15008.0</td>\n",
       "      <td>0</td>\n",
       "      <td>NaN</td>\n",
       "      <td>0</td>\n",
       "      <td>NaN</td>\n",
       "      <td>289</td>\n",
       "      <td>88524</td>\n",
       "      <td>эконом</td>\n",
       "    </tr>\n",
       "  </tbody>\n",
       "</table>\n",
       "<p>10 rows × 24 columns</p>\n",
       "</div>"
      ],
      "text/plain": [
       "   total_images  last_price  total_area first_day_exposition  rooms  \\\n",
       "0            20    13000000      108.00           2019-03-07      3   \n",
       "1             7     3350000       40.40           2018-12-04      1   \n",
       "2            10     5196000       56.00           2015-08-20      2   \n",
       "3             0    64900000      159.00           2015-07-24      3   \n",
       "4             2    10000000      100.00           2018-06-19      2   \n",
       "5            10     2890000       30.40           2018-09-10      1   \n",
       "6             6     3700000       37.30           2017-11-02      1   \n",
       "7             5     7915000       71.60           2019-04-18      2   \n",
       "8            20     2900000       33.16           2018-05-23      1   \n",
       "9            18     5400000       61.00           2017-02-26      3   \n",
       "\n",
       "   ceiling_height  floors_total  living_area  floor  is_apartment  ...  \\\n",
       "0            2.70            16        51.00      8         False  ...   \n",
       "1            2.65            11        18.60      1         False  ...   \n",
       "2            2.65             5        34.30      4         False  ...   \n",
       "3            3.16            14        90.34      9         False  ...   \n",
       "4            3.03            14        32.00     13         False  ...   \n",
       "5            2.65            12        14.40      5         False  ...   \n",
       "6            2.65            26        10.60      6         False  ...   \n",
       "7            2.78            24        40.68     22         False  ...   \n",
       "8            2.65            27        15.43     26         False  ...   \n",
       "9            2.50             9        43.60      7         False  ...   \n",
       "\n",
       "     locality_name  airports_nearest  cityCenters_nearest  parks_around3000  \\\n",
       "0  санкт-петербург           18863.0              16028.0                 1   \n",
       "1           шушары           12817.0              18603.0                 0   \n",
       "2  санкт-петербург           21741.0              13933.0                 1   \n",
       "3  санкт-петербург           28098.0               6800.0                 2   \n",
       "4  санкт-петербург           31856.0               8098.0                 2   \n",
       "5          янино-1               NaN                  NaN                 0   \n",
       "6        парголово           52996.0              19143.0                 0   \n",
       "7  санкт-петербург           23982.0              11634.0                 0   \n",
       "8           мурино               NaN                  NaN                 0   \n",
       "9  санкт-петербург           50898.0              15008.0                 0   \n",
       "\n",
       "  parks_nearest  ponds_around3000  ponds_nearest  days_exposition  \\\n",
       "0         482.0                 2          755.0         55555555   \n",
       "1           NaN                 0            NaN               81   \n",
       "2          90.0                 2          574.0              558   \n",
       "3          84.0                 3          234.0              424   \n",
       "4         112.0                 1           48.0              121   \n",
       "5           NaN                 0            NaN               55   \n",
       "6           NaN                 0            NaN              155   \n",
       "7           NaN                 0            NaN         55555555   \n",
       "8           NaN                 0            NaN              189   \n",
       "9           NaN                 0            NaN              289   \n",
       "\n",
       "   price_one_m  status  \n",
       "0       120370  бизнес  \n",
       "1        82920  эконом  \n",
       "2        92785  эконом  \n",
       "3       408176   элита  \n",
       "4       100000  эконом  \n",
       "5        95065  эконом  \n",
       "6        99195  эконом  \n",
       "7       110544  бизнес  \n",
       "8        87454  эконом  \n",
       "9        88524  эконом  \n",
       "\n",
       "[10 rows x 24 columns]"
      ]
     },
     "execution_count": 44,
     "metadata": {},
     "output_type": "execute_result"
    }
   ],
   "source": [
    "data.head(10)"
   ]
  },
  {
   "cell_type": "markdown",
   "metadata": {},
   "source": [
    "**Вывод**: итак, все логически заменяемые и важные для исследования пропуски заполнены в соответствии с выбранным мной принципом. Пропуски в не особо значимых столбцах были оставлены как есть. Пропуски в определенных столбцах, составляющие маленькую часть от всех данных или же не несущие смысла для исследования, было решено удалить. "
   ]
  },
  {
   "cell_type": "markdown",
   "metadata": {},
   "source": [
    "<div class=\"alert alert-success\">\n",
    "<h2> Комментарий ревьюера <a class=\"tocSkip\"> </h2>\n",
    "\n",
    "<b>Все супер!👍:</b> В целом работу поддерживаю! "
   ]
  },
  {
   "cell_type": "markdown",
   "metadata": {},
   "source": [
    "### Посчитайте и добавьте в таблицу новые столбцы"
   ]
  },
  {
   "cell_type": "markdown",
   "metadata": {},
   "source": [
    "Ранее создали столбец `price_one_m` - цена за один квадратный метр."
   ]
  },
  {
   "cell_type": "markdown",
   "metadata": {},
   "source": [
    "Последовательно создадим столбцы с указанием дня, месяца, года первой публикации."
   ]
  },
  {
   "cell_type": "code",
   "execution_count": 45,
   "metadata": {},
   "outputs": [],
   "source": [
    "data['first_day_week'] = data['first_day_exposition'].dt.weekday\n",
    "data['first_month'] = data['first_day_exposition'].dt.month\n",
    "data['first_year'] = data['first_day_exposition'].dt.year"
   ]
  },
  {
   "cell_type": "markdown",
   "metadata": {},
   "source": [
    "Определимся с типом этажа, нас будет интересовать группировка на первый, последний, другой."
   ]
  },
  {
   "cell_type": "code",
   "execution_count": 46,
   "metadata": {},
   "outputs": [],
   "source": [
    "def what_is_floor(floor, total_floor):\n",
    "    if floor == 1:\n",
    "        return 'первый'\n",
    "    elif floor == total_floor:\n",
    "        return 'последний'\n",
    "    else:\n",
    "        return 'другой'\n",
    "data['type_of_floor'] = data.apply(lambda x: what_is_floor(x['floor'], x['floors_total']), axis=1)"
   ]
  },
  {
   "cell_type": "markdown",
   "metadata": {},
   "source": [
    "Добавим в таблицу колонку `tocenter_in_km` - расстояние до центра в км."
   ]
  },
  {
   "cell_type": "code",
   "execution_count": 47,
   "metadata": {},
   "outputs": [],
   "source": [
    "data['tocenter_in_km'] = (data['cityCenters_nearest']/1000)"
   ]
  },
  {
   "cell_type": "code",
   "execution_count": 48,
   "metadata": {},
   "outputs": [
    {
     "data": {
      "text/html": [
       "<div>\n",
       "<style scoped>\n",
       "    .dataframe tbody tr th:only-of-type {\n",
       "        vertical-align: middle;\n",
       "    }\n",
       "\n",
       "    .dataframe tbody tr th {\n",
       "        vertical-align: top;\n",
       "    }\n",
       "\n",
       "    .dataframe thead th {\n",
       "        text-align: right;\n",
       "    }\n",
       "</style>\n",
       "<table border=\"1\" class=\"dataframe\">\n",
       "  <thead>\n",
       "    <tr style=\"text-align: right;\">\n",
       "      <th></th>\n",
       "      <th>total_images</th>\n",
       "      <th>last_price</th>\n",
       "      <th>total_area</th>\n",
       "      <th>first_day_exposition</th>\n",
       "      <th>rooms</th>\n",
       "      <th>ceiling_height</th>\n",
       "      <th>floors_total</th>\n",
       "      <th>living_area</th>\n",
       "      <th>floor</th>\n",
       "      <th>is_apartment</th>\n",
       "      <th>...</th>\n",
       "      <th>ponds_around3000</th>\n",
       "      <th>ponds_nearest</th>\n",
       "      <th>days_exposition</th>\n",
       "      <th>price_one_m</th>\n",
       "      <th>status</th>\n",
       "      <th>first_day_week</th>\n",
       "      <th>first_month</th>\n",
       "      <th>first_year</th>\n",
       "      <th>type_of_floor</th>\n",
       "      <th>tocenter_in_km</th>\n",
       "    </tr>\n",
       "  </thead>\n",
       "  <tbody>\n",
       "    <tr>\n",
       "      <th>0</th>\n",
       "      <td>20</td>\n",
       "      <td>13000000</td>\n",
       "      <td>108.0</td>\n",
       "      <td>2019-03-07</td>\n",
       "      <td>3</td>\n",
       "      <td>2.70</td>\n",
       "      <td>16</td>\n",
       "      <td>51.00</td>\n",
       "      <td>8</td>\n",
       "      <td>False</td>\n",
       "      <td>...</td>\n",
       "      <td>2</td>\n",
       "      <td>755.0</td>\n",
       "      <td>55555555</td>\n",
       "      <td>120370</td>\n",
       "      <td>бизнес</td>\n",
       "      <td>3</td>\n",
       "      <td>3</td>\n",
       "      <td>2019</td>\n",
       "      <td>другой</td>\n",
       "      <td>16.028</td>\n",
       "    </tr>\n",
       "    <tr>\n",
       "      <th>1</th>\n",
       "      <td>7</td>\n",
       "      <td>3350000</td>\n",
       "      <td>40.4</td>\n",
       "      <td>2018-12-04</td>\n",
       "      <td>1</td>\n",
       "      <td>2.65</td>\n",
       "      <td>11</td>\n",
       "      <td>18.60</td>\n",
       "      <td>1</td>\n",
       "      <td>False</td>\n",
       "      <td>...</td>\n",
       "      <td>0</td>\n",
       "      <td>NaN</td>\n",
       "      <td>81</td>\n",
       "      <td>82920</td>\n",
       "      <td>эконом</td>\n",
       "      <td>1</td>\n",
       "      <td>12</td>\n",
       "      <td>2018</td>\n",
       "      <td>первый</td>\n",
       "      <td>18.603</td>\n",
       "    </tr>\n",
       "    <tr>\n",
       "      <th>2</th>\n",
       "      <td>10</td>\n",
       "      <td>5196000</td>\n",
       "      <td>56.0</td>\n",
       "      <td>2015-08-20</td>\n",
       "      <td>2</td>\n",
       "      <td>2.65</td>\n",
       "      <td>5</td>\n",
       "      <td>34.30</td>\n",
       "      <td>4</td>\n",
       "      <td>False</td>\n",
       "      <td>...</td>\n",
       "      <td>2</td>\n",
       "      <td>574.0</td>\n",
       "      <td>558</td>\n",
       "      <td>92785</td>\n",
       "      <td>эконом</td>\n",
       "      <td>3</td>\n",
       "      <td>8</td>\n",
       "      <td>2015</td>\n",
       "      <td>другой</td>\n",
       "      <td>13.933</td>\n",
       "    </tr>\n",
       "    <tr>\n",
       "      <th>3</th>\n",
       "      <td>0</td>\n",
       "      <td>64900000</td>\n",
       "      <td>159.0</td>\n",
       "      <td>2015-07-24</td>\n",
       "      <td>3</td>\n",
       "      <td>3.16</td>\n",
       "      <td>14</td>\n",
       "      <td>90.34</td>\n",
       "      <td>9</td>\n",
       "      <td>False</td>\n",
       "      <td>...</td>\n",
       "      <td>3</td>\n",
       "      <td>234.0</td>\n",
       "      <td>424</td>\n",
       "      <td>408176</td>\n",
       "      <td>элита</td>\n",
       "      <td>4</td>\n",
       "      <td>7</td>\n",
       "      <td>2015</td>\n",
       "      <td>другой</td>\n",
       "      <td>6.800</td>\n",
       "    </tr>\n",
       "    <tr>\n",
       "      <th>4</th>\n",
       "      <td>2</td>\n",
       "      <td>10000000</td>\n",
       "      <td>100.0</td>\n",
       "      <td>2018-06-19</td>\n",
       "      <td>2</td>\n",
       "      <td>3.03</td>\n",
       "      <td>14</td>\n",
       "      <td>32.00</td>\n",
       "      <td>13</td>\n",
       "      <td>False</td>\n",
       "      <td>...</td>\n",
       "      <td>1</td>\n",
       "      <td>48.0</td>\n",
       "      <td>121</td>\n",
       "      <td>100000</td>\n",
       "      <td>эконом</td>\n",
       "      <td>1</td>\n",
       "      <td>6</td>\n",
       "      <td>2018</td>\n",
       "      <td>другой</td>\n",
       "      <td>8.098</td>\n",
       "    </tr>\n",
       "  </tbody>\n",
       "</table>\n",
       "<p>5 rows × 29 columns</p>\n",
       "</div>"
      ],
      "text/plain": [
       "   total_images  last_price  total_area first_day_exposition  rooms  \\\n",
       "0            20    13000000       108.0           2019-03-07      3   \n",
       "1             7     3350000        40.4           2018-12-04      1   \n",
       "2            10     5196000        56.0           2015-08-20      2   \n",
       "3             0    64900000       159.0           2015-07-24      3   \n",
       "4             2    10000000       100.0           2018-06-19      2   \n",
       "\n",
       "   ceiling_height  floors_total  living_area  floor  is_apartment  ...  \\\n",
       "0            2.70            16        51.00      8         False  ...   \n",
       "1            2.65            11        18.60      1         False  ...   \n",
       "2            2.65             5        34.30      4         False  ...   \n",
       "3            3.16            14        90.34      9         False  ...   \n",
       "4            3.03            14        32.00     13         False  ...   \n",
       "\n",
       "   ponds_around3000  ponds_nearest  days_exposition  price_one_m  status  \\\n",
       "0                 2          755.0         55555555       120370  бизнес   \n",
       "1                 0            NaN               81        82920  эконом   \n",
       "2                 2          574.0              558        92785  эконом   \n",
       "3                 3          234.0              424       408176   элита   \n",
       "4                 1           48.0              121       100000  эконом   \n",
       "\n",
       "   first_day_week  first_month  first_year  type_of_floor  tocenter_in_km  \n",
       "0               3            3        2019         другой          16.028  \n",
       "1               1           12        2018         первый          18.603  \n",
       "2               3            8        2015         другой          13.933  \n",
       "3               4            7        2015         другой           6.800  \n",
       "4               1            6        2018         другой           8.098  \n",
       "\n",
       "[5 rows x 29 columns]"
      ]
     },
     "execution_count": 48,
     "metadata": {},
     "output_type": "execute_result"
    }
   ],
   "source": [
    "data.head(5)"
   ]
  },
  {
   "cell_type": "markdown",
   "metadata": {},
   "source": [
    "<div class=\"alert alert-success\">\n",
    "<h2> Комментарий ревьюера <a class=\"tocSkip\"> </h2>\n",
    "\n",
    "<b>Все супер!👍:</b> Столбцы добавлены верно, молодец"
   ]
  },
  {
   "cell_type": "markdown",
   "metadata": {},
   "source": [
    "### Проведите исследовательский анализ данных"
   ]
  },
  {
   "cell_type": "markdown",
   "metadata": {},
   "source": [
    "<div style=\"background: #B0E0E6; padding: 5px; border: 1px solid SteelBlue; border-radius: 5px;\">\n",
    "    <font color='4682B4'></font>\n",
    "    <br />\n",
    "    <font color='4682B4'>В задании говорится о квартирах, заведем новый датафрем без апартаментов.</font>\n",
    "</div>"
   ]
  },
  {
   "cell_type": "markdown",
   "metadata": {},
   "source": [
    "<div class=\"alert alert-success\">\n",
    "<h2> Комментарий ревьюера <a class=\"tocSkip\"> </h2>\n",
    "\n",
    "<b>Все супер!👍:</b> Это ты ловко подметила, давай)"
   ]
  },
  {
   "cell_type": "code",
   "execution_count": 49,
   "metadata": {},
   "outputs": [
    {
     "data": {
      "text/html": [
       "<div>\n",
       "<style scoped>\n",
       "    .dataframe tbody tr th:only-of-type {\n",
       "        vertical-align: middle;\n",
       "    }\n",
       "\n",
       "    .dataframe tbody tr th {\n",
       "        vertical-align: top;\n",
       "    }\n",
       "\n",
       "    .dataframe thead th {\n",
       "        text-align: right;\n",
       "    }\n",
       "</style>\n",
       "<table border=\"1\" class=\"dataframe\">\n",
       "  <thead>\n",
       "    <tr style=\"text-align: right;\">\n",
       "      <th></th>\n",
       "      <th>total_images</th>\n",
       "      <th>last_price</th>\n",
       "      <th>total_area</th>\n",
       "      <th>first_day_exposition</th>\n",
       "      <th>rooms</th>\n",
       "      <th>ceiling_height</th>\n",
       "      <th>floors_total</th>\n",
       "      <th>living_area</th>\n",
       "      <th>floor</th>\n",
       "      <th>is_apartment</th>\n",
       "      <th>...</th>\n",
       "      <th>ponds_around3000</th>\n",
       "      <th>ponds_nearest</th>\n",
       "      <th>days_exposition</th>\n",
       "      <th>price_one_m</th>\n",
       "      <th>status</th>\n",
       "      <th>first_day_week</th>\n",
       "      <th>first_month</th>\n",
       "      <th>first_year</th>\n",
       "      <th>type_of_floor</th>\n",
       "      <th>tocenter_in_km</th>\n",
       "    </tr>\n",
       "  </thead>\n",
       "  <tbody>\n",
       "    <tr>\n",
       "      <th>0</th>\n",
       "      <td>20</td>\n",
       "      <td>13000000</td>\n",
       "      <td>108.0</td>\n",
       "      <td>2019-03-07</td>\n",
       "      <td>3</td>\n",
       "      <td>2.70</td>\n",
       "      <td>16</td>\n",
       "      <td>51.00</td>\n",
       "      <td>8</td>\n",
       "      <td>False</td>\n",
       "      <td>...</td>\n",
       "      <td>2</td>\n",
       "      <td>755.0</td>\n",
       "      <td>55555555</td>\n",
       "      <td>120370</td>\n",
       "      <td>бизнес</td>\n",
       "      <td>3</td>\n",
       "      <td>3</td>\n",
       "      <td>2019</td>\n",
       "      <td>другой</td>\n",
       "      <td>16.028</td>\n",
       "    </tr>\n",
       "    <tr>\n",
       "      <th>1</th>\n",
       "      <td>7</td>\n",
       "      <td>3350000</td>\n",
       "      <td>40.4</td>\n",
       "      <td>2018-12-04</td>\n",
       "      <td>1</td>\n",
       "      <td>2.65</td>\n",
       "      <td>11</td>\n",
       "      <td>18.60</td>\n",
       "      <td>1</td>\n",
       "      <td>False</td>\n",
       "      <td>...</td>\n",
       "      <td>0</td>\n",
       "      <td>NaN</td>\n",
       "      <td>81</td>\n",
       "      <td>82920</td>\n",
       "      <td>эконом</td>\n",
       "      <td>1</td>\n",
       "      <td>12</td>\n",
       "      <td>2018</td>\n",
       "      <td>первый</td>\n",
       "      <td>18.603</td>\n",
       "    </tr>\n",
       "    <tr>\n",
       "      <th>2</th>\n",
       "      <td>10</td>\n",
       "      <td>5196000</td>\n",
       "      <td>56.0</td>\n",
       "      <td>2015-08-20</td>\n",
       "      <td>2</td>\n",
       "      <td>2.65</td>\n",
       "      <td>5</td>\n",
       "      <td>34.30</td>\n",
       "      <td>4</td>\n",
       "      <td>False</td>\n",
       "      <td>...</td>\n",
       "      <td>2</td>\n",
       "      <td>574.0</td>\n",
       "      <td>558</td>\n",
       "      <td>92785</td>\n",
       "      <td>эконом</td>\n",
       "      <td>3</td>\n",
       "      <td>8</td>\n",
       "      <td>2015</td>\n",
       "      <td>другой</td>\n",
       "      <td>13.933</td>\n",
       "    </tr>\n",
       "    <tr>\n",
       "      <th>3</th>\n",
       "      <td>0</td>\n",
       "      <td>64900000</td>\n",
       "      <td>159.0</td>\n",
       "      <td>2015-07-24</td>\n",
       "      <td>3</td>\n",
       "      <td>3.16</td>\n",
       "      <td>14</td>\n",
       "      <td>90.34</td>\n",
       "      <td>9</td>\n",
       "      <td>False</td>\n",
       "      <td>...</td>\n",
       "      <td>3</td>\n",
       "      <td>234.0</td>\n",
       "      <td>424</td>\n",
       "      <td>408176</td>\n",
       "      <td>элита</td>\n",
       "      <td>4</td>\n",
       "      <td>7</td>\n",
       "      <td>2015</td>\n",
       "      <td>другой</td>\n",
       "      <td>6.800</td>\n",
       "    </tr>\n",
       "    <tr>\n",
       "      <th>4</th>\n",
       "      <td>2</td>\n",
       "      <td>10000000</td>\n",
       "      <td>100.0</td>\n",
       "      <td>2018-06-19</td>\n",
       "      <td>2</td>\n",
       "      <td>3.03</td>\n",
       "      <td>14</td>\n",
       "      <td>32.00</td>\n",
       "      <td>13</td>\n",
       "      <td>False</td>\n",
       "      <td>...</td>\n",
       "      <td>1</td>\n",
       "      <td>48.0</td>\n",
       "      <td>121</td>\n",
       "      <td>100000</td>\n",
       "      <td>эконом</td>\n",
       "      <td>1</td>\n",
       "      <td>6</td>\n",
       "      <td>2018</td>\n",
       "      <td>другой</td>\n",
       "      <td>8.098</td>\n",
       "    </tr>\n",
       "  </tbody>\n",
       "</table>\n",
       "<p>5 rows × 29 columns</p>\n",
       "</div>"
      ],
      "text/plain": [
       "   total_images  last_price  total_area first_day_exposition  rooms  \\\n",
       "0            20    13000000       108.0           2019-03-07      3   \n",
       "1             7     3350000        40.4           2018-12-04      1   \n",
       "2            10     5196000        56.0           2015-08-20      2   \n",
       "3             0    64900000       159.0           2015-07-24      3   \n",
       "4             2    10000000       100.0           2018-06-19      2   \n",
       "\n",
       "   ceiling_height  floors_total  living_area  floor  is_apartment  ...  \\\n",
       "0            2.70            16        51.00      8         False  ...   \n",
       "1            2.65            11        18.60      1         False  ...   \n",
       "2            2.65             5        34.30      4         False  ...   \n",
       "3            3.16            14        90.34      9         False  ...   \n",
       "4            3.03            14        32.00     13         False  ...   \n",
       "\n",
       "   ponds_around3000  ponds_nearest  days_exposition  price_one_m  status  \\\n",
       "0                 2          755.0         55555555       120370  бизнес   \n",
       "1                 0            NaN               81        82920  эконом   \n",
       "2                 2          574.0              558        92785  эконом   \n",
       "3                 3          234.0              424       408176   элита   \n",
       "4                 1           48.0              121       100000  эконом   \n",
       "\n",
       "   first_day_week  first_month  first_year  type_of_floor  tocenter_in_km  \n",
       "0               3            3        2019         другой          16.028  \n",
       "1               1           12        2018         первый          18.603  \n",
       "2               3            8        2015         другой          13.933  \n",
       "3               4            7        2015         другой           6.800  \n",
       "4               1            6        2018         другой           8.098  \n",
       "\n",
       "[5 rows x 29 columns]"
      ]
     },
     "execution_count": 49,
     "metadata": {},
     "output_type": "execute_result"
    }
   ],
   "source": [
    "data_new =  data[data['is_apartment'] == False]\n",
    "data_new.head(5)"
   ]
  },
  {
   "cell_type": "markdown",
   "metadata": {},
   "source": [
    "#### Площади"
   ]
  },
  {
   "cell_type": "markdown",
   "metadata": {},
   "source": [
    "Как видим, средняя общая площадь составляет 60 м2, минимальное и максимальное значения соответственно 12 и 900. Для жилой площади характерно среднее около 34 кв.м., для площади кухни 10 кв.м. Построим диаграммы размаха и гистограммы для лучшей демонстрации. "
   ]
  },
  {
   "cell_type": "code",
   "execution_count": 50,
   "metadata": {},
   "outputs": [
    {
     "data": {
      "text/html": [
       "<div>\n",
       "<style scoped>\n",
       "    .dataframe tbody tr th:only-of-type {\n",
       "        vertical-align: middle;\n",
       "    }\n",
       "\n",
       "    .dataframe tbody tr th {\n",
       "        vertical-align: top;\n",
       "    }\n",
       "\n",
       "    .dataframe thead th {\n",
       "        text-align: right;\n",
       "    }\n",
       "</style>\n",
       "<table border=\"1\" class=\"dataframe\">\n",
       "  <thead>\n",
       "    <tr style=\"text-align: right;\">\n",
       "      <th></th>\n",
       "      <th>total_area</th>\n",
       "      <th>living_area</th>\n",
       "      <th>kitchen_area</th>\n",
       "    </tr>\n",
       "  </thead>\n",
       "  <tbody>\n",
       "    <tr>\n",
       "      <th>count</th>\n",
       "      <td>23504.000000</td>\n",
       "      <td>23504.000000</td>\n",
       "      <td>23504.000000</td>\n",
       "    </tr>\n",
       "    <tr>\n",
       "      <th>mean</th>\n",
       "      <td>60.088328</td>\n",
       "      <td>34.423142</td>\n",
       "      <td>10.425396</td>\n",
       "    </tr>\n",
       "    <tr>\n",
       "      <th>std</th>\n",
       "      <td>33.968761</td>\n",
       "      <td>21.551464</td>\n",
       "      <td>5.923826</td>\n",
       "    </tr>\n",
       "    <tr>\n",
       "      <th>min</th>\n",
       "      <td>12.000000</td>\n",
       "      <td>2.000000</td>\n",
       "      <td>0.000000</td>\n",
       "    </tr>\n",
       "    <tr>\n",
       "      <th>25%</th>\n",
       "      <td>40.000000</td>\n",
       "      <td>19.000000</td>\n",
       "      <td>7.000000</td>\n",
       "    </tr>\n",
       "    <tr>\n",
       "      <th>50%</th>\n",
       "      <td>52.000000</td>\n",
       "      <td>30.000000</td>\n",
       "      <td>9.000000</td>\n",
       "    </tr>\n",
       "    <tr>\n",
       "      <th>75%</th>\n",
       "      <td>69.600000</td>\n",
       "      <td>42.012500</td>\n",
       "      <td>12.000000</td>\n",
       "    </tr>\n",
       "    <tr>\n",
       "      <th>max</th>\n",
       "      <td>495.000000</td>\n",
       "      <td>347.500000</td>\n",
       "      <td>107.000000</td>\n",
       "    </tr>\n",
       "  </tbody>\n",
       "</table>\n",
       "</div>"
      ],
      "text/plain": [
       "         total_area   living_area  kitchen_area\n",
       "count  23504.000000  23504.000000  23504.000000\n",
       "mean      60.088328     34.423142     10.425396\n",
       "std       33.968761     21.551464      5.923826\n",
       "min       12.000000      2.000000      0.000000\n",
       "25%       40.000000     19.000000      7.000000\n",
       "50%       52.000000     30.000000      9.000000\n",
       "75%       69.600000     42.012500     12.000000\n",
       "max      495.000000    347.500000    107.000000"
      ]
     },
     "execution_count": 50,
     "metadata": {},
     "output_type": "execute_result"
    }
   ],
   "source": [
    "area = pd.DataFrame()\n",
    "area['total_area'] = data_new['total_area'].describe()\n",
    "area['living_area'] = data_new['living_area'].describe()\n",
    "area['kitchen_area'] = data_new['kitchen_area'].describe()\n",
    "area"
   ]
  },
  {
   "cell_type": "code",
   "execution_count": 51,
   "metadata": {},
   "outputs": [
    {
     "data": {
      "image/png": "[encoded data removed]",
      "text/plain": [
       "<Figure size 360x360 with 1 Axes>"
      ]
     },
     "metadata": {
      "needs_background": "light"
     },
     "output_type": "display_data"
    }
   ],
   "source": [
    "data_new.boxplot(column=['total_area', 'living_area', 'kitchen_area'],figsize=(5,5)) \n",
    "plt.ylim(0,200)\n",
    "plt.show()"
   ]
  },
  {
   "cell_type": "code",
   "execution_count": 52,
   "metadata": {},
   "outputs": [
    {
     "data": {
      "image/png": "[encoded data removed]",
      "text/plain": [
       "<Figure size 216x216 with 1 Axes>"
      ]
     },
     "metadata": {
      "needs_background": "light"
     },
     "output_type": "display_data"
    },
    {
     "data": {
      "image/png": "[encoded data removed]",
      "text/plain": [
       "<Figure size 216x216 with 1 Axes>"
      ]
     },
     "metadata": {
      "needs_background": "light"
     },
     "output_type": "display_data"
    },
    {
     "data": {
      "image/png": "[encoded data removed]",
      "text/plain": [
       "<Figure size 216x216 with 1 Axes>"
      ]
     },
     "metadata": {
      "needs_background": "light"
     },
     "output_type": "display_data"
    }
   ],
   "source": [
    "for value in area.columns:\n",
    "    fig, ax = plt.subplots(figsize=(3, 3))\n",
    "    ax.set_title(f'Гистограмма распределения {value}')\n",
    "    ax.grid()\n",
    "    ax.set_xlim([0, 100])\n",
    "    plt.xlabel('площадь')\n",
    "    plt.ylabel('количество')\n",
    "    if value == 'kitchen_area':\n",
    "        ax.set_xlim([0, 50])\n",
    "        plt.hist(data_new[value], bins=50, color='purple', alpha = 0.7)\n",
    "    else:\n",
    "        plt.hist(data_new[value], bins=100, color='purple', alpha = 0.7)\n",
    "    plt.show()"
   ]
  },
  {
   "cell_type": "markdown",
   "metadata": {},
   "source": [
    "**Вывод**: диаграмма размаха и гистограммы показали, что с увеличением любой площади, количество недвижимости становится всё меньше. Большинство общих площадей квартир находятся в промежутке от 20 до 100, для жилой площади от 20 до 40, кухни в промежутке от 7 до 12."
   ]
  },
  {
   "cell_type": "markdown",
   "metadata": {},
   "source": [
    "#### Цена объекта"
   ]
  },
  {
   "cell_type": "code",
   "execution_count": 53,
   "metadata": {},
   "outputs": [
    {
     "data": {
      "text/plain": [
       "count    2.350400e+04\n",
       "mean     6.465490e+06\n",
       "std      1.015080e+07\n",
       "min      4.300000e+05\n",
       "25%      3.400000e+06\n",
       "50%      4.620000e+06\n",
       "75%      6.750000e+06\n",
       "max      7.630000e+08\n",
       "Name: last_price, dtype: float64"
      ]
     },
     "execution_count": 53,
     "metadata": {},
     "output_type": "execute_result"
    }
   ],
   "source": [
    "data_new['last_price'].describe()"
   ]
  },
  {
   "cell_type": "code",
   "execution_count": 54,
   "metadata": {},
   "outputs": [
    {
     "data": {
      "image/png": "[encoded data removed]",
      "text/plain": [
       "<Figure size 288x288 with 1 Axes>"
      ]
     },
     "metadata": {
      "needs_background": "light"
     },
     "output_type": "display_data"
    },
    {
     "data": {
      "image/png": "[encoded data removed]",
      "text/plain": [
       "<Figure size 288x288 with 1 Axes>"
      ]
     },
     "metadata": {
      "needs_background": "light"
     },
     "output_type": "display_data"
    }
   ],
   "source": [
    "data_new.boxplot(column=['last_price'], figsize = (4,4)) \n",
    "plt.ylim(400000,100000000)\n",
    "plt.show()\n",
    "fig, ax = plt.subplots(figsize=(4, 4))\n",
    "ax.set_title('Гистограмма распределения цены')\n",
    "ax.grid()\n",
    "plt.hist(data_new['last_price'], bins=1000, color='purple', alpha = 0.7)\n",
    "ax.set_xlim([400000, 20000000])\n",
    "plt.xlabel('цена')\n",
    "plt.ylabel('количество')\n",
    "plt.show()"
   ]
  },
  {
   "cell_type": "markdown",
   "metadata": {},
   "source": [
    "**Вывод**: гистограмма демонстрирует нормальное распределение цены недвижимости. Смущает один момент, средняя цена составляет 6.5 млн, когда медианное значение 4.6. Возможно такой разброс из-за аномальных значений цены, в выборке есть значение 763 млн! Возможно, в дальнейшем следует исключить слишком большие цены из рассмотрения."
   ]
  },
  {
   "cell_type": "markdown",
   "metadata": {},
   "source": [
    "#### Количество комнат"
   ]
  },
  {
   "cell_type": "code",
   "execution_count": 55,
   "metadata": {},
   "outputs": [
    {
     "data": {
      "text/plain": [
       "count    23504.000000\n",
       "mean         2.068627\n",
       "std          1.070988\n",
       "min          0.000000\n",
       "25%          1.000000\n",
       "50%          2.000000\n",
       "75%          3.000000\n",
       "max         19.000000\n",
       "Name: rooms, dtype: float64"
      ]
     },
     "execution_count": 55,
     "metadata": {},
     "output_type": "execute_result"
    }
   ],
   "source": [
    "data_new['rooms'].describe()"
   ]
  },
  {
   "cell_type": "code",
   "execution_count": 56,
   "metadata": {},
   "outputs": [
    {
     "data": {
      "image/png": "[encoded data removed]",
      "text/plain": [
       "<Figure size 288x288 with 1 Axes>"
      ]
     },
     "metadata": {
      "needs_background": "light"
     },
     "output_type": "display_data"
    },
    {
     "data": {
      "image/png": "[encoded data removed]",
      "text/plain": [
       "<Figure size 288x288 with 1 Axes>"
      ]
     },
     "metadata": {
      "needs_background": "light"
     },
     "output_type": "display_data"
    }
   ],
   "source": [
    "data_new.boxplot('rooms', figsize = (4,4))\n",
    "plt.show()\n",
    "fig, ax = plt.subplots(figsize=(4, 4))\n",
    "ax.set_title('Гистограмма распределения комнат')\n",
    "ax.grid()\n",
    "plt.hist(data_new['rooms'], bins=10, color='purple', alpha = 0.7, range =(0,10))\n",
    "plt.xlabel('количество комнат')\n",
    "plt.ylabel('количество')\n",
    "plt.show()"
   ]
  },
  {
   "cell_type": "code",
   "execution_count": 57,
   "metadata": {},
   "outputs": [
    {
     "data": {
      "text/plain": [
       "<AxesSubplot:ylabel='rooms'>"
      ]
     },
     "execution_count": 57,
     "metadata": {},
     "output_type": "execute_result"
    },
    {
     "data": {
      "image/png": "[encoded data removed]",
      "text/plain": [
       "<Figure size 288x288 with 1 Axes>"
      ]
     },
     "metadata": {},
     "output_type": "display_data"
    }
   ],
   "source": [
    "colors = ['pink', 'silver', 'steelblue','plum','magenta','purple']\n",
    "room_group = data_new.groupby('rooms')['rooms'].count()\n",
    "room_group\n",
    "S=0\n",
    "for value in room_group[5:]:\n",
    "    S+=value\n",
    "room_group[5] = S\n",
    "room_group = room_group[0:6]\n",
    "room_group.index = ['0','1','2','3','4','более']\n",
    "room_group.plot.pie(y='rooms', figsize=(4, 4),autopct='%1.0f%%', colors = colors)"
   ]
  },
  {
   "cell_type": "markdown",
   "metadata": {},
   "source": [
    "**Вывод**: как видим, количество однокомнатных и двухкомнатных примерно одинаковое и равно 8 тысяч, таких квартир большинство, трехкомнатных квартир чуть меньше 6 тысяч. Наблюдается отрицательная динамика: чем больше комнат, тем реже значения."
   ]
  },
  {
   "cell_type": "markdown",
   "metadata": {},
   "source": [
    "#### Высота потолков"
   ]
  },
  {
   "cell_type": "code",
   "execution_count": 58,
   "metadata": {},
   "outputs": [
    {
     "data": {
      "text/plain": [
       "count    23504.000000\n",
       "mean         2.722650\n",
       "std          0.281727\n",
       "min          2.000000\n",
       "25%          2.600000\n",
       "50%          2.650000\n",
       "75%          2.780000\n",
       "max         20.000000\n",
       "Name: ceiling_height, dtype: float64"
      ]
     },
     "execution_count": 58,
     "metadata": {},
     "output_type": "execute_result"
    }
   ],
   "source": [
    "data_new['ceiling_height'].describe()"
   ]
  },
  {
   "cell_type": "code",
   "execution_count": 59,
   "metadata": {},
   "outputs": [
    {
     "data": {
      "image/png": "[encoded data removed]",
      "text/plain": [
       "<Figure size 288x288 with 1 Axes>"
      ]
     },
     "metadata": {
      "needs_background": "light"
     },
     "output_type": "display_data"
    },
    {
     "data": {
      "image/png": "[encoded data removed]",
      "text/plain": [
       "<Figure size 288x288 with 1 Axes>"
      ]
     },
     "metadata": {
      "needs_background": "light"
     },
     "output_type": "display_data"
    }
   ],
   "source": [
    "data_new.boxplot('ceiling_height', figsize = (4,4))\n",
    "plt.ylim(2,10)\n",
    "fig, ax = plt.subplots(figsize=(4, 4))\n",
    "ax.set_title('Гистограмма распределения высоты потолков')\n",
    "ax.grid()\n",
    "plt.hist(data_new['ceiling_height'], bins=100, color='purple', alpha = 0.7)\n",
    "plt.xlim(2,4.5)\n",
    "plt.xlabel('высота_потолка')\n",
    "plt.ylabel('количество')\n",
    "plt.show()"
   ]
  },
  {
   "cell_type": "markdown",
   "metadata": {},
   "source": [
    "**Вывод**: квартиры с потолками примерно 2.6 - 2.7 м. лидируют. Предсказуемо, раннее разбирались с потолками детальнее. "
   ]
  },
  {
   "cell_type": "markdown",
   "metadata": {},
   "source": [
    "#### Этажи"
   ]
  },
  {
   "cell_type": "markdown",
   "metadata": {},
   "source": [
    "<div style=\"background: #B0E0E6; padding: 5px; border: 1px solid SteelBlue; border-radius: 5px;\">\n",
    "    <font color='4682B4'></font>\n",
    "    <br />\n",
    "    <font color='4682B4'>Исследуем распределение этажа недвижимости.</font>\n",
    "</div>"
   ]
  },
  {
   "cell_type": "code",
   "execution_count": 60,
   "metadata": {},
   "outputs": [
    {
     "data": {
      "text/plain": [
       "count    23504.000000\n",
       "mean         5.880786\n",
       "std          4.872200\n",
       "min          1.000000\n",
       "25%          2.000000\n",
       "50%          4.000000\n",
       "75%          8.000000\n",
       "max         33.000000\n",
       "Name: floor, dtype: float64"
      ]
     },
     "execution_count": 60,
     "metadata": {},
     "output_type": "execute_result"
    }
   ],
   "source": [
    "data_new['floor'].describe()"
   ]
  },
  {
   "cell_type": "code",
   "execution_count": 61,
   "metadata": {},
   "outputs": [
    {
     "data": {
      "image/png": "[encoded data removed]",
      "text/plain": [
       "<Figure size 288x288 with 1 Axes>"
      ]
     },
     "metadata": {
      "needs_background": "light"
     },
     "output_type": "display_data"
    },
    {
     "data": {
      "image/png": "[encoded data removed]",
      "text/plain": [
       "<Figure size 288x288 with 1 Axes>"
      ]
     },
     "metadata": {
      "needs_background": "light"
     },
     "output_type": "display_data"
    }
   ],
   "source": [
    "data_new.boxplot('floor', figsize = (4,4))\n",
    "plt.ylim(0,40)\n",
    "fig, ax = plt.subplots(figsize=(4, 4))\n",
    "ax.set_title('Гистограмма распределения этажа квартиры')\n",
    "ax.grid()\n",
    "plt.hist(data_new['floor'], bins=30, color='purple', alpha = 0.7)\n",
    "plt.xlim(0,35)\n",
    "plt.xlabel('этаж')\n",
    "plt.ylabel('количество')\n",
    "plt.show()"
   ]
  },
  {
   "cell_type": "markdown",
   "metadata": {},
   "source": [
    "**Вывод**: преобладают нижние этажи, так среднее значение почти 6, а медианное 4. "
   ]
  },
  {
   "cell_type": "markdown",
   "metadata": {},
   "source": [
    "<div style=\"background: #B0E0E6; padding: 5px; border: 1px solid SteelBlue; border-radius: 5px;\">\n",
    "    <font color='4682B4'></font>\n",
    "    <br />\n",
    "    <font color='4682B4'>Исследуем тип этажа квартиры.</font>\n",
    "</div>"
   ]
  },
  {
   "cell_type": "code",
   "execution_count": 62,
   "metadata": {},
   "outputs": [
    {
     "data": {
      "text/plain": [
       "<AxesSubplot:ylabel='type_of_floor'>"
      ]
     },
     "execution_count": 62,
     "metadata": {},
     "output_type": "execute_result"
    },
    {
     "data": {
      "image/png": "[encoded data removed]",
      "text/plain": [
       "<Figure size 288x288 with 1 Axes>"
      ]
     },
     "metadata": {},
     "output_type": "display_data"
    }
   ],
   "source": [
    "colors = ['plum','pink', 'silver']\n",
    "data_new.groupby('type_of_floor')['type_of_floor'].count().plot\\\n",
    ".pie(y='rooms', figsize=(4, 4),autopct='%1.0f%%', colors = colors)"
   ]
  },
  {
   "cell_type": "markdown",
   "metadata": {},
   "source": [
    "**Вывод**: не первые/не последние этажи составляют большую часть данных."
   ]
  },
  {
   "cell_type": "markdown",
   "metadata": {},
   "source": [
    "<div style=\"background: #B0E0E6; padding: 5px; border: 1px solid SteelBlue; border-radius: 5px;\">\n",
    "    <font color='4682B4'></font>\n",
    "    <br />\n",
    "    <font color='4682B4'>Исследуем этажность домов.</font>\n",
    "</div>"
   ]
  },
  {
   "cell_type": "code",
   "execution_count": 63,
   "metadata": {},
   "outputs": [
    {
     "data": {
      "text/plain": [
       "count    23504.000000\n",
       "mean        10.683969\n",
       "std          6.593033\n",
       "min          1.000000\n",
       "25%          5.000000\n",
       "50%          9.000000\n",
       "75%         16.000000\n",
       "max         60.000000\n",
       "Name: floors_total, dtype: float64"
      ]
     },
     "execution_count": 63,
     "metadata": {},
     "output_type": "execute_result"
    }
   ],
   "source": [
    "data_new['floors_total'].describe()"
   ]
  },
  {
   "cell_type": "code",
   "execution_count": 64,
   "metadata": {},
   "outputs": [
    {
     "data": {
      "image/png": "[encoded data removed]",
      "text/plain": [
       "<Figure size 288x288 with 1 Axes>"
      ]
     },
     "metadata": {
      "needs_background": "light"
     },
     "output_type": "display_data"
    }
   ],
   "source": [
    "fig, ax = plt.subplots(figsize=(4, 4))\n",
    "ax.set_title('Гистограмма распределения этажности домов')\n",
    "ax.grid()\n",
    "plt.hist(data_new['floors_total'], bins=30, color='purple', alpha = 0.7)\n",
    "plt.xlim(0,35)\n",
    "plt.xlabel('этаж')\n",
    "plt.ylabel('количество')\n",
    "plt.show()"
   ]
  },
  {
   "cell_type": "markdown",
   "metadata": {},
   "source": [
    "**Вывод**: как видим, среднее составляет 10 этажей, а медиана 9, почти близко)"
   ]
  },
  {
   "cell_type": "markdown",
   "metadata": {},
   "source": [
    "#### День и месяц продажи"
   ]
  },
  {
   "cell_type": "code",
   "execution_count": 65,
   "metadata": {},
   "outputs": [
    {
     "data": {
      "image/png": "[encoded data removed]",
      "text/plain": [
       "<Figure size 288x288 with 1 Axes>"
      ]
     },
     "metadata": {
      "needs_background": "light"
     },
     "output_type": "display_data"
    }
   ],
   "source": [
    "fig, ax = plt.subplots(figsize=(4, 4))\n",
    "ax.grid()\n",
    "ax.set_title('Дни публикаций')\n",
    "plt.hist(data_new['first_day_week'], bins=20, color='purple', alpha = 0.7)\n",
    "plt.xlim(0,6)\n",
    "plt.xlabel('день')\n",
    "plt.ylabel('количество')\n",
    "plt.show()"
   ]
  },
  {
   "cell_type": "code",
   "execution_count": 66,
   "metadata": {},
   "outputs": [
    {
     "data": {
      "image/png": "[encoded data removed]",
      "text/plain": [
       "<Figure size 288x288 with 1 Axes>"
      ]
     },
     "metadata": {
      "needs_background": "light"
     },
     "output_type": "display_data"
    }
   ],
   "source": [
    "fig, ax = plt.subplots(figsize=(4, 4))\n",
    "ax.grid()\n",
    "ax.set_title('Месяц публикаций')\n",
    "plt.hist(data_new['first_month'], bins=20, color='purple', alpha = 0.7)\n",
    "plt.xlim(1,12)\n",
    "plt.xlabel('месяц')\n",
    "plt.ylabel('количество')\n",
    "plt.show()"
   ]
  },
  {
   "cell_type": "code",
   "execution_count": 67,
   "metadata": {},
   "outputs": [
    {
     "data": {
      "text/plain": [
       "first_month\n",
       "1     1482\n",
       "2     2631\n",
       "3     2569\n",
       "4     2349\n",
       "5     1259\n",
       "6     1745\n",
       "7     1677\n",
       "8     1735\n",
       "9     1971\n",
       "10    2099\n",
       "11    2357\n",
       "12    1630\n",
       "Name: first_month, dtype: int64"
      ]
     },
     "execution_count": 67,
     "metadata": {},
     "output_type": "execute_result"
    }
   ],
   "source": [
    "data_new.groupby('first_month')['first_month'].count()"
   ]
  },
  {
   "cell_type": "markdown",
   "metadata": {},
   "source": [
    "**Вывод**: заметим, что больше всех объявлений давалось во вторник и четверг, т.е. среди недели. Довольно предсказуемо, ведь на выходных хочется отдыхать=) Самыми \"публикационными\" месяцами оказались февраль и март. К концу года и к началу следующего значения примерно одинаковые, а вот к середине года наблюдается снижение количества публикаций. "
   ]
  },
  {
   "cell_type": "markdown",
   "metadata": {},
   "source": [
    "<div class=\"alert alert-success\">\n",
    "<h2> Комментарий ревьюера <a class=\"tocSkip\"> </h2>\n",
    "\n",
    "<b>Все супер!👍:</b> Отличные исследования параметров! Глубоко окунулись, не забыли про подписи для графиков, про важные численные значения, такие как среднее и медиана. Молодец! Еще можешь попробовать здесь поопределять типы распределний для интереса"
   ]
  },
  {
   "cell_type": "markdown",
   "metadata": {},
   "source": [
    "### Как быстро продавались квартиры (days_exposition)?"
   ]
  },
  {
   "cell_type": "markdown",
   "metadata": {},
   "source": [
    "Ранее я отмечала, что пропуски в `days_exposition` будет некорректно заполнять чем-то имеющим смысл. Так было принято решение заполнить их каким-то очень большим числом (55555555), чтобы в этом исследовании корректно интерпретировать результат. Возможно, эти пропуски означают, что объявление еще не снять с публикации."
   ]
  },
  {
   "cell_type": "code",
   "execution_count": 68,
   "metadata": {},
   "outputs": [
    {
     "data": {
      "text/plain": [
       "count    20348.000000\n",
       "mean       180.621781\n",
       "std        219.313427\n",
       "min          1.000000\n",
       "25%         45.000000\n",
       "50%         95.000000\n",
       "75%        231.000000\n",
       "max       1580.000000\n",
       "Name: days_exposition, dtype: float64"
      ]
     },
     "execution_count": 68,
     "metadata": {},
     "output_type": "execute_result"
    }
   ],
   "source": [
    "data_day = data_new.query('days_exposition < 55555555')\n",
    "data_day['days_exposition'].describe()"
   ]
  },
  {
   "cell_type": "code",
   "execution_count": 69,
   "metadata": {},
   "outputs": [
    {
     "data": {
      "text/plain": [
       "<AxesSubplot:>"
      ]
     },
     "execution_count": 69,
     "metadata": {},
     "output_type": "execute_result"
    },
    {
     "data": {
      "image/png": "[encoded data removed]",
      "text/plain": [
       "<Figure size 288x288 with 1 Axes>"
      ]
     },
     "metadata": {
      "needs_background": "light"
     },
     "output_type": "display_data"
    }
   ],
   "source": [
    "data_day.boxplot('days_exposition', figsize=(4,4))"
   ]
  },
  {
   "cell_type": "code",
   "execution_count": 70,
   "metadata": {},
   "outputs": [
    {
     "data": {
      "image/png": "[encoded data removed]",
      "text/plain": [
       "<Figure size 576x288 with 1 Axes>"
      ]
     },
     "metadata": {
      "needs_background": "light"
     },
     "output_type": "display_data"
    }
   ],
   "source": [
    "fig, ax = plt.subplots(figsize=(8, 4))\n",
    "ax.set_title('Гистограмма распределения количества дней продажи')\n",
    "ax.grid()\n",
    "plt.hist(data_day['days_exposition'], bins=500, color='purple', alpha = 0.7)\n",
    "plt.xlabel('дни')\n",
    "plt.ylabel('количество')\n",
    "plt.show()"
   ]
  },
  {
   "cell_type": "markdown",
   "metadata": {},
   "source": [
    "Проверим, как быстро продавались квартиры. Для этого посчитаем количество объектов в квартилях. "
   ]
  },
  {
   "cell_type": "code",
   "execution_count": 71,
   "metadata": {},
   "outputs": [
    {
     "name": "stdout",
     "output_type": "stream",
     "text": [
      "Количество квартир, проданных за первые 1.5 месяца:  5933\n",
      "Количество квартир, проданных за первые 3 месяца:  10192\n",
      "Количество квартир, проданных за первые 7.5 месяца:  15267\n",
      "Количество квартир, проданных за первые 1.5 года:  18895\n"
     ]
    }
   ],
   "source": [
    "print('Количество квартир, проданных за первые 1.5 месяца: ', data_day[data_day['days_exposition'] <= 45].shape[0])\n",
    "print('Количество квартир, проданных за первые 3 месяца: ', data_day[data_day['days_exposition'] <= 95].shape[0])\n",
    "print('Количество квартир, проданных за первые 7.5 месяца: ', data_day[data_day['days_exposition'] <= 231].shape[0])\n",
    "print('Количество квартир, проданных за первые 1.5 года: ', data_day[data_day['days_exposition'] <= 550].shape[0])"
   ]
  },
  {
   "cell_type": "markdown",
   "metadata": {},
   "source": [
    "**Вывод**: медианное значение продажи квартир составляет 95 дней ~ 3 месяца, тогда как среднее 180 дней ~ полгода.  Скорее всего такой разброс возникает из-за большого количества объявлений, которые висят больше 400 дней. \n",
    "\n",
    "За первые 1.5 месяца продалось почти 6 тысяч квартир, в следующие 1.5 месяца чуть меньше- 4 тысячи, в следующие 4.5 месяца 5 тысяч. В итоге за примерно 1.5 года было продано почти 19 тысяч. \n",
    "Проанализировав диаграмму размаха можно сказать, что 500 с лишним дней ~ 1.5 года (судим по краям усов) - это срок, в который квартира с большой вероятностью продастся. \n",
    "\n",
    "С другой стороны, наблюдаем отрицательную динамику продаж, то есть с каждым месяцем количество продаж становится все меньше. \n",
    "\n",
    "На мой взгляд, продажу в первые 1.5 месяца можно считать \"быстрой\", а вот более 1.5 года \"необычайно медленной\". \n",
    "\n",
    "Хотелось бы обратить внимание на пики, которые возникают в самом начале и как будто бы с определенным периодом. Проверим..."
   ]
  },
  {
   "cell_type": "code",
   "execution_count": 72,
   "metadata": {},
   "outputs": [
    {
     "data": {
      "image/png": "[encoded data removed]",
      "text/plain": [
       "<Figure size 576x288 with 1 Axes>"
      ]
     },
     "metadata": {
      "needs_background": "light"
     },
     "output_type": "display_data"
    }
   ],
   "source": [
    "fig, ax = plt.subplots(figsize=(8, 4))\n",
    "ax.set_title('Гистограмма распределения количества дней на сайте')\n",
    "ax.grid()\n",
    "plt.hist(data_day['days_exposition'], bins=300, color='purple', alpha = 0.7)\n",
    "plt.xlim(0,100)\n",
    "plt.xlabel('дни')\n",
    "plt.ylabel('количество')\n",
    "plt.show()"
   ]
  },
  {
   "cell_type": "markdown",
   "metadata": {},
   "source": [
    "Самые большие пики наблюдаются около 45-50 и около 60 дней  с момента публикации. Возможно, это особенности сервиса, на авито, например, спустя месяц объявление архивируется, если его не продлить. Может быть у яндекс.недвижимости тоже есть такая фишка."
   ]
  },
  {
   "cell_type": "markdown",
   "metadata": {},
   "source": [
    "<div class=\"alert alert-success\">\n",
    "<h2> Комментарий ревьюера <a class=\"tocSkip\"> </h2>\n",
    "\n",
    "<b>Все супер!👍:</b> Вновь глубоко окунулись, провели большую работу. Я обычно здесь говорю о том, что лекго определить квантили, на которых лежат быстыре и необычно медленные продажи. Быстрые, наверное, на 20-25%, необычно медленные на 85-90%"
   ]
  },
  {
   "cell_type": "markdown",
   "metadata": {},
   "source": [
    "### Какие факторы больше всего влияют на общую (полную) стоимость объекта?"
   ]
  },
  {
   "cell_type": "markdown",
   "metadata": {},
   "source": [
    "Здесь будем использовать подчищенный исходный датафрейм data."
   ]
  },
  {
   "cell_type": "markdown",
   "metadata": {},
   "source": [
    "#### Зависимость цены от общей площади"
   ]
  },
  {
   "cell_type": "code",
   "execution_count": 73,
   "metadata": {},
   "outputs": [
    {
     "data": {
      "image/png": "[encoded data removed]",
      "text/plain": [
       "<Figure size 288x288 with 1 Axes>"
      ]
     },
     "metadata": {
      "needs_background": "light"
     },
     "output_type": "display_data"
    }
   ],
   "source": [
    "data.sort_values('total_area').plot(x='total_area', y='last_price', kind='scatter',\n",
    "                                    figsize=(4, 4),grid=True, alpha = 0.5)\n",
    "plt.xlim(0, 400)\n",
    "plt.ylim(0,50000000)\n",
    "plt.xlabel('Площадь')\n",
    "plt.ylabel('Цена')\n",
    "plt.show()"
   ]
  },
  {
   "cell_type": "markdown",
   "metadata": {},
   "source": [
    "Дополнительно посчитаем коэффициент корреляции для всех данных и для 'total_area' < 150."
   ]
  },
  {
   "cell_type": "code",
   "execution_count": 74,
   "metadata": {},
   "outputs": [
    {
     "data": {
      "text/plain": [
       "0.6536259616247682"
      ]
     },
     "execution_count": 74,
     "metadata": {},
     "output_type": "execute_result"
    }
   ],
   "source": [
    "data['total_area'].corr(data['last_price'])"
   ]
  },
  {
   "cell_type": "code",
   "execution_count": 75,
   "metadata": {},
   "outputs": [
    {
     "data": {
      "text/plain": [
       "0.6961104550043432"
      ]
     },
     "execution_count": 75,
     "metadata": {},
     "output_type": "execute_result"
    }
   ],
   "source": [
    "data.loc[data['total_area']<150, 'total_area'].corr(data.loc[data['total_area']<150, 'last_price'])"
   ]
  },
  {
   "cell_type": "markdown",
   "metadata": {},
   "source": [
    "**Вывод**: как видим, до 150 м2 зависимость почти линейная, т.е. с увеличением площади растет и цена на квартиру. После 150 начинается сильный разброс. \n",
    "\n",
    "Дополнительная проверка состояла в расчете коэффициента корреляции, до 150 м2 коэффициент почти равен **0.7**, для всех данных **0.65**, что является доказательством существования линейной связи."
   ]
  },
  {
   "cell_type": "markdown",
   "metadata": {},
   "source": [
    "#### Зависимость цены от жилой площади"
   ]
  },
  {
   "cell_type": "code",
   "execution_count": 76,
   "metadata": {},
   "outputs": [
    {
     "data": {
      "image/png": "[encoded data removed]",
      "text/plain": [
       "<Figure size 288x288 with 1 Axes>"
      ]
     },
     "metadata": {
      "needs_background": "light"
     },
     "output_type": "display_data"
    }
   ],
   "source": [
    "data.sort_values('living_area').plot(x='living_area', y='last_price', kind='scatter',\n",
    "                                     figsize=(4, 4),grid=True, alpha = 0.5)\n",
    "plt.xlim(0, 400)\n",
    "plt.ylim(0,50000000)\n",
    "plt.xlabel('Площадь')\n",
    "plt.ylabel('Цена')\n",
    "plt.show()"
   ]
  },
  {
   "cell_type": "markdown",
   "metadata": {},
   "source": [
    "**Вывод**: диаграмма рассеяния для жилой площади похожа на диаграмму для общей площади. Здесь аналогично до определенного момента наблюдается линейная связь. Посчитаем коэффициент корреляции. Здесь он похуже, чем в предыдущем случае."
   ]
  },
  {
   "cell_type": "code",
   "execution_count": 77,
   "metadata": {},
   "outputs": [
    {
     "data": {
      "text/plain": [
       "0.5852996807304326"
      ]
     },
     "execution_count": 77,
     "metadata": {},
     "output_type": "execute_result"
    }
   ],
   "source": [
    "data['living_area'].corr(data['last_price'])"
   ]
  },
  {
   "cell_type": "markdown",
   "metadata": {},
   "source": [
    "#### Зависимость цены от площади кухни"
   ]
  },
  {
   "cell_type": "code",
   "execution_count": 78,
   "metadata": {},
   "outputs": [
    {
     "data": {
      "image/png": "[encoded data removed]",
      "text/plain": [
       "<Figure size 288x288 with 1 Axes>"
      ]
     },
     "metadata": {
      "needs_background": "light"
     },
     "output_type": "display_data"
    }
   ],
   "source": [
    "data.sort_values('kitchen_area').plot(x='kitchen_area', y='last_price', kind='scatter',\n",
    "                                       figsize=(4, 4), alpha = 0.7, grid = True)\n",
    "plt.xlabel('Площадь')\n",
    "plt.ylabel('Цена')\n",
    "plt.ylim(0,50000000)\n",
    "plt.show()"
   ]
  },
  {
   "cell_type": "code",
   "execution_count": 79,
   "metadata": {},
   "outputs": [
    {
     "data": {
      "text/plain": [
       "0.5119738606515833"
      ]
     },
     "execution_count": 79,
     "metadata": {},
     "output_type": "execute_result"
    }
   ],
   "source": [
    "data['kitchen_area'].corr(data['last_price'])"
   ]
  },
  {
   "cell_type": "markdown",
   "metadata": {},
   "source": [
    "**Вывод**: здесь рассеивание происходит раньше, есть некоторые нулевые значения, но скорее всего они соответствуют апартаментам без кухни, либо студиям. Коэффициент корреляции показывает не такую сильную зависимость, как в двух предыдущих случаях."
   ]
  },
  {
   "cell_type": "markdown",
   "metadata": {},
   "source": [
    "#### Зависимость цены от количества комнат"
   ]
  },
  {
   "cell_type": "code",
   "execution_count": 80,
   "metadata": {},
   "outputs": [
    {
     "data": {
      "text/plain": [
       "(0.0, 50000000.0)"
      ]
     },
     "execution_count": 80,
     "metadata": {},
     "output_type": "execute_result"
    },
    {
     "data": {
      "image/png": "[encoded data removed]",
      "text/plain": [
       "<Figure size 576x288 with 1 Axes>"
      ]
     },
     "metadata": {
      "needs_background": "light"
     },
     "output_type": "display_data"
    }
   ],
   "source": [
    "pd.pivot_table(data, index = 'rooms', values = 'last_price',\n",
    "               aggfunc = 'median').plot(kind = 'bar', figsize = (8,4), grid = True)\n",
    "plt.xlim(0,8)\n",
    "plt.ylim(0,5*10**7)"
   ]
  },
  {
   "cell_type": "markdown",
   "metadata": {},
   "source": [
    "**Вывод**: на графике выведены значения до 8, поскольку дальше происходят нетипичные скачки. Как видим, вплоть до 7 комнат происходит положительная динамика, то есть с увеличение количества комнат растет и цена, что предсказуемо. "
   ]
  },
  {
   "cell_type": "markdown",
   "metadata": {},
   "source": [
    "#### Зависимость цены от типа этажа"
   ]
  },
  {
   "cell_type": "code",
   "execution_count": 81,
   "metadata": {},
   "outputs": [
    {
     "data": {
      "text/plain": [
       "<AxesSubplot:xlabel='type_of_floor'>"
      ]
     },
     "execution_count": 81,
     "metadata": {},
     "output_type": "execute_result"
    },
    {
     "data": {
      "image/png": "[encoded data removed]",
      "text/plain": [
       "<Figure size 576x288 with 1 Axes>"
      ]
     },
     "metadata": {
      "needs_background": "light"
     },
     "output_type": "display_data"
    }
   ],
   "source": [
    "pd.pivot_table(data, index = 'type_of_floor', values = 'last_price',\n",
    "               aggfunc = 'median').plot(kind = 'bar', figsize = (8,4), grid = True)"
   ]
  },
  {
   "cell_type": "markdown",
   "metadata": {},
   "source": [
    "**Вывод**: цены за квартиру на первом этаже ниже остальных, что вполне объяснимо. Квартиры на первом этаже обычно холоднее, поскольку под ними находится подвал, из которого может ползти всякая неприятная живность, что также является большим минусом. Еще первый этаж проигрывает в шумоизоляции, каждый звук с улицы и с лестничной площадки, через которую проходят все жильцы, будет более чувстивительным для жильца, чем для соседей выше. Обычно собственник понимает все недостатки такой недвижимости и устанавливает цену ниже, чем у квартир выше.\n",
    "\n",
    "Последний этаж также не рекордсмен в цене. В зависимости от сезона все температуры ощущаются острее, возможны проблемы с крышей.\n",
    "\n",
    "Таким образом, цена на \"других\" этажах превышает цену за первый и последний этаж."
   ]
  },
  {
   "cell_type": "markdown",
   "metadata": {},
   "source": [
    "#### Зависимость цены от дня недели, месяца, года публикации"
   ]
  },
  {
   "cell_type": "code",
   "execution_count": 82,
   "metadata": {},
   "outputs": [
    {
     "data": {
      "text/plain": [
       "<AxesSubplot:xlabel='first_day_week'>"
      ]
     },
     "execution_count": 82,
     "metadata": {},
     "output_type": "execute_result"
    },
    {
     "data": {
      "image/png": "[encoded data removed]",
      "text/plain": [
       "<Figure size 576x288 with 1 Axes>"
      ]
     },
     "metadata": {
      "needs_background": "light"
     },
     "output_type": "display_data"
    }
   ],
   "source": [
    "data.pivot_table(index='first_day_week', values='last_price', aggfunc=('median')).plot(\n",
    "    kind='bar', figsize=(8, 4), grid=True)"
   ]
  },
  {
   "cell_type": "markdown",
   "metadata": {},
   "source": [
    "**Вывод**: наблюдаем незначительные отличия между днями публикации. Цена во вторник и четверг здесь тоже (ранее рассматривалось количество) чуть больше остальных. Дни недели слишком \"маленький\" параметр, чтобы это глобально повлияло на цену. Интересно посмотреть на месяц и год."
   ]
  },
  {
   "cell_type": "code",
   "execution_count": 83,
   "metadata": {},
   "outputs": [
    {
     "data": {
      "text/plain": [
       "<AxesSubplot:xlabel='first_month'>"
      ]
     },
     "execution_count": 83,
     "metadata": {},
     "output_type": "execute_result"
    },
    {
     "data": {
      "image/png": "[encoded data removed]",
      "text/plain": [
       "<Figure size 576x288 with 1 Axes>"
      ]
     },
     "metadata": {
      "needs_background": "light"
     },
     "output_type": "display_data"
    }
   ],
   "source": [
    "data.pivot_table(index='first_month', values='last_price', aggfunc=('median')).plot(\n",
    "    kind='bar', figsize=(8, 4), grid=True)"
   ]
  },
  {
   "cell_type": "markdown",
   "metadata": {},
   "source": [
    "**Вывод**: ранее рассмотрено количество публикаций в каждый месяц, было обнаружено снижение публикаций к середине года, то есть к лету (июнь). Здесь мы наблюдаем самую низкую цену также в июне.  \n",
    "\n",
    "Хочется отметить начало и конец года, здесь более менее одинаковая цена, обычно в эти отезки года спрос на квартиры не такой большой, поэтому и цену повышать/снижать не имеет особого смысла. Всё же небольшие изменения в цене можно объяснить сезоном/несезоном."
   ]
  },
  {
   "cell_type": "code",
   "execution_count": 84,
   "metadata": {},
   "outputs": [
    {
     "data": {
      "text/plain": [
       "<AxesSubplot:xlabel='first_year'>"
      ]
     },
     "execution_count": 84,
     "metadata": {},
     "output_type": "execute_result"
    },
    {
     "data": {
      "image/png": "[encoded data removed]",
      "text/plain": [
       "<Figure size 576x288 with 1 Axes>"
      ]
     },
     "metadata": {
      "needs_background": "light"
     },
     "output_type": "display_data"
    }
   ],
   "source": [
    "data.pivot_table(index='first_year', values='last_price', aggfunc=('median')).plot(\n",
    "    kind='bar', figsize=(8, 4), grid=True)"
   ]
  },
  {
   "cell_type": "code",
   "execution_count": 85,
   "metadata": {},
   "outputs": [
    {
     "data": {
      "text/plain": [
       "<AxesSubplot:xlabel='first_year'>"
      ]
     },
     "execution_count": 85,
     "metadata": {},
     "output_type": "execute_result"
    },
    {
     "data": {
      "image/png": "[encoded data removed]",
      "text/plain": [
       "<Figure size 576x288 with 1 Axes>"
      ]
     },
     "metadata": {
      "needs_background": "light"
     },
     "output_type": "display_data"
    }
   ],
   "source": [
    "data[data['days_exposition'] < 55555555].pivot_table(index='first_year', values='last_price', aggfunc=('median')).plot(\n",
    "    kind='bar', figsize=(8, 4), grid=True)"
   ]
  },
  {
   "cell_type": "markdown",
   "metadata": {},
   "source": [
    "**Вывод**: в 2014 году цены на квартиры были выше последующих годов, возможной причиной мог стать кризис 2014-2015. Были построены две диаграммы, первая с учетом замененных пропусков на большое число, вторая без их учета. Как видим, особо график не изменился. За последние в данных года медианная за год цена варьировалась от 4.5 до 5 млн."
   ]
  },
  {
   "cell_type": "code",
   "execution_count": 86,
   "metadata": {},
   "outputs": [
    {
     "data": {
      "text/plain": [
       "<AxesSubplot:>"
      ]
     },
     "execution_count": 86,
     "metadata": {},
     "output_type": "execute_result"
    },
    {
     "data": {
      "image/png": "[encoded data removed]",
      "text/plain": [
       "<Figure size 720x720 with 2 Axes>"
      ]
     },
     "metadata": {
      "needs_background": "light"
     },
     "output_type": "display_data"
    }
   ],
   "source": [
    "plt.figure(figsize=(10,10))\n",
    "sns.heatmap(data.corr(), annot=True, cmap=\"Blues\", fmt='.1f')"
   ]
  },
  {
   "cell_type": "markdown",
   "metadata": {},
   "source": [
    "#### Общий вывод"
   ]
  },
  {
   "cell_type": "markdown",
   "metadata": {},
   "source": [
    "Итак, были исследованы зависимости цены недвижимости от таких параметров, как общая площадь, жилая площадь, площадь кухни, количество комнат, тип этажа, а также дня недели, месяца, года публикации. В ходе анализа были использованы диаграммы рассеяния, столбчатыые диаграммы, хитмэп. Для дополнительной сверки вычислялся коэффициент корреляции и матрица корреляции. По матрице можно сказать, что неплохая корреляция между ценой и общей площадью, жилой площадью, а также ценой за один квадратный метр, что подтверждается диаграммами рассеяния."
   ]
  },
  {
   "cell_type": "markdown",
   "metadata": {},
   "source": [
    "<div class=\"alert alert-success\">\n",
    "<h2> Комментарий ревьюера <a class=\"tocSkip\"> </h2>\n",
    "\n",
    "<b>Все супер!👍:</b> По зависимостям тоже все правильно!"
   ]
  },
  {
   "cell_type": "markdown",
   "metadata": {},
   "source": [
    "### Средняя цена одного квадратного метра в 10 населённых пунктах с наибольшим числом объявлений"
   ]
  },
  {
   "cell_type": "markdown",
   "metadata": {},
   "source": [
    "Заведем список топ-10 районов по количеству объявлений"
   ]
  },
  {
   "cell_type": "code",
   "execution_count": 87,
   "metadata": {},
   "outputs": [],
   "source": [
    "top_ten = data['locality_name'].value_counts().head(10).index"
   ]
  },
  {
   "cell_type": "code",
   "execution_count": 88,
   "metadata": {},
   "outputs": [
    {
     "data": {
      "text/html": [
       "<div>\n",
       "<style scoped>\n",
       "    .dataframe tbody tr th:only-of-type {\n",
       "        vertical-align: middle;\n",
       "    }\n",
       "\n",
       "    .dataframe tbody tr th {\n",
       "        vertical-align: top;\n",
       "    }\n",
       "\n",
       "    .dataframe thead th {\n",
       "        text-align: right;\n",
       "    }\n",
       "</style>\n",
       "<table border=\"1\" class=\"dataframe\">\n",
       "  <thead>\n",
       "    <tr style=\"text-align: right;\">\n",
       "      <th></th>\n",
       "      <th>price_one_m</th>\n",
       "    </tr>\n",
       "    <tr>\n",
       "      <th>locality_name</th>\n",
       "      <th></th>\n",
       "    </tr>\n",
       "  </thead>\n",
       "  <tbody>\n",
       "    <tr>\n",
       "      <th>санкт-петербург</th>\n",
       "      <td>114870.301042</td>\n",
       "    </tr>\n",
       "    <tr>\n",
       "      <th>пушкин</th>\n",
       "      <td>103125.373984</td>\n",
       "    </tr>\n",
       "    <tr>\n",
       "      <th>кудрово</th>\n",
       "      <td>95260.393617</td>\n",
       "    </tr>\n",
       "    <tr>\n",
       "      <th>парголово</th>\n",
       "      <td>90175.489297</td>\n",
       "    </tr>\n",
       "    <tr>\n",
       "      <th>мурино</th>\n",
       "      <td>86040.658703</td>\n",
       "    </tr>\n",
       "    <tr>\n",
       "      <th>шушары</th>\n",
       "      <td>78550.883827</td>\n",
       "    </tr>\n",
       "    <tr>\n",
       "      <th>колпино</th>\n",
       "      <td>75424.150888</td>\n",
       "    </tr>\n",
       "    <tr>\n",
       "      <th>гатчина</th>\n",
       "      <td>68745.693811</td>\n",
       "    </tr>\n",
       "    <tr>\n",
       "      <th>всеволожск</th>\n",
       "      <td>68654.007538</td>\n",
       "    </tr>\n",
       "    <tr>\n",
       "      <th>выборг</th>\n",
       "      <td>58141.489451</td>\n",
       "    </tr>\n",
       "  </tbody>\n",
       "</table>\n",
       "</div>"
      ],
      "text/plain": [
       "                   price_one_m\n",
       "locality_name                 \n",
       "санкт-петербург  114870.301042\n",
       "пушкин           103125.373984\n",
       "кудрово           95260.393617\n",
       "парголово         90175.489297\n",
       "мурино            86040.658703\n",
       "шушары            78550.883827\n",
       "колпино           75424.150888\n",
       "гатчина           68745.693811\n",
       "всеволожск        68654.007538\n",
       "выборг            58141.489451"
      ]
     },
     "execution_count": 88,
     "metadata": {},
     "output_type": "execute_result"
    }
   ],
   "source": [
    "data.query('locality_name in @top_ten').pivot_table(index = 'locality_name', values = 'price_one_m', \n",
    "                                                    aggfunc = 'mean').sort_values(by = 'price_one_m', \n",
    "                                                                                  ascending = False)\n"
   ]
  },
  {
   "cell_type": "markdown",
   "metadata": {},
   "source": [
    "**Вывод**: оказалось, что в Выборге самая низкая средняя цена за квадратный метр среди топ-10 по количеству объявлений. Предсказуемо Санкт-Петербург обладает самой высокой средней ценой 114870 т.р."
   ]
  },
  {
   "cell_type": "markdown",
   "metadata": {},
   "source": [
    "<div class=\"alert alert-success\">\n",
    "<h2> Комментарий ревьюера <a class=\"tocSkip\"> </h2>\n",
    "\n",
    "<b>Все супер!👍:</b> Правильно)"
   ]
  },
  {
   "cell_type": "markdown",
   "metadata": {},
   "source": [
    "### Средняя цена каждого километра"
   ]
  },
  {
   "cell_type": "code",
   "execution_count": 89,
   "metadata": {},
   "outputs": [
    {
     "data": {
      "text/html": [
       "<div>\n",
       "<style scoped>\n",
       "    .dataframe tbody tr th:only-of-type {\n",
       "        vertical-align: middle;\n",
       "    }\n",
       "\n",
       "    .dataframe tbody tr th {\n",
       "        vertical-align: top;\n",
       "    }\n",
       "\n",
       "    .dataframe thead th {\n",
       "        text-align: right;\n",
       "    }\n",
       "</style>\n",
       "<table border=\"1\" class=\"dataframe\">\n",
       "  <thead>\n",
       "    <tr style=\"text-align: right;\">\n",
       "      <th></th>\n",
       "      <th>total_images</th>\n",
       "      <th>last_price</th>\n",
       "      <th>total_area</th>\n",
       "      <th>first_day_exposition</th>\n",
       "      <th>rooms</th>\n",
       "      <th>ceiling_height</th>\n",
       "      <th>floors_total</th>\n",
       "      <th>living_area</th>\n",
       "      <th>floor</th>\n",
       "      <th>is_apartment</th>\n",
       "      <th>...</th>\n",
       "      <th>ponds_around3000</th>\n",
       "      <th>ponds_nearest</th>\n",
       "      <th>days_exposition</th>\n",
       "      <th>price_one_m</th>\n",
       "      <th>status</th>\n",
       "      <th>first_day_week</th>\n",
       "      <th>first_month</th>\n",
       "      <th>first_year</th>\n",
       "      <th>type_of_floor</th>\n",
       "      <th>tocenter_in_km</th>\n",
       "    </tr>\n",
       "  </thead>\n",
       "  <tbody>\n",
       "    <tr>\n",
       "      <th>0</th>\n",
       "      <td>20</td>\n",
       "      <td>13000000</td>\n",
       "      <td>108.00</td>\n",
       "      <td>2019-03-07</td>\n",
       "      <td>3</td>\n",
       "      <td>2.70</td>\n",
       "      <td>16</td>\n",
       "      <td>51.00</td>\n",
       "      <td>8</td>\n",
       "      <td>False</td>\n",
       "      <td>...</td>\n",
       "      <td>2</td>\n",
       "      <td>755.0</td>\n",
       "      <td>55555555</td>\n",
       "      <td>120370</td>\n",
       "      <td>бизнес</td>\n",
       "      <td>3</td>\n",
       "      <td>3</td>\n",
       "      <td>2019</td>\n",
       "      <td>другой</td>\n",
       "      <td>16.0</td>\n",
       "    </tr>\n",
       "    <tr>\n",
       "      <th>1</th>\n",
       "      <td>7</td>\n",
       "      <td>3350000</td>\n",
       "      <td>40.40</td>\n",
       "      <td>2018-12-04</td>\n",
       "      <td>1</td>\n",
       "      <td>2.65</td>\n",
       "      <td>11</td>\n",
       "      <td>18.60</td>\n",
       "      <td>1</td>\n",
       "      <td>False</td>\n",
       "      <td>...</td>\n",
       "      <td>0</td>\n",
       "      <td>NaN</td>\n",
       "      <td>81</td>\n",
       "      <td>82920</td>\n",
       "      <td>эконом</td>\n",
       "      <td>1</td>\n",
       "      <td>12</td>\n",
       "      <td>2018</td>\n",
       "      <td>первый</td>\n",
       "      <td>19.0</td>\n",
       "    </tr>\n",
       "    <tr>\n",
       "      <th>2</th>\n",
       "      <td>10</td>\n",
       "      <td>5196000</td>\n",
       "      <td>56.00</td>\n",
       "      <td>2015-08-20</td>\n",
       "      <td>2</td>\n",
       "      <td>2.65</td>\n",
       "      <td>5</td>\n",
       "      <td>34.30</td>\n",
       "      <td>4</td>\n",
       "      <td>False</td>\n",
       "      <td>...</td>\n",
       "      <td>2</td>\n",
       "      <td>574.0</td>\n",
       "      <td>558</td>\n",
       "      <td>92785</td>\n",
       "      <td>эконом</td>\n",
       "      <td>3</td>\n",
       "      <td>8</td>\n",
       "      <td>2015</td>\n",
       "      <td>другой</td>\n",
       "      <td>14.0</td>\n",
       "    </tr>\n",
       "    <tr>\n",
       "      <th>3</th>\n",
       "      <td>0</td>\n",
       "      <td>64900000</td>\n",
       "      <td>159.00</td>\n",
       "      <td>2015-07-24</td>\n",
       "      <td>3</td>\n",
       "      <td>3.16</td>\n",
       "      <td>14</td>\n",
       "      <td>90.34</td>\n",
       "      <td>9</td>\n",
       "      <td>False</td>\n",
       "      <td>...</td>\n",
       "      <td>3</td>\n",
       "      <td>234.0</td>\n",
       "      <td>424</td>\n",
       "      <td>408176</td>\n",
       "      <td>элита</td>\n",
       "      <td>4</td>\n",
       "      <td>7</td>\n",
       "      <td>2015</td>\n",
       "      <td>другой</td>\n",
       "      <td>7.0</td>\n",
       "    </tr>\n",
       "    <tr>\n",
       "      <th>4</th>\n",
       "      <td>2</td>\n",
       "      <td>10000000</td>\n",
       "      <td>100.00</td>\n",
       "      <td>2018-06-19</td>\n",
       "      <td>2</td>\n",
       "      <td>3.03</td>\n",
       "      <td>14</td>\n",
       "      <td>32.00</td>\n",
       "      <td>13</td>\n",
       "      <td>False</td>\n",
       "      <td>...</td>\n",
       "      <td>1</td>\n",
       "      <td>48.0</td>\n",
       "      <td>121</td>\n",
       "      <td>100000</td>\n",
       "      <td>эконом</td>\n",
       "      <td>1</td>\n",
       "      <td>6</td>\n",
       "      <td>2018</td>\n",
       "      <td>другой</td>\n",
       "      <td>8.0</td>\n",
       "    </tr>\n",
       "    <tr>\n",
       "      <th>5</th>\n",
       "      <td>10</td>\n",
       "      <td>2890000</td>\n",
       "      <td>30.40</td>\n",
       "      <td>2018-09-10</td>\n",
       "      <td>1</td>\n",
       "      <td>2.65</td>\n",
       "      <td>12</td>\n",
       "      <td>14.40</td>\n",
       "      <td>5</td>\n",
       "      <td>False</td>\n",
       "      <td>...</td>\n",
       "      <td>0</td>\n",
       "      <td>NaN</td>\n",
       "      <td>55</td>\n",
       "      <td>95065</td>\n",
       "      <td>эконом</td>\n",
       "      <td>0</td>\n",
       "      <td>9</td>\n",
       "      <td>2018</td>\n",
       "      <td>другой</td>\n",
       "      <td>NaN</td>\n",
       "    </tr>\n",
       "    <tr>\n",
       "      <th>6</th>\n",
       "      <td>6</td>\n",
       "      <td>3700000</td>\n",
       "      <td>37.30</td>\n",
       "      <td>2017-11-02</td>\n",
       "      <td>1</td>\n",
       "      <td>2.65</td>\n",
       "      <td>26</td>\n",
       "      <td>10.60</td>\n",
       "      <td>6</td>\n",
       "      <td>False</td>\n",
       "      <td>...</td>\n",
       "      <td>0</td>\n",
       "      <td>NaN</td>\n",
       "      <td>155</td>\n",
       "      <td>99195</td>\n",
       "      <td>эконом</td>\n",
       "      <td>3</td>\n",
       "      <td>11</td>\n",
       "      <td>2017</td>\n",
       "      <td>другой</td>\n",
       "      <td>19.0</td>\n",
       "    </tr>\n",
       "    <tr>\n",
       "      <th>7</th>\n",
       "      <td>5</td>\n",
       "      <td>7915000</td>\n",
       "      <td>71.60</td>\n",
       "      <td>2019-04-18</td>\n",
       "      <td>2</td>\n",
       "      <td>2.78</td>\n",
       "      <td>24</td>\n",
       "      <td>40.68</td>\n",
       "      <td>22</td>\n",
       "      <td>False</td>\n",
       "      <td>...</td>\n",
       "      <td>0</td>\n",
       "      <td>NaN</td>\n",
       "      <td>55555555</td>\n",
       "      <td>110544</td>\n",
       "      <td>бизнес</td>\n",
       "      <td>3</td>\n",
       "      <td>4</td>\n",
       "      <td>2019</td>\n",
       "      <td>другой</td>\n",
       "      <td>12.0</td>\n",
       "    </tr>\n",
       "    <tr>\n",
       "      <th>8</th>\n",
       "      <td>20</td>\n",
       "      <td>2900000</td>\n",
       "      <td>33.16</td>\n",
       "      <td>2018-05-23</td>\n",
       "      <td>1</td>\n",
       "      <td>2.65</td>\n",
       "      <td>27</td>\n",
       "      <td>15.43</td>\n",
       "      <td>26</td>\n",
       "      <td>False</td>\n",
       "      <td>...</td>\n",
       "      <td>0</td>\n",
       "      <td>NaN</td>\n",
       "      <td>189</td>\n",
       "      <td>87454</td>\n",
       "      <td>эконом</td>\n",
       "      <td>2</td>\n",
       "      <td>5</td>\n",
       "      <td>2018</td>\n",
       "      <td>другой</td>\n",
       "      <td>NaN</td>\n",
       "    </tr>\n",
       "    <tr>\n",
       "      <th>9</th>\n",
       "      <td>18</td>\n",
       "      <td>5400000</td>\n",
       "      <td>61.00</td>\n",
       "      <td>2017-02-26</td>\n",
       "      <td>3</td>\n",
       "      <td>2.50</td>\n",
       "      <td>9</td>\n",
       "      <td>43.60</td>\n",
       "      <td>7</td>\n",
       "      <td>False</td>\n",
       "      <td>...</td>\n",
       "      <td>0</td>\n",
       "      <td>NaN</td>\n",
       "      <td>289</td>\n",
       "      <td>88524</td>\n",
       "      <td>эконом</td>\n",
       "      <td>6</td>\n",
       "      <td>2</td>\n",
       "      <td>2017</td>\n",
       "      <td>другой</td>\n",
       "      <td>15.0</td>\n",
       "    </tr>\n",
       "  </tbody>\n",
       "</table>\n",
       "<p>10 rows × 29 columns</p>\n",
       "</div>"
      ],
      "text/plain": [
       "   total_images  last_price  total_area first_day_exposition  rooms  \\\n",
       "0            20    13000000      108.00           2019-03-07      3   \n",
       "1             7     3350000       40.40           2018-12-04      1   \n",
       "2            10     5196000       56.00           2015-08-20      2   \n",
       "3             0    64900000      159.00           2015-07-24      3   \n",
       "4             2    10000000      100.00           2018-06-19      2   \n",
       "5            10     2890000       30.40           2018-09-10      1   \n",
       "6             6     3700000       37.30           2017-11-02      1   \n",
       "7             5     7915000       71.60           2019-04-18      2   \n",
       "8            20     2900000       33.16           2018-05-23      1   \n",
       "9            18     5400000       61.00           2017-02-26      3   \n",
       "\n",
       "   ceiling_height  floors_total  living_area  floor  is_apartment  ...  \\\n",
       "0            2.70            16        51.00      8         False  ...   \n",
       "1            2.65            11        18.60      1         False  ...   \n",
       "2            2.65             5        34.30      4         False  ...   \n",
       "3            3.16            14        90.34      9         False  ...   \n",
       "4            3.03            14        32.00     13         False  ...   \n",
       "5            2.65            12        14.40      5         False  ...   \n",
       "6            2.65            26        10.60      6         False  ...   \n",
       "7            2.78            24        40.68     22         False  ...   \n",
       "8            2.65            27        15.43     26         False  ...   \n",
       "9            2.50             9        43.60      7         False  ...   \n",
       "\n",
       "   ponds_around3000  ponds_nearest  days_exposition  price_one_m  status  \\\n",
       "0                 2          755.0         55555555       120370  бизнес   \n",
       "1                 0            NaN               81        82920  эконом   \n",
       "2                 2          574.0              558        92785  эконом   \n",
       "3                 3          234.0              424       408176   элита   \n",
       "4                 1           48.0              121       100000  эконом   \n",
       "5                 0            NaN               55        95065  эконом   \n",
       "6                 0            NaN              155        99195  эконом   \n",
       "7                 0            NaN         55555555       110544  бизнес   \n",
       "8                 0            NaN              189        87454  эконом   \n",
       "9                 0            NaN              289        88524  эконом   \n",
       "\n",
       "   first_day_week  first_month  first_year  type_of_floor  tocenter_in_km  \n",
       "0               3            3        2019         другой            16.0  \n",
       "1               1           12        2018         первый            19.0  \n",
       "2               3            8        2015         другой            14.0  \n",
       "3               4            7        2015         другой             7.0  \n",
       "4               1            6        2018         другой             8.0  \n",
       "5               0            9        2018         другой             NaN  \n",
       "6               3           11        2017         другой            19.0  \n",
       "7               3            4        2019         другой            12.0  \n",
       "8               2            5        2018         другой             NaN  \n",
       "9               6            2        2017         другой            15.0  \n",
       "\n",
       "[10 rows x 29 columns]"
      ]
     },
     "execution_count": 89,
     "metadata": {},
     "output_type": "execute_result"
    }
   ],
   "source": [
    "data['tocenter_in_km'] = data['tocenter_in_km'].round(0)\n",
    "data.head(10)"
   ]
  },
  {
   "cell_type": "code",
   "execution_count": 90,
   "metadata": {},
   "outputs": [],
   "source": [
    "every_km_price = data.query('locality_name == \"санкт-петербург\"').pivot_table(index = 'tocenter_in_km', values = 'last_price', aggfunc = 'mean')"
   ]
  },
  {
   "cell_type": "code",
   "execution_count": 91,
   "metadata": {},
   "outputs": [
    {
     "data": {
      "text/plain": [
       "<AxesSubplot:xlabel='tocenter_in_km'>"
      ]
     },
     "execution_count": 91,
     "metadata": {},
     "output_type": "execute_result"
    },
    {
     "data": {
      "image/png": "[encoded data removed]",
      "text/plain": [
       "<Figure size 576x288 with 1 Axes>"
      ]
     },
     "metadata": {
      "needs_background": "light"
     },
     "output_type": "display_data"
    }
   ],
   "source": [
    "every_km_price.plot(xlim = (0,29),figsize = (8,4), grid = True)"
   ]
  },
  {
   "cell_type": "markdown",
   "metadata": {},
   "source": [
    "**Вывод**: на графике наблюдается падение цены каждого километра за исключением от 3 до примерно 8 км, здесь вогнутость вверх. Вообще следует насторожиться, однако! я проанализировала элитные жк Санкт-Петербурга(например, Петроградский район), не все находятся в центре, а некоторые находятся как раз в промежутке от 3 до 8 км. Возможно, именно в этой связи наблюдается такой \"горбик\" у графика. Предполагаю, что по этой же причине горбик ближе к 29 км."
   ]
  },
  {
   "cell_type": "markdown",
   "metadata": {},
   "source": [
    "<div class=\"alert alert-success\">\n",
    "<h2> Комментарий ревьюера <a class=\"tocSkip\"> </h2>\n",
    "\n",
    "<b>Все супер!👍:</b> Отлично!"
   ]
  },
  {
   "cell_type": "markdown",
   "metadata": {},
   "source": [
    "### Общий вывод"
   ]
  },
  {
   "cell_type": "markdown",
   "metadata": {},
   "source": [
    "Подведем итоги. Проведен анализ рынка недвижимости Санкт-Петербурга и Ленинградкой области с целью нахождения интересных особенностей и зависимостей. Было поставлено несколько основных вопросов:\n",
    "> Как быстро продавались квартиры?\n",
    "\n",
    "В первые 1.5 месяца продается больше всего квартир, около 6000, с каждым месяцем продается все меньше квартир, но за 1.5 года продалось почти 19000 квартир.\n",
    "\n",
    "> Какие факторы больше всего влияют на цену недвижимости?\n",
    "\n",
    "Выяснилось, что главными ценообразующими параметрами являются общая площадь, жилая площадь, количество комнат, этаж. Чем больше общая и жилая площадь, а соответственно и больше комнат, тем больше цена. \n",
    "\n",
    "Тип этажа влияет следующим образом: самыми дешевыми квартирами оказались те, что на первом этаже, следом идут квартиры на последнем этаже. Дороже всех не первый и не последний.  \n",
    "\n",
    "День недели значительно не влияет на ценообразование, единственное - вторник и четверг - это дни, когда квартиры публикуются чуть больше остальных и цены чуть выше остальных.\n",
    "Зависимость от месяца заметна лучше. Так к середине года цены становятся ниже, однако и публикуют в это время меньше. Зима - конец и начало года- время, когда рынок недвижимости в стагнации, особо цены не изменяются. Выше всех цены выставляют в апреле. Зависимость от года публикации следующая, в 2014 году былы максимальные цены, возможно из-за кризиса, после этого постепенно цены снижались.\n",
    "\n",
    ">Средняя цена одного квадратного метра в 10 населённых пунктах с наибольшим числом объявлений?\n",
    "\n",
    "Выяснилось, что лидирует по цене Санкт-Петербург, здесь средняя цена за один квадратный метр составляет почти 115 т.р., далее город Пушкин - 103 т.р., на 10-м месте оказался Выборг - 58 т.р.\n",
    "\n",
    "> Средняя цена каждого километра?\n",
    "\n",
    "Наблюдалось падение цены с каждым километром, самые большие цены в центре. Обнаружились некоторые скачки в районе 3-8 км, но выдвинуто предположение, что это элитные ЖК, расположенные на таком расстоянии от центра, ведь не все ЖК строят близко к исторической части Санкт-Петербурга, некоторые предпочитают жить дорого и подальше от центра - в тишине и спокойствии."
   ]
  },
  {
   "cell_type": "markdown",
   "metadata": {},
   "source": [
    "<div class=\"alert alert-success\">\n",
    "<h2> Комментарий ревьюера <a class=\"tocSkip\"> </h2>\n",
    "\n",
    "<b>Все супер!👍:</b> Итоговый вывод полностью отражает проделанную работу"
   ]
  },
  {
   "cell_type": "markdown",
   "metadata": {},
   "source": [
    "<div style=\"border:solid Chocolate 2px; padding: 40px\">\n",
    "    \n",
    "**Общий вывод по проекту ревьювера**:\n",
    " Анастасия, спасибо за  проект! Ты приложила много усилий, чтобы довести его до конца, проделана огромная работа, и это видно невооруженным глазом, ты большой молодец!\n",
    "    \n",
    "**Отмечу положительные моменты**:\n",
    "    \n",
    "    1. Все разложено по полочкам, всегда понятен ход твоих мыслей, приятно смотреть\n",
    "    \n",
    "    2. Отличные визуализации\n",
    "    \n",
    "    2. На разных шагах проекта ты предлагала очень интересные решения и методы для их реализации. Хорошая работа!\n",
    "    \n",
    "    \n",
    "**На что стоит обратить внимание**:\n",
    "    \n",
    "    1. На желтые комменты, так как критических ошибок нет, это отлично!)\n",
    "    \n",
    "    \n",
    "**Удачи и жду твой проект на повторное ревью!**"
   ]
  },
  {
   "cell_type": "markdown",
   "metadata": {},
   "source": [
    "<div style=\"border:solid Chocolate 2px; padding: 40px\">\n",
    "    \n",
    "**Общий вывод по проекту ревьювера v2**:\n",
    " Анастасия, ошибки исправлены, проект принят, поздравляю тебя! Успешной учебы и еще увидимся в Практикуме!"
   ]
  },
  {
   "cell_type": "markdown",
   "metadata": {},
   "source": [
    "**Чек-лист готовности проекта**\n",
    "\n",
    "Поставьте 'x' в выполненных пунктах. Далее нажмите Shift+Enter."
   ]
  },
  {
   "cell_type": "markdown",
   "metadata": {},
   "source": [
    "- [x]  открыт файл\n",
    "- [x]  файлы изучены (выведены первые строки, метод `info()`, гистограммы и т.д.)\n",
    "- [x]  определены пропущенные значения\n",
    "- [x]  заполнены пропущенные значения там, где это возможно\n",
    "- [x]  есть пояснение, какие пропущенные значения обнаружены\n",
    "- [x]  изменены типы данных\n",
    "- [x]  есть пояснение, в каких столбцах изменены типы и почему\n",
    "- [x]  устранены неявные дубликаты в названиях населённых пунктов\n",
    "- [x]  устранены редкие и выбивающиеся значения (аномалии) во всех столбцах\n",
    "- [x]  посчитано и добавлено в таблицу: цена одного квадратного метра\n",
    "- [x]  посчитано и добавлено в таблицу: день публикации объявления (0 - понедельник, 1 - вторник и т.д.)\n",
    "- [x]  посчитано и добавлено в таблицу: месяц публикации объявления\n",
    "- [x]  посчитано и добавлено в таблицу: год публикации объявления\n",
    "- [x]  посчитано и добавлено в таблицу: тип этажа квартиры (значения — «первый», «последний», «другой»)\n",
    "- [x]  посчитано и добавлено в таблицу: расстояние в км до центра города\n",
    "- [x]  изучены и описаны следующие параметры:\n",
    "        - общая площадь;\n",
    "        - жилая площадь;\n",
    "        - площадь кухни;\n",
    "        - цена объекта;\n",
    "        - количество комнат;\n",
    "        - высота потолков;\n",
    "        - этаж квартиры;\n",
    "        - тип этажа квартиры («первый», «последний», «другой»);\n",
    "        - общее количество этажей в доме;\n",
    "        - расстояние до центра города в метрах;\n",
    "        - расстояние до ближайшего аэропорта;\n",
    "        - расстояние до ближайшего парка;\n",
    "        - день и месяц публикации объявления\n",
    "- [x]  построены гистограммы для каждого параметра\n",
    "- [x]  выполнено задание: \"Изучите, как быстро продавались квартиры (столбец days_exposition). Этот параметр показывает, сколько дней «висело» каждое объявление.\n",
    "    - Постройте гистограмму.\n",
    "    - Посчитайте среднее и медиану.\n",
    "    - В ячейке типа markdown опишите, сколько обычно занимает продажа. Какие продажи можно считать быстрыми, а какие — необычно долгими?\"\n",
    "- [x]  выполнено задание: \"Какие факторы больше всего влияют на общую (полную) стоимость объекта? Постройте графики, которые покажут зависимость цены от указанных ниже параметров. Для подготовки данных перед визуализацией вы можете использовать сводные таблицы.\"\n",
    "        - общей площади;\n",
    "        - жилой площади;\n",
    "        - площади кухни;\n",
    "        - количество комнат;\n",
    "        - типа этажа, на котором расположена квартира (первый, последний, другой);\n",
    "        - даты размещения (день недели, месяц, год);\n",
    "- [x]  выполнено задание: \"Посчитайте среднюю цену одного квадратного метра в 10 населённых пунктах с наибольшим числом объявлений. Выделите населённые пункты с самой высокой и низкой стоимостью квадратного метра. Эти данные можно найти по имени в столбце `locality_name`.\"\n",
    "- [x]  выполнено задание: \"Ранее вы посчитали расстояние до центра в километрах. Теперь выделите квартиры в Санкт-Петербурге с помощью столбца `locality_name` и вычислите среднюю цену каждого километра. Опишите, как стоимость объектов зависит от расстояния до центра города.\"\n",
    "- [x]  в каждом этапе есть промежуточные выводы\n",
    "- [x]  есть общий вывод"
   ]
  }
 ],
 "metadata": {
  "ExecuteTimeLog": [
   {
    "duration": 419,
    "start_time": "2022-12-03T18:09:21.231Z"
   },
   {
    "duration": 157,
    "start_time": "2022-12-03T18:09:54.840Z"
   },
   {
    "duration": 89,
    "start_time": "2022-12-03T18:10:26.625Z"
   },
   {
    "duration": 2033,
    "start_time": "2022-12-03T18:15:43.027Z"
   },
   {
    "duration": 1624,
    "start_time": "2022-12-03T18:16:55.841Z"
   },
   {
    "duration": 86,
    "start_time": "2022-12-03T18:17:13.021Z"
   },
   {
    "duration": 302,
    "start_time": "2022-12-03T18:17:41.849Z"
   },
   {
    "duration": 97,
    "start_time": "2022-12-03T18:18:05.814Z"
   },
   {
    "duration": 1381,
    "start_time": "2022-12-08T20:03:30.758Z"
   },
   {
    "duration": 140,
    "start_time": "2022-12-08T20:03:32.141Z"
   },
   {
    "duration": 0,
    "start_time": "2022-12-08T20:03:32.284Z"
   },
   {
    "duration": 0,
    "start_time": "2022-12-08T20:03:32.286Z"
   },
   {
    "duration": 0,
    "start_time": "2022-12-08T20:03:32.287Z"
   },
   {
    "duration": 0,
    "start_time": "2022-12-08T20:03:32.288Z"
   },
   {
    "duration": 0,
    "start_time": "2022-12-08T20:03:32.289Z"
   },
   {
    "duration": 0,
    "start_time": "2022-12-08T20:03:32.290Z"
   },
   {
    "duration": 0,
    "start_time": "2022-12-08T20:03:32.307Z"
   },
   {
    "duration": 0,
    "start_time": "2022-12-08T20:03:32.308Z"
   },
   {
    "duration": 0,
    "start_time": "2022-12-08T20:03:32.308Z"
   },
   {
    "duration": 0,
    "start_time": "2022-12-08T20:03:32.309Z"
   },
   {
    "duration": 0,
    "start_time": "2022-12-08T20:03:32.310Z"
   },
   {
    "duration": 0,
    "start_time": "2022-12-08T20:03:32.311Z"
   },
   {
    "duration": 0,
    "start_time": "2022-12-08T20:03:32.312Z"
   },
   {
    "duration": 0,
    "start_time": "2022-12-08T20:03:32.313Z"
   },
   {
    "duration": 0,
    "start_time": "2022-12-08T20:03:32.313Z"
   },
   {
    "duration": 0,
    "start_time": "2022-12-08T20:03:32.314Z"
   },
   {
    "duration": 0,
    "start_time": "2022-12-08T20:03:32.315Z"
   },
   {
    "duration": 0,
    "start_time": "2022-12-08T20:03:32.316Z"
   },
   {
    "duration": 0,
    "start_time": "2022-12-08T20:03:32.317Z"
   },
   {
    "duration": 0,
    "start_time": "2022-12-08T20:03:32.317Z"
   },
   {
    "duration": 0,
    "start_time": "2022-12-08T20:03:32.318Z"
   },
   {
    "duration": 0,
    "start_time": "2022-12-08T20:03:32.319Z"
   },
   {
    "duration": 0,
    "start_time": "2022-12-08T20:03:32.320Z"
   },
   {
    "duration": 0,
    "start_time": "2022-12-08T20:03:32.322Z"
   },
   {
    "duration": 0,
    "start_time": "2022-12-08T20:03:32.323Z"
   },
   {
    "duration": 0,
    "start_time": "2022-12-08T20:03:32.323Z"
   },
   {
    "duration": 0,
    "start_time": "2022-12-08T20:03:32.324Z"
   },
   {
    "duration": 0,
    "start_time": "2022-12-08T20:03:32.328Z"
   },
   {
    "duration": 0,
    "start_time": "2022-12-08T20:03:32.330Z"
   },
   {
    "duration": 0,
    "start_time": "2022-12-08T20:03:32.331Z"
   },
   {
    "duration": 0,
    "start_time": "2022-12-08T20:03:32.331Z"
   },
   {
    "duration": 0,
    "start_time": "2022-12-08T20:03:32.333Z"
   },
   {
    "duration": 0,
    "start_time": "2022-12-08T20:03:32.335Z"
   },
   {
    "duration": 0,
    "start_time": "2022-12-08T20:03:32.336Z"
   },
   {
    "duration": 0,
    "start_time": "2022-12-08T20:03:32.337Z"
   },
   {
    "duration": 0,
    "start_time": "2022-12-08T20:03:32.338Z"
   },
   {
    "duration": 0,
    "start_time": "2022-12-08T20:03:32.340Z"
   },
   {
    "duration": 0,
    "start_time": "2022-12-08T20:03:32.341Z"
   },
   {
    "duration": 0,
    "start_time": "2022-12-08T20:03:32.342Z"
   },
   {
    "duration": 0,
    "start_time": "2022-12-08T20:03:32.343Z"
   },
   {
    "duration": 0,
    "start_time": "2022-12-08T20:03:32.344Z"
   },
   {
    "duration": 0,
    "start_time": "2022-12-08T20:03:32.345Z"
   },
   {
    "duration": 0,
    "start_time": "2022-12-08T20:03:32.346Z"
   },
   {
    "duration": 0,
    "start_time": "2022-12-08T20:03:32.347Z"
   },
   {
    "duration": 0,
    "start_time": "2022-12-08T20:03:32.348Z"
   },
   {
    "duration": 0,
    "start_time": "2022-12-08T20:03:32.349Z"
   },
   {
    "duration": 0,
    "start_time": "2022-12-08T20:03:32.350Z"
   },
   {
    "duration": 0,
    "start_time": "2022-12-08T20:03:32.351Z"
   },
   {
    "duration": 0,
    "start_time": "2022-12-08T20:03:32.352Z"
   },
   {
    "duration": 0,
    "start_time": "2022-12-08T20:03:32.353Z"
   },
   {
    "duration": 0,
    "start_time": "2022-12-08T20:03:32.410Z"
   },
   {
    "duration": 0,
    "start_time": "2022-12-08T20:03:32.411Z"
   },
   {
    "duration": 0,
    "start_time": "2022-12-08T20:03:32.412Z"
   },
   {
    "duration": 0,
    "start_time": "2022-12-08T20:03:32.413Z"
   },
   {
    "duration": 1,
    "start_time": "2022-12-08T20:03:32.413Z"
   },
   {
    "duration": 0,
    "start_time": "2022-12-08T20:03:32.414Z"
   },
   {
    "duration": 0,
    "start_time": "2022-12-08T20:03:32.415Z"
   },
   {
    "duration": 0,
    "start_time": "2022-12-08T20:03:32.416Z"
   },
   {
    "duration": 0,
    "start_time": "2022-12-08T20:03:32.417Z"
   },
   {
    "duration": 0,
    "start_time": "2022-12-08T20:03:32.418Z"
   },
   {
    "duration": 0,
    "start_time": "2022-12-08T20:03:32.419Z"
   },
   {
    "duration": 0,
    "start_time": "2022-12-08T20:03:32.420Z"
   },
   {
    "duration": 0,
    "start_time": "2022-12-08T20:03:32.421Z"
   },
   {
    "duration": 0,
    "start_time": "2022-12-08T20:03:32.422Z"
   },
   {
    "duration": 0,
    "start_time": "2022-12-08T20:03:32.423Z"
   },
   {
    "duration": 0,
    "start_time": "2022-12-08T20:03:32.424Z"
   },
   {
    "duration": 0,
    "start_time": "2022-12-08T20:03:32.425Z"
   },
   {
    "duration": 1,
    "start_time": "2022-12-08T20:03:32.425Z"
   },
   {
    "duration": 0,
    "start_time": "2022-12-08T20:03:32.426Z"
   },
   {
    "duration": 0,
    "start_time": "2022-12-08T20:03:32.427Z"
   },
   {
    "duration": 0,
    "start_time": "2022-12-08T20:03:32.428Z"
   },
   {
    "duration": 0,
    "start_time": "2022-12-08T20:03:32.429Z"
   },
   {
    "duration": 0,
    "start_time": "2022-12-08T20:03:32.431Z"
   },
   {
    "duration": 0,
    "start_time": "2022-12-08T20:03:32.433Z"
   },
   {
    "duration": 0,
    "start_time": "2022-12-08T20:03:32.434Z"
   },
   {
    "duration": 0,
    "start_time": "2022-12-08T20:03:32.436Z"
   },
   {
    "duration": 0,
    "start_time": "2022-12-08T20:03:32.437Z"
   },
   {
    "duration": 0,
    "start_time": "2022-12-08T20:03:32.438Z"
   },
   {
    "duration": 0,
    "start_time": "2022-12-08T20:03:32.448Z"
   },
   {
    "duration": 0,
    "start_time": "2022-12-08T20:03:32.450Z"
   },
   {
    "duration": 0,
    "start_time": "2022-12-08T20:03:32.451Z"
   },
   {
    "duration": 0,
    "start_time": "2022-12-08T20:03:32.504Z"
   },
   {
    "duration": 0,
    "start_time": "2022-12-08T20:03:32.505Z"
   },
   {
    "duration": 0,
    "start_time": "2022-12-08T20:03:32.506Z"
   },
   {
    "duration": 0,
    "start_time": "2022-12-08T20:03:32.506Z"
   },
   {
    "duration": 0,
    "start_time": "2022-12-08T20:03:32.507Z"
   },
   {
    "duration": 0,
    "start_time": "2022-12-08T20:03:32.507Z"
   },
   {
    "duration": 0,
    "start_time": "2022-12-08T20:03:32.508Z"
   },
   {
    "duration": 0,
    "start_time": "2022-12-08T20:03:32.509Z"
   },
   {
    "duration": 1237,
    "start_time": "2022-12-08T20:04:41.798Z"
   },
   {
    "duration": 194,
    "start_time": "2022-12-08T20:04:43.038Z"
   },
   {
    "duration": 14,
    "start_time": "2022-12-08T20:04:43.233Z"
   },
   {
    "duration": 2472,
    "start_time": "2022-12-08T20:04:43.249Z"
   },
   {
    "duration": 26,
    "start_time": "2022-12-08T20:04:45.724Z"
   },
   {
    "duration": 6,
    "start_time": "2022-12-08T20:04:45.751Z"
   },
   {
    "duration": 88,
    "start_time": "2022-12-08T20:04:45.759Z"
   },
   {
    "duration": 6,
    "start_time": "2022-12-08T20:04:45.848Z"
   },
   {
    "duration": 15,
    "start_time": "2022-12-08T20:04:45.856Z"
   },
   {
    "duration": 4,
    "start_time": "2022-12-08T20:04:45.875Z"
   },
   {
    "duration": 37,
    "start_time": "2022-12-08T20:04:45.881Z"
   },
   {
    "duration": 7,
    "start_time": "2022-12-08T20:04:45.919Z"
   },
   {
    "duration": 7,
    "start_time": "2022-12-08T20:04:45.928Z"
   },
   {
    "duration": 10,
    "start_time": "2022-12-08T20:04:45.937Z"
   },
   {
    "duration": 11,
    "start_time": "2022-12-08T20:04:45.948Z"
   },
   {
    "duration": 59,
    "start_time": "2022-12-08T20:04:45.961Z"
   },
   {
    "duration": 10,
    "start_time": "2022-12-08T20:04:46.022Z"
   },
   {
    "duration": 8,
    "start_time": "2022-12-08T20:04:46.034Z"
   },
   {
    "duration": 289,
    "start_time": "2022-12-08T20:04:46.044Z"
   },
   {
    "duration": 8,
    "start_time": "2022-12-08T20:04:46.334Z"
   },
   {
    "duration": 352,
    "start_time": "2022-12-08T20:04:46.343Z"
   },
   {
    "duration": 20,
    "start_time": "2022-12-08T20:04:46.696Z"
   },
   {
    "duration": 17,
    "start_time": "2022-12-08T20:04:46.717Z"
   },
   {
    "duration": 15,
    "start_time": "2022-12-08T20:04:46.735Z"
   },
   {
    "duration": 8,
    "start_time": "2022-12-08T20:04:46.752Z"
   },
   {
    "duration": 7,
    "start_time": "2022-12-08T20:04:46.761Z"
   },
   {
    "duration": 12,
    "start_time": "2022-12-08T20:04:46.770Z"
   },
   {
    "duration": 4,
    "start_time": "2022-12-08T20:04:46.786Z"
   },
   {
    "duration": 73,
    "start_time": "2022-12-08T20:04:46.791Z"
   },
   {
    "duration": 14,
    "start_time": "2022-12-08T20:04:46.866Z"
   },
   {
    "duration": 38,
    "start_time": "2022-12-08T20:04:46.882Z"
   },
   {
    "duration": 5443,
    "start_time": "2022-12-08T20:04:46.922Z"
   },
   {
    "duration": 5,
    "start_time": "2022-12-08T20:04:52.366Z"
   },
   {
    "duration": 6,
    "start_time": "2022-12-08T20:04:52.373Z"
   },
   {
    "duration": 28,
    "start_time": "2022-12-08T20:04:52.380Z"
   },
   {
    "duration": 12,
    "start_time": "2022-12-08T20:04:52.412Z"
   },
   {
    "duration": 12,
    "start_time": "2022-12-08T20:04:52.426Z"
   },
   {
    "duration": 5,
    "start_time": "2022-12-08T20:04:52.440Z"
   },
   {
    "duration": 8,
    "start_time": "2022-12-08T20:04:52.446Z"
   },
   {
    "duration": 339,
    "start_time": "2022-12-08T20:04:52.455Z"
   },
   {
    "duration": 23,
    "start_time": "2022-12-08T20:04:52.796Z"
   },
   {
    "duration": 16,
    "start_time": "2022-12-08T20:04:52.826Z"
   },
   {
    "duration": 17,
    "start_time": "2022-12-08T20:04:52.844Z"
   },
   {
    "duration": 29,
    "start_time": "2022-12-08T20:04:52.863Z"
   },
   {
    "duration": 23,
    "start_time": "2022-12-08T20:04:52.894Z"
   },
   {
    "duration": 309,
    "start_time": "2022-12-08T20:04:52.919Z"
   },
   {
    "duration": 3,
    "start_time": "2022-12-08T20:04:53.230Z"
   },
   {
    "duration": 42,
    "start_time": "2022-12-08T20:04:53.235Z"
   },
   {
    "duration": 45,
    "start_time": "2022-12-08T20:04:53.279Z"
   },
   {
    "duration": 26,
    "start_time": "2022-12-08T20:04:53.326Z"
   },
   {
    "duration": 191,
    "start_time": "2022-12-08T20:04:53.354Z"
   },
   {
    "duration": 787,
    "start_time": "2022-12-08T20:04:53.547Z"
   },
   {
    "duration": 9,
    "start_time": "2022-12-08T20:04:54.336Z"
   },
   {
    "duration": 1544,
    "start_time": "2022-12-08T20:04:54.346Z"
   },
   {
    "duration": 25,
    "start_time": "2022-12-08T20:04:55.892Z"
   },
   {
    "duration": 273,
    "start_time": "2022-12-08T20:04:55.919Z"
   },
   {
    "duration": 131,
    "start_time": "2022-12-08T20:04:56.193Z"
   },
   {
    "duration": 9,
    "start_time": "2022-12-08T20:04:56.325Z"
   },
   {
    "duration": 383,
    "start_time": "2022-12-08T20:04:56.336Z"
   },
   {
    "duration": 11,
    "start_time": "2022-12-08T20:04:56.720Z"
   },
   {
    "duration": 491,
    "start_time": "2022-12-08T20:04:56.733Z"
   },
   {
    "duration": 92,
    "start_time": "2022-12-08T20:04:57.226Z"
   },
   {
    "duration": 11,
    "start_time": "2022-12-08T20:04:57.322Z"
   },
   {
    "duration": 226,
    "start_time": "2022-12-08T20:04:57.334Z"
   },
   {
    "duration": 178,
    "start_time": "2022-12-08T20:04:57.561Z"
   },
   {
    "duration": 201,
    "start_time": "2022-12-08T20:04:57.741Z"
   },
   {
    "duration": 7,
    "start_time": "2022-12-08T20:04:57.944Z"
   },
   {
    "duration": 137,
    "start_time": "2022-12-08T20:04:57.953Z"
   },
   {
    "duration": 206,
    "start_time": "2022-12-08T20:04:58.092Z"
   },
   {
    "duration": 998,
    "start_time": "2022-12-08T20:04:58.299Z"
   },
   {
    "duration": 27,
    "start_time": "2022-12-08T20:04:59.298Z"
   },
   {
    "duration": 599,
    "start_time": "2022-12-08T20:04:59.327Z"
   },
   {
    "duration": 202,
    "start_time": "2022-12-08T20:04:59.928Z"
   },
   {
    "duration": 5,
    "start_time": "2022-12-08T20:05:00.133Z"
   },
   {
    "duration": 68,
    "start_time": "2022-12-08T20:05:00.149Z"
   },
   {
    "duration": 229,
    "start_time": "2022-12-08T20:05:00.220Z"
   },
   {
    "duration": 7,
    "start_time": "2022-12-08T20:05:00.451Z"
   },
   {
    "duration": 280,
    "start_time": "2022-12-08T20:05:00.459Z"
   },
   {
    "duration": 6,
    "start_time": "2022-12-08T20:05:00.741Z"
   },
   {
    "duration": 253,
    "start_time": "2022-12-08T20:05:00.749Z"
   },
   {
    "duration": 150,
    "start_time": "2022-12-08T20:05:01.004Z"
   },
   {
    "duration": 168,
    "start_time": "2022-12-08T20:05:01.159Z"
   },
   {
    "duration": 372,
    "start_time": "2022-12-08T20:05:01.329Z"
   },
   {
    "duration": 175,
    "start_time": "2022-12-08T20:05:01.703Z"
   },
   {
    "duration": 180,
    "start_time": "2022-12-08T20:05:01.879Z"
   },
   {
    "duration": 3563,
    "start_time": "2022-12-08T20:05:02.060Z"
   },
   {
    "duration": 6,
    "start_time": "2022-12-08T20:05:05.625Z"
   },
   {
    "duration": 57,
    "start_time": "2022-12-08T20:05:05.632Z"
   },
   {
    "duration": 54,
    "start_time": "2022-12-08T20:05:05.691Z"
   },
   {
    "duration": 18,
    "start_time": "2022-12-08T20:05:05.747Z"
   },
   {
    "duration": 161,
    "start_time": "2022-12-08T20:05:05.766Z"
   },
   {
    "duration": 1271,
    "start_time": "2022-12-08T20:11:57.765Z"
   },
   {
    "duration": 139,
    "start_time": "2022-12-08T20:11:59.038Z"
   },
   {
    "duration": 15,
    "start_time": "2022-12-08T20:11:59.179Z"
   },
   {
    "duration": 2561,
    "start_time": "2022-12-08T20:11:59.196Z"
   },
   {
    "duration": 27,
    "start_time": "2022-12-08T20:12:01.760Z"
   },
   {
    "duration": 7,
    "start_time": "2022-12-08T20:12:01.789Z"
   },
   {
    "duration": 86,
    "start_time": "2022-12-08T20:12:01.797Z"
   },
   {
    "duration": 7,
    "start_time": "2022-12-08T20:12:01.885Z"
   },
   {
    "duration": 26,
    "start_time": "2022-12-08T20:12:01.894Z"
   },
   {
    "duration": 21,
    "start_time": "2022-12-08T20:12:01.921Z"
   },
   {
    "duration": 15,
    "start_time": "2022-12-08T20:12:01.945Z"
   },
   {
    "duration": 5,
    "start_time": "2022-12-08T20:12:01.962Z"
   },
   {
    "duration": 8,
    "start_time": "2022-12-08T20:12:01.969Z"
   },
   {
    "duration": 12,
    "start_time": "2022-12-08T20:12:01.981Z"
   },
   {
    "duration": 11,
    "start_time": "2022-12-08T20:12:01.994Z"
   },
   {
    "duration": 59,
    "start_time": "2022-12-08T20:12:02.007Z"
   },
   {
    "duration": 7,
    "start_time": "2022-12-08T20:12:02.068Z"
   },
   {
    "duration": 125,
    "start_time": "2022-12-08T20:12:02.076Z"
   },
   {
    "duration": 0,
    "start_time": "2022-12-08T20:12:02.203Z"
   },
   {
    "duration": 0,
    "start_time": "2022-12-08T20:12:02.204Z"
   },
   {
    "duration": 0,
    "start_time": "2022-12-08T20:12:02.205Z"
   },
   {
    "duration": 0,
    "start_time": "2022-12-08T20:12:02.206Z"
   },
   {
    "duration": 0,
    "start_time": "2022-12-08T20:12:02.206Z"
   },
   {
    "duration": 0,
    "start_time": "2022-12-08T20:12:02.207Z"
   },
   {
    "duration": 0,
    "start_time": "2022-12-08T20:12:02.212Z"
   },
   {
    "duration": 0,
    "start_time": "2022-12-08T20:12:02.213Z"
   },
   {
    "duration": 0,
    "start_time": "2022-12-08T20:12:02.218Z"
   },
   {
    "duration": 0,
    "start_time": "2022-12-08T20:12:02.218Z"
   },
   {
    "duration": 0,
    "start_time": "2022-12-08T20:12:02.219Z"
   },
   {
    "duration": 0,
    "start_time": "2022-12-08T20:12:02.220Z"
   },
   {
    "duration": 0,
    "start_time": "2022-12-08T20:12:02.220Z"
   },
   {
    "duration": 0,
    "start_time": "2022-12-08T20:12:02.221Z"
   },
   {
    "duration": 0,
    "start_time": "2022-12-08T20:12:02.232Z"
   },
   {
    "duration": 0,
    "start_time": "2022-12-08T20:12:02.232Z"
   },
   {
    "duration": 0,
    "start_time": "2022-12-08T20:12:02.233Z"
   },
   {
    "duration": 0,
    "start_time": "2022-12-08T20:12:02.233Z"
   },
   {
    "duration": 0,
    "start_time": "2022-12-08T20:12:02.234Z"
   },
   {
    "duration": 0,
    "start_time": "2022-12-08T20:12:02.234Z"
   },
   {
    "duration": 0,
    "start_time": "2022-12-08T20:12:02.238Z"
   },
   {
    "duration": 0,
    "start_time": "2022-12-08T20:12:02.239Z"
   },
   {
    "duration": 0,
    "start_time": "2022-12-08T20:12:02.240Z"
   },
   {
    "duration": 0,
    "start_time": "2022-12-08T20:12:02.241Z"
   },
   {
    "duration": 0,
    "start_time": "2022-12-08T20:12:02.242Z"
   },
   {
    "duration": 0,
    "start_time": "2022-12-08T20:12:02.243Z"
   },
   {
    "duration": 0,
    "start_time": "2022-12-08T20:12:02.243Z"
   },
   {
    "duration": 0,
    "start_time": "2022-12-08T20:12:02.245Z"
   },
   {
    "duration": 0,
    "start_time": "2022-12-08T20:12:02.246Z"
   },
   {
    "duration": 0,
    "start_time": "2022-12-08T20:12:02.246Z"
   },
   {
    "duration": 0,
    "start_time": "2022-12-08T20:12:02.247Z"
   },
   {
    "duration": 0,
    "start_time": "2022-12-08T20:12:02.248Z"
   },
   {
    "duration": 0,
    "start_time": "2022-12-08T20:12:02.249Z"
   },
   {
    "duration": 0,
    "start_time": "2022-12-08T20:12:02.250Z"
   },
   {
    "duration": 0,
    "start_time": "2022-12-08T20:12:02.251Z"
   },
   {
    "duration": 0,
    "start_time": "2022-12-08T20:12:02.252Z"
   },
   {
    "duration": 0,
    "start_time": "2022-12-08T20:12:02.253Z"
   },
   {
    "duration": 1,
    "start_time": "2022-12-08T20:12:02.254Z"
   },
   {
    "duration": 0,
    "start_time": "2022-12-08T20:12:02.255Z"
   },
   {
    "duration": 0,
    "start_time": "2022-12-08T20:12:02.256Z"
   },
   {
    "duration": 0,
    "start_time": "2022-12-08T20:12:02.257Z"
   },
   {
    "duration": 0,
    "start_time": "2022-12-08T20:12:02.258Z"
   },
   {
    "duration": 0,
    "start_time": "2022-12-08T20:12:02.259Z"
   },
   {
    "duration": 0,
    "start_time": "2022-12-08T20:12:02.260Z"
   },
   {
    "duration": 0,
    "start_time": "2022-12-08T20:12:02.261Z"
   },
   {
    "duration": 0,
    "start_time": "2022-12-08T20:12:02.262Z"
   },
   {
    "duration": 0,
    "start_time": "2022-12-08T20:12:02.263Z"
   },
   {
    "duration": 0,
    "start_time": "2022-12-08T20:12:02.264Z"
   },
   {
    "duration": 0,
    "start_time": "2022-12-08T20:12:02.265Z"
   },
   {
    "duration": 0,
    "start_time": "2022-12-08T20:12:02.266Z"
   },
   {
    "duration": 0,
    "start_time": "2022-12-08T20:12:02.267Z"
   },
   {
    "duration": 1,
    "start_time": "2022-12-08T20:12:02.316Z"
   },
   {
    "duration": 0,
    "start_time": "2022-12-08T20:12:02.317Z"
   },
   {
    "duration": 0,
    "start_time": "2022-12-08T20:12:02.318Z"
   },
   {
    "duration": 0,
    "start_time": "2022-12-08T20:12:02.319Z"
   },
   {
    "duration": 0,
    "start_time": "2022-12-08T20:12:02.319Z"
   },
   {
    "duration": 0,
    "start_time": "2022-12-08T20:12:02.321Z"
   },
   {
    "duration": 0,
    "start_time": "2022-12-08T20:12:02.321Z"
   },
   {
    "duration": 0,
    "start_time": "2022-12-08T20:12:02.322Z"
   },
   {
    "duration": 0,
    "start_time": "2022-12-08T20:12:02.323Z"
   },
   {
    "duration": 0,
    "start_time": "2022-12-08T20:12:02.324Z"
   },
   {
    "duration": 0,
    "start_time": "2022-12-08T20:12:02.325Z"
   },
   {
    "duration": 0,
    "start_time": "2022-12-08T20:12:02.325Z"
   },
   {
    "duration": 0,
    "start_time": "2022-12-08T20:12:02.326Z"
   },
   {
    "duration": 0,
    "start_time": "2022-12-08T20:12:02.327Z"
   },
   {
    "duration": 0,
    "start_time": "2022-12-08T20:12:02.328Z"
   },
   {
    "duration": 0,
    "start_time": "2022-12-08T20:12:02.328Z"
   },
   {
    "duration": 0,
    "start_time": "2022-12-08T20:12:02.329Z"
   },
   {
    "duration": 0,
    "start_time": "2022-12-08T20:12:02.330Z"
   },
   {
    "duration": 0,
    "start_time": "2022-12-08T20:12:02.332Z"
   },
   {
    "duration": 0,
    "start_time": "2022-12-08T20:12:02.333Z"
   },
   {
    "duration": 0,
    "start_time": "2022-12-08T20:12:02.334Z"
   },
   {
    "duration": 0,
    "start_time": "2022-12-08T20:12:02.334Z"
   },
   {
    "duration": 10,
    "start_time": "2022-12-08T20:12:57.452Z"
   },
   {
    "duration": 3,
    "start_time": "2022-12-08T20:13:06.880Z"
   },
   {
    "duration": 170,
    "start_time": "2022-12-08T20:13:07.476Z"
   },
   {
    "duration": 29,
    "start_time": "2022-12-08T20:13:08.211Z"
   },
   {
    "duration": 2512,
    "start_time": "2022-12-08T20:13:08.657Z"
   },
   {
    "duration": 43,
    "start_time": "2022-12-08T20:13:11.172Z"
   },
   {
    "duration": 7,
    "start_time": "2022-12-08T20:13:13.453Z"
   },
   {
    "duration": 122,
    "start_time": "2022-12-08T20:13:13.893Z"
   },
   {
    "duration": 6,
    "start_time": "2022-12-08T20:13:14.863Z"
   },
   {
    "duration": 8,
    "start_time": "2022-12-08T20:13:15.852Z"
   },
   {
    "duration": 9,
    "start_time": "2022-12-08T20:13:16.813Z"
   },
   {
    "duration": 8,
    "start_time": "2022-12-08T20:13:17.756Z"
   },
   {
    "duration": 7,
    "start_time": "2022-12-08T20:13:18.748Z"
   },
   {
    "duration": 6,
    "start_time": "2022-12-08T20:13:20.248Z"
   },
   {
    "duration": 11,
    "start_time": "2022-12-08T20:13:20.689Z"
   },
   {
    "duration": 14,
    "start_time": "2022-12-08T20:13:21.171Z"
   },
   {
    "duration": 32,
    "start_time": "2022-12-08T20:13:22.164Z"
   },
   {
    "duration": 6,
    "start_time": "2022-12-08T20:13:22.653Z"
   },
   {
    "duration": 10,
    "start_time": "2022-12-08T20:13:26.028Z"
   },
   {
    "duration": 12,
    "start_time": "2022-12-08T20:13:40.538Z"
   },
   {
    "duration": 125,
    "start_time": "2022-12-08T20:13:48.343Z"
   },
   {
    "duration": 7,
    "start_time": "2022-12-08T20:13:59.736Z"
   },
   {
    "duration": 26,
    "start_time": "2022-12-08T20:14:09.066Z"
   },
   {
    "duration": 8,
    "start_time": "2022-12-08T20:14:36.544Z"
   },
   {
    "duration": 37,
    "start_time": "2022-12-08T20:14:47.226Z"
   },
   {
    "duration": 7,
    "start_time": "2022-12-08T20:15:08.861Z"
   },
   {
    "duration": 8,
    "start_time": "2022-12-08T20:15:11.856Z"
   },
   {
    "duration": 1270,
    "start_time": "2022-12-08T20:15:23.860Z"
   },
   {
    "duration": 128,
    "start_time": "2022-12-08T20:15:25.137Z"
   },
   {
    "duration": 14,
    "start_time": "2022-12-08T20:15:25.267Z"
   },
   {
    "duration": 2514,
    "start_time": "2022-12-08T20:15:25.283Z"
   },
   {
    "duration": 29,
    "start_time": "2022-12-08T20:15:27.799Z"
   },
   {
    "duration": 11,
    "start_time": "2022-12-08T20:15:27.830Z"
   },
   {
    "duration": 68,
    "start_time": "2022-12-08T20:15:27.843Z"
   },
   {
    "duration": 6,
    "start_time": "2022-12-08T20:15:27.912Z"
   },
   {
    "duration": 43,
    "start_time": "2022-12-08T20:15:27.920Z"
   },
   {
    "duration": 7,
    "start_time": "2022-12-08T20:15:27.965Z"
   },
   {
    "duration": 49,
    "start_time": "2022-12-08T20:15:27.973Z"
   },
   {
    "duration": 29,
    "start_time": "2022-12-08T20:15:28.023Z"
   },
   {
    "duration": 17,
    "start_time": "2022-12-08T20:15:28.054Z"
   },
   {
    "duration": 26,
    "start_time": "2022-12-08T20:15:28.073Z"
   },
   {
    "duration": 49,
    "start_time": "2022-12-08T20:15:28.100Z"
   },
   {
    "duration": 27,
    "start_time": "2022-12-08T20:15:28.151Z"
   },
   {
    "duration": 12,
    "start_time": "2022-12-08T20:15:28.180Z"
   },
   {
    "duration": 7,
    "start_time": "2022-12-08T20:15:28.194Z"
   },
   {
    "duration": 280,
    "start_time": "2022-12-08T20:15:28.203Z"
   },
   {
    "duration": 9,
    "start_time": "2022-12-08T20:15:28.485Z"
   },
   {
    "duration": 338,
    "start_time": "2022-12-08T20:15:28.504Z"
   },
   {
    "duration": 6,
    "start_time": "2022-12-08T20:15:28.843Z"
   },
   {
    "duration": 11,
    "start_time": "2022-12-08T20:15:28.851Z"
   },
   {
    "duration": 14,
    "start_time": "2022-12-08T20:15:28.864Z"
   },
   {
    "duration": 27,
    "start_time": "2022-12-08T20:15:28.880Z"
   },
   {
    "duration": 22,
    "start_time": "2022-12-08T20:15:28.914Z"
   },
   {
    "duration": 9,
    "start_time": "2022-12-08T20:15:28.938Z"
   },
   {
    "duration": 4,
    "start_time": "2022-12-08T20:15:28.950Z"
   },
   {
    "duration": 45,
    "start_time": "2022-12-08T20:15:28.955Z"
   },
   {
    "duration": 23,
    "start_time": "2022-12-08T20:15:29.002Z"
   },
   {
    "duration": 31,
    "start_time": "2022-12-08T20:15:29.031Z"
   },
   {
    "duration": 4962,
    "start_time": "2022-12-08T20:15:29.063Z"
   },
   {
    "duration": 10,
    "start_time": "2022-12-08T20:15:34.026Z"
   },
   {
    "duration": 23,
    "start_time": "2022-12-08T20:15:34.037Z"
   },
   {
    "duration": 17,
    "start_time": "2022-12-08T20:15:34.062Z"
   },
   {
    "duration": 18,
    "start_time": "2022-12-08T20:15:34.080Z"
   },
   {
    "duration": 33,
    "start_time": "2022-12-08T20:15:34.100Z"
   },
   {
    "duration": 23,
    "start_time": "2022-12-08T20:15:34.134Z"
   },
   {
    "duration": 23,
    "start_time": "2022-12-08T20:15:34.159Z"
   },
   {
    "duration": 315,
    "start_time": "2022-12-08T20:15:34.184Z"
   },
   {
    "duration": 28,
    "start_time": "2022-12-08T20:15:34.501Z"
   },
   {
    "duration": 17,
    "start_time": "2022-12-08T20:15:34.535Z"
   },
   {
    "duration": 16,
    "start_time": "2022-12-08T20:15:34.553Z"
   },
   {
    "duration": 45,
    "start_time": "2022-12-08T20:15:34.571Z"
   },
   {
    "duration": 15,
    "start_time": "2022-12-08T20:15:34.617Z"
   },
   {
    "duration": 301,
    "start_time": "2022-12-08T20:15:34.633Z"
   },
   {
    "duration": 5,
    "start_time": "2022-12-08T20:15:34.936Z"
   },
   {
    "duration": 35,
    "start_time": "2022-12-08T20:15:34.942Z"
   },
   {
    "duration": 40,
    "start_time": "2022-12-08T20:15:34.979Z"
   },
   {
    "duration": 29,
    "start_time": "2022-12-08T20:15:35.025Z"
   },
   {
    "duration": 182,
    "start_time": "2022-12-08T20:15:35.056Z"
   },
   {
    "duration": 794,
    "start_time": "2022-12-08T20:15:35.240Z"
   },
   {
    "duration": 10,
    "start_time": "2022-12-08T20:15:36.035Z"
   },
   {
    "duration": 1707,
    "start_time": "2022-12-08T20:15:36.046Z"
   },
   {
    "duration": 14,
    "start_time": "2022-12-08T20:15:37.755Z"
   },
   {
    "duration": 288,
    "start_time": "2022-12-08T20:15:37.772Z"
   },
   {
    "duration": 118,
    "start_time": "2022-12-08T20:15:38.061Z"
   },
   {
    "duration": 13,
    "start_time": "2022-12-08T20:15:38.180Z"
   },
   {
    "duration": 416,
    "start_time": "2022-12-08T20:15:38.194Z"
   },
   {
    "duration": 14,
    "start_time": "2022-12-08T20:15:38.612Z"
   },
   {
    "duration": 442,
    "start_time": "2022-12-08T20:15:38.630Z"
   },
   {
    "duration": 104,
    "start_time": "2022-12-08T20:15:39.074Z"
   },
   {
    "duration": 8,
    "start_time": "2022-12-08T20:15:39.180Z"
   },
   {
    "duration": 181,
    "start_time": "2022-12-08T20:15:39.189Z"
   },
   {
    "duration": 163,
    "start_time": "2022-12-08T20:15:39.371Z"
   },
   {
    "duration": 151,
    "start_time": "2022-12-08T20:15:39.536Z"
   },
   {
    "duration": 7,
    "start_time": "2022-12-08T20:15:39.688Z"
   },
   {
    "duration": 34,
    "start_time": "2022-12-08T20:15:39.697Z"
   },
   {
    "duration": 134,
    "start_time": "2022-12-08T20:15:39.733Z"
   },
   {
    "duration": 868,
    "start_time": "2022-12-08T20:15:39.869Z"
   },
   {
    "duration": 14,
    "start_time": "2022-12-08T20:15:40.739Z"
   },
   {
    "duration": 489,
    "start_time": "2022-12-08T20:15:40.755Z"
   },
   {
    "duration": 195,
    "start_time": "2022-12-08T20:15:41.246Z"
   },
   {
    "duration": 6,
    "start_time": "2022-12-08T20:15:41.442Z"
   },
   {
    "duration": 28,
    "start_time": "2022-12-08T20:15:41.449Z"
   },
   {
    "duration": 187,
    "start_time": "2022-12-08T20:15:41.479Z"
   },
   {
    "duration": 5,
    "start_time": "2022-12-08T20:15:41.668Z"
   },
   {
    "duration": 197,
    "start_time": "2022-12-08T20:15:41.674Z"
   },
   {
    "duration": 5,
    "start_time": "2022-12-08T20:15:41.873Z"
   },
   {
    "duration": 199,
    "start_time": "2022-12-08T20:15:41.879Z"
   },
   {
    "duration": 172,
    "start_time": "2022-12-08T20:15:42.080Z"
   },
   {
    "duration": 181,
    "start_time": "2022-12-08T20:15:42.258Z"
   },
   {
    "duration": 350,
    "start_time": "2022-12-08T20:15:42.441Z"
   },
   {
    "duration": 181,
    "start_time": "2022-12-08T20:15:42.793Z"
   },
   {
    "duration": 173,
    "start_time": "2022-12-08T20:15:42.975Z"
   },
   {
    "duration": 3659,
    "start_time": "2022-12-08T20:15:43.150Z"
   },
   {
    "duration": 14,
    "start_time": "2022-12-08T20:15:46.816Z"
   },
   {
    "duration": 23,
    "start_time": "2022-12-08T20:15:46.838Z"
   },
   {
    "duration": 27,
    "start_time": "2022-12-08T20:15:46.863Z"
   },
   {
    "duration": 26,
    "start_time": "2022-12-08T20:15:46.907Z"
   },
   {
    "duration": 143,
    "start_time": "2022-12-08T20:15:46.935Z"
   }
  ],
  "kernelspec": {
   "display_name": "Python 3 (ipykernel)",
   "language": "python",
   "name": "python3"
  },
  "language_info": {
   "codemirror_mode": {
    "name": "ipython",
    "version": 3
   },
   "file_extension": ".py",
   "mimetype": "text/x-python",
   "name": "python",
   "nbconvert_exporter": "python",
   "pygments_lexer": "ipython3",
   "version": "3.9.5"
  },
  "toc": {
   "base_numbering": 1,
   "nav_menu": {},
   "number_sections": true,
   "sideBar": true,
   "skip_h1_title": true,
   "title_cell": "Table of Contents",
   "title_sidebar": "Contents",
   "toc_cell": false,
   "toc_position": {
    "height": "calc(100% - 180px)",
    "left": "10px",
    "top": "150px",
    "width": "165px"
   },
   "toc_section_display": true,
   "toc_window_display": true
  }
 },
 "nbformat": 4,
 "nbformat_minor": 2
}

{
 "cells": [
  {
   "cell_type": "markdown",
   "metadata": {},
   "source": [
    "# Рекомендация тарифов"
   ]
  },
  {
   "cell_type": "markdown",
   "metadata": {},
   "source": [
    "В вашем распоряжении данные о поведении клиентов, которые уже перешли на тарифы \"Смарт\" и \"Ультра\". Нужно построить модель для задачи классификации, которая выберет подходящий тариф.\n",
    "\n",
    "Что сделаем?\n",
    "\n",
    "Исследуем 4 модели на обучающей и валидационной выборках и выберем наилучшую по критерию \"наибольшее значение accuracy\". Прогоним модель на тестовой выборке и проведем проверку на вменяемость."
   ]
  },
  {
   "cell_type": "markdown",
   "metadata": {},
   "source": [
    "## Откроем и изучим файл"
   ]
  },
  {
   "cell_type": "code",
   "execution_count": 2,
   "metadata": {},
   "outputs": [],
   "source": [
    "import pandas as pd\n",
    "import numpy as np\n",
    "import matplotlib.pyplot as plt\n",
    "import seaborn as sns\n",
    "from sklearn import tree\n",
    "from sklearn.tree import DecisionTreeClassifier\n",
    "from sklearn.ensemble import RandomForestClassifier\n",
    "from sklearn.linear_model import LogisticRegression\n",
    "from sklearn.neighbors import KNeighborsClassifier\n",
    "from sklearn.metrics import accuracy_score, precision_score, recall_score, f1_score, confusion_matrix\n",
    "from sklearn.model_selection import train_test_split\n",
    "from sklearn.dummy import DummyClassifier"
   ]
  },
  {
   "cell_type": "code",
   "execution_count": 2,
   "metadata": {},
   "outputs": [
    {
     "name": "stdout",
     "output_type": "stream",
     "text": [
      "<class 'pandas.core.frame.DataFrame'>\n",
      "RangeIndex: 3214 entries, 0 to 3213\n",
      "Data columns (total 5 columns):\n",
      " #   Column    Non-Null Count  Dtype  \n",
      "---  ------    --------------  -----  \n",
      " 0   calls     3214 non-null   float64\n",
      " 1   minutes   3214 non-null   float64\n",
      " 2   messages  3214 non-null   float64\n",
      " 3   mb_used   3214 non-null   float64\n",
      " 4   is_ultra  3214 non-null   int64  \n",
      "dtypes: float64(4), int64(1)\n",
      "memory usage: 125.7 KB\n"
     ]
    }
   ],
   "source": [
    "try:\n",
    "    df = pd.read_csv('C:/Users/borod/OneDrive/Рабочий стол/DS/project5_tarifs/users_behavior.csv')\n",
    "except:\n",
    "    df = pd.read_csv('/datasets/users_behavior.csv')\n",
    "df.info()"
   ]
  },
  {
   "cell_type": "markdown",
   "metadata": {},
   "source": [
    "Пропусков нет, можем работать с данными!"
   ]
  },
  {
   "cell_type": "code",
   "execution_count": 3,
   "metadata": {},
   "outputs": [
    {
     "data": {
      "text/html": [
       "<div>\n",
       "<style scoped>\n",
       "    .dataframe tbody tr th:only-of-type {\n",
       "        vertical-align: middle;\n",
       "    }\n",
       "\n",
       "    .dataframe tbody tr th {\n",
       "        vertical-align: top;\n",
       "    }\n",
       "\n",
       "    .dataframe thead th {\n",
       "        text-align: right;\n",
       "    }\n",
       "</style>\n",
       "<table border=\"1\" class=\"dataframe\">\n",
       "  <thead>\n",
       "    <tr style=\"text-align: right;\">\n",
       "      <th></th>\n",
       "      <th>calls</th>\n",
       "      <th>minutes</th>\n",
       "      <th>messages</th>\n",
       "      <th>mb_used</th>\n",
       "      <th>is_ultra</th>\n",
       "    </tr>\n",
       "  </thead>\n",
       "  <tbody>\n",
       "    <tr>\n",
       "      <th>0</th>\n",
       "      <td>40.0</td>\n",
       "      <td>311.90</td>\n",
       "      <td>83.0</td>\n",
       "      <td>19915.42</td>\n",
       "      <td>0</td>\n",
       "    </tr>\n",
       "    <tr>\n",
       "      <th>1</th>\n",
       "      <td>85.0</td>\n",
       "      <td>516.75</td>\n",
       "      <td>56.0</td>\n",
       "      <td>22696.96</td>\n",
       "      <td>0</td>\n",
       "    </tr>\n",
       "    <tr>\n",
       "      <th>2</th>\n",
       "      <td>77.0</td>\n",
       "      <td>467.66</td>\n",
       "      <td>86.0</td>\n",
       "      <td>21060.45</td>\n",
       "      <td>0</td>\n",
       "    </tr>\n",
       "    <tr>\n",
       "      <th>3</th>\n",
       "      <td>106.0</td>\n",
       "      <td>745.53</td>\n",
       "      <td>81.0</td>\n",
       "      <td>8437.39</td>\n",
       "      <td>1</td>\n",
       "    </tr>\n",
       "    <tr>\n",
       "      <th>4</th>\n",
       "      <td>66.0</td>\n",
       "      <td>418.74</td>\n",
       "      <td>1.0</td>\n",
       "      <td>14502.75</td>\n",
       "      <td>0</td>\n",
       "    </tr>\n",
       "  </tbody>\n",
       "</table>\n",
       "</div>"
      ],
      "text/plain": [
       "   calls  minutes  messages   mb_used  is_ultra\n",
       "0   40.0   311.90      83.0  19915.42         0\n",
       "1   85.0   516.75      56.0  22696.96         0\n",
       "2   77.0   467.66      86.0  21060.45         0\n",
       "3  106.0   745.53      81.0   8437.39         1\n",
       "4   66.0   418.74       1.0  14502.75         0"
      ]
     },
     "execution_count": 3,
     "metadata": {},
     "output_type": "execute_result"
    }
   ],
   "source": [
    "df.head(5)"
   ]
  },
  {
   "cell_type": "markdown",
   "metadata": {},
   "source": [
    "Рассмотрим таблицу, для дальнейшего построения модели выделим признаки `calls`, `minutes`, `messages`, `mb_used`, и целевой признак - `is_ultra`. Целевой признак категориальный, здесь 1 означает, что клиент пользуется тарифом *Ultra*, а 0 - *Smart*, в связи с этим решается задача **бинарной классификации**."
   ]
  },
  {
   "cell_type": "code",
   "execution_count": 4,
   "metadata": {},
   "outputs": [
    {
     "data": {
      "text/plain": [
       "0    0.693528\n",
       "1    0.306472\n",
       "Name: is_ultra, dtype: float64"
      ]
     },
     "execution_count": 4,
     "metadata": {},
     "output_type": "execute_result"
    }
   ],
   "source": [
    "df['is_ultra'].value_counts(normalize=True)"
   ]
  },
  {
   "cell_type": "code",
   "execution_count": 5,
   "metadata": {},
   "outputs": [
    {
     "data": {
      "image/png": "[encoded data removed]",
      "text/plain": [
       "<Figure size 432x288 with 2 Axes>"
      ]
     },
     "metadata": {
      "needs_background": "light"
     },
     "output_type": "display_data"
    }
   ],
   "source": [
    "df_plot = sns.heatmap(df.corr(), cmap=\"YlGnBu\", annot=True)     \n",
    "plt.show()"
   ]
  },
  {
   "cell_type": "markdown",
   "metadata": {},
   "source": [
    "## Разобьем данные на выборки"
   ]
  },
  {
   "cell_type": "markdown",
   "metadata": {},
   "source": [
    "Разделим данные на три выборки: обучающую, валидационную и тестовую. В функции `train_test_split` укажем параметр `stratify` для равномерного распределения количества классов в наборах данных."
   ]
  },
  {
   "cell_type": "code",
   "execution_count": 6,
   "metadata": {},
   "outputs": [
    {
     "name": "stdout",
     "output_type": "stream",
     "text": [
      "Доли и размер выборок:\n",
      " Обучающая: 0.5998755444928439 , 1928 \n",
      " Валидационная: 0.2000622277535781 , 643 \n",
      " Тестовая: 0.2000622277535781 , 643\n"
     ]
    }
   ],
   "source": [
    "df_train, df_valid1 = train_test_split(df, test_size=0.4, random_state=12345, stratify = df['is_ultra'])\n",
    "df_test, df_valid = train_test_split(df_valid1, test_size=0.5, random_state=12345, stratify = df_valid1['is_ultra'])\n",
    "print('Доли и размер выборок:\\n Обучающая:', df_train.shape[0]/df.shape[0], ',',df_train.shape[0], \n",
    "      '\\n Валидационная:', df_valid.shape[0]/df.shape[0], ',',df_valid.shape[0],\n",
    "     '\\n Тестовая:',df_test.shape[0]/df.shape[0], ',',df_test.shape[0])"
   ]
  },
  {
   "cell_type": "markdown",
   "metadata": {},
   "source": [
    "## Исследуем модели"
   ]
  },
  {
   "cell_type": "markdown",
   "metadata": {},
   "source": [
    "Определим признаки и целевой признак в выборках."
   ]
  },
  {
   "cell_type": "code",
   "execution_count": 7,
   "metadata": {},
   "outputs": [],
   "source": [
    "#определяем признаки целевой признак в обучающей, валидационной и тестовой выборках.\n",
    "features_train = df_train.drop(['is_ultra'], axis=1)\n",
    "target_train = df_train['is_ultra']\n",
    "features_valid = df_valid.drop(['is_ultra'], axis=1)\n",
    "target_valid = df_valid['is_ultra']\n",
    "features_test = df_test.drop(['is_ultra'], axis=1)\n",
    "target_test = df_test['is_ultra']"
   ]
  },
  {
   "cell_type": "markdown",
   "metadata": {},
   "source": [
    "В рамках исследования выбрано четыре типа моделей: дерево решений, случайный лес, логистическая регрессия и K-ближайшие соседи. Приступим к реализации."
   ]
  },
  {
   "cell_type": "markdown",
   "metadata": {},
   "source": [
    "### Дерево решений"
   ]
  },
  {
   "cell_type": "code",
   "execution_count": 8,
   "metadata": {},
   "outputs": [
    {
     "name": "stdout",
     "output_type": "stream",
     "text": [
      "Максимальная глубина = 1 , Accuracy: 0.7293934681181959\n",
      "Максимальная глубина = 2 , Accuracy: 0.7682737169517885\n",
      "Максимальная глубина = 3 , Accuracy: 0.7993779160186625\n",
      "Максимальная глубина = 4 , Accuracy: 0.7744945567651633\n",
      "Максимальная глубина = 5 , Accuracy: 0.8118195956454122\n",
      "Максимальная глубина = 6 , Accuracy: 0.7993779160186625\n",
      "Максимальная глубина = 7 , Accuracy: 0.7978227060653188\n",
      "Максимальная глубина = 8 , Accuracy: 0.7838258164852255\n",
      "Максимальная глубина = 9 , Accuracy: 0.7947122861586314\n",
      "Максимальная глубина = 10 , Accuracy: 0.80248833592535\n",
      "Максимальная глубина = 11 , Accuracy: 0.7807153965785381\n",
      "Максимальная глубина = 12 , Accuracy: 0.7682737169517885\n",
      "Максимальная глубина = 13 , Accuracy: 0.7589424572317263\n",
      "Максимальная глубина = 14 , Accuracy: 0.7402799377916018\n",
      "Максимальная глубина = 15 , Accuracy: 0.7402799377916018\n",
      "Максимальная глубина = 16 , Accuracy: 0.7278382581648523\n",
      "Максимальная глубина = 17 , Accuracy: 0.7371695178849145\n",
      "Максимальная глубина = 18 , Accuracy: 0.7309486780715396\n",
      "Максимальная глубина = 19 , Accuracy: 0.7200622083981337\n",
      "Максимальная глубина = 20 , Accuracy: 0.7200622083981337\n"
     ]
    },
    {
     "data": {
      "image/png": "[encoded data removed]",
      "text/plain": [
       "<Figure size 432x288 with 1 Axes>"
      ]
     },
     "metadata": {
      "needs_background": "light"
     },
     "output_type": "display_data"
    }
   ],
   "source": [
    "depth_plt= []\n",
    "accuracy_plt = []\n",
    "for depth in range(1,21):\n",
    "    model = DecisionTreeClassifier(random_state=12345, max_depth=depth)\n",
    "    model.fit(features_train,target_train)\n",
    "    valid_predict = model.predict(features_valid)\n",
    "    result = accuracy_score(target_valid, valid_predict)\n",
    "    depth_plt.append(depth)\n",
    "    accuracy_plt.append(result)\n",
    "    print('Максимальная глубина =', depth, ', Accuracy:', result)\n",
    "plt.plot(depth_plt,accuracy_plt)\n",
    "plt.title('Зависимость accuracy от глубины дерева')\n",
    "plt.xlabel('глубина')\n",
    "plt.ylabel('accuracy')\n",
    "plt.grid()"
   ]
  },
  {
   "cell_type": "markdown",
   "metadata": {},
   "source": [
    "**Вывод**: наилучшее accuracy = 0.8118195956454122 достигается при глубине дерева = 5."
   ]
  },
  {
   "cell_type": "code",
   "execution_count": 9,
   "metadata": {},
   "outputs": [
    {
     "data": {
      "text/plain": [
       "[Text(167.4, 190.26, 'X[3] <= 24925.54\\ngini = 0.425\\nsamples = 1928\\nvalue = [1337, 591]'),\n",
       " Text(83.7, 135.9, 'X[0] <= 102.5\\ngini = 0.366\\nsamples = 1666\\nvalue = [1265, 401]'),\n",
       " Text(41.85, 81.53999999999999, 'X[2] <= 113.5\\ngini = 0.327\\nsamples = 1537\\nvalue = [1221, 316]'),\n",
       " Text(20.925, 27.180000000000007, 'gini = 0.307\\nsamples = 1503\\nvalue = [1218, 285]'),\n",
       " Text(62.775000000000006, 27.180000000000007, 'gini = 0.161\\nsamples = 34\\nvalue = [3, 31]'),\n",
       " Text(125.55000000000001, 81.53999999999999, 'X[0] <= 127.5\\ngini = 0.449\\nsamples = 129\\nvalue = [44, 85]'),\n",
       " Text(104.625, 27.180000000000007, 'gini = 0.496\\nsamples = 94\\nvalue = [43, 51]'),\n",
       " Text(146.475, 27.180000000000007, 'gini = 0.056\\nsamples = 35\\nvalue = [1, 34]'),\n",
       " Text(251.10000000000002, 135.9, 'X[3] <= 29078.215\\ngini = 0.399\\nsamples = 262\\nvalue = [72, 190]'),\n",
       " Text(209.25, 81.53999999999999, 'X[0] <= 86.5\\ngini = 0.481\\nsamples = 137\\nvalue = [55, 82]'),\n",
       " Text(188.32500000000002, 27.180000000000007, 'gini = 0.5\\nsamples = 91\\nvalue = [46, 45]'),\n",
       " Text(230.175, 27.180000000000007, 'gini = 0.315\\nsamples = 46\\nvalue = [9, 37]'),\n",
       " Text(292.95, 81.53999999999999, 'X[2] <= 25.5\\ngini = 0.235\\nsamples = 125\\nvalue = [17, 108]'),\n",
       " Text(272.02500000000003, 27.180000000000007, 'gini = 0.411\\nsamples = 45\\nvalue = [13, 32]'),\n",
       " Text(313.875, 27.180000000000007, 'gini = 0.095\\nsamples = 80\\nvalue = [4, 76]')]"
      ]
     },
     "execution_count": 9,
     "metadata": {},
     "output_type": "execute_result"
    },
    {
     "data": {
      "image/png": "[encoded data removed]",
      "text/plain": [
       "<Figure size 432x288 with 1 Axes>"
      ]
     },
     "metadata": {
      "needs_background": "light"
     },
     "output_type": "display_data"
    }
   ],
   "source": [
    "model_cl = DecisionTreeClassifier(random_state=12345, max_depth=3)\n",
    "model_cl.fit(features_train,target_train)\n",
    "tree.plot_tree(model_cl)"
   ]
  },
  {
   "cell_type": "markdown",
   "metadata": {},
   "source": [
    "### Случайный лес"
   ]
  },
  {
   "cell_type": "code",
   "execution_count": 10,
   "metadata": {},
   "outputs": [
    {
     "name": "stderr",
     "output_type": "stream",
     "text": [
      "100%|██████████| 55/55 [01:43<00:00,  1.87s/it]"
     ]
    },
    {
     "name": "stdout",
     "output_type": "stream",
     "text": [
      "Количество деревьев = 26 , leaf: 5 , accuracy: 0.8273716951788491\n"
     ]
    },
    {
     "name": "stderr",
     "output_type": "stream",
     "text": [
      "\n"
     ]
    }
   ],
   "source": [
    "from tqdm import tqdm\n",
    "est_plt = []\n",
    "accuracy_plt = []\n",
    "leaf_plt = []\n",
    "best_model = None\n",
    "best_result = 0\n",
    "best_est = 0\n",
    "best_leaf = 0\n",
    "for est in tqdm(range(3,58)):\n",
    "#for est in range(10, 56,5):\n",
    "    for leaf in range(2,20):\n",
    "        model = RandomForestClassifier(random_state=12345, n_estimators=est, min_samples_leaf=leaf)\n",
    "        model.fit(features_train,target_train)\n",
    "        valid_predict = model.predict(features_valid)\n",
    "        result = accuracy_score(target_valid, valid_predict) \n",
    "        est_plt.append(est)\n",
    "        accuracy_plt.append(result)\n",
    "        leaf_plt.append(leaf)\n",
    "        if result > best_result:\n",
    "            best_model = model\n",
    "            best_result = result\n",
    "            best_est = est\n",
    "            best_leaf = leaf\n",
    "print('Количество деревьев =', best_est, ', leaf:',best_leaf, ', accuracy:', best_result)\n",
    "#fig, ax = plt.subplots()\n",
    "#ax.scatter(est_plt, accuracy_plt)\n",
    "#ax.set(xlim=(0, 60), ylim=(0.78, 0.83))\n",
    "#ax.set_title(label = 'Зависимость accuracy от количества деревьев')\n",
    "#ax.set_xlabel(xlabel = 'деревья')\n",
    "#ax.set_ylabel(ylabel = 'accuracy')\n",
    "#plt.show()"
   ]
  },
  {
   "cell_type": "code",
   "execution_count": 11,
   "metadata": {},
   "outputs": [
    {
     "data": {
      "image/png": "[encoded data removed]",
      "text/plain": [
       "<Figure size 432x288 with 1 Axes>"
      ]
     },
     "metadata": {
      "needs_background": "light"
     },
     "output_type": "display_data"
    }
   ],
   "source": [
    "fig = plt.figure()\n",
    "ax = fig.add_subplot(111, projection='3d')\n",
    "ax.set_title(\"Зависимость accuracy от estimators и leaf\")\n",
    "ax.set_xlabel('est')\n",
    "ax.set_ylabel('leaf')\n",
    "ax.set_zlabel('accuracy')\n",
    "ax.scatter(est_plt,leaf_plt,accuracy_plt)\n",
    "ax.view_init(15, 50)\n",
    "plt.show()"
   ]
  },
  {
   "cell_type": "markdown",
   "metadata": {},
   "source": [
    "**Вывод**: как видим, максимальное значение качества модели accuracy наблюдается при 26 деревьях (estimators) с параметром min_samples_leaf = 5."
   ]
  },
  {
   "cell_type": "markdown",
   "metadata": {},
   "source": [
    "### Логистичекая регрессия"
   ]
  },
  {
   "cell_type": "code",
   "execution_count": 12,
   "metadata": {},
   "outputs": [
    {
     "data": {
      "text/plain": [
       "0.7465007776049767"
      ]
     },
     "execution_count": 12,
     "metadata": {},
     "output_type": "execute_result"
    }
   ],
   "source": [
    "model = LogisticRegression(random_state=12345, solver='lbfgs', max_iter=1000)\n",
    "model.fit(features_train, target_train)\n",
    "valid_predict = model.predict(features_valid)\n",
    "result = accuracy_score(target_valid, valid_predict)    \n",
    "result"
   ]
  },
  {
   "cell_type": "markdown",
   "metadata": {},
   "source": [
    "Здесь результат совсем маленький=("
   ]
  },
  {
   "cell_type": "markdown",
   "metadata": {},
   "source": [
    "### Ближайшие соседи"
   ]
  },
  {
   "cell_type": "code",
   "execution_count": 13,
   "metadata": {},
   "outputs": [
    {
     "name": "stderr",
     "output_type": "stream",
     "text": [
      "/opt/conda/lib/python3.9/site-packages/sklearn/neighbors/_classification.py:211: FutureWarning: Unlike other reduction functions (e.g. `skew`, `kurtosis`), the default behavior of `mode` typically preserves the axis it acts along. In SciPy 1.11.0, this behavior will change: the default value of `keepdims` will become False, the `axis` over which the statistic is taken will be eliminated, and the value None will no longer be accepted. Set `keepdims` to True or False to avoid this warning.\n",
      "  mode, _ = stats.mode(_y[neigh_ind, k], axis=1)\n",
      "/opt/conda/lib/python3.9/site-packages/sklearn/neighbors/_classification.py:211: FutureWarning: Unlike other reduction functions (e.g. `skew`, `kurtosis`), the default behavior of `mode` typically preserves the axis it acts along. In SciPy 1.11.0, this behavior will change: the default value of `keepdims` will become False, the `axis` over which the statistic is taken will be eliminated, and the value None will no longer be accepted. Set `keepdims` to True or False to avoid this warning.\n",
      "  mode, _ = stats.mode(_y[neigh_ind, k], axis=1)\n",
      "/opt/conda/lib/python3.9/site-packages/sklearn/neighbors/_classification.py:211: FutureWarning: Unlike other reduction functions (e.g. `skew`, `kurtosis`), the default behavior of `mode` typically preserves the axis it acts along. In SciPy 1.11.0, this behavior will change: the default value of `keepdims` will become False, the `axis` over which the statistic is taken will be eliminated, and the value None will no longer be accepted. Set `keepdims` to True or False to avoid this warning.\n",
      "  mode, _ = stats.mode(_y[neigh_ind, k], axis=1)\n",
      "/opt/conda/lib/python3.9/site-packages/sklearn/neighbors/_classification.py:211: FutureWarning: Unlike other reduction functions (e.g. `skew`, `kurtosis`), the default behavior of `mode` typically preserves the axis it acts along. In SciPy 1.11.0, this behavior will change: the default value of `keepdims` will become False, the `axis` over which the statistic is taken will be eliminated, and the value None will no longer be accepted. Set `keepdims` to True or False to avoid this warning.\n",
      "  mode, _ = stats.mode(_y[neigh_ind, k], axis=1)\n",
      "/opt/conda/lib/python3.9/site-packages/sklearn/neighbors/_classification.py:211: FutureWarning: Unlike other reduction functions (e.g. `skew`, `kurtosis`), the default behavior of `mode` typically preserves the axis it acts along. In SciPy 1.11.0, this behavior will change: the default value of `keepdims` will become False, the `axis` over which the statistic is taken will be eliminated, and the value None will no longer be accepted. Set `keepdims` to True or False to avoid this warning.\n",
      "  mode, _ = stats.mode(_y[neigh_ind, k], axis=1)\n",
      "/opt/conda/lib/python3.9/site-packages/sklearn/neighbors/_classification.py:211: FutureWarning: Unlike other reduction functions (e.g. `skew`, `kurtosis`), the default behavior of `mode` typically preserves the axis it acts along. In SciPy 1.11.0, this behavior will change: the default value of `keepdims` will become False, the `axis` over which the statistic is taken will be eliminated, and the value None will no longer be accepted. Set `keepdims` to True or False to avoid this warning.\n",
      "  mode, _ = stats.mode(_y[neigh_ind, k], axis=1)\n",
      "/opt/conda/lib/python3.9/site-packages/sklearn/neighbors/_classification.py:211: FutureWarning: Unlike other reduction functions (e.g. `skew`, `kurtosis`), the default behavior of `mode` typically preserves the axis it acts along. In SciPy 1.11.0, this behavior will change: the default value of `keepdims` will become False, the `axis` over which the statistic is taken will be eliminated, and the value None will no longer be accepted. Set `keepdims` to True or False to avoid this warning.\n",
      "  mode, _ = stats.mode(_y[neigh_ind, k], axis=1)\n",
      "/opt/conda/lib/python3.9/site-packages/sklearn/neighbors/_classification.py:211: FutureWarning: Unlike other reduction functions (e.g. `skew`, `kurtosis`), the default behavior of `mode` typically preserves the axis it acts along. In SciPy 1.11.0, this behavior will change: the default value of `keepdims` will become False, the `axis` over which the statistic is taken will be eliminated, and the value None will no longer be accepted. Set `keepdims` to True or False to avoid this warning.\n",
      "  mode, _ = stats.mode(_y[neigh_ind, k], axis=1)\n",
      "/opt/conda/lib/python3.9/site-packages/sklearn/neighbors/_classification.py:211: FutureWarning: Unlike other reduction functions (e.g. `skew`, `kurtosis`), the default behavior of `mode` typically preserves the axis it acts along. In SciPy 1.11.0, this behavior will change: the default value of `keepdims` will become False, the `axis` over which the statistic is taken will be eliminated, and the value None will no longer be accepted. Set `keepdims` to True or False to avoid this warning.\n",
      "  mode, _ = stats.mode(_y[neigh_ind, k], axis=1)\n",
      "/opt/conda/lib/python3.9/site-packages/sklearn/neighbors/_classification.py:211: FutureWarning: Unlike other reduction functions (e.g. `skew`, `kurtosis`), the default behavior of `mode` typically preserves the axis it acts along. In SciPy 1.11.0, this behavior will change: the default value of `keepdims` will become False, the `axis` over which the statistic is taken will be eliminated, and the value None will no longer be accepted. Set `keepdims` to True or False to avoid this warning.\n",
      "  mode, _ = stats.mode(_y[neigh_ind, k], axis=1)\n"
     ]
    },
    {
     "name": "stdout",
     "output_type": "stream",
     "text": [
      "Количество соседей = 1 Accuracy: 0.6967340590979783\n",
      "Количество соседей = 3 Accuracy: 0.7465007776049767\n",
      "Количество соседей = 5 Accuracy: 0.7573872472783826\n",
      "Количество соседей = 7 Accuracy: 0.7713841368584758\n",
      "Количество соседей = 9 Accuracy: 0.7713841368584758\n",
      "Количество соседей = 11 Accuracy: 0.7682737169517885\n",
      "Количество соседей = 13 Accuracy: 0.7651632970451011\n",
      "Количество соседей = 15 Accuracy: 0.7620528771384136\n",
      "Количество соседей = 17 Accuracy: 0.76049766718507\n",
      "Количество соседей = 19 Accuracy: 0.7651632970451011\n",
      "Количество соседей = 21 Accuracy: 0.76049766718507\n"
     ]
    },
    {
     "name": "stderr",
     "output_type": "stream",
     "text": [
      "/opt/conda/lib/python3.9/site-packages/sklearn/neighbors/_classification.py:211: FutureWarning: Unlike other reduction functions (e.g. `skew`, `kurtosis`), the default behavior of `mode` typically preserves the axis it acts along. In SciPy 1.11.0, this behavior will change: the default value of `keepdims` will become False, the `axis` over which the statistic is taken will be eliminated, and the value None will no longer be accepted. Set `keepdims` to True or False to avoid this warning.\n",
      "  mode, _ = stats.mode(_y[neigh_ind, k], axis=1)\n"
     ]
    },
    {
     "data": {
      "image/png": "[encoded data removed]",
      "text/plain": [
       "<Figure size 432x288 with 1 Axes>"
      ]
     },
     "metadata": {
      "needs_background": "light"
     },
     "output_type": "display_data"
    }
   ],
   "source": [
    "neib_plt= []\n",
    "accuracy_plt = []\n",
    "for neib in range(1,22,2):\n",
    "    model = model = KNeighborsClassifier(n_neighbors = neib)\n",
    "    model.fit(features_train,target_train)\n",
    "    valid_predict = model.predict(features_valid)\n",
    "    result = accuracy_score(target_valid, valid_predict)    \n",
    "    neib_plt.append(neib)\n",
    "    accuracy_plt.append(result)\n",
    "    print('Количество соседей =', neib, 'Accuracy:', result)\n",
    "\n",
    "plt.plot(neib_plt,accuracy_plt)\n",
    "plt.title('Зависимость accuracy от количества соседей')\n",
    "plt.xlabel('количество соседей')\n",
    "plt.ylabel('accuracy')\n",
    "plt.grid()"
   ]
  },
  {
   "cell_type": "markdown",
   "metadata": {},
   "source": [
    "**Вывод**: итак, исследовано 4 модели: дерево решений, случайный лес, логистическая регрессия и ближайшие соседи. \n",
    "> Дерево решений показало наилучшее качество модели при максимальной глубине 5. Accuracy = 0.8118195956454122.\n",
    "\n",
    "> В модели случайного леса наибольшее accuracy = 0.8273716951788491 при 26 деревьях (estimators).\n",
    "\n",
    "> Логистическая регрессия показала себя хуже всех: accuracy = 0.7465007776049767.\n",
    "\n",
    "> Модель ближайших соседей с 7,9 соседями выдала accuracy = 0.7713841368584758.\n",
    "\n",
    "Как видим, наибольшее accuracy из всех моделей получила модель **случайного леса с 26 деревьями**. Возьмем её для дальнейшего исследования."
   ]
  },
  {
   "cell_type": "markdown",
   "metadata": {},
   "source": [
    "## Проверим модель на тестовой выборке"
   ]
  },
  {
   "cell_type": "code",
   "execution_count": 14,
   "metadata": {
    "scrolled": true
   },
   "outputs": [
    {
     "name": "stdout",
     "output_type": "stream",
     "text": [
      "Качество модели случайного леса на тестовой выборке: accuracy = 0.8118195956454122\n",
      "Precision модели случайного леса на тестовой выборке  = [0.8256513  0.76388889]\n",
      "Recall модели случайного леса на тестовой выборке  = [0.92376682 0.55837563]\n",
      "F1 модели случайного леса на тестовой выборке  = [0.92376682 0.55837563]\n",
      "\n",
      " Матрица ошибок\n"
     ]
    },
    {
     "data": {
      "text/plain": [
       "array([[412,  34],\n",
       "       [ 87, 110]])"
      ]
     },
     "execution_count": 14,
     "metadata": {},
     "output_type": "execute_result"
    }
   ],
   "source": [
    "model = RandomForestClassifier(random_state=12345, n_estimators=best_est, min_samples_leaf=best_leaf)\n",
    "model.fit(features_train,target_train)\n",
    "test_predict = model.predict(features_test)\n",
    "#accuracy\n",
    "result = accuracy_score(target_test, test_predict)\n",
    "#precision\n",
    "result_prec = precision_score(target_test, test_predict, average=None)\n",
    "#recall\n",
    "result_recall = recall_score(target_test, test_predict, average=None)\n",
    "#F1\n",
    "result_f1 = f1_score(target_test, test_predict, average=None)\n",
    "print('Качество модели случайного леса на тестовой выборке: accuracy =', result)\n",
    "print('Precision модели случайного леса на тестовой выборке  =', result_prec)\n",
    "print('Recall модели случайного леса на тестовой выборке  =', result_recall)\n",
    "print('F1 модели случайного леса на тестовой выборке  =', result_recall)\n",
    "print('\\n Матрица ошибок')\n",
    "confusion_matrix(target_test, test_predict)"
   ]
  },
  {
   "cell_type": "markdown",
   "metadata": {},
   "source": [
    "**Вывод**: на тестовой выборке качество модели случайного леса с 50 деревьями получилось accuracy = 0.8149300155520995, что чуть меньше, чем у валидационной выборки, но всё равно считается хорошим результатом."
   ]
  },
  {
   "cell_type": "code",
   "execution_count": 15,
   "metadata": {},
   "outputs": [
    {
     "name": "stdout",
     "output_type": "stream",
     "text": [
      "Качество модели случайного леса на тестовой выборке: accuracy = 0.8258164852255054\n"
     ]
    }
   ],
   "source": [
    "frames = [df_train, df_valid]\n",
    "new_train = pd.concat(frames)#объединила валидационную и обучающую выборки\n",
    "features_train = new_train.drop(['is_ultra'], axis=1) #делаем новые признаки и целевой\n",
    "target_train = new_train['is_ultra']\n",
    "model = RandomForestClassifier(random_state=12345, n_estimators=26, min_samples_leaf=5)\n",
    "model.fit(features_train,target_train)\n",
    "test_predict = model.predict(features_test)\n",
    "result = accuracy_score(target_test, test_predict)  \n",
    "print('Качество модели случайного леса на тестовой выборке: accuracy =', result)"
   ]
  },
  {
   "cell_type": "markdown",
   "metadata": {},
   "source": [
    "## Проверим модели на адекватность"
   ]
  },
  {
   "cell_type": "markdown",
   "metadata": {},
   "source": [
    "В качестве проверки модели на вменяемость был взят фиктивный классификатор DummyClassifier со стратегиями:\n",
    "\n",
    "- most_frequent - 'наиболее частый'\n",
    "- stratified - 'cтратифицированный'\n",
    "- constant - 'постоянный'\n",
    "- uniform - 'однородный'"
   ]
  },
  {
   "cell_type": "code",
   "execution_count": 16,
   "metadata": {},
   "outputs": [
    {
     "name": "stdout",
     "output_type": "stream",
     "text": [
      "most_frequent 0.6936236391912908\n",
      "stratified 0.5598755832037325\n",
      "constant 0.30637636080870917\n",
      "uniform 0.4758942457231726\n"
     ]
    }
   ],
   "source": [
    "strat =  ['most_frequent','stratified','constant','uniform']\n",
    "for s in strat:\n",
    "    if s == \"constant\":\n",
    "        dummy_clf = DummyClassifier(strategy=s, random_state=12345, constant= 1)\n",
    "    else:\n",
    "        dummy_clf = DummyClassifier(strategy=s,random_state=12345)\n",
    "    dummy_clf.fit(features_train, target_train)\n",
    "    result = dummy_clf.score(features_test, target_test)\n",
    "    print(s, result)"
   ]
  },
  {
   "cell_type": "markdown",
   "metadata": {},
   "source": [
    "**Вывод**: результаты проверки по разным стратегиям оказались меньше, чем полученное на тестовой выборке accuracy = 0.8149300155520995. В этой связи делаем заключение, что наша модель адекватна. Ура=)"
   ]
  }
 ],
 "metadata": {
  "ExecuteTimeLog": [
   {
    "duration": 494,
    "start_time": "2023-01-18T06:54:04.134Z"
   },
   {
    "duration": 22,
    "start_time": "2023-01-18T06:54:10.140Z"
   },
   {
    "duration": 8,
    "start_time": "2023-01-18T06:54:21.157Z"
   },
   {
    "duration": 11,
    "start_time": "2023-01-18T06:54:30.793Z"
   },
   {
    "duration": 2360,
    "start_time": "2023-01-23T05:41:38.620Z"
   },
   {
    "duration": 178,
    "start_time": "2023-01-23T05:41:40.982Z"
   },
   {
    "duration": 0,
    "start_time": "2023-01-23T05:41:41.162Z"
   },
   {
    "duration": 0,
    "start_time": "2023-01-23T05:41:41.163Z"
   },
   {
    "duration": 0,
    "start_time": "2023-01-23T05:41:41.165Z"
   },
   {
    "duration": 0,
    "start_time": "2023-01-23T05:41:41.166Z"
   },
   {
    "duration": 0,
    "start_time": "2023-01-23T05:41:41.167Z"
   },
   {
    "duration": 0,
    "start_time": "2023-01-23T05:41:41.168Z"
   },
   {
    "duration": 0,
    "start_time": "2023-01-23T05:41:41.169Z"
   },
   {
    "duration": 0,
    "start_time": "2023-01-23T05:41:41.170Z"
   },
   {
    "duration": 0,
    "start_time": "2023-01-23T05:41:41.171Z"
   },
   {
    "duration": 2593,
    "start_time": "2023-01-23T15:42:24.615Z"
   },
   {
    "duration": 77,
    "start_time": "2023-01-23T15:42:27.210Z"
   },
   {
    "duration": 14,
    "start_time": "2023-01-23T15:42:27.288Z"
   },
   {
    "duration": 7,
    "start_time": "2023-01-23T15:42:27.304Z"
   },
   {
    "duration": 371,
    "start_time": "2023-01-23T15:42:27.312Z"
   },
   {
    "duration": 11,
    "start_time": "2023-01-23T15:42:27.685Z"
   },
   {
    "duration": 5,
    "start_time": "2023-01-23T15:42:27.698Z"
   },
   {
    "duration": 328,
    "start_time": "2023-01-23T15:42:27.705Z"
   },
   {
    "duration": 464,
    "start_time": "2023-01-23T15:42:28.035Z"
   },
   {
    "duration": 104402,
    "start_time": "2023-01-23T15:42:28.502Z"
   },
   {
    "duration": 253,
    "start_time": "2023-01-23T15:44:12.905Z"
   },
   {
    "duration": 38,
    "start_time": "2023-01-23T15:44:13.160Z"
   },
   {
    "duration": 362,
    "start_time": "2023-01-23T15:44:13.199Z"
   },
   {
    "duration": 112,
    "start_time": "2023-01-23T15:44:13.566Z"
   },
   {
    "duration": 164,
    "start_time": "2023-01-23T15:44:13.680Z"
   },
   {
    "duration": 9,
    "start_time": "2023-01-23T15:44:13.846Z"
   },
   {
    "duration": 1613,
    "start_time": "2023-01-23T20:04:18.110Z"
   },
   {
    "duration": 154,
    "start_time": "2023-01-23T20:04:19.726Z"
   },
   {
    "duration": 14,
    "start_time": "2023-01-23T20:04:19.882Z"
   },
   {
    "duration": 9,
    "start_time": "2023-01-23T20:04:19.898Z"
   },
   {
    "duration": 444,
    "start_time": "2023-01-23T20:04:19.908Z"
   },
   {
    "duration": 11,
    "start_time": "2023-01-23T20:04:20.355Z"
   },
   {
    "duration": 8,
    "start_time": "2023-01-23T20:04:20.368Z"
   },
   {
    "duration": 366,
    "start_time": "2023-01-23T20:04:20.378Z"
   },
   {
    "duration": 471,
    "start_time": "2023-01-23T20:04:20.745Z"
   },
   {
    "duration": 103200,
    "start_time": "2023-01-23T20:04:21.219Z"
   },
   {
    "duration": 296,
    "start_time": "2023-01-23T20:06:04.421Z"
   },
   {
    "duration": 50,
    "start_time": "2023-01-23T20:06:04.719Z"
   },
   {
    "duration": 397,
    "start_time": "2023-01-23T20:06:04.771Z"
   },
   {
    "duration": 124,
    "start_time": "2023-01-23T20:06:05.170Z"
   },
   {
    "duration": 143,
    "start_time": "2023-01-23T20:06:05.295Z"
   },
   {
    "duration": 11,
    "start_time": "2023-01-23T20:06:05.440Z"
   }
  ],
  "kernelspec": {
   "display_name": "Python 3 (ipykernel)",
   "language": "python",
   "name": "python3"
  },
  "language_info": {
   "codemirror_mode": {
    "name": "ipython",
    "version": 3
   },
   "file_extension": ".py",
   "mimetype": "text/x-python",
   "name": "python",
   "nbconvert_exporter": "python",
   "pygments_lexer": "ipython3",
   "version": "3.9.13"
  },
  "toc": {
   "base_numbering": 1,
   "nav_menu": {},
   "number_sections": true,
   "sideBar": true,
   "skip_h1_title": true,
   "title_cell": "Table of Contents",
   "title_sidebar": "Contents",
   "toc_cell": false,
   "toc_position": {},
   "toc_section_display": true,
   "toc_window_display": true
  }
 },
 "nbformat": 4,
 "nbformat_minor": 2
}
